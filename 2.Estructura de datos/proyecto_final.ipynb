{
 "cells": [
  {
   "cell_type": "code",
   "execution_count": 5,
   "id": "1a207c0d-cc3a-4145-a904-2df0974aa40b",
   "metadata": {},
   "outputs": [],
   "source": [
    "def obtener_notas():\n",
    "    # Función para obtener las notas del usuario\n",
    "    notas = []\n",
    "    for i in range(3):\n",
    "        nota = float(input(f\"Ingrese la nota de la asignatura {i + 1}: \"))\n",
    "        notas.append(nota)\n",
    "    return notas\n",
    "\n",
    "def calcular_promedio(notas):\n",
    "    # Función para calcular el promedio de las notas\n",
    "    return sum(notas)/len(notas)\n",
    "\n",
    "def determinar_situacion_academica(promedio):\n",
    "    # Función para determinar la situación académica del estudiante\n",
    "    if promedio >= 6:\n",
    "        return \"Aprobado\"\n",
    "    else:\n",
    "        return \"Reprobado\""
   ]
  },
  {
   "cell_type": "code",
   "execution_count": 7,
   "id": "a0c8dce0-32cd-4226-bcbe-91a98a91dbd8",
   "metadata": {},
   "outputs": [
    {
     "name": "stdout",
     "output_type": "stream",
     "text": [
      "Bienvenido a la Evaluación Estudiantil\n"
     ]
    },
    {
     "name": "stdin",
     "output_type": "stream",
     "text": [
      "Ingrese la nota de la asignatura 1:  7\n",
      "Ingrese la nota de la asignatura 2:  8\n",
      "Ingrese la nota de la asignatura 3:  6\n"
     ]
    },
    {
     "name": "stdout",
     "output_type": "stream",
     "text": [
      "Tu promedio es 7.00. Estás Aprobado.\n"
     ]
    }
   ],
   "source": [
    "print(\"Bienvenido a la Evaluación Estudiantil\")\n",
    "notas_estudiante = obtener_notas()\n",
    "promedio_estudiante = calcular_promedio(notas_estudiante)\n",
    "situacion_academica = determinar_situacion_academica(promedio_estudiante)\n",
    "\n",
    "print(f\"Tu promedio es {promedio_estudiante:.2f}. Estás {situacion_academica}.\")\n"
   ]
  },
  {
   "cell_type": "code",
   "execution_count": null,
   "id": "c1c9a8bc-3765-4745-a12a-a6391856a55b",
   "metadata": {},
   "outputs": [],
   "source": []
  }
 ],
 "metadata": {
  "kernelspec": {
   "display_name": "Python 3 (ipykernel)",
   "language": "python",
   "name": "python3"
  },
  "language_info": {
   "codemirror_mode": {
    "name": "ipython",
    "version": 3
   },
   "file_extension": ".py",
   "mimetype": "text/x-python",
   "name": "python",
   "nbconvert_exporter": "python",
   "pygments_lexer": "ipython3",
   "version": "3.11.7"
  }
 },
 "nbformat": 4,
 "nbformat_minor": 5
}
