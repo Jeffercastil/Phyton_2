{
 "cells": [
  {
   "cell_type": "markdown",
   "id": "f0a5e0bb",
   "metadata": {},
   "source": [
    "Manipulación avanzada de tuplas.\n",
    "Objetivo: Escribe un programa que realice las siguientes operaciones utilizando tuplas:\n",
    "\n",
    "Crear una tupla con los elementos (10, 20, 30, 40, 50).\n",
    "\n",
    "Acceder al tercer elemento de la tupla.\n",
    "\n",
    "Intentar modificar un elemento de la tupla y capturar la excepción.\n",
    "\n",
    "Concatenar la tupla original con otra tupla (60, 70, 80).\n",
    "\n",
    "Verificar si un elemento (por ejemplo, 40) existe en la tupla concatenada.\n",
    "\n",
    "Desempaquetar los primeros tres elementos de la tupla concatenada en variables separadas.\n",
    "\n",
    "Descripción de la solución: En Python, las tuplas son secuencias inmutables que permiten almacenar múltiples elementos. Aunque no se pueden modificar, se pueden realizar varias operaciones útiles. Tu programa debe crear una tupla con los elementos (10, 20, 30, 40, 50) y realizar diversas manipulaciones y operaciones, como acceder a elementos, concatenar tuplas, verificar la existencia de elementos y desempaquetar elementos"
   ]
  },
  {
   "cell_type": "code",
   "execution_count": null,
   "id": "ada4ab99",
   "metadata": {},
   "outputs": [],
   "source": [
    "# Solución que el estudiante debe escribir\n",
    "# 1. Crear una tupla con los elementos (10, 20, 30, 40, 50)\n",
    "Mi_Tupla = (10,20,30,40,50)"
   ]
  },
  {
   "cell_type": "code",
   "execution_count": null,
   "id": "4c90ff76",
   "metadata": {},
   "outputs": [
    {
     "name": "stdout",
     "output_type": "stream",
     "text": [
      "El tercer elemento de la tupla es: 30\n"
     ]
    }
   ],
   "source": [
    "# 2. Acceder al tercer elemento de la tupla\n",
    "tercer_elemento = Mi_Tupla[2]\n",
    "print(\"El tercer elemento de la tupla es:\", tercer_elemento)"
   ]
  },
  {
   "cell_type": "code",
   "execution_count": null,
   "id": "58d798bc",
   "metadata": {},
   "outputs": [
    {
     "name": "stdout",
     "output_type": "stream",
     "text": [
      "Error al intentar modificar la tupla: 'tuple' object does not support item assignment\n"
     ]
    }
   ],
   "source": [
    "# 3. Intentar modificar un elemento de la tupla y capturar la excepción\n",
    "try:\n",
    "    Mi_Tupla[0]=100\n",
    "except TypeError as e:\n",
    "    print(f\"Error al intentar modificar la tupla: {e}\")"
   ]
  },
  {
   "cell_type": "code",
   "execution_count": 5,
   "id": "7b748def",
   "metadata": {},
   "outputs": [
    {
     "name": "stdout",
     "output_type": "stream",
     "text": [
      " Tupla concatenada; (10, 20, 30, 40, 50, 60, 70, 80)\n"
     ]
    }
   ],
   "source": [
    "# 4. Concatenar la tupla original con otra tupla (60, 70, 80)\n",
    "Otra_Tupla = (60,70,80)\n",
    "Tupla_Concatenada= Mi_Tupla + Otra_Tupla\n",
    "print(f\" Tupla concatenada; {Tupla_Concatenada}\")"
   ]
  },
  {
   "cell_type": "code",
   "execution_count": 6,
   "id": "2d65d64a",
   "metadata": {},
   "outputs": [
    {
     "name": "stdout",
     "output_type": "stream",
     "text": [
      " El elemento 40 existe en la tupla concatenada: True\n"
     ]
    }
   ],
   "source": [
    "# 5. Verificar si un elemento (por ejemplo, 40) existe en la tupla concatenada\n",
    "Elemento_verificar = 40\n",
    "Existe = Elemento_verificar in Tupla_Concatenada\n",
    "print(f\" El elemento {Elemento_verificar} existe en la tupla concatenada: {Existe}\")"
   ]
  },
  {
   "cell_type": "code",
   "execution_count": 7,
   "id": "e2bb5787",
   "metadata": {},
   "outputs": [
    {
     "name": "stdout",
     "output_type": "stream",
     "text": [
      "Primer elemento: 10\n",
      "Segundo elemento: 20\n",
      "Tercer elemento: 30\n"
     ]
    }
   ],
   "source": [
    "# 6. Desempaquetar los primeros tres elementos de la tupla concatenada en variables separadas\n",
    "primero, segundo, tercero, *resto = Tupla_Concatenada\n",
    "print(f\"Primer elemento: {primero}\")\n",
    "print(f\"Segundo elemento: {segundo}\")\n",
    "print(f\"Tercer elemento: {tercero}\")"
   ]
  },
  {
   "cell_type": "code",
   "execution_count": null,
   "id": "79b27a36",
   "metadata": {},
   "outputs": [],
   "source": []
  },
  {
   "cell_type": "code",
   "execution_count": null,
   "id": "f96bada5",
   "metadata": {},
   "outputs": [],
   "source": []
  }
 ],
 "metadata": {
  "kernelspec": {
   "display_name": "Python 3",
   "language": "python",
   "name": "python3"
  },
  "language_info": {
   "codemirror_mode": {
    "name": "ipython",
    "version": 3
   },
   "file_extension": ".py",
   "mimetype": "text/x-python",
   "name": "python",
   "nbconvert_exporter": "python",
   "pygments_lexer": "ipython3",
   "version": "3.13.2"
  }
 },
 "nbformat": 4,
 "nbformat_minor": 5
}
