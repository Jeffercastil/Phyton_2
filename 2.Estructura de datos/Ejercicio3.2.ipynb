{
 "cells": [
  {
   "cell_type": "markdown",
   "id": "c911dab0",
   "metadata": {},
   "source": [
    "Funciones que devuelven múltiples valores.\n",
    "Objetivo: Escribe un programa que defina una función que tome una lista de números y devuelva el mínimo,\n",
    " el máximo y el promedio de los números en la lista. Luego, utiliza esta función e imprime los resultados.\n",
    "\n",
    "\n",
    "\n",
    "Descripción de la solución: En Python, una función puede devolver múltiples valores empaquetados en una tupla. Tu programa debe definir una función calcular_estadisticas que reciba una lista de números y devuelva una tupla con el mínimo, el máximo y el promedio de los números en la lista. Luego, debes llamar a esta función con una lista de ejemplo e imprimir los resultados."
   ]
  },
  {
   "cell_type": "code",
   "execution_count": 2,
   "id": "36eaa09c",
   "metadata": {},
   "outputs": [
    {
     "name": "stdout",
     "output_type": "stream",
     "text": [
      " El minimo es: 1\n",
      " El maximo es: 67\n",
      " El promedio es: 34.00\n"
     ]
    }
   ],
   "source": [
    "def Calcular_estadisticas(numeros):\n",
    "    minimo = min(numeros)\n",
    "    maximo = max(numeros)\n",
    "    promedio = sum(numeros) / len(numeros)\n",
    "    return minimo,maximo ,promedio\n",
    "\n",
    "#parte donde decido la cantidad del rango y se agrega el valor en una variable\n",
    "valor = int ( input (\"cuantos valores desea ingresar: \"))\n",
    "numeros = []\n",
    "\n",
    "for i in range (valor):\n",
    "    numero = int ( input (\"ingresa el numero: \"))\n",
    "    numeros.append(numero)\n",
    "\n",
    "\n",
    "# Llamar a la función y desempaquetar los resultados\n",
    "minimo, maximo, promedio = Calcular_estadisticas(numeros)\n",
    "\n",
    "print(f\" El minimo es: {minimo}\")\n",
    "print(f\" El maximo es: {maximo}\")\n",
    "print(f\" El promedio es: {promedio:.2f}\")\n"
   ]
  },
  {
   "cell_type": "code",
   "execution_count": null,
   "id": "7f3ac2ac",
   "metadata": {},
   "outputs": [],
   "source": []
  },
  {
   "cell_type": "code",
   "execution_count": null,
   "id": "30ff03fa",
   "metadata": {},
   "outputs": [],
   "source": []
  }
 ],
 "metadata": {
  "kernelspec": {
   "display_name": "Python 3",
   "language": "python",
   "name": "python3"
  },
  "language_info": {
   "codemirror_mode": {
    "name": "ipython",
    "version": 3
   },
   "file_extension": ".py",
   "mimetype": "text/x-python",
   "name": "python",
   "nbconvert_exporter": "python",
   "pygments_lexer": "ipython3",
   "version": "3.13.2"
  }
 },
 "nbformat": 4,
 "nbformat_minor": 5
}
