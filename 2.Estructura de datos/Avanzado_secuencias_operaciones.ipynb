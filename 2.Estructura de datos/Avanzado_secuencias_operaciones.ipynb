{
 "cells": [
  {
   "cell_type": "code",
   "execution_count": null,
   "id": "069e5d2c",
   "metadata": {},
   "outputs": [
    {
     "name": "stdout",
     "output_type": "stream",
     "text": [
      "[1, 3, 5]\n",
      "[5, 4, 3, 2, 1]\n",
      "notyhP\n"
     ]
    }
   ],
   "source": [
    "lista = [1,2,3,4,5]\n",
    "cadena = \"Phyton\"\n",
    "print(lista[0:5:2])\n",
    "print(lista[::-1])# invertir\n",
    "print(cadena[::-1])"
   ]
  },
  {
   "cell_type": "code",
   "execution_count": 3,
   "id": "6cb1b526",
   "metadata": {},
   "outputs": [],
   "source": [
    "#desempaquetar la lsita, y luego crear un nuevo archivo con el contenido de la lista el * es que toma el primero y lo demas se va a ir agregando\n",
    "primero, * resto = [1,2,3,4,5,6,7,8,9]\n"
   ]
  },
  {
   "cell_type": "code",
   "execution_count": 4,
   "id": "d393a76f",
   "metadata": {},
   "outputs": [
    {
     "name": "stdout",
     "output_type": "stream",
     "text": [
      "1\n",
      "[2, 3, 4, 5, 6, 7, 8, 9]\n"
     ]
    }
   ],
   "source": [
    "print(primero)\n",
    "print (resto)"
   ]
  },
  {
   "cell_type": "code",
   "execution_count": null,
   "id": "d2a4f932",
   "metadata": {},
   "outputs": [
    {
     "name": "stdout",
     "output_type": "stream",
     "text": [
      "[[0, 1, 2], [0, 1, 2], [0, 1, 2]]\n"
     ]
    }
   ],
   "source": [
    "#compresion anidada, para cada elemento\n",
    "matriz =[[ j for j in range (3)] for i in range (3)]\n",
    "print(matriz)"
   ]
  },
  {
   "cell_type": "code",
   "execution_count": 6,
   "id": "08fffda9",
   "metadata": {},
   "outputs": [],
   "source": [
    "nombres = ['ana','pedro','raul']\n",
    "edades= [25,30,35]"
   ]
  },
  {
   "cell_type": "code",
   "execution_count": null,
   "id": "da72f21f",
   "metadata": {},
   "outputs": [
    {
     "name": "stdout",
     "output_type": "stream",
     "text": [
      "Nombre: ana Edad: 25\n",
      "Nombre: pedro Edad: 30\n",
      "Nombre: raul Edad: 35\n"
     ]
    }
   ],
   "source": [
    "#creando una lista de tuplas esto es un iterador zip (nombres,edades)es una lista de tuplas es mas dificil de entender \n",
    "for nombres ,edades in zip(nombres,edades):\n",
    "    print(f\"Nombre: {nombres} Edad: {edades}\")"
   ]
  },
  {
   "cell_type": "code",
   "execution_count": 10,
   "id": "a1952ffd",
   "metadata": {},
   "outputs": [
    {
     "name": "stdout",
     "output_type": "stream",
     "text": [
      "[11, 24, 35]\n"
     ]
    }
   ],
   "source": [
    "# esta codigo realiza lo siguiente, utiliza lambda , de una lista que determina si el valor es mayor a 10 , que es la expresion , devolver true o false si x es mayor que 10 , y filter solo va a tomar los valores true , y eso se debe convertir en lista por list\n",
    "mayores_diez = list(filter(lambda x : x > 10, [8,9,11,3,24,35]))\n",
    "print(mayores_diez)"
   ]
  },
  {
   "cell_type": "markdown",
   "id": "a411b47d",
   "metadata": {},
   "source": [
    "Explicación paso a paso:\n",
    "input(): Pide datos al usuario (recuerda ingresar números separados por comas)\n",
    "\n",
    "split(\",\"): Divide el texto en partes usando las comas como separador\n",
    "\n",
    "int(num): Convierte cada parte a número entero\n",
    "\n",
    "lambda x: x > 10: Es una función pequeña que devuelve True si x > 10\n",
    "\n",
    "filter(): Aplica la función lambda a cada número, conservando solo los que cumplen la condición"
   ]
  },
  {
   "cell_type": "code",
   "execution_count": null,
   "id": "34f07768",
   "metadata": {},
   "outputs": [],
   "source": [
    "# 1. Pedimos al usuario que ingrese los números\n",
    "entrada = input(\"Ingresa números separados por comas: \")  # Ejemplo: \"8,9,11,3,24,35\"\n",
    "\n",
    "# 2. Convertimos la entrada en una lista de números\n",
    "numeros = [int(num) for num in entrada.split(\",\")]\n",
    "\n",
    "# 3. Filtramos los mayores que 10\n",
    "mayores_diez = list(filter(lambda x: x > 10, numeros))\n",
    "\n",
    "# 4. Mostramos los resultados\n",
    "print(f\"Lista original: {numeros}\")\n",
    "print(f\"Números mayores que 10: {mayores_diez}\")"
   ]
  },
  {
   "cell_type": "code",
   "execution_count": null,
   "id": "009fe369",
   "metadata": {},
   "outputs": [],
   "source": [
    "#sin lamdba\n",
    "numeros = [5, 12, 8, 15, 3, 20]\n",
    "mayores_diez = []\n",
    "\n",
    "for num in numeros:\n",
    "    if num > 10:\n",
    "        mayores_diez.append(num)\n",
    "\n",
    "print(mayores_diez)  # Output: [12, 15, 20]"
   ]
  },
  {
   "cell_type": "code",
   "execution_count": 11,
   "id": "6163879c",
   "metadata": {},
   "outputs": [],
   "source": [
    "import itertools"
   ]
  },
  {
   "cell_type": "code",
   "execution_count": 14,
   "id": "01721b47",
   "metadata": {},
   "outputs": [],
   "source": [
    "#optimizar el codigo\n",
    "combinado = list(itertools.chain([1,2,3], [4,5,6]))"
   ]
  },
  {
   "cell_type": "code",
   "execution_count": 13,
   "id": "66d24511",
   "metadata": {},
   "outputs": [
    {
     "name": "stdout",
     "output_type": "stream",
     "text": [
      "[1, 2, 3, 4, 5, 6]\n"
     ]
    }
   ],
   "source": [
    "print(combinado)"
   ]
  },
  {
   "cell_type": "markdown",
   "id": "420eec19",
   "metadata": {},
   "source": [
    "¿Por qué usar itertools?\n",
    "Eficiencia: Manejan grandes volúmenes de datos sin consumir mucha memoria\n",
    "\n",
    "Legibilidad: El código queda más claro que usando bucles complejos\n",
    "\n",
    "Versatilidad: Combinaciones que serían complicadas se resuelven en una línea\n",
    "\n",
    "1. itertools.chain() - Unir múltiples listas\n",
    "Útil cuando tienes datos dispersos en varias listas y quieres unirlos:\n",
    "\n",
    "Ingresa primera serie de números (ej. 1,2,3): 100,150,200\n",
    "Ingresa segunda serie de números (ej. 4,5,6): 50,75\n",
    "\n",
    "Lista 1: [100, 150, 200]\n",
    "Lista 2: [50, 75]\n",
    "Todas las ventas juntas: [100, 150, 200, 50, 75]"
   ]
  },
  {
   "cell_type": "code",
   "execution_count": null,
   "id": "38ab73c3",
   "metadata": {},
   "outputs": [],
   "source": [
    "import itertools\n",
    "\n",
    "# Tú defines las listas\n",
    "lista1 = input(\"Ingresa primera serie de números (ej. 1,2,3): \").split(',')\n",
    "lista2 = input(\"Ingresa segunda serie de números (ej. 4,5,6): \").split(',')\n",
    "\n",
    "# Convertimos a números (porque input() devuelve strings)\n",
    "lista1 = [int(x) for x in lista1]\n",
    "lista2 = [int(x) for x in lista2]\n",
    "\n",
    "# Unimos las listas\n",
    "datos_completos = list(itertools.chain(lista1, lista2))\n",
    "\n",
    "print(\"\\nLista 1:\", lista1)\n",
    "print(\"Lista 2:\", lista2)\n",
    "print(\"Todas las ventas juntas:\", datos_completos)"
   ]
  },
  {
   "cell_type": "markdown",
   "id": "f0848b9c",
   "metadata": {},
   "source": [
    "2. itertools.groupby() - Agrupar datos iguales\n",
    "Perfecto para resumir datos repetidos:\n",
    "\n",
    "Ingresa productos vendidos (ej. A,A,B,A,C,B): A,A,B,A,C,B\n",
    "\n",
    "Resumen de ventas por producto:\n",
    "A: 3 ventas\n",
    "B: 2 ventas\n",
    "C: 1 ventas"
   ]
  },
  {
   "cell_type": "code",
   "execution_count": null,
   "id": "86179a89",
   "metadata": {},
   "outputs": [],
   "source": [
    "import itertools\n",
    "\n",
    "# Ingresamos datos de ventas por producto\n",
    "ventas = input(\"Ingresa productos vendidos (ej. A,A,B,A,C,B): \").split(',')\n",
    "\n",
    "# Ordenamos (groupby necesita datos ordenados)\n",
    "ventas.sort()\n",
    "\n",
    "# Agrupamos\n",
    "resultados = {}\n",
    "for producto, grupo in itertools.groupby(ventas):\n",
    "    resultados[producto] = len(list(grupo))\n",
    "\n",
    "print(\"\\nResumen de ventas por producto:\")\n",
    "for producto, cantidad in resultados.items():\n",
    "    print(f\"{producto}: {cantidad} ventas\")"
   ]
  },
  {
   "cell_type": "markdown",
   "id": "ca00d81c",
   "metadata": {},
   "source": [
    "3. itertools.accumulate() - Acumular valores\n",
    "Ideal para calcular totales acumulados (como ventas acumuladas en el año):\n",
    "Ingresa ventas por mes (ej. 100,150,200): 100,150,200,50\n",
    "\n",
    "Ventas mensuales y acumulado:\n",
    "Mes 1: Venta=100 - Acumulado=100\n",
    "Mes 2: Venta=150 - Acumulado=250\n",
    "Mes 3: Venta=200 - Acumulado=450\n",
    "Mes 4: Venta=50 - Acumulado=500"
   ]
  },
  {
   "cell_type": "code",
   "execution_count": null,
   "id": "9c97678b",
   "metadata": {},
   "outputs": [],
   "source": [
    "import itertools\n",
    "\n",
    "# Ingresamos ventas mensuales\n",
    "ventas = input(\"Ingresa ventas por mes (ej. 100,150,200): \").split(',')\n",
    "ventas = [int(x) for x in ventas]\n",
    "\n",
    "# Calculamos acumulado\n",
    "acumulado = list(itertools.accumulate(ventas))\n",
    "\n",
    "print(\"\\nVentas mensuales y acumulado:\")\n",
    "for mes, (venta_mes, total) in enumerate(zip(ventas, acumulado), 1):\n",
    "    print(f\"Mes {mes}: Venta={venta_mes} - Acumulado={total}\")"
   ]
  },
  {
   "cell_type": "markdown",
   "id": "e7c9fbb2",
   "metadata": {},
   "source": []
  }
 ],
 "metadata": {
  "kernelspec": {
   "display_name": "Python 3",
   "language": "python",
   "name": "python3"
  },
  "language_info": {
   "codemirror_mode": {
    "name": "ipython",
    "version": 3
   },
   "file_extension": ".py",
   "mimetype": "text/x-python",
   "name": "python",
   "nbconvert_exporter": "python",
   "pygments_lexer": "ipython3",
   "version": "3.13.2"
  }
 },
 "nbformat": 4,
 "nbformat_minor": 5
}
