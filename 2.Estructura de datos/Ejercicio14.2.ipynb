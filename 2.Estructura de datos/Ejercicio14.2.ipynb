{
 "cells": [
  {
   "cell_type": "markdown",
   "id": "503ca85c",
   "metadata": {},
   "source": [
    "Función para conversión de unidades.\n",
    "Objetivo: Escribe un programa que defina una función llamada convertir_distancia que tome una distancia en kilómetros y devuelva la conversión de esa distancia en millas, metros y centímetros. El programa debe:\n",
    "\n",
    "Definir la función convertir_distancia.\n",
    "\n",
    "Utilizar un valor fijo de 76 kilómetros para la conversión.\n",
    "\n",
    "Llamar a la función y capturar los valores devueltos.\n",
    "\n",
    "Mostrar los resultados de la conversión.\n",
    "\n",
    "Explicación detallada\n",
    "\n",
    "Definir la función convertir_distancia:\n",
    "\n",
    "La función convertir_distancia toma un argumento kilometros y calcula la distancia en millas, metros y centímetros.\n",
    "\n",
    "Utiliza las conversiones:\n",
    "\n",
    "1 kilómetro = 0.621371 millas\n",
    "\n",
    "1 kilómetro = 1000 metros\n",
    "\n",
    "1 kilómetro = 100000 centímetros\n",
    "\n",
    "Devuelve las distancias convertidas en millas, metros y centímetros.\n",
    "\n",
    "Utilizar un valor fijo de 76 kilómetros para la conversión:\n",
    "\n",
    "Define la variable kilometros con un valor de 76.\n",
    "\n",
    "Llamar a la función y capturar los valores devueltos:\n",
    "\n",
    "Llama a la función convertir_distancia con la distancia en kilómetros y captura los valores devueltos en las variables millas, metros y centimetros.\n",
    "\n",
    "Mostrar los resultados de la conversión:\n",
    "\n",
    "Utiliza la función print para mostrar los resultados de la conversión, formateando las distancias con dos decimales utilizando {valor:.2f}."
   ]
  },
  {
   "cell_type": "code",
   "execution_count": null,
   "id": "57248179",
   "metadata": {},
   "outputs": [],
   "source": [
    "def convertir_distancia(kilometros):\n",
    "    \"\"\"\n",
    "    Convierte una distancia de kilómetros a millas.\n",
    "    \n",
    "    :param kilometros: Distancia en kilómetros\n",
    "    :return: Distancia en millas\n",
    "    \"\"\"\n",
    "    millas = kilometros * 0.621371\n",
    "    metros = kilometros * 1000\n",
    "    centimetros = kilometros * 100000\n",
    "    return millas, metros, centimetros\n",
    "\n",
    "# Distancia en kilómetros para convertir\n",
    "kilometros = 76\n",
    "\n",
    "# Llamada a la función y captura de los valores devueltos\n",
    "millas, metros, centimetros = convertir_distancia(kilometros)\n",
    "\n",
    "# Mostrar resultados\n",
    "print(f\"{kilometros} kilómetros son:\")\n",
    "print(f\"{millas:.2f} millas\")\n",
    "print(f\"{metros:.2f} metros\")\n",
    "print(f\"{centimetros:.2f} centímetros\")"
   ]
  }
 ],
 "metadata": {
  "language_info": {
   "name": "python"
  }
 },
 "nbformat": 4,
 "nbformat_minor": 5
}
