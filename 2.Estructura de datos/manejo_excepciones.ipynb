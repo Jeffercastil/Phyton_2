{
 "cells": [
  {
   "cell_type": "markdown",
   "id": "c185cbc8",
   "metadata": {},
   "source": [
    "Algunas de las excepciones integradas más comunes en Python:\n",
    "\n",
    "1. BaseException: Es la clase base para todas las excepciones integradas. No está destinada a ser capturada directamente.\n",
    "\n",
    "2. SystemExit: Se lanza por la función sys. exit () .\n",
    "\n",
    "3. KeyboardInterrupt: Se lanza cuando el usuario interrumpe la ejecución del programa, generalmente presionando Ctrl+C.\n",
    "\n",
    "4. Exception: Casi todas las excepciones integradas heredan de esta clase. Es la clase base para las excepciones no relacionadas con el\n",
    "sistema.\n",
    "\n",
    "5. Stoplteration: Se lanza por los iteradores para señalar que no quedan elementos.\n",
    "\n",
    "6. ArithmeticError: Base para errores en operaciones aritméticas. No se usa directamente, pero sí clases derivadas como:\n",
    "\n",
    ". ZeroDivisionError: Se lanza cuando el divisor de una división es cero.\n",
    "\n",
    "· OverflowError: Se lanza cuando el resultado de una operación aritmética es demasiado grande para ser representado.\n",
    "\n",
    ". FloatingPointError: Se lanza cuando ocurre un error en una operación de punto flotante.\n",
    "\n",
    "7. LookupError: Base para errores de búsqueda. No se usa directamente, pero sí clases derivadas como:\n",
    "\n",
    "IndexError: Se lanza cuando un índice no es válido para una secuencia.\n",
    "\n",
    "· KeyError: Se lanza cuando una clave no es válida para un diccionario.\n",
    "\n",
    "8. NameError: Se lanza cuando no se encuentra una variable local o global.\n",
    "\n",
    "9. TypeError: Se lanza cuando se aplica una operación o función a un objeto de tipo inapropiado.\n",
    "\n",
    "10. ValueError: Se lanza cuando una operación o función recibe un argumento con el tipo correcto pero valor inadecuado.\n",
    "\n",
    "11. FileNotFoundError: Se lanza cuando una operación de archivo falla porque no se pudo encontrar el archivo.\n",
    "\n",
    "12. PermissionError: Se lanza cuando una operación de archivo falla debido a problemas de permisos."
   ]
  },
  {
   "cell_type": "code",
   "execution_count": 1,
   "id": "a10a2e28",
   "metadata": {},
   "outputs": [
    {
     "ename": "ZeroDivisionError",
     "evalue": "division by zero",
     "output_type": "error",
     "traceback": [
      "\u001b[31m---------------------------------------------------------------------------\u001b[39m",
      "\u001b[31mZeroDivisionError\u001b[39m                         Traceback (most recent call last)",
      "\u001b[36mCell\u001b[39m\u001b[36m \u001b[39m\u001b[32mIn[1]\u001b[39m\u001b[32m, line 1\u001b[39m\n\u001b[32m----> \u001b[39m\u001b[32m1\u001b[39m resultado = \u001b[32;43m10\u001b[39;49m\u001b[43m \u001b[49m\u001b[43m/\u001b[49m\u001b[32;43m0\u001b[39;49m\n",
      "\u001b[31mZeroDivisionError\u001b[39m: division by zero"
     ]
    }
   ],
   "source": [
    "resultado = 10 /0"
   ]
  },
  {
   "cell_type": "code",
   "execution_count": null,
   "id": "39fc34ac",
   "metadata": {},
   "outputs": [
    {
     "name": "stdout",
     "output_type": "stream",
     "text": [
      "Não é possível dividir por zero!\n"
     ]
    }
   ],
   "source": [
    "try: # es mejor utilizarlo para mostrar algun error en el codigo y asi evitar que el codigo se detenga.\n",
    "    # no es bueno utilizarlo como control de flujo\n",
    "    #codigo que puede causar una excepcion\n",
    "    resultado = 10 / 0\n",
    "except ZeroDivisionError:\n",
    "    #codigo que se ejecutara si se produce la excepcion\n",
    "    print(\"Não é possível dividir por zero!\")\n",
    "\n",
    "    \"\"\" try:\n",
    "     #codigo riesgo\n",
    "     ....\n",
    "     except:\n",
    "     print(\"Algo salio mal\")\n",
    "    \"\"\""
   ]
  },
  {
   "cell_type": "code",
   "execution_count": null,
   "id": "d61288e5",
   "metadata": {},
   "outputs": [
    {
     "name": "stdout",
     "output_type": "stream",
     "text": [
      "Error, no se ingreso un numero\n"
     ]
    }
   ],
   "source": [
    "try:\n",
    "    #Codigo que puede causar diferentes excepciones\n",
    "    #por ejemplo , intentar convertir a entero un valor que no lo es\n",
    "    numero = int (input(\"Ingresa un numero: \"))\n",
    "except ValueError:\n",
    "    print(\"Error, no se ingreso un numero\")\n",
    "except KeyboardInterrupt:\n",
    "    print(\"Error, se interrumpio la ejecución\")"
   ]
  },
  {
   "cell_type": "code",
   "execution_count": null,
   "id": "c7d079a4",
   "metadata": {},
   "outputs": [],
   "source": [
    "#bloque de codigo finaly\n",
    "try:\n",
    "    archivo = open('archivo.txt', 'r')\n",
    "    contenido = archivo.read()\n",
    "except FileNotFoundError:\n",
    "    print(\"El archivo no existe\")\n",
    "finally:\n",
    "    #cerrar archivos y liberar recursos\n",
    "    archivo.close()"
   ]
  },
  {
   "cell_type": "code",
   "execution_count": null,
   "id": "14fcabc3",
   "metadata": {},
   "outputs": [],
   "source": [
    "#se utiliza el else se ejecuta si el bloque no genera ninguna excepcion, si no se ejecuta el bloque de else el por que el try ejecuta bien, siempre utilizar el finaly, no utilizar excepciones y solo capturar los errores especificos\n",
    "\n",
    "try:\n",
    "    print( \"Intentado realizar una operación\")\n",
    "except ValueError:\n",
    "    print(\"Algo salio mal  con la operación\")\n",
    "else:\n",
    "    print(\"La operación fue exitosa\")"
   ]
  },
  {
   "cell_type": "markdown",
   "id": "0413dd87",
   "metadata": {},
   "source": [
    "Manejo de Errores con try-except para Analistas de Datos\n",
    "El try-except en Python es como un \"plan B\" cuando algo puede fallar en tu código, especialmente útil cuando trabajas con datos ingresados por usuarios o archivos externos.\n",
    "\n",
    "Ejemplo 1: Validación de números ingresados\n",
    "\n",
    "Cómo funciona:\n",
    "\n",
    "El código en try intenta ejecutarse\n",
    "\n",
    "Si el usuario ingresa algo como \"10,20,abc\", fallará al convertir a números\n",
    "\n",
    "except captura el error y muestra un mensaje amigable\n",
    "\n",
    "El bucle while sigue pidiendo datos hasta que se ingresen correctamente\n",
    "\n",
    "Ejemplo de uso:\n",
    "\n",
    "Ingresa números separados por comas (ej. 10,20,30): 10,20,hola\n",
    "¡Error! Asegúrate de ingresar solo números separados por comas. Intenta nuevamente.\n",
    "\n",
    "Ingresa números separados por comas (ej. 10,20,30): 10,20,30.5\n",
    "\n",
    "Números válidos ingresados: [10.0, 20.0, 30.5]"
   ]
  },
  {
   "cell_type": "code",
   "execution_count": null,
   "id": "6cc31150",
   "metadata": {},
   "outputs": [],
   "source": [
    "while True:\n",
    "    try:\n",
    "        # Pedimos al usuario que ingrese números separados por comas\n",
    "        entrada = input(\"Ingresa números separados por comas (ej. 10,20,30): \")\n",
    "        \n",
    "        # Convertimos a números (esto puede fallar si ingresan letras)\n",
    "        numeros = [float(x) for x in entrada.split(\",\")]\n",
    "        \n",
    "        # Si llegamos aquí, la conversión fue exitosa\n",
    "        print(\"\\nNúmeros válidos ingresados:\", numeros)\n",
    "        break\n",
    "        \n",
    "    except ValueError:\n",
    "        print(\"¡Error! Asegúrate de ingresar solo números separados por comas. Intenta nuevamente.\\n\")"
   ]
  },
  {
   "cell_type": "markdown",
   "id": "7ee24887",
   "metadata": {},
   "source": [
    "Ejemplo 2: Cálculo seguro de promedios\n",
    "\n",
    "Posibles resultados:\n",
    "\n",
    "Si ingresas \"10 20 30\" → Muestra \"El promedio es: 20.00\"\n",
    "\n",
    "Si ingresas nada (vacío) → Muestra \"Error: No hay datos para calcular el promedio\"\n",
    "\n",
    "Si ingresas \"10 veinte 30\" → Muestra \"¡Solo números por favor! Intenta nuevamente.\""
   ]
  },
  {
   "cell_type": "code",
   "execution_count": null,
   "id": "cd6ac3a7",
   "metadata": {},
   "outputs": [],
   "source": [
    "def calcular_promedio(datos):\n",
    "    try:\n",
    "        promedio = sum(datos) / len(datos)\n",
    "        print(f\"El promedio es: {promedio:.2f}\")\n",
    "    except ZeroDivisionError:\n",
    "        print(\"Error: No hay datos para calcular el promedio\")\n",
    "    except TypeError:\n",
    "        print(\"Error: Los datos deben ser números\")\n",
    "\n",
    "# Ejemplo de uso con datos ingresados\n",
    "while True:\n",
    "    try:\n",
    "        entrada = input(\"Ingresa números separados por espacios: \")\n",
    "        datos = [float(x) for x in entrada.split()]\n",
    "        calcular_promedio(datos)\n",
    "        break\n",
    "    except ValueError:\n",
    "        print(\"¡Solo números por favor! Intenta nuevamente.\\n\")"
   ]
  },
  {
   "cell_type": "markdown",
   "id": "a8b2d90c",
   "metadata": {},
   "source": [
    "Ejemplo 3: Manejo de archivos (común en análisis de datos)\n",
    "\n",
    "Por qué es útil:\n",
    "\n",
    "Evita que el programa se cierre abruptamente\n",
    "\n",
    "Da mensajes claros sobre qué salió mal\n",
    "\n",
    "Permite recuperarte del error o pedir los datos nuevamente\n",
    "\n",
    "Analogía: Piensa en try-except como cuando Excel te avisa \"Hay un error en tu fórmula\" en lugar de simplemente cerrarse."
   ]
  },
  {
   "cell_type": "code",
   "execution_count": null,
   "id": "9987a15b",
   "metadata": {},
   "outputs": [],
   "source": [
    "import pandas as pd\n",
    "\n",
    "nombre_archivo = input(\"Ingresa el nombre del archivo CSV (ej. datos.csv): \")\n",
    "\n",
    "try:\n",
    "    # Intentamos leer el archivo\n",
    "    datos = pd.read_csv(nombre_archivo)\n",
    "    print(\"\\nPrimeras filas del dataset:\")\n",
    "    print(datos.head())\n",
    "    \n",
    "except FileNotFoundError:\n",
    "    print(f\"Error: El archivo '{nombre_archivo}' no existe\")\n",
    "except pd.errors.EmptyDataError:\n",
    "    print(\"Error: El archivo está vacío\")\n",
    "except Exception as e:\n",
    "    print(f\"Ocurrió un error inesperado: {type(e).__name__}\")"
   ]
  }
 ],
 "metadata": {
  "kernelspec": {
   "display_name": "Python 3",
   "language": "python",
   "name": "python3"
  },
  "language_info": {
   "codemirror_mode": {
    "name": "ipython",
    "version": 3
   },
   "file_extension": ".py",
   "mimetype": "text/x-python",
   "name": "python",
   "nbconvert_exporter": "python",
   "pygments_lexer": "ipython3",
   "version": "3.13.2"
  }
 },
 "nbformat": 4,
 "nbformat_minor": 5
}
