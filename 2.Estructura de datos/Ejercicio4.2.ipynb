{
 "cells": [
  {
   "cell_type": "markdown",
   "id": "50078194",
   "metadata": {},
   "source": [
    "Uso de funciones anónimas (lambda).\n",
    "Objetivo: Escribe un programa que utilice funciones lambda para realizar las siguientes operaciones en una lista de números:\n",
    "\n",
    "Filtrar los números pares.\n",
    "\n",
    "Elevar al cuadrado cada número.\n",
    "\n",
    "Sumar todos los números elevados al cuadrado.\n",
    "\n",
    "Descripción de la solución: En Python, las funciones lambda son funciones anónimas pequeñas que se pueden usar para realizar operaciones rápidas. Tu programa debe usar funciones lambda para filtrar, mapear y reducir una lista de números. Utiliza las funciones integradas filter, map y reduce para llevar a cabo estas operaciones."
   ]
  },
  {
   "cell_type": "code",
   "execution_count": 5,
   "id": "47b10888",
   "metadata": {},
   "outputs": [
    {
     "name": "stdout",
     "output_type": "stream",
     "text": [
      " Numeros pares: [46, 32]\n",
      "Numeros cuadrados: [2116, 1024]\n",
      "La suma de los cuadrados de los numeros pares es: 3140\n"
     ]
    }
   ],
   "source": [
    "from functools import reduce\n",
    "import operator\n",
    "\n",
    "valor = int ( input (\"cuantos valores desea ingresar: \"))\n",
    "numeros = []\n",
    "\n",
    "for i in range (valor):\n",
    "    numero = int ( input (\"ingresa el numero: \"))\n",
    "    numeros.append(numero)\n",
    "\n",
    "# 1. Filtrar los números pares usando una función lambda\n",
    "numeros_pares = list(filter( lambda x: x % 2 == 0, numeros))\n",
    "print(f\" Numeros pares: {numeros_pares}\")\n",
    "\n",
    "numeros_cuadrados = list(map( lambda x: x ** 2, numeros_pares))\n",
    "print(f\"Numeros cuadrados: {numeros_cuadrados}\")\n",
    "\n",
    "suma_cuadrados = reduce (lambda x, y : x + y ,numeros_cuadrados)\n",
    "print(f\"La suma de los cuadrados de los numeros pares es: {suma_cuadrados}\")"
   ]
  },
  {
   "cell_type": "code",
   "execution_count": null,
   "id": "c35bcdb2",
   "metadata": {},
   "outputs": [],
   "source": []
  },
  {
   "cell_type": "code",
   "execution_count": null,
   "id": "5c932eb6",
   "metadata": {},
   "outputs": [],
   "source": []
  },
  {
   "cell_type": "code",
   "execution_count": null,
   "id": "f5035476",
   "metadata": {},
   "outputs": [],
   "source": []
  },
  {
   "cell_type": "code",
   "execution_count": null,
   "id": "ecb57bec",
   "metadata": {},
   "outputs": [],
   "source": []
  },
  {
   "cell_type": "code",
   "execution_count": null,
   "id": "0a8e0567",
   "metadata": {},
   "outputs": [],
   "source": []
  }
 ],
 "metadata": {
  "kernelspec": {
   "display_name": "Python 3",
   "language": "python",
   "name": "python3"
  },
  "language_info": {
   "codemirror_mode": {
    "name": "ipython",
    "version": 3
   },
   "file_extension": ".py",
   "mimetype": "text/x-python",
   "name": "python",
   "nbconvert_exporter": "python",
   "pygments_lexer": "ipython3",
   "version": "3.13.2"
  }
 },
 "nbformat": 4,
 "nbformat_minor": 5
}
