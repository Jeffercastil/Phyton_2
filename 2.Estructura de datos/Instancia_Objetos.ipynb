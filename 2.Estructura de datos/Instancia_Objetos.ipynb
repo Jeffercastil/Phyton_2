{
 "cells": [
  {
   "cell_type": "markdown",
   "metadata": {},
   "source": [
    "INSTANCIA DE OBJETOS: Llamar una clase"
   ]
  },
  {
   "cell_type": "code",
   "execution_count": null,
   "metadata": {},
   "outputs": [],
   "source": [
    "class DataSet:\n",
    "    tipo_dato=\"numerico\"\n",
    "    def __init__(self,data):\n",
    "        self.data = data\n",
    "\n",
    "#metodos de la clase\n",
    "    def media(self):\n",
    "        return sum(self.data) / len(self.data)\n",
    "    \n",
    "    def mediana(self):\n",
    "        sorted_data = sorted(self.data)\n",
    "        n = len(sorted_data)\n",
    "        midpoint = n // 2\n",
    "        if n % 2 == 0:\n",
    "            return (sorted_data[midpoint - 1] + sorted_data[midpoint]) / 2\n",
    "        else:\n",
    "            return sorted_data[midpoint]\n"
   ]
  },
  {
   "cell_type": "code",
   "execution_count": 19,
   "metadata": {},
   "outputs": [],
   "source": [
    "#se instancia la clase\n",
    "mis_datos = DataSet ([5,4,3,1,2,6,10])"
   ]
  },
  {
   "cell_type": "code",
   "execution_count": 15,
   "metadata": {},
   "outputs": [
    {
     "name": "stdout",
     "output_type": "stream",
     "text": [
      "[7, 8, 5, 4, 3, 1, 2, 6, 10]\n",
      "numerico\n"
     ]
    }
   ],
   "source": [
    "print(mis_datos.data)\n",
    "print(mis_datos.tipo_dato)"
   ]
  },
  {
   "cell_type": "code",
   "execution_count": 20,
   "metadata": {},
   "outputs": [
    {
     "name": "stdout",
     "output_type": "stream",
     "text": [
      "4.428571428571429\n",
      "4\n"
     ]
    }
   ],
   "source": [
    "#para utilizar uno de los metodos en este caso media, siempre se debe utilizar como la parte de abjao con (), pq es una funcion a diferencia de una variable y su tipo de datos\n",
    "print(mis_datos.media())\n",
    "print(mis_datos.mediana())"
   ]
  },
  {
   "cell_type": "code",
   "execution_count": null,
   "metadata": {},
   "outputs": [],
   "source": []
  },
  {
   "cell_type": "code",
   "execution_count": null,
   "metadata": {},
   "outputs": [],
   "source": []
  },
  {
   "cell_type": "code",
   "execution_count": null,
   "metadata": {},
   "outputs": [],
   "source": []
  },
  {
   "cell_type": "code",
   "execution_count": null,
   "metadata": {},
   "outputs": [],
   "source": []
  },
  {
   "cell_type": "code",
   "execution_count": null,
   "metadata": {},
   "outputs": [],
   "source": []
  },
  {
   "cell_type": "code",
   "execution_count": null,
   "metadata": {},
   "outputs": [],
   "source": []
  },
  {
   "cell_type": "code",
   "execution_count": null,
   "metadata": {},
   "outputs": [],
   "source": []
  },
  {
   "cell_type": "code",
   "execution_count": null,
   "metadata": {},
   "outputs": [],
   "source": []
  },
  {
   "cell_type": "code",
   "execution_count": null,
   "metadata": {},
   "outputs": [],
   "source": []
  }
 ],
 "metadata": {
  "kernelspec": {
   "display_name": "Python 3",
   "language": "python",
   "name": "python3"
  },
  "language_info": {
   "codemirror_mode": {
    "name": "ipython",
    "version": 3
   },
   "file_extension": ".py",
   "mimetype": "text/x-python",
   "name": "python",
   "nbconvert_exporter": "python",
   "pygments_lexer": "ipython3",
   "version": "3.13.2"
  }
 },
 "nbformat": 4,
 "nbformat_minor": 2
}
