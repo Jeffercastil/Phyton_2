{
 "cells": [
  {
   "cell_type": "markdown",
   "metadata": {},
   "source": [
    "Herencia y polimorfismo estructura de clase flexible y reutilizable\n",
    "polimorfismo modificar metodos de la clase padre para 1 añadir funcionalidades, 2 cosas distintas en la clase padre\n",
    "herencia heredas metodos y funciones \n"
   ]
  },
  {
   "cell_type": "code",
   "execution_count": 1,
   "metadata": {},
   "outputs": [],
   "source": [
    "class DataSet:\n",
    "    def __init__(self,data):\n",
    "        self.data = data\n",
    "        #se define variable de la varible de instansiación\n",
    "        self.tamaño = len(data)\n",
    "        \n",
    "    def media(self):\n",
    "        return sum(self.data) / len(self.data)"
   ]
  },
  {
   "cell_type": "code",
   "execution_count": 12,
   "metadata": {},
   "outputs": [],
   "source": [
    "#clase hija\n",
    "class DataSetPlus(DataSet):\n",
    "    def desviacion_estandar(self):\n",
    "        nu = self.media()\n",
    "        return (sum ((x - nu ) ** 2 for x in self.data) / self.tamaño) ** 0.5"
   ]
  },
  {
   "cell_type": "code",
   "execution_count": 13,
   "metadata": {},
   "outputs": [],
   "source": [
    "datos = DataSet([4,3,6,7,5])\n",
    "dataplus = DataSetPlus([2,4,6,8,10,12])"
   ]
  },
  {
   "cell_type": "code",
   "execution_count": 14,
   "metadata": {},
   "outputs": [
    {
     "name": "stdout",
     "output_type": "stream",
     "text": [
      "5.0\n",
      "3.415650255319866\n"
     ]
    }
   ],
   "source": [
    "print(datos.media())\n",
    "print(dataplus.desviacion_estandar())"
   ]
  },
  {
   "cell_type": "code",
   "execution_count": null,
   "metadata": {},
   "outputs": [],
   "source": [
    "#polimorfismo\n",
    "class DataSet8(DataSet):\n",
    "    def media(self):\n",
    "        print(\"Estoy calculando la media\")\n",
    "        return sum(self.data) / len(self.data)"
   ]
  },
  {
   "cell_type": "code",
   "execution_count": 20,
   "metadata": {},
   "outputs": [],
   "source": [
    "datos1 = DataSet8([3,5,8,9,12])"
   ]
  },
  {
   "cell_type": "code",
   "execution_count": 21,
   "metadata": {},
   "outputs": [
    {
     "name": "stdout",
     "output_type": "stream",
     "text": [
      "Estoy calculando la media\n",
      "7.4\n"
     ]
    }
   ],
   "source": [
    "print(datos1.media())"
   ]
  },
  {
   "cell_type": "code",
   "execution_count": null,
   "metadata": {},
   "outputs": [],
   "source": []
  }
 ],
 "metadata": {
  "kernelspec": {
   "display_name": "Python 3",
   "language": "python",
   "name": "python3"
  },
  "language_info": {
   "codemirror_mode": {
    "name": "ipython",
    "version": 3
   },
   "file_extension": ".py",
   "mimetype": "text/x-python",
   "name": "python",
   "nbconvert_exporter": "python",
   "pygments_lexer": "ipython3",
   "version": "3.13.2"
  }
 },
 "nbformat": 4,
 "nbformat_minor": 2
}
