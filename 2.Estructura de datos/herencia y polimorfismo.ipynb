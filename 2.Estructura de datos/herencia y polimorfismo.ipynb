{
 "cells": [
  {
   "cell_type": "markdown",
   "metadata": {},
   "source": [
    "Herencia y polimorfismo estructura de clase flexible y reutilizable\n",
    "polimorfismo modificar metodos de la clase padre para 1 añadir funcionalidades, 2 cosas distintas en la clase padre\n",
    "herencia heredas metodos y funciones \n"
   ]
  },
  {
   "cell_type": "code",
   "execution_count": 1,
   "metadata": {},
   "outputs": [],
   "source": [
    "class DataSet:\n",
    "    def __init__(self,data):\n",
    "        self.data = data\n",
    "        #se define variable de la varible de instansiación\n",
    "        self.tamaño = len(data)\n",
    "        \n",
    "    def media(self):\n",
    "        return sum(self.data) / len(self.data)"
   ]
  },
  {
   "cell_type": "code",
   "execution_count": 12,
   "metadata": {},
   "outputs": [],
   "source": [
    "#clase hija\n",
    "class DataSetPlus(DataSet):\n",
    "    def desviacion_estandar(self):\n",
    "        nu = self.media()\n",
    "        return (sum ((x - nu ) ** 2 for x in self.data) / self.tamaño) ** 0.5"
   ]
  },
  {
   "cell_type": "code",
   "execution_count": 13,
   "metadata": {},
   "outputs": [],
   "source": [
    "datos = DataSet([4,3,6,7,5])\n",
    "dataplus = DataSetPlus([2,4,6,8,10,12])"
   ]
  },
  {
   "cell_type": "code",
   "execution_count": 14,
   "metadata": {},
   "outputs": [
    {
     "name": "stdout",
     "output_type": "stream",
     "text": [
      "5.0\n",
      "3.415650255319866\n"
     ]
    }
   ],
   "source": [
    "print(datos.media())\n",
    "print(dataplus.desviacion_estandar())"
   ]
  },
  {
   "cell_type": "code",
   "execution_count": null,
   "metadata": {},
   "outputs": [],
   "source": [
    "#polimorfismo\n",
    "class DataSet8(DataSet):\n",
    "    def media(self):\n",
    "        print(\"Estoy calculando la media\")\n",
    "        return sum(self.data) / len(self.data)"
   ]
  },
  {
   "cell_type": "code",
   "execution_count": 20,
   "metadata": {},
   "outputs": [],
   "source": [
    "datos1 = DataSet8([3,5,8,9,12])"
   ]
  },
  {
   "cell_type": "code",
   "execution_count": 21,
   "metadata": {},
   "outputs": [
    {
     "name": "stdout",
     "output_type": "stream",
     "text": [
      "Estoy calculando la media\n",
      "7.4\n"
     ]
    }
   ],
   "source": [
    "print(datos1.media())"
   ]
  },
  {
   "cell_type": "markdown",
   "metadata": {},
   "source": [
    "Herencia y Polimorfismo en Python para Analistas de Datos\n",
    "Voy a explicarte estos conceptos con ejemplos muy sencillos relacionados con el análisis de datos.\n",
    "\n",
    "1. Herencia: Cuando una clase \"hereda\" de otra\n",
    "Imagina que tienes diferentes tipos de informes de datos:"
   ]
  },
  {
   "cell_type": "code",
   "execution_count": null,
   "metadata": {},
   "outputs": [],
   "source": [
    "class InformeBase:\n",
    "    def __init__(self, titulo):\n",
    "        self.titulo = titulo\n",
    "    \n",
    "    def generar(self):\n",
    "        return f\"Informe: {self.titulo}\"\n",
    "\n",
    "class InformeVentas(InformeBase):  # Hereda de InformeBase\n",
    "    def __init__(self, titulo, datos_ventas):\n",
    "        super().__init__(titulo)  # Llama al constructor del padre\n",
    "        self.datos_ventas = datos_ventas\n",
    "    \n",
    "    def generar(self):\n",
    "        base = super().generar()  # Usa el método del padre\n",
    "        return f\"{base} - Ventas totales: {sum(self.datos_ventas)}\"\n",
    "\n",
    "# Uso:\n",
    "reporte = InformeVentas(\"Ventas Trimestrales\", [12000, 15000, 18000])\n",
    "print(reporte.generar())\n",
    "# Salida: \"Informe: Ventas Trimestrales - Ventas totales: 45000\""
   ]
  },
  {
   "cell_type": "markdown",
   "metadata": {},
   "source": [
    "Explicación:\n",
    "\n",
    "InformeVentas hereda todo lo de InformeBase (como el título)\n",
    "\n",
    "Puede añadir nuevas funcionalidades (como procesar datos_ventas)\n",
    "\n",
    "Puede modificar comportamientos existentes (el método generar())\n",
    "\n",
    "2. Polimorfismo: Mismo nombre, diferentes formas\n",
    "Imagina que tienes diferentes formas de visualizar datos:"
   ]
  },
  {
   "cell_type": "code",
   "execution_count": null,
   "metadata": {},
   "outputs": [],
   "source": [
    "class Visualizador:\n",
    "    def mostrar(self, datos):\n",
    "        pass  # Esto es abstracto\n",
    "\n",
    "class GraficoBarras(Visualizador):\n",
    "    def mostrar(self, datos):\n",
    "        print(f\"Mostrando gráfico de barras: {datos}\")\n",
    "        # Aquí iría el código real para mostrar el gráfico\n",
    "\n",
    "class Tabla(Visualizador):\n",
    "    def mostrar(self, datos):\n",
    "        print(f\"Mostrando tabla con {len(datos)} filas\")\n",
    "        # Aquí iría el código real para mostrar la tabla\n",
    "\n",
    "# Uso:\n",
    "datos_ejemplo = [10, 20, 30]\n",
    "\n",
    "visualizadores = [GraficoBarras(), Tabla()]\n",
    "for vis in visualizadores:\n",
    "    vis.mostrar(datos_ejemplo)"
   ]
  },
  {
   "cell_type": "markdown",
   "metadata": {},
   "source": [
    "Explicación:\n",
    "\n",
    "Ambos visualizadores tienen el método mostrar()\n",
    "\n",
    "Python sabe cuál versión del método usar para cada tipo\n",
    "\n",
    "Podemos tratar diferentes visualizadores de la misma manera\n",
    "\n",
    "Ejemplo combinado para análisis de datos\n",
    "\n",
    "Analogía:\n",
    "Piensa en la herencia como plantillas de Excel que heredan formatos de una plantilla base.\n",
    "El polimorfismo es como tener diferentes funciones PROMEDIO() que trabajan igual pero con distintos tipos de datos."
   ]
  },
  {
   "cell_type": "code",
   "execution_count": null,
   "metadata": {},
   "outputs": [],
   "source": [
    "class TransformadorDatos:\n",
    "    def transformar(self, datos):\n",
    "        return datos\n",
    "\n",
    "class Normalizador(TransformadorDatos):\n",
    "    def transformar(self, datos):\n",
    "        max_val = max(datos)\n",
    "        return [x/max_val for x in datos]\n",
    "\n",
    "class Limpiador(TransformadorDatos):\n",
    "    def transformar(self, datos):\n",
    "        return [x for x in datos if x > 0]\n",
    "\n",
    "# Uso:\n",
    "datos_originales = [0, 2, 4, -1, 6]\n",
    "\n",
    "procesadores = [Normalizador(), Limpiador()]\n",
    "for proc in procesadores:\n",
    "    resultado = proc.transformar(datos_originales)\n",
    "    print(f\"{type(proc).__name__}: {resultado}\")"
   ]
  }
 ],
 "metadata": {
  "kernelspec": {
   "display_name": "Python 3",
   "language": "python",
   "name": "python3"
  },
  "language_info": {
   "codemirror_mode": {
    "name": "ipython",
    "version": 3
   },
   "file_extension": ".py",
   "mimetype": "text/x-python",
   "name": "python",
   "nbconvert_exporter": "python",
   "pygments_lexer": "ipython3",
   "version": "3.13.2"
  }
 },
 "nbformat": 4,
 "nbformat_minor": 2
}
