{
 "cells": [
  {
   "cell_type": "markdown",
   "metadata": {},
   "source": [
    "Funciones y parametros y argumentos"
   ]
  },
  {
   "cell_type": "code",
   "execution_count": 1,
   "metadata": {},
   "outputs": [],
   "source": [
    "def saludar( nombre, edad):\n",
    "        print(f\"Hola , mi nombre es {nombre} y tengo {edad} años\")"
   ]
  },
  {
   "cell_type": "code",
   "execution_count": null,
   "metadata": {},
   "outputs": [
    {
     "name": "stdout",
     "output_type": "stream",
     "text": [
      "Hola , mi nombre es Alice y tengo 30 años\n"
     ]
    }
   ],
   "source": [
    "#Parametros posicionales, importa el orden digamos ponemos 30 y luego nombre es diferente\n",
    "saludar  (\"Alice\",30)"
   ]
  },
  {
   "cell_type": "code",
   "execution_count": null,
   "metadata": {},
   "outputs": [
    {
     "name": "stdout",
     "output_type": "stream",
     "text": [
      "Hola , mi nombre es Bob y tengo 28 años\n"
     ]
    }
   ],
   "source": [
    "#se indica el tipo de dato de ingreso\n",
    "saludar(edad=28, nombre =\"Bob\")"
   ]
  },
  {
   "cell_type": "code",
   "execution_count": null,
   "metadata": {},
   "outputs": [],
   "source": [
    "#Parametros arbitrarios\n",
    "def frutas_favoritas(*frutas): #fruta es una tupla\n",
    "    print(\" Mis frutas favortias son: \",frutas)"
   ]
  },
  {
   "cell_type": "code",
   "execution_count": 6,
   "metadata": {},
   "outputs": [
    {
     "name": "stdout",
     "output_type": "stream",
     "text": [
      " Mis frutas favortias son:  ('Manzana', 'naranja', 'fresa')\n"
     ]
    }
   ],
   "source": [
    "frutas_favoritas(\"Manzana\",\"naranja\",\"fresa\")"
   ]
  },
  {
   "cell_type": "code",
   "execution_count": 7,
   "metadata": {},
   "outputs": [],
   "source": [
    "def perfil_datos_usuario(**datos):\n",
    "    print(f\" Perfil del usuario: {datos}\")"
   ]
  },
  {
   "cell_type": "code",
   "execution_count": 8,
   "metadata": {},
   "outputs": [
    {
     "name": "stdout",
     "output_type": "stream",
     "text": [
      " Perfil del usuario: {'nombre': 'Carlos', 'edad': 25, 'direccion': 'Calle 123', 'ciudad': 'Brasilia'}\n"
     ]
    }
   ],
   "source": [
    "perfil_datos_usuario (nombre = \"Carlos\", edad = 25, direccion = \"Calle 123\", ciudad=\"Brasilia\")"
   ]
  },
  {
   "cell_type": "code",
   "execution_count": 11,
   "metadata": {},
   "outputs": [
    {
     "name": "stdout",
     "output_type": "stream",
     "text": [
      "1.2\n"
     ]
    }
   ],
   "source": [
    "valor1 = int(input (\"Ingresa el valor 1:\"))\n",
    "valor2= int (input (\"Ingresa el valor 2:\"))\n",
    "simbolo = input(\"ingrese operacion\")\n",
    "\n",
    "if simbolo == '+':\n",
    "    print(valor1 + valor2)\n",
    "\n",
    "elif simbolo == '-':\n",
    "    print(valor1 - valor2)\n",
    "\n",
    "elif simbolo == '*':\n",
    "    print(valor1*valor2)\n",
    "\n",
    "elif simbolo == '/':\n",
    "    print(valor1/valor2)\n",
    "\n",
    "else:\n",
    "    print(\"No es un formato\")"
   ]
  },
  {
   "cell_type": "code",
   "execution_count": null,
   "metadata": {},
   "outputs": [],
   "source": [
    "valor1 = int(input (\" Valor 1: \"))\n",
    "valor2 = int(input(\" valor 2: \"))\n",
    "\n",
    "def sumar (valor1, valor2):\n",
    "    resultado = valor1 + valor2\n",
    "    print(f\"El primer valor {valor1} y el segundo valor {valor2} es: {resultado}\")\n",
    "sumar(valor1,valor2)"
   ]
  },
  {
   "cell_type": "code",
   "execution_count": null,
   "metadata": {},
   "outputs": [],
   "source": []
  },
  {
   "cell_type": "code",
   "execution_count": null,
   "metadata": {},
   "outputs": [],
   "source": []
  },
  {
   "cell_type": "code",
   "execution_count": null,
   "metadata": {},
   "outputs": [],
   "source": []
  },
  {
   "cell_type": "code",
   "execution_count": null,
   "metadata": {},
   "outputs": [],
   "source": []
  }
 ],
 "metadata": {
  "kernelspec": {
   "display_name": "Python 3",
   "language": "python",
   "name": "python3"
  },
  "language_info": {
   "codemirror_mode": {
    "name": "ipython",
    "version": 3
   },
   "file_extension": ".py",
   "mimetype": "text/x-python",
   "name": "python",
   "nbconvert_exporter": "python",
   "pygments_lexer": "ipython3",
   "version": "3.13.2"
  }
 },
 "nbformat": 4,
 "nbformat_minor": 2
}
