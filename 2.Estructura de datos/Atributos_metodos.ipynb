{
 "cells": [
  {
   "cell_type": "markdown",
   "metadata": {},
   "source": [
    "ATRIBUTOS METODOS_ INERECTE A LOS OBJETOS para utilizar los metodos de otra instación debe ser precedido por self.\n",
    "si no tiene parametros debe tener self, indica que se puede utilizar cualquier atributo de la instacia o clase.\n"
   ]
  },
  {
   "cell_type": "code",
   "execution_count": null,
   "metadata": {},
   "outputs": [],
   "source": [
    "class DataSet:\n",
    "    tipo_dato=\"numerico\"\n",
    "    def __init__(self,data):\n",
    "        self.data = data\n",
    "\n",
    "#metodos de la clase\n",
    "    def media(self):\n",
    "        return sum(self.data) / len(self.data)\n",
    "    \n",
    "    def mediana(self):\n",
    "        sorted_data = sorted(self.data)\n",
    "        n = len(sorted_data)\n",
    "        midpoint = n // 2\n",
    "        if n % 2 == 0:\n",
    "            return (sorted_data[midpoint - 1] + sorted_data[midpoint]) / 2\n",
    "        else:\n",
    "            return sorted_data[midpoint]\n",
    "        \n",
    "        #añadir datos\n",
    "    def añadir_datos(self,nuevo_dato):\n",
    "        self.data.append(nuevo_dato)"
   ]
  },
  {
   "cell_type": "code",
   "execution_count": 5,
   "metadata": {},
   "outputs": [],
   "source": [
    "Mis_datos = DataSet([1,4,6,5,3,2,7,9,8,10])"
   ]
  },
  {
   "cell_type": "code",
   "execution_count": 11,
   "metadata": {},
   "outputs": [
    {
     "name": "stdout",
     "output_type": "stream",
     "text": [
      "11.090909090909092\n",
      "6\n",
      "[1, 4, 6, 5, 3, 2, 7, 9, 8, 10, 67]\n"
     ]
    }
   ],
   "source": [
    "print(Mis_datos.media())\n",
    "print(Mis_datos.mediana())\n",
    "print(Mis_datos.data)"
   ]
  },
  {
   "cell_type": "code",
   "execution_count": null,
   "metadata": {},
   "outputs": [],
   "source": [
    "#añade el valor al final\n",
    "Mis_datos.añadir_datos(67)"
   ]
  },
  {
   "cell_type": "code",
   "execution_count": 10,
   "metadata": {},
   "outputs": [
    {
     "name": "stdout",
     "output_type": "stream",
     "text": [
      "[1, 4, 6, 5, 3, 2, 7, 9, 8, 10, 67]\n"
     ]
    }
   ],
   "source": [
    "print(Mis_datos.data)"
   ]
  },
  {
   "cell_type": "code",
   "execution_count": null,
   "metadata": {},
   "outputs": [],
   "source": []
  },
  {
   "cell_type": "code",
   "execution_count": null,
   "metadata": {},
   "outputs": [],
   "source": []
  },
  {
   "cell_type": "code",
   "execution_count": null,
   "metadata": {},
   "outputs": [],
   "source": []
  },
  {
   "cell_type": "code",
   "execution_count": null,
   "metadata": {},
   "outputs": [],
   "source": []
  }
 ],
 "metadata": {
  "kernelspec": {
   "display_name": "Python 3",
   "language": "python",
   "name": "python3"
  },
  "language_info": {
   "codemirror_mode": {
    "name": "ipython",
    "version": 3
   },
   "file_extension": ".py",
   "mimetype": "text/x-python",
   "name": "python",
   "nbconvert_exporter": "python",
   "pygments_lexer": "ipython3",
   "version": "3.13.2"
  }
 },
 "nbformat": 4,
 "nbformat_minor": 2
}
