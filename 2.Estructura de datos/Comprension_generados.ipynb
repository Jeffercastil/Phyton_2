{
 "cells": [
  {
   "cell_type": "markdown",
   "id": "487ffaef",
   "metadata": {},
   "source": [
    "generadores: es tener mejor eficiencia en memoria, combinar facilmente"
   ]
  },
  {
   "cell_type": "code",
   "execution_count": null,
   "id": "3d2cf5da",
   "metadata": {},
   "outputs": [],
   "source": [
    "\n",
    "cuadrados_pares_gen = (x ** 2 for x in range (10) if x % 2 == 0)"
   ]
  },
  {
   "cell_type": "code",
   "execution_count": 2,
   "id": "6d17c9ab",
   "metadata": {},
   "outputs": [
    {
     "name": "stdout",
     "output_type": "stream",
     "text": [
      "0\n",
      "4\n",
      "16\n",
      "36\n",
      "64\n"
     ]
    }
   ],
   "source": [
    "for num in cuadrados_pares_gen:\n",
    "    print(num)"
   ]
  },
  {
   "cell_type": "markdown",
   "id": "c6abbb39",
   "metadata": {},
   "source": [
    "¡Claro! Vamos a crear generadores prácticos para análisis de datos usando una base de 10 registros de empleados. Los generadores son como \"fábricas de datos bajo demanda\" que te ayudan a manejar grandes volúmenes sin saturar la memoria. Aquí tienes 3 ejemplos clave:\n",
    "\n",
    "Beneficios Clave para Analistas de Datos\n",
    "🚀 Eficiencia en memoria: Generan datos de uno en uno (útil para archivos grandes).\n",
    "\n",
    "⚡ Lazy evaluation: Solo calculan lo que necesitas en el momento.\n",
    "\n",
    "🔁 Reutilización: Puedes encadenar generadores (ej: filtrar → transformar → exportar).\n",
    "\n"
   ]
  },
  {
   "cell_type": "code",
   "execution_count": 3,
   "id": "48d838c0",
   "metadata": {},
   "outputs": [],
   "source": [
    "empleados = [\n",
    "    {\"id\": 1, \"nombre\": \"Ana\", \"edad\": 28, \"departamento\": \"Ventas\", \"salario\": 3500},\n",
    "    {\"id\": 2, \"nombre\": \"Luis\", \"edad\": 32, \"departamento\": \"IT\", \"salario\": 4200},\n",
    "    {\"id\": 3, \"nombre\": \"Carlos\", \"edad\": 45, \"departamento\": \"RH\", \"salario\": 3800},\n",
    "    # ... (otros 7 registros similares)\n",
    "]"
   ]
  },
  {
   "cell_type": "markdown",
   "id": "5288c874",
   "metadata": {},
   "source": [
    "1️⃣ Generador para Filtrar Datos (Ej: Departamentos)\n",
    "Utilidad: Extraer solo empleados de un departamento específico sin crear listas temporales.\n",
    "\n",
    "=== Empleados de IT ===\n",
    "Luis - Salario: $4200\n",
    "[... otros empleados de IT ...]"
   ]
  },
  {
   "cell_type": "code",
   "execution_count": 4,
   "id": "fe683e17",
   "metadata": {},
   "outputs": [
    {
     "name": "stdout",
     "output_type": "stream",
     "text": [
      "=== Empleados de IT ===\n",
      "Luis - Salario: $4200\n"
     ]
    }
   ],
   "source": [
    "def filtrar_por_depto(empleados, departamento):\n",
    "    for emp in empleados:\n",
    "        if emp[\"departamento\"] == departamento:\n",
    "            yield emp  # \"Entrega\" un empleado a la vez\n",
    "\n",
    "# Uso:\n",
    "print(\"=== Empleados de IT ===\")\n",
    "for emp in filtrar_por_depto(empleados, \"IT\"):\n",
    "    print(f\"{emp['nombre']} - Salario: ${emp['salario']}\")"
   ]
  },
  {
   "cell_type": "markdown",
   "id": "3c5e5d36",
   "metadata": {},
   "source": [
    "2️⃣ Generador para Procesar por Lotes (Ej: 3 registros a la vez)\n",
    "Utilidad: Procesar datos en bloques para evitar sobrecargar la memoria."
   ]
  },
  {
   "cell_type": "code",
   "execution_count": 5,
   "id": "dd121118",
   "metadata": {},
   "outputs": [
    {
     "name": "stdout",
     "output_type": "stream",
     "text": [
      "=== Procesando por lotes de 3 ===\n",
      "Lote 1: ['Ana', 'Luis', 'Carlos']\n"
     ]
    }
   ],
   "source": [
    "def procesar_por_lotes(empleados, tamano_lote=3):\n",
    "    lote = []\n",
    "    for emp in empleados:\n",
    "        lote.append(emp)\n",
    "        if len(lote) == tamano_lote:\n",
    "            yield lote  # Entrega un lote completo\n",
    "            lote = []\n",
    "    if lote:  # Entrega los registros restantes\n",
    "        yield lote\n",
    "\n",
    "# Uso:\n",
    "print(\"=== Procesando por lotes de 3 ===\")\n",
    "for i, lote in enumerate(procesar_por_lotes(empleados), 1):\n",
    "    print(f\"Lote {i}: {[emp['nombre'] for emp in lote]}\")"
   ]
  },
  {
   "cell_type": "markdown",
   "id": "2f8c0df0",
   "metadata": {},
   "source": [
    "3️⃣ Generador para Transformar Datos (Ej: Aumento de Salario)\n",
    "Utilidad: Aplicar cálculos complejos sin modificar los datos originales."
   ]
  },
  {
   "cell_type": "code",
   "execution_count": null,
   "id": "05d7f7e1",
   "metadata": {},
   "outputs": [],
   "source": [
    "def aplicar_aumento(empleados, porcentaje):\n",
    "    for emp in empleados:\n",
    "        nuevo_salario = emp[\"salario\"] * (1 + porcentaje/100)\n",
    "        yield {**emp, \"salario\": nuevo_salario}  # Crea un nuevo diccionario\n",
    "\n",
    "# Uso:\n",
    "print(\"=== Salarios con 10% de aumento ===\")\n",
    "for emp in aplicar_aumento(empleados, 10):\n",
    "    print(f\"{emp['nombre']}: ${emp['salario']:.2f}\")"
   ]
  },
  {
   "cell_type": "markdown",
   "id": "5615cc96",
   "metadata": {},
   "source": [
    "Ejemplo Avanzado: Pipeline de Generadores\n",
    "Combina múltiples operaciones en un solo flujo:\n",
    "\n",
    "¿Cuándo Usar Generadores?\n",
    "Cuando trabajes con archivos CSV/Excel grandes.\n",
    "\n",
    "Para pipelines de transformación (ETL).\n",
    "\n",
    "Al necesitar resultados intermedios sin almacenarlos todos en memoria."
   ]
  },
  {
   "cell_type": "code",
   "execution_count": null,
   "id": "4080d74b",
   "metadata": {},
   "outputs": [],
   "source": [
    "# Paso 1: Filtrar empleados de Ventas\n",
    "filtrados = filtrar_por_depto(empleados, \"Ventas\")\n",
    "\n",
    "# Paso 2: Aplicar aumento del 15%\n",
    "con_aumento = aplicar_aumento(filtrados, 15)\n",
    "\n",
    "# Paso 3: Procesar por lotes de 2\n",
    "for lote in procesar_por_lotes(con_aumento, 2):\n",
    "    print(\"Lote procesado:\", [emp[\"nombre\"] for emp in lote])"
   ]
  },
  {
   "cell_type": "markdown",
   "id": "26df1bca",
   "metadata": {},
   "source": [
    "Explicación línea por línea:\n",
    "Solicitud de datos:\n",
    "\n",
    "Pedimos al usuario que ingrese datos de pacientes (peso y altura).\n",
    "\n",
    "Usamos un bucle while para continuar pidiendo datos hasta que el usuario escriba 'fin'.\n",
    "\n",
    "Comprensión de generador:\n",
    "\n",
    "(peso / (altura ** 2) for peso, altura in datos_pacientes) es la comprensión de generador.\n",
    "\n",
    "No calcula todos los IMCs inmediatamente, sino que genera cada resultado cuando se necesita (eficiente para muchos datos).\n",
    "\n",
    "Clasificación:\n",
    "\n",
    "Definimos categorías de IMC usando un diccionario donde las claves son rangos (tuplas) y los valores son las categorías.\n",
    "\n",
    "Procesamiento:\n",
    "\n",
    "Iteramos sobre el generador con enumerate para obtener cada IMC con su índice.\n",
    "\n",
    "Para cada IMC, determinamos la categoría comparando con los rangos definidos.\n",
    "\n",
    "Mostramos los resultados formateados para cada paciente."
   ]
  },
  {
   "cell_type": "code",
   "execution_count": null,
   "id": "5aa4595d",
   "metadata": {},
   "outputs": [],
   "source": [
    "# EJEMPLO: Cálculo del índice de masa corporal (IMC) para múltiples pacientes\n",
    "# Este es un ejemplo práctico que un analista de datos podría usar en salud\n",
    "\n",
    "# 1. Solicitamos al usuario que ingrese los datos de los pacientes\n",
    "print(\"Ingrese los datos de los pacientes (peso en kg, altura en m). Ejemplo: 70,1.75\")\n",
    "print(\"Escriba 'fin' para terminar la entrada de datos\")\n",
    "\n",
    "datos_pacientes = []\n",
    "while True:\n",
    "    entrada = input(\"Datos del paciente (peso,altura) o 'fin': \")\n",
    "    if entrada.lower() == 'fin':\n",
    "        break\n",
    "    try:\n",
    "        # Convertimos la entrada en una tupla de números (peso, altura)\n",
    "        peso, altura = map(float, entrada.split(','))\n",
    "        datos_pacientes.append((peso, altura))\n",
    "    except:\n",
    "        print(\"Formato incorrecto. Use: peso,altura (ej: 70,1.75)\")\n",
    "\n",
    "# 2. Usamos una comprensión de generador para calcular el IMC de cada paciente\n",
    "# El generador procesa los datos bajo demanda, eficiente para grandes volúmenes\n",
    "calculador_imc = (peso / (altura ** 2) for peso, altura in datos_pacientes)\n",
    "\n",
    "# 3. Clasificamos a los pacientes según su IMC\n",
    "# Definimos las categorías de IMC\n",
    "categorias = {\n",
    "    (0, 18.5): \"Bajo peso\",\n",
    "    (18.5, 25): \"Normal\",\n",
    "    (25, 30): \"Sobrepeso\",\n",
    "    (30, float('inf')): \"Obesidad\"\n",
    "}\n",
    "\n",
    "# 4. Procesamos los resultados del generador\n",
    "print(\"\\nResultados de análisis:\")\n",
    "print(\"-----------------------\")\n",
    "\n",
    "# Iteramos sobre el generador para obtener los resultados uno por uno\n",
    "for i, imc in enumerate(calculador_imc, 1):\n",
    "    # Determinamos la categoría\n",
    "    for rango, categoria in categorias.items():\n",
    "        if rango[0] <= imc < rango[1]:\n",
    "            resultado = categoria\n",
    "            break\n",
    "    \n",
    "    # Mostramos el resultado para cada paciente\n",
    "    print(f\"Paciente {i}:\")\n",
    "    print(f\"  Peso: {datos_pacientes[i-1][0]} kg\")\n",
    "    print(f\"  Altura: {datos_pacientes[i-1][1]} m\")\n",
    "    print(f\"  IMC: {imc:.2f} → {resultado}\")\n",
    "    print()"
   ]
  }
 ],
 "metadata": {
  "kernelspec": {
   "display_name": "Python 3",
   "language": "python",
   "name": "python3"
  },
  "language_info": {
   "codemirror_mode": {
    "name": "ipython",
    "version": 3
   },
   "file_extension": ".py",
   "mimetype": "text/x-python",
   "name": "python",
   "nbconvert_exporter": "python",
   "pygments_lexer": "ipython3",
   "version": "3.13.2"
  }
 },
 "nbformat": 4,
 "nbformat_minor": 5
}
