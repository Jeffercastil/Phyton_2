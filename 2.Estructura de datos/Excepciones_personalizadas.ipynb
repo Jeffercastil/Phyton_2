{
 "cells": [
  {
   "cell_type": "markdown",
   "id": "74af27e8",
   "metadata": {},
   "source": [
    "mayor claridad, y organizar errores en modulos o paquetes, buenas practicas colocar Error"
   ]
  },
  {
   "cell_type": "code",
   "execution_count": 6,
   "id": "286b4b56",
   "metadata": {},
   "outputs": [],
   "source": [
    "class MiError(Exception):\n",
    "    \"\"\"Base class for exceptions in this module.\"\"\"\n",
    "    def __init__(self, mensaje):\n",
    "        self.mensaje = mensaje\n",
    "        super().__init__(mensaje)"
   ]
  },
  {
   "cell_type": "code",
   "execution_count": 8,
   "id": "81f1a94b",
   "metadata": {},
   "outputs": [
    {
     "name": "stdout",
     "output_type": "stream",
     "text": [
      "Error: El valor no puede ser negativo\n"
     ]
    }
   ],
   "source": [
    "def verificar_valor(valor):\n",
    "    if valor < 0:\n",
    "        raise MiError (\"El valor no puede ser negativo\")\n",
    "    else:\n",
    "        print(\"valor valido\", valor)\n",
    "\n",
    "try:\n",
    "    verificar_valor (-10)\n",
    "except MiError as e:\n",
    "    print(\"Error:\" ,e)"
   ]
  },
  {
   "cell_type": "markdown",
   "id": "1f2a507f",
   "metadata": {},
   "source": [
    "Características de esta solución:\n",
    "\n",
    "Usa tu clase MiError exactamente como la definiste\n",
    "\n",
    "Mantiene tu función verificar_valor original\n",
    "\n",
    "Pide primero la cantidad de números y verifica que sea válida\n",
    "\n",
    "Para cada número:\n",
    "\n",
    "Verifica que sea un valor numérico válido\n",
    "\n",
    "Verifica que no sea negativo usando tu función\n",
    "\n",
    "Si hay error, pide el número nuevamente\n",
    "\n",
    "Multiplica todos los números válidos ingresados\n",
    "\n",
    "Maneja errores tanto en la cantidad como en los números individuales\n",
    "\n",
    "Ejemplo de ejecución:\n",
    "\n",
    "Ingrese la cantidad de números a multiplicar: 3\n",
    "Valor válido: 3\n",
    "Ingrese el número 1: 5\n",
    "Valor válido: 5.0\n",
    "Ingrese el número 2: -2\n",
    "Error: El valor no puede ser negativo\n",
    "Por favor ingrese un valor válido.\n",
    "Ingrese el número 2: 3\n",
    "Valor válido: 3.0\n",
    "Ingrese el número 3: 4\n",
    "Valor válido: 4.0\n",
    "\n",
    "El resultado de la multiplicación es: 60.0"
   ]
  },
  {
   "cell_type": "code",
   "execution_count": null,
   "id": "7cf132a3",
   "metadata": {},
   "outputs": [],
   "source": [
    "class MiError(Exception):\n",
    "    \"\"\"Base class for exceptions in this module.\"\"\"\n",
    "    def __init__(self, mensaje):\n",
    "        self.mensaje = mensaje\n",
    "        super().__init__(mensaje)\n",
    "\n",
    "def verificar_valor(valor):\n",
    "    if valor < 0:\n",
    "        raise MiError(\"El valor no puede ser negativo\")\n",
    "    else:\n",
    "        print(\"Valor válido:\", valor)\n",
    "    return valor\n",
    "\n",
    "try:\n",
    "    # Paso 1: Pedir la cantidad de números\n",
    "    cantidad = int(input(\"Ingrese la cantidad de números a multiplicar: \"))\n",
    "    verificar_valor(cantidad)\n",
    "    \n",
    "    # Paso 2: Pedir los números y multiplicarlos\n",
    "    resultado = 1\n",
    "    for i in range(cantidad):\n",
    "        while True:\n",
    "            try:\n",
    "                numero = float(input(f\"Ingrese el número {i+1}: \"))\n",
    "                verificar_valor(numero)\n",
    "                resultado *= numero\n",
    "                break\n",
    "            except MiError as e:\n",
    "                print(\"Error:\", e)\n",
    "                print(\"Por favor ingrese un valor válido.\")\n",
    "            except ValueError:\n",
    "                print(\"Error: Debe ingresar un número válido.\")\n",
    "    \n",
    "    print(f\"\\nEl resultado de la multiplicación es: {resultado}\")\n",
    "\n",
    "except MiError as e:\n",
    "    print(\"Error:\", e)\n",
    "except ValueError:\n",
    "    print(\"Error: La cantidad debe ser un número entero válido.\")"
   ]
  },
  {
   "cell_type": "markdown",
   "id": "2d31d1c1",
   "metadata": {},
   "source": [
    "Escenario:\n",
    "Tienes una \"base de datos\" de 10 registros (una lista de diccionarios), donde cada registro representa un cliente con:\n",
    "\n",
    "id\n",
    "\n",
    "nombre\n",
    "\n",
    "edad\n",
    "\n",
    "ingresos\n",
    "\n",
    "Objetivo:\n",
    "Queremos hacer validaciones personalizadas, como:\n",
    "\n",
    "Edad inválida (negativa o muy alta)\n",
    "\n",
    "Ingresos negativos\n",
    "\n",
    "Cliente no encontrado\n",
    "\n",
    "Filtros mal escritos"
   ]
  },
  {
   "cell_type": "code",
   "execution_count": null,
   "id": "4b8cd3f1",
   "metadata": {},
   "outputs": [],
   "source": [
    "import pandas\n",
    "datos_clientes = [\n",
    "    {\"id\": 1, \"nombre\": \"Ana\", \"edad\": 25, \"ingresos\": 2500},\n",
    "    {\"id\": 2, \"nombre\": \"Luis\", \"edad\": 30, \"ingresos\": 3200},\n",
    "    {\"id\": 3, \"nombre\": \"Carlos\", \"edad\": 22, \"ingresos\": 1800},\n",
    "    {\"id\": 4, \"nombre\": \"Sofía\", \"edad\": 28, \"ingresos\": 2900},\n",
    "    {\"id\": 5, \"nombre\": \"Marta\", \"edad\": 40, \"ingresos\": 4100},\n",
    "    {\"id\": 6, \"nombre\": \"Juan\", \"edad\": 35, \"ingresos\": 3700},\n",
    "    {\"id\": 7, \"nombre\": \"Elena\", \"edad\": 23, \"ingresos\": 1500},\n",
    "    {\"id\": 8, \"nombre\": \"Pedro\", \"edad\": 19, \"ingresos\": 1200},\n",
    "    {\"id\": 9, \"nombre\": \"Lucía\", \"edad\": 32, \"ingresos\": 3300},\n",
    "    {\"id\": 10, \"nombre\": \"Diego\", \"edad\": 27, \"ingresos\": 2800}\n",
    "]\n"
   ]
  },
  {
   "cell_type": "code",
   "execution_count": 10,
   "id": "87ec2514",
   "metadata": {},
   "outputs": [],
   "source": [
    "\"\"\"🛠️ Paso 1: Crear excepciones personalizadas\n",
    "python\n",
    "Copiar\n",
    "Editar\"\"\"\n",
    "class EdadInvalidaError(Exception):\n",
    "    pass\n",
    "\n",
    "class IngresoInvalidoError(Exception):\n",
    "    pass\n",
    "\n",
    "class ClienteNoEncontradoError(Exception):\n",
    "    pass\n",
    "\n",
    "class FiltroInvalidoError(Exception):\n",
    "    pass\n",
    "\n"
   ]
  },
  {
   "cell_type": "code",
   "execution_count": 11,
   "id": "250b8737",
   "metadata": {},
   "outputs": [],
   "source": [
    "\"\"\" Paso 2: Usar esas excepciones en funciones\n",
    "1. Buscar cliente por ID\"\"\"\n",
    "def buscar_cliente_por_id(id_cliente, base_datos):\n",
    "    for cliente in base_datos:\n",
    "        if cliente[\"id\"] == id_cliente:\n",
    "            return cliente\n",
    "    raise ClienteNoEncontradoError(f\"Cliente con ID {id_cliente} no encontrado.\")\n"
   ]
  },
  {
   "cell_type": "code",
   "execution_count": null,
   "id": "add5beb2",
   "metadata": {},
   "outputs": [],
   "source": [
    "#2. Validar edades\n",
    "\n",
    "def validar_edades(base_datos):\n",
    "    for cliente in base_datos:\n",
    "        if cliente[\"edad\"] < 0 or cliente[\"edad\"] > 120:\n",
    "            raise EdadInvalidaError(f\"Edad inválida para cliente {cliente['nombre']}: {cliente['edad']}\")\n"
   ]
  },
  {
   "cell_type": "code",
   "execution_count": 13,
   "id": "4433f219",
   "metadata": {},
   "outputs": [],
   "source": [
    "#3. Validar ingresos\n",
    "def validar_ingresos(base_datos):\n",
    "    for cliente in base_datos:\n",
    "        if cliente[\"ingresos\"] < 0:\n",
    "            raise IngresoInvalidoError(f\"Ingreso inválido para cliente {cliente['nombre']}: {cliente['ingresos']}\")\n",
    "\n"
   ]
  },
  {
   "cell_type": "code",
   "execution_count": 14,
   "id": "afd5160c",
   "metadata": {},
   "outputs": [],
   "source": [
    "#4. Filtro por campo\n",
    "def filtrar_por_campo(base_datos, campo, valor):\n",
    "    if campo not in [\"edad\", \"ingresos\", \"nombre\"]:\n",
    "        raise FiltroInvalidoError(f\"El campo '{campo}' no es válido.\")\n",
    "    \n",
    "    return [c for c in base_datos if c[campo] == valor]\n",
    "\n"
   ]
  },
  {
   "cell_type": "code",
   "execution_count": 15,
   "id": "2e18d35d",
   "metadata": {},
   "outputs": [
    {
     "name": "stdout",
     "output_type": "stream",
     "text": [
      "Error de búsqueda: Cliente con ID 11 no encontrado.\n"
     ]
    }
   ],
   "source": [
    "#Paso 3: Probar todo con try/except\n",
    "try:\n",
    "    validar_edades(datos_clientes)\n",
    "    validar_ingresos(datos_clientes)\n",
    "\n",
    "    cliente = buscar_cliente_por_id(11, datos_clientes)\n",
    "    print(\"Cliente encontrado:\", cliente)\n",
    "\n",
    "    resultado = filtrar_por_campo(datos_clientes, \"apellido\", \"Martínez\")\n",
    "    print(\"Resultado del filtro:\", resultado)\n",
    "\n",
    "except EdadInvalidaError as e:\n",
    "    print(\"Error de edad:\", e)\n",
    "\n",
    "except IngresoInvalidoError as e:\n",
    "    print(\"Error de ingreso:\", e)\n",
    "\n",
    "except ClienteNoEncontradoError as e:\n",
    "    print(\"Error de búsqueda:\", e)\n",
    "\n",
    "except FiltroInvalidoError as e:\n",
    "    print(\"Error de filtro:\", e)\n"
   ]
  },
  {
   "cell_type": "code",
   "execution_count": null,
   "id": "0df07f9d",
   "metadata": {},
   "outputs": [],
   "source": [
    "#✅ Resultado esperado: Como no existe el cliente con ID 11 ni el campo \"apellido\", vas a ver:\n",
    "\n",
    "\"\"\"Error de búsqueda: Cliente con ID 11 no encontrado.\n",
    "Error de filtro: El campo 'apellido' no es válido. Dónde puede aplicar esto un analista de datos?\n",
    "Revisar calidad de datos antes de hacer análisis.\n",
    "\n",
    "Validar reglas de negocio en transformaciones de datos.\n",
    "\n",
    "Depurar errores con mensajes claros.\n",
    "\n",
    "Automatizar chequeos en scripts diarios.\"\"\"\n",
    "\n",
    "\n"
   ]
  },
  {
   "cell_type": "code",
   "execution_count": 16,
   "id": "2f38336a",
   "metadata": {},
   "outputs": [],
   "source": [
    "empleados = [\n",
    "    {\"id\": 1, \"nombre\": \"Ana\", \"edad\": 28, \"salario\": 3500, \"departamento\": \"Ventas\"},\n",
    "    {\"id\": 2, \"nombre\": \"Luis\", \"edad\": 32, \"salario\": 4200, \"departamento\": \"IT\"},\n",
    "    {\"id\": 3, \"nombre\": None, \"edad\": 45, \"salario\": 3800, \"departamento\": \"RH\"},  # Nombre faltante\n",
    "    {\"id\": 4, \"nombre\": \"Carlos\", \"edad\": 150, \"salario\": 5000, \"departamento\": \"Finanzas\"},  # Edad imposible\n",
    "    {\"id\": 5, \"nombre\": \"Marta\", \"edad\": 23, \"salario\": \"3200\", \"departamento\": \"Ventas\"},  # Salario como string\n",
    "    {\"id\": 6, \"nombre\": \"Pedro\", \"edad\": 29, \"salario\": 4100, \"departamento\": \"Marketing\"},\n",
    "    {\"id\": 7, \"nombre\": \"Sofía\", \"edad\": None, \"salario\": 2900, \"departamento\": \"IT\"},  # Edad faltante\n",
    "    {\"id\": 8, \"nombre\": \"Juan\", \"edad\": 40, \"salario\": -3000, \"departamento\": \"Ventas\"},  # Salario negativo\n",
    "    {\"id\": 9, \"nombre\": \"Laura\", \"edad\": 35, \"salario\": 4800, \"departamento\": \"Legales\"},\n",
    "    {\"id\": 10, \"nombre\": \"Diego\", \"edad\": 31, \"salario\": 3700, \"departamento\": \"NoExistente\"}  # Depto inválido\n",
    "]"
   ]
  },
  {
   "cell_type": "code",
   "execution_count": null,
   "id": "d32dd8fc",
   "metadata": {},
   "outputs": [],
   "source": [
    "#1. Excepción para datos faltantes (None/NaN) Output:\n",
    "#DatoFaltanteError: ⚠️ En registro ID 3: Falta el campo 'nombre'\n",
    "class DatoFaltanteError(Exception):\n",
    "    \"\"\"Error cuando un campo obligatorio está vacío\"\"\"\n",
    "    def __init__(self, campo, registro_id):\n",
    "        super().__init__(f\"⚠️ En registro ID {registro_id}: Falta el campo '{campo}'\")\n",
    "\n",
    "# Uso:\n",
    "for emp in empleados:\n",
    "    if emp[\"nombre\"] is None:\n",
    "        raise DatoFaltanteError(\"nombre\", emp[\"id\"])"
   ]
  },
  {
   "cell_type": "code",
   "execution_count": null,
   "id": "4ef8469e",
   "metadata": {},
   "outputs": [],
   "source": [
    "#2. Excepción para valores imposibles\n",
    "#Output: ValorImposibleError: ⚠️ En registro ID 4: edad=150 es imposible\n",
    "class ValorImposibleError(Exception):\n",
    "    \"\"\"Error cuando un valor no tiene sentido lógico\"\"\"\n",
    "    def __init__(self, campo, valor, registro_id):\n",
    "        super().__init__(f\"⚠️ En registro ID {registro_id}: {campo}={valor} es imposible\")\n",
    "\n",
    "# Uso:\n",
    "for emp in empleados:\n",
    "    if emp[\"edad\"] is not None and emp[\"edad\"] > 120:\n",
    "        raise ValorImposibleError(\"edad\", emp[\"edad\"], emp[\"id\"])"
   ]
  },
  {
   "cell_type": "code",
   "execution_count": null,
   "id": "e2c92acc",
   "metadata": {},
   "outputs": [],
   "source": [
    "#3. Excepción para tipo de dato incorrecto  TipoIncorrectoError: ⚠️ En registro ID 5: 'salario' debe ser numérico\n",
    "class TipoIncorrectoError(Exception):\n",
    "    \"\"\"Error cuando el tipo de dato no es el esperado\"\"\"\n",
    "    def __init__(self, campo, tipo_esperado, registro_id):\n",
    "        super().__init__(f\"⚠️ En registro ID {registro_id}: '{campo}' debe ser {tipo_esperado}\")\n",
    "\n",
    "# Uso:\n",
    "for emp in empleados:\n",
    "    if not isinstance(emp[\"salario\"], (int, float)):\n",
    "        raise TipoIncorrectoError(\"salario\", \"numérico\", emp[\"id\"])"
   ]
  },
  {
   "cell_type": "code",
   "execution_count": null,
   "id": "f429a139",
   "metadata": {},
   "outputs": [],
   "source": [
    "#4. Excepción para valores negativos ValorNegativoError: ⚠️ En registro ID 8: 'salario' no puede ser negativo\n",
    "class ValorNegativoError(Exception):\n",
    "    \"\"\"Error cuando un valor no puede ser negativo\"\"\"\n",
    "    def __init__(self, campo, registro_id):\n",
    "        super().__init__(f\"⚠️ En registro ID {registro_id}: '{campo}' no puede ser negativo\")\n",
    "\n",
    "# Uso:\n",
    "for emp in empleados:\n",
    "    if isinstance(emp[\"salario\"], (int, float)) and emp[\"salario\"] < 0:\n",
    "        raise ValorNegativoError(\"salario\", emp[\"id\"])"
   ]
  },
  {
   "cell_type": "code",
   "execution_count": null,
   "id": "a1684171",
   "metadata": {},
   "outputs": [],
   "source": [
    "#5. Excepción para categorías inválidas CategoriaInvalidaError: ⚠️ En registro ID 10: 'departamento'='NoExistente' no es válido. Opciones: Ventas, IT, RH, Legales, Marketing, Finanzas\n",
    "\n",
    "\n",
    "class CategoriaInvalidaError(Exception):\n",
    "    \"\"\"Error cuando un valor no está en la lista permitida\"\"\"\n",
    "    def __init__(self, campo, valor, categorias_permitidas, registro_id):\n",
    "        categorias_str = \", \".join(categorias_permitidas)\n",
    "        super().__init__(\n",
    "            f\"⚠️ En registro ID {registro_id}: '{campo}'='{valor}' no es válido. \"\n",
    "            f\"Opciones: {categorias_str}\"\n",
    "        )\n",
    "\n",
    "# Uso:\n",
    "departamentos_validos = {\"Ventas\", \"IT\", \"RH\", \"Finanzas\", \"Marketing\", \"Legales\"}\n",
    "for emp in empleados:\n",
    "    if emp[\"departamento\"] not in departamentos_validos:\n",
    "        raise CategoriaInvalidaError(\n",
    "            \"departamento\", \n",
    "            emp[\"departamento\"],\n",
    "            departamentos_validos,\n",
    "            emp[\"id\"]\n",
    "        )"
   ]
  },
  {
   "cell_type": "code",
   "execution_count": null,
   "id": "a72576d5",
   "metadata": {},
   "outputs": [
    {
     "name": "stdout",
     "output_type": "stream",
     "text": [
      "[ERROR] name 'DatoFaltanteError' is not defined\n",
      "[ERROR] name 'ValorImposibleError' is not defined\n",
      "[ERROR] name 'TipoIncorrectoError' is not defined\n",
      "[ERROR] name 'DatoFaltanteError' is not defined\n",
      "[ERROR] name 'ValorNegativoError' is not defined\n",
      "[ERROR] name 'CategoriaInvalidaError' is not defined\n"
     ]
    },
    {
     "data": {
      "text/plain": [
       "\"[ERROR] ⚠️ En registro ID 3: Falta el campo 'nombre'\\n[ERROR] ⚠️ En registro ID 4: edad=150 es imposible\\n[ERROR] ⚠️ En registro ID 5: 'salario' debe ser numérico\\n[ERROR] ⚠️ En registro ID 7: Falta el campo 'edad'\\n[ERROR] ⚠️ En registro ID 8: 'salario' no puede ser negativo\\n[ERROR] ⚠️ En registro ID 10: 'departamento'='NoExistente' no es válido. Opciones: IT, Legales, Marketing, Ventas, Finanzas, RH\""
      ]
     },
     "execution_count": 17,
     "metadata": {},
     "output_type": "execute_result"
    }
   ],
   "source": [
    "#Cómo usarlas todas juntas\n",
    "def validar_empleados(empleados):\n",
    "    deptos_validos = {\"Ventas\", \"IT\", \"RH\", \"Finanzas\", \"Marketing\", \"Legales\"}\n",
    "    \n",
    "    for emp in empleados:\n",
    "        try:\n",
    "            # Validación 1: Datos faltantes\n",
    "            if emp[\"nombre\"] is None:\n",
    "                raise DatoFaltanteError(\"nombre\", emp[\"id\"])\n",
    "            if emp[\"edad\"] is None:\n",
    "                raise DatoFaltanteError(\"edad\", emp[\"id\"])\n",
    "                \n",
    "            # Validación 2: Tipos de datos\n",
    "            if not isinstance(emp[\"salario\"], (int, float)):\n",
    "                raise TipoIncorrectoError(\"salario\", \"numérico\", emp[\"id\"])\n",
    "                \n",
    "            # Validación 3: Valores lógicos\n",
    "            if not (18 <= emp[\"edad\"] <= 120):\n",
    "                raise ValorImposibleError(\"edad\", emp[\"edad\"], emp[\"id\"])\n",
    "            if emp[\"salario\"] < 0:\n",
    "                raise ValorNegativoError(\"salario\", emp[\"id\"])\n",
    "                \n",
    "            # Validación 4: Categorías\n",
    "            if emp[\"departamento\"] not in deptos_validos:\n",
    "                raise CategoriaInvalidaError(\n",
    "                    \"departamento\", \n",
    "                    emp[\"departamento\"],\n",
    "                    deptos_validos,\n",
    "                    emp[\"id\"]\n",
    "                )\n",
    "                \n",
    "        except Exception as e:\n",
    "            print(f\"[ERROR] {e}\")\n",
    "            # Aquí podrías registrar el error o tomar otra acción\n",
    "\n",
    "validar_empleados(empleados)\n",
    "\n",
    "\n"
   ]
  },
  {
   "cell_type": "markdown",
   "id": "4a5e2609",
   "metadata": {},
   "source": [
    "\"\"\"[ERROR] ⚠️ En registro ID 3: Falta el campo 'nombre'\n",
    "[ERROR] ⚠️ En registro ID 4: edad=150 es imposible\n",
    "[ERROR] ⚠️ En registro ID 5: 'salario' debe ser numérico\n",
    "[ERROR] ⚠️ En registro ID 7: Falta el campo 'edad'\n",
    "[ERROR] ⚠️ En registro ID 8: 'salario' no puede ser negativo\n",
    "[ERROR] ⚠️ En registro ID 10: 'departamento'='NoExistente' no es válido. Opciones: IT, Legales, Marketing, Ventas, Finanzas, RH\"\"\"\n",
    "\n",
    "Beneficios para analistas de datos:\n",
    "Mensajes claros: Sabes exactamente qué registro tiene problemas y por qué\n",
    "\n",
    "Validación temprana: Detectas errores antes de hacer análisis\n",
    "\n",
    "Consistencia: Todos en el equipo verán los mismos formatos de error\n",
    "\n",
    "Ahorro de tiempo: No perderás horas buscando por qué falla un cálculo"
   ]
  },
  {
   "cell_type": "code",
   "execution_count": null,
   "id": "5a459cc7",
   "metadata": {},
   "outputs": [],
   "source": []
  }
 ],
 "metadata": {
  "kernelspec": {
   "display_name": "Python 3",
   "language": "python",
   "name": "python3"
  },
  "language_info": {
   "codemirror_mode": {
    "name": "ipython",
    "version": 3
   },
   "file_extension": ".py",
   "mimetype": "text/x-python",
   "name": "python",
   "nbconvert_exporter": "python",
   "pygments_lexer": "ipython3",
   "version": "3.13.2"
  }
 },
 "nbformat": 4,
 "nbformat_minor": 5
}
