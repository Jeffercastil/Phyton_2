{
 "cells": [
  {
   "cell_type": "markdown",
   "metadata": {},
   "source": [
    "Deficion: garantiza  que los nombres n un programa sean unicos y no se ceran conflictos, espacio de nombres son implementados como dicionarios en python , claves son los nombres\n",
    " y los valores son los objetos a los se refiere el nombre.\n",
    "\n",
    " Espacio local = dentro de una funcion , parametros y variables , no es accesible fuera de la función\n",
    " Espacio de nombres global =modulo actual, nivel mas alto de la jerarquia de nombres, accesible desde cualquier parte del programa, \n",
    " Espacio de nombres incorporados = Builtin  son nombres por default   \n",
    " Scope = se refiere a la región de un programa dond e un espacio de nombre es accesible.\n",
    "\n",
    "Orden de busqueda de python = local L, enclosing E, global G, built-in B\n"
   ]
  },
  {
   "cell_type": "code",
   "execution_count": 1,
   "metadata": {},
   "outputs": [
    {
     "name": "stdout",
     "output_type": "stream",
     "text": [
      "inner x: inner x\n",
      "outer x: inner x\n",
      "Global: global x\n"
     ]
    }
   ],
   "source": [
    "x ='global x'\n",
    "\n",
    "def outer ():\n",
    "    x = 'outer x'\n",
    "    def inner():\n",
    "        nonlocal x\n",
    "        x = 'inner x'\n",
    "        print('inner x:', x)\n",
    "    inner()\n",
    "    print('outer x:', x)\n",
    "outer()\n",
    "print(\"Global:\",x)\n",
    "    "
   ]
  },
  {
   "cell_type": "code",
   "execution_count": null,
   "metadata": {},
   "outputs": [],
   "source": []
  }
 ],
 "metadata": {
  "kernelspec": {
   "display_name": "Python 3",
   "language": "python",
   "name": "python3"
  },
  "language_info": {
   "codemirror_mode": {
    "name": "ipython",
    "version": 3
   },
   "file_extension": ".py",
   "mimetype": "text/x-python",
   "name": "python",
   "nbconvert_exporter": "python",
   "pygments_lexer": "ipython3",
   "version": "3.13.2"
  }
 },
 "nbformat": 4,
 "nbformat_minor": 2
}
