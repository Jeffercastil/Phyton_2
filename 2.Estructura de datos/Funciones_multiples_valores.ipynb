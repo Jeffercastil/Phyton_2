{
 "cells": [
  {
   "cell_type": "markdown",
   "metadata": {},
   "source": [
    "Funciones_multiples_valores :"
   ]
  },
  {
   "cell_type": "code",
   "execution_count": 3,
   "metadata": {},
   "outputs": [],
   "source": [
    "def sum(a,b):\n",
    "    return a + b"
   ]
  },
  {
   "cell_type": "code",
   "execution_count": 4,
   "metadata": {},
   "outputs": [
    {
     "data": {
      "text/plain": [
       "7"
      ]
     },
     "execution_count": 4,
     "metadata": {},
     "output_type": "execute_result"
    }
   ],
   "source": [
    "sum(3,4)"
   ]
  },
  {
   "cell_type": "code",
   "execution_count": 11,
   "metadata": {},
   "outputs": [
    {
     "name": "stdout",
     "output_type": "stream",
     "text": [
      "suma 10\n",
      "resta -2\n",
      "Multiplicacion 24\n",
      "Division 0.6666666666666666\n"
     ]
    }
   ],
   "source": [
    "def operaciones_basicas(a,b):    \n",
    "    suma  = a+b\n",
    "    resta = a-b\n",
    "    multiplicacion=a*b\n",
    "\n",
    "    if b ==0:\n",
    "        division=\"No se puede dividir entre cero\"\n",
    "    else:\n",
    "        division =a/b\n",
    "\n",
    "    return suma, resta, multiplicacion, division\n",
    "\n",
    "a =int(input(\"Ingresar valor 1:\"))\n",
    "b =int(input(\"Ingresar valor 2:\"))\n",
    "resultado =operaciones_basicas(a,b)\n",
    "print(\"suma\" ,resultado[0])\n",
    "print(\"resta\" ,resultado[1])\n",
    "print(\"Multiplicacion\", resultado[2])\n",
    "print(\"Division\", resultado[3])"
   ]
  },
  {
   "cell_type": "code",
   "execution_count": null,
   "metadata": {},
   "outputs": [],
   "source": []
  },
  {
   "cell_type": "code",
   "execution_count": null,
   "metadata": {},
   "outputs": [],
   "source": []
  },
  {
   "cell_type": "code",
   "execution_count": null,
   "metadata": {},
   "outputs": [],
   "source": []
  },
  {
   "cell_type": "code",
   "execution_count": null,
   "metadata": {},
   "outputs": [],
   "source": []
  },
  {
   "cell_type": "code",
   "execution_count": null,
   "metadata": {},
   "outputs": [],
   "source": []
  },
  {
   "cell_type": "code",
   "execution_count": null,
   "metadata": {},
   "outputs": [],
   "source": []
  }
 ],
 "metadata": {
  "kernelspec": {
   "display_name": "Python 3",
   "language": "python",
   "name": "python3"
  },
  "language_info": {
   "codemirror_mode": {
    "name": "ipython",
    "version": 3
   },
   "file_extension": ".py",
   "mimetype": "text/x-python",
   "name": "python",
   "nbconvert_exporter": "python",
   "pygments_lexer": "ipython3",
   "version": "3.13.2"
  }
 },
 "nbformat": 4,
 "nbformat_minor": 2
}
