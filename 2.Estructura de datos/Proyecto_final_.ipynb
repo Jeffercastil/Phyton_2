{
 "cells": [
  {
   "cell_type": "code",
   "execution_count": 1,
   "id": "12f88a07",
   "metadata": {},
   "outputs": [],
   "source": [
    "import csv\n",
    "import math"
   ]
  },
  {
   "cell_type": "code",
   "execution_count": null,
   "id": "58b4becc",
   "metadata": {},
   "outputs": [],
   "source": []
  },
  {
   "cell_type": "code",
   "execution_count": 2,
   "id": "d51fc806",
   "metadata": {},
   "outputs": [],
   "source": [
    "def cargar_datos(filepath):\n",
    "    with open(filepath, 'r') as file:\n",
    "        csv_reader = csv.reader(file)\n",
    "        dataset = [row for row in csv_reader if row]\n",
    "    return dataset"
   ]
  },
  {
   "cell_type": "code",
   "execution_count": null,
   "id": "d1e10453",
   "metadata": {},
   "outputs": [],
   "source": []
  },
  {
   "cell_type": "code",
   "execution_count": 3,
   "id": "1d241bf8",
   "metadata": {},
   "outputs": [],
   "source": [
    "def agrupar_por_especie(datos):\n",
    "    agrupados ={}\n",
    "    for fila in datos:\n",
    "        especie = fila[-1] #toma el ultimo elemento de la lista en este caso el nombre de la especie texto\n",
    "        caracteristicas = list ( map(float, fila [:-1])) # convierte a lista de float los elementos de la lista el -1 es el ultimo elemento de la lista lo cual es stream y lo omite numeros\n",
    "        if especie not in agrupados:\n",
    "            agrupados[especie]={'longitud_sepalo': [],\n",
    "                                'ancho_sepalo': [],\n",
    "                                'longitud_petalo':[],\n",
    "                                'ancho_petalo':[],}\n",
    "            agrupados[especie] ['longitud_sepalo'].append(caracteristicas[0])\n",
    "            agrupados[especie] ['ancho_sepalo'].append(caracteristicas[1])\n",
    "            agrupados[especie] ['longitud_petalo'].append(caracteristicas[2])\n",
    "            agrupados[especie] ['ancho_petalo'].append(caracteristicas[3])\n",
    "    return agrupados"
   ]
  },
  {
   "cell_type": "code",
   "execution_count": 4,
   "id": "cb1bffb5",
   "metadata": {},
   "outputs": [],
   "source": [
    "class Flor:\n",
    "    def __init__(self, longitud_sepalo, ancho_sepalo, longitud_petalo, ancho_petalo):\n",
    "        \"\"\"Inicialización de la clase Flor con sus caracteristicas\"\"\" \n",
    "        self.longitud_sepalo = longitud_sepalo\n",
    "        self.ancho_sepalo = ancho_sepalo\n",
    "        self.longitud_petalo = longitud_petalo\n",
    "        self.ancho_petalo = ancho_petalo\n",
    "\n",
    "    def promedio(self,datos):\n",
    "        \"\"\"Calcula el promedio de las caracteristicas de la flor\"\"\"\n",
    "        promedio = sum(datos)/len(datos)\n",
    "        return promedio\n",
    "    \n",
    "    def desviacion_estandar(self,datos):\n",
    "        \"\"\"Calcula la desviación estándar de las caracteristicas de la flor\"\"\"\n",
    "        prom = self.promedio(datos)\n",
    "        varianza = sum([(x-prom)**2 for x in datos ])/len(datos)\n",
    "        return math.sqrt(varianza)\n",
    "    \n",
    "def analisis(self):\n",
    "    \"\"\"Método para realizar el análisis de la flor\"\"\"\n",
    "    analisis = {\n",
    "        'longitud_sepalo':{ 'Promedio ': self.promedio(self.longitud_sepalo),\n",
    "                           'Desviacion_estandar':self.desviacion_estandar(self.longitud_sepalo)} ,\n",
    "        'ancho_sepalo':{ 'Promedio': self.promedio(self.ancho_sepalo),\n",
    "                          'Desviacion_estandar': self.desviacion_estandar(self.ancho_sepalo)}, \n",
    "        'longitud_petalo': {'Promedio ' : self.promedio(self.longitud_petalo),\n",
    "                            'Desviacion_estandar': self.desviacion_estandar(self.longitud_petalo)},\n",
    "        'ancho_petalo': {'Promedio ' : self.promedio(self.ancho_petalo),  # Corregido aquí\n",
    "                            'Desviacion_estandar': self.desviacion_estandar(self.ancho_petalo)}\n",
    "    }\n",
    "    return analisis"
   ]
  },
  {
   "cell_type": "code",
   "execution_count": null,
   "id": "eaae1424",
   "metadata": {},
   "outputs": [],
   "source": []
  },
  {
   "cell_type": "code",
   "execution_count": 5,
   "id": "c8a16d79",
   "metadata": {},
   "outputs": [],
   "source": [
    "datos = cargar_datos('iris.data.txt')\n",
    "#print(datos)\n",
    "Flores = agrupar_por_especie(datos)\n",
    "Iris_setosa = Flor(Flores['Iris-setosa']['longitud_sepalo'],\n",
    "                   Flores['Iris-setosa']['ancho_sepalo'],\n",
    "                   Flores['Iris-setosa']['longitud_petalo'],\n",
    "                   Flores['Iris-setosa']['ancho_petalo'],)"
   ]
  },
  {
   "cell_type": "code",
   "execution_count": 7,
   "id": "d496285c",
   "metadata": {},
   "outputs": [
    {
     "ename": "AttributeError",
     "evalue": "'Flor' object has no attribute 'analisis'",
     "output_type": "error",
     "traceback": [
      "\u001b[31m---------------------------------------------------------------------------\u001b[39m",
      "\u001b[31mAttributeError\u001b[39m                            Traceback (most recent call last)",
      "\u001b[36mCell\u001b[39m\u001b[36m \u001b[39m\u001b[32mIn[7]\u001b[39m\u001b[32m, line 1\u001b[39m\n\u001b[32m----> \u001b[39m\u001b[32m1\u001b[39m \u001b[38;5;28mprint\u001b[39m(\u001b[43mIris_setosa\u001b[49m\u001b[43m.\u001b[49m\u001b[43manalisis\u001b[49m())\n",
      "\u001b[31mAttributeError\u001b[39m: 'Flor' object has no attribute 'analisis'"
     ]
    }
   ],
   "source": [
    "print(Iris_setosa.analisis())"
   ]
  },
  {
   "cell_type": "code",
   "execution_count": 8,
   "id": "6a95c437",
   "metadata": {},
   "outputs": [],
   "source": [
    "Iris_versicolor = Flor(Flores['Iris-versicolor']['longitud_sepalo'],\n",
    "                   Flores['Iris-versicolor']['ancho_sepalo'],\n",
    "                   Flores['Iris-versicolor']['longitud_petalo'],\n",
    "                   Flores['Iris-versicolor']['ancho_petalo'],)"
   ]
  },
  {
   "cell_type": "code",
   "execution_count": 9,
   "id": "d48a39c9",
   "metadata": {},
   "outputs": [
    {
     "ename": "AttributeError",
     "evalue": "'Flor' object has no attribute 'analisis'",
     "output_type": "error",
     "traceback": [
      "\u001b[31m---------------------------------------------------------------------------\u001b[39m",
      "\u001b[31mAttributeError\u001b[39m                            Traceback (most recent call last)",
      "\u001b[36mCell\u001b[39m\u001b[36m \u001b[39m\u001b[32mIn[9]\u001b[39m\u001b[32m, line 1\u001b[39m\n\u001b[32m----> \u001b[39m\u001b[32m1\u001b[39m \u001b[38;5;28mprint\u001b[39m(\u001b[43mIris_versicolor\u001b[49m\u001b[43m.\u001b[49m\u001b[43manalisis\u001b[49m())\n",
      "\u001b[31mAttributeError\u001b[39m: 'Flor' object has no attribute 'analisis'"
     ]
    }
   ],
   "source": [
    "print(Iris_versicolor.analisis())"
   ]
  },
  {
   "cell_type": "code",
   "execution_count": null,
   "id": "fc52af72",
   "metadata": {},
   "outputs": [],
   "source": []
  },
  {
   "cell_type": "code",
   "execution_count": null,
   "id": "8c37a595",
   "metadata": {},
   "outputs": [],
   "source": []
  },
  {
   "cell_type": "code",
   "execution_count": null,
   "id": "f1e1feaf",
   "metadata": {},
   "outputs": [],
   "source": []
  },
  {
   "cell_type": "code",
   "execution_count": null,
   "id": "4df4f3d7",
   "metadata": {},
   "outputs": [],
   "source": []
  },
  {
   "cell_type": "code",
   "execution_count": null,
   "id": "936c1bba",
   "metadata": {},
   "outputs": [],
   "source": []
  },
  {
   "cell_type": "code",
   "execution_count": null,
   "id": "a0b112ee",
   "metadata": {},
   "outputs": [],
   "source": []
  },
  {
   "cell_type": "code",
   "execution_count": null,
   "id": "481afc0e",
   "metadata": {},
   "outputs": [],
   "source": []
  },
  {
   "cell_type": "code",
   "execution_count": null,
   "id": "4ad832c2",
   "metadata": {},
   "outputs": [],
   "source": []
  },
  {
   "cell_type": "code",
   "execution_count": null,
   "id": "f084bf21",
   "metadata": {},
   "outputs": [],
   "source": []
  },
  {
   "cell_type": "code",
   "execution_count": null,
   "id": "9b83023b",
   "metadata": {},
   "outputs": [],
   "source": []
  },
  {
   "cell_type": "code",
   "execution_count": null,
   "id": "fc5b8121",
   "metadata": {},
   "outputs": [],
   "source": []
  },
  {
   "cell_type": "code",
   "execution_count": null,
   "id": "4193685b",
   "metadata": {},
   "outputs": [],
   "source": []
  },
  {
   "cell_type": "code",
   "execution_count": null,
   "id": "4c42c04a",
   "metadata": {},
   "outputs": [],
   "source": []
  },
  {
   "cell_type": "code",
   "execution_count": null,
   "id": "4649a54f",
   "metadata": {},
   "outputs": [],
   "source": []
  },
  {
   "cell_type": "code",
   "execution_count": null,
   "id": "2a36a46e",
   "metadata": {},
   "outputs": [],
   "source": []
  },
  {
   "cell_type": "code",
   "execution_count": null,
   "id": "3d60483f",
   "metadata": {},
   "outputs": [],
   "source": []
  },
  {
   "cell_type": "code",
   "execution_count": null,
   "id": "52bebca2",
   "metadata": {},
   "outputs": [],
   "source": []
  }
 ],
 "metadata": {
  "kernelspec": {
   "display_name": "Python 3",
   "language": "python",
   "name": "python3"
  },
  "language_info": {
   "codemirror_mode": {
    "name": "ipython",
    "version": 3
   },
   "file_extension": ".py",
   "mimetype": "text/x-python",
   "name": "python",
   "nbconvert_exporter": "python",
   "pygments_lexer": "ipython3",
   "version": "3.13.5"
  }
 },
 "nbformat": 4,
 "nbformat_minor": 5
}
