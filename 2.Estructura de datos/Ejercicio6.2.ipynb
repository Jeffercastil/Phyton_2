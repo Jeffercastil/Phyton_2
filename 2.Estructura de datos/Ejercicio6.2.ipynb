{
 "cells": [
  {
   "cell_type": "markdown",
   "id": "2490cac9",
   "metadata": {},
   "source": [
    "Manipulación avanzada de secuencias.\n",
    "Ejercicio: Manipulación avanzada de secuencias.\n",
    "\n",
    "Objetivo: Escribe un programa que realice las siguientes operaciones con secuencias (listas, tuplas, conjuntos):\n",
    "\n",
    "Crear una lista de números del 1 al 10.\n",
    "\n",
    "Convertir la lista en una tupla.\n",
    "\n",
    "Crear un conjunto con los elementos de la tupla.\n",
    "\n",
    "Agregar un nuevo elemento al conjunto.\n",
    "\n",
    "Eliminar un elemento del conjunto.\n",
    "\n",
    "Verificar si un elemento está en el conjunto.\n",
    "\n",
    "Unir dos conjuntos y obtener la intersección.\n",
    "\n",
    "Descripción de la solución: En Python, las secuencias como listas, tuplas y conjuntos permiten realizar diversas operaciones. Tu programa debe crear y manipular estas secuencias de acuerdo a las instrucciones especificadas."
   ]
  },
  {
   "cell_type": "code",
   "execution_count": 2,
   "id": "8eb2aa09",
   "metadata": {},
   "outputs": [
    {
     "name": "stdout",
     "output_type": "stream",
     "text": [
      " Lista [1, 2, 3, 4, 5, 6, 7, 8, 9, 10]\n"
     ]
    }
   ],
   "source": [
    "lista_numeros =list(range (1, 11))\n",
    "print (f\" Lista {lista_numeros}\")"
   ]
  },
  {
   "cell_type": "code",
   "execution_count": 3,
   "id": "4b508c84",
   "metadata": {},
   "outputs": [
    {
     "name": "stdout",
     "output_type": "stream",
     "text": [
      " Tupla:  (1, 2, 3, 4, 5, 6, 7, 8, 9, 10)\n"
     ]
    }
   ],
   "source": [
    "tuplas_numeros = tuple(lista_numeros)\n",
    "print(f\" Tupla:  {tuplas_numeros}\")"
   ]
  },
  {
   "cell_type": "code",
   "execution_count": 4,
   "id": "513a0a1f",
   "metadata": {},
   "outputs": [
    {
     "name": "stdout",
     "output_type": "stream",
     "text": [
      " Conjunto de números: {1, 2, 3, 4, 5, 6, 7, 8, 9, 10}\n"
     ]
    }
   ],
   "source": [
    "conjunto_numeros = set (tuplas_numeros)\n",
    "print(f\" Conjunto de números: {conjunto_numeros}\")"
   ]
  },
  {
   "cell_type": "code",
   "execution_count": 5,
   "id": "9dd572b1",
   "metadata": {},
   "outputs": [
    {
     "name": "stdout",
     "output_type": "stream",
     "text": [
      " Conjunto despues de agregar 11: {1, 2, 3, 4, 5, 6, 7, 8, 9, 10, 11}\n"
     ]
    }
   ],
   "source": [
    "conjunto_numeros.add(11)\n",
    "print(f\" Conjunto despues de agregar 11: {conjunto_numeros}\")"
   ]
  },
  {
   "cell_type": "code",
   "execution_count": 6,
   "id": "51b6d345",
   "metadata": {},
   "outputs": [
    {
     "name": "stdout",
     "output_type": "stream",
     "text": [
      " Conjunto despues de eliminar 1: {2, 3, 4, 5, 6, 7, 8, 9, 10, 11}\n"
     ]
    }
   ],
   "source": [
    "conjunto_numeros.discard(1)\n",
    "print(f\" Conjunto despues de eliminar 1: {conjunto_numeros}\")"
   ]
  },
  {
   "cell_type": "code",
   "execution_count": 7,
   "id": "89b46121",
   "metadata": {},
   "outputs": [
    {
     "name": "stdout",
     "output_type": "stream",
     "text": [
      " ¿ Existe el 5 en el conjunto ? : True\n"
     ]
    }
   ],
   "source": [
    "existe_cinco = 5 in conjunto_numeros\n",
    "print(f\" ¿ Existe el 5 en el conjunto ? : {existe_cinco}\")"
   ]
  },
  {
   "cell_type": "code",
   "execution_count": 8,
   "id": "04a85ecd",
   "metadata": {},
   "outputs": [
    {
     "name": "stdout",
     "output_type": "stream",
     "text": [
      " Unión conjuntos : {2, 3, 4, 5, 6, 7, 8, 9, 10, 11, 15, 20}\n",
      " Intersección conjuntos : {10, 11, 5}\n"
     ]
    }
   ],
   "source": [
    "otro_conjunto = {5,10,11,15,20}\n",
    "union_conjuntos = conjunto_numeros | otro_conjunto \n",
    "interseccion_conjuntos= conjunto_numeros & otro_conjunto\n",
    "print(f\" Unión conjuntos : {union_conjuntos}\")\n",
    "print(f\" Intersección conjuntos : {interseccion_conjuntos}\")"
   ]
  },
  {
   "cell_type": "markdown",
   "id": "302b6b4c",
   "metadata": {},
   "source": [
    "Características del programa mejorado:\n",
    "Menú interactivo: Puedes elegir qué operación realizar en cada momento.\n",
    "\n",
    "Control de errores: El programa maneja entradas incorrectas sin romperse.\n",
    "\n",
    "Flexibilidad:\n",
    "\n",
    "Decides si agregar números o no\n",
    "\n",
    "Puedes saltar cualquier operación\n",
    "\n",
    "Controlas el flujo del programa\n",
    "\n",
    "Operaciones adicionales:\n",
    "\n",
    "Además de unión e intersección, muestra la diferencia entre conjuntos\n",
    "\n",
    "Permite ver el estado actual en cualquier momento\n",
    "\n",
    "Retroalimentación clara: Después de cada operación, muestra el resultado y el estado actual.\n",
    "\n",
    "Salida controlada: Puedes salir del programa cuando lo desees.\n",
    "\n",
    "Cómo usar el programa:\n",
    "Ejecuta el código\n",
    "\n",
    "El programa crea automáticamente las estructuras básicas (lista, tupla, conjunto)\n",
    "\n",
    "Usa el menú para seleccionar qué operación deseas realizar\n",
    "\n",
    "En cada operación puedes:\n",
    "\n",
    "Agregar números (o no)\n",
    "\n",
    "Eliminar números (o no)\n",
    "\n",
    "Verificar existencia\n",
    "\n",
    "Realizar operaciones con otros conjuntos\n",
    "\n",
    "Puedes ver el estado actual en cualquier momento\n",
    "\n",
    "Selecciona la opción 6 para salir cuando termines"
   ]
  },
  {
   "cell_type": "code",
   "execution_count": null,
   "id": "d73d1dae",
   "metadata": {},
   "outputs": [
    {
     "name": "stdout",
     "output_type": "stream",
     "text": [
      "=== PROGRAMA DE MANIPULACIÓN DE COLECCIONES ===\n",
      "\n",
      "Lista inicial creada: [1, 2, 3, 4, 5, 6, 7, 8, 9, 10]\n",
      "\n",
      "Tupla creada: (1, 2, 3, 4, 5, 6, 7, 8, 9, 10)\n",
      "\n",
      "Conjunto creado: {1, 2, 3, 4, 5, 6, 7, 8, 9, 10}\n",
      "\n",
      "Opciones disponibles:\n",
      "1. Agregar un número al conjunto\n",
      "2. Eliminar un número del conjunto\n",
      "3. Verificar si un número existe\n",
      "4. Operaciones con otro conjunto\n",
      "5. Mostrar todas las colecciones\n",
      "6. Salir\n",
      "Número 67 agregado. Conjunto actual: {1, 2, 3, 4, 5, 6, 7, 8, 9, 10, 67}\n",
      "\n",
      "Opciones disponibles:\n",
      "1. Agregar un número al conjunto\n",
      "2. Eliminar un número del conjunto\n",
      "3. Verificar si un número existe\n",
      "4. Operaciones con otro conjunto\n",
      "5. Mostrar todas las colecciones\n",
      "6. Salir\n",
      "Número 7 eliminado. Conjunto actual: {1, 2, 3, 4, 5, 6, 8, 9, 10, 67}\n",
      "\n",
      "Opciones disponibles:\n",
      "1. Agregar un número al conjunto\n",
      "2. Eliminar un número del conjunto\n",
      "3. Verificar si un número existe\n",
      "4. Operaciones con otro conjunto\n",
      "5. Mostrar todas las colecciones\n",
      "6. Salir\n"
     ]
    }
   ],
   "source": [
    "def main():\n",
    "    print(\"=== PROGRAMA DE MANIPULACIÓN DE COLECCIONES ===\")\n",
    "    \n",
    "    # 1. Crear lista inicial del 1 al 10\n",
    "    lista_numeros = list(range(1, 11))\n",
    "    print(f\"\\nLista inicial creada: {lista_numeros}\")\n",
    "    \n",
    "    # 2. Convertir a tupla\n",
    "    tupla_numeros = tuple(lista_numeros)\n",
    "    print(f\"\\nTupla creada: {tupla_numeros}\")\n",
    "    \n",
    "    # 3. Crear conjunto\n",
    "    conjunto_numeros = set(tupla_numeros)\n",
    "    print(f\"\\nConjunto creado: {conjunto_numeros}\")\n",
    "    \n",
    "    # Menú de opciones interactivo\n",
    "    while True:\n",
    "        print(\"\\nOpciones disponibles:\")\n",
    "        print(\"1. Agregar un número al conjunto\")\n",
    "        print(\"2. Eliminar un número del conjunto\")\n",
    "        print(\"3. Verificar si un número existe\")\n",
    "        print(\"4. Operaciones con otro conjunto\")\n",
    "        print(\"5. Mostrar todas las colecciones\")\n",
    "        print(\"6. Salir\")\n",
    "        \n",
    "        opcion = input(\"\\nSeleccione una opción (1-6): \")\n",
    "        \n",
    "        if opcion == \"1\":\n",
    "            # Agregar número al conjunto\n",
    "            try:\n",
    "                num = int(input(\"Ingrese el número a agregar: \"))\n",
    "                conjunto_numeros.add(num)\n",
    "                print(f\"Número {num} agregado. Conjunto actual: {conjunto_numeros}\")\n",
    "            except ValueError:\n",
    "                print(\"Error: Debe ingresar un número válido.\")\n",
    "                \n",
    "        elif opcion == \"2\":\n",
    "            # Eliminar número del conjunto\n",
    "            try:\n",
    "                num = int(input(\"Ingrese el número a eliminar: \"))\n",
    "                if num in conjunto_numeros:\n",
    "                    conjunto_numeros.discard(num)\n",
    "                    print(f\"Número {num} eliminado. Conjunto actual: {conjunto_numeros}\")\n",
    "                else:\n",
    "                    print(f\"El número {num} no existe en el conjunto.\")\n",
    "            except ValueError:\n",
    "                print(\"Error: Debe ingresar un número válido.\")\n",
    "                \n",
    "        elif opcion == \"3\":\n",
    "            # Verificar existencia\n",
    "            try:\n",
    "                num = int(input(\"Ingrese el número a verificar: \"))\n",
    "                existe = num in conjunto_numeros\n",
    "                print(f\"¿El número {num} existe en el conjunto? {'Sí' if existe else 'No'}\")\n",
    "            except ValueError:\n",
    "                print(\"Error: Debe ingresar un número válido.\")\n",
    "                \n",
    "        elif opcion == \"4\":\n",
    "            # Operaciones con otro conjunto\n",
    "            print(\"\\nIngrese los números para crear un nuevo conjunto (separados por espacios):\")\n",
    "            try:\n",
    "                numeros = input(\"Ejemplo: 5 10 15 20 >> \").split()\n",
    "                otro_conjunto = set(map(int, numeros))\n",
    "                \n",
    "                print(f\"\\nOperaciones con: {otro_conjunto}\")\n",
    "                print(f\"Unión: {conjunto_numeros | otro_conjunto}\")\n",
    "                print(f\"Intersección: {conjunto_numeros & otro_conjunto}\")\n",
    "                print(f\"Diferencia (original - nuevo): {conjunto_numeros - otro_conjunto}\")\n",
    "            except ValueError:\n",
    "                print(\"Error: Asegúrese de ingresar solo números separados por espacios.\")\n",
    "                \n",
    "        elif opcion == \"5\":\n",
    "            # Mostrar todas las colecciones\n",
    "            print(\"\\nColecciones actuales:\")\n",
    "            print(f\"Lista: {lista_numeros}\")\n",
    "            print(f\"Tupla: {tupla_numeros}\")\n",
    "            print(f\"Conjunto: {conjunto_numeros}\")\n",
    "            \n",
    "        elif opcion == \"6\":\n",
    "            # Salir\n",
    "            print(\"\\n¡Gracias por usar el programa!\")\n",
    "            break\n",
    "            \n",
    "        else:\n",
    "            print(\"Opción no válida. Por favor ingrese un número del 1 al 6.\")\n",
    "\n",
    "if __name__ == \"__main__\":\n",
    "    main()"
   ]
  },
  {
   "cell_type": "code",
   "execution_count": null,
   "id": "35c6d469",
   "metadata": {},
   "outputs": [],
   "source": []
  }
 ],
 "metadata": {
  "kernelspec": {
   "display_name": "Python 3",
   "language": "python",
   "name": "python3"
  },
  "language_info": {
   "codemirror_mode": {
    "name": "ipython",
    "version": 3
   },
   "file_extension": ".py",
   "mimetype": "text/x-python",
   "name": "python",
   "nbconvert_exporter": "python",
   "pygments_lexer": "ipython3",
   "version": "3.13.2"
  }
 },
 "nbformat": 4,
 "nbformat_minor": 5
}
