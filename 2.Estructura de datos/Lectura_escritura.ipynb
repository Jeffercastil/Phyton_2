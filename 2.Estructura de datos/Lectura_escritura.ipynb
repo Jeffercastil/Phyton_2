{
 "cells": [
  {
   "cell_type": "markdown",
   "metadata": {},
   "source": [
    "LECTURA Y ESCRITURA"
   ]
  }
 ],
 "metadata": {
  "language_info": {
   "name": "python"
  }
 },
 "nbformat": 4,
 "nbformat_minor": 2
}
