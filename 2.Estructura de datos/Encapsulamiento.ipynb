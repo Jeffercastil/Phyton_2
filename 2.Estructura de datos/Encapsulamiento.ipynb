{
 "cells": [
  {
   "cell_type": "markdown",
   "metadata": {},
   "source": [
    "Encapsulamento e abstracción\n",
    "Encapsulamento restriccion a objetos para no ser modificados, abstracción es la capacidad de definir un objeto de tal manera que se pueda utilizar sin conocer"
   ]
  },
  {
   "cell_type": "code",
   "execution_count": null,
   "metadata": {},
   "outputs": [],
   "source": [
    "class DataSet:\n",
    "        def __init__(self,data):\n",
    "# cuando se define con ._ es de uso interno, no modificables\n",
    "# conversion entre programadores para decir que es de uso restrigivo\n",
    "                self._data = data\n",
    "                self._tamaño = len(data)\n",
    "        \n",
    "        def media(self):\n",
    "                return sum( self.data) / self.tamaño\n",
    "        \n",
    "        def varianza(self):\n",
    "                mu = self.media()\n",
    "                return sum((x - mu)**2 for x in self.data) / self.tamaño\n",
    "        \n",
    "#metodo para obtener el data privado\n",
    "        def obtener_data(self):\n",
    "                return self._data.copy()"
   ]
  },
  {
   "cell_type": "code",
   "execution_count": 16,
   "metadata": {},
   "outputs": [],
   "source": [
    "datos = DataSet([4,3,7])"
   ]
  },
  {
   "cell_type": "code",
   "execution_count": 17,
   "metadata": {},
   "outputs": [
    {
     "data": {
      "text/plain": [
       "[4, 3, 7]"
      ]
     },
     "execution_count": 17,
     "metadata": {},
     "output_type": "execute_result"
    }
   ],
   "source": [
    "datos.obtener_data()"
   ]
  },
  {
   "cell_type": "code",
   "execution_count": 18,
   "metadata": {},
   "outputs": [
    {
     "name": "stdout",
     "output_type": "stream",
     "text": [
      "[4, 3, 7]\n"
     ]
    }
   ],
   "source": [
    "print(datos._data)"
   ]
  },
  {
   "cell_type": "code",
   "execution_count": null,
   "metadata": {},
   "outputs": [],
   "source": [
    "#abstracción ocultar lo complejo y mostrar lo simle al usuario\n",
    "#modulo abc\n",
    "from abc import ABC,abstractmethod\n",
    "\n",
    "\n",
    "class CalculadorEstadisticas(ABC):\n",
    "    def __init__(self,data):\n",
    "        self.data = data\n",
    "    \n",
    "    #metodo abstracto\n",
    "    @abstractmethod\n",
    "    def calcular (self):\n",
    "        pass"
   ]
  },
  {
   "cell_type": "code",
   "execution_count": 20,
   "metadata": {},
   "outputs": [],
   "source": [
    "#clase hija para instanciar la clase adstracta\n",
    "class CalcularMedia(CalculadorEstadisticas):\n",
    "    def calcular(self):\n",
    "        return sum(self.data) / len(self.data)"
   ]
  },
  {
   "cell_type": "code",
   "execution_count": null,
   "metadata": {},
   "outputs": [],
   "source": [
    "class CalcularVarianza:\n",
    "    def __init__(self,data):\n",
    "        self.data = data\n",
    "        #instancia de clase calculador media\n",
    "        self.calcular_media = CalcularMedia(data)\n",
    "\n",
    "    def calcular_varianza(self):\n",
    "        media = self.calcular_media.calcular()\n",
    "        return sum((x - media) ** 2 for x in self.data) / len(self.data)\n"
   ]
  },
  {
   "cell_type": "code",
   "execution_count": 24,
   "metadata": {},
   "outputs": [],
   "source": [
    "datos = CalcularVarianza([3,6,8])"
   ]
  },
  {
   "cell_type": "code",
   "execution_count": 27,
   "metadata": {},
   "outputs": [
    {
     "name": "stdout",
     "output_type": "stream",
     "text": [
      "4.222222222222222\n"
     ]
    }
   ],
   "source": [
    "print(datos.calcular_varianza())"
   ]
  },
  {
   "cell_type": "code",
   "execution_count": null,
   "metadata": {},
   "outputs": [],
   "source": [
    "\"\"\"Aquí tienes un ejemplo sencillo y práctico de encapsulación y abstracción en Python, aplicado a un escenario común para analistas de datos: procesamiento y limpieza de datos.\n",
    "Ejemplo: Limpieza de Datos con Encapsulación y Abstracción\n",
    "Imagina que necesitas limpiar y estandarizar una columna de fechas en un DataFrame. En lugar de escribir código repetitivo, encapsulamos la lógica en una clase y ocultamos los detalles complejos (abstracción).\n",
    "\n",
    "\"\"\""
   ]
  },
  {
   "cell_type": "code",
   "execution_count": 28,
   "metadata": {},
   "outputs": [
    {
     "name": "stdout",
     "output_type": "stream",
     "text": [
      "El promedio de ventas es: 18399.00\n"
     ]
    }
   ],
   "source": [
    "class AnalizadorVentas:\n",
    "    def __init__(self):\n",
    "        self._ventas = []\n",
    "\n",
    "    def agregar_venta(self, monto):\n",
    "        \"\"\"Abstracción: solo usas esta función para agregar datos.\"\"\"\n",
    "        self._ventas.append(monto)\n",
    "\n",
    "    def calcular_promedio(self):\n",
    "        \"\"\"Abstracción: el usuario no ve las operaciones internas\"\"\"\n",
    "        if not self._ventas:\n",
    "            return 0\n",
    "        return sum(self._ventas) / len(self._ventas)  # Corregido: self._ventas en lugar de self.ventas\n",
    "\n",
    "# Uso para el analista\n",
    "analizador = AnalizadorVentas()  # Corregido: minúscula para seguir convenciones\n",
    "\n",
    "# Ingreso de datos\n",
    "ventas_diarias = []  # Corregido: lista en lugar de diccionario\n",
    "n_ventas = int(input(\"¿Cuántos valores deseas ingresar?: \"))  # Corregido: minúsculas y mensaje más claro\n",
    "\n",
    "for i in range(n_ventas):\n",
    "    diario = int(input(f\"Ingrese el valor {i+1}: \"))  # Corregido: minúsculas y mensaje más informativo\n",
    "    ventas_diarias.append(diario)\n",
    "\n",
    "for venta in ventas_diarias:\n",
    "    analizador.agregar_venta(venta)\n",
    "\n",
    "# Obtenemos el promedio\n",
    "print(f\"El promedio de ventas es: {analizador.calcular_promedio():.2f}\")"
   ]
  },
  {
   "cell_type": "code",
   "execution_count": null,
   "metadata": {},
   "outputs": [],
   "source": []
  },
  {
   "cell_type": "code",
   "execution_count": null,
   "metadata": {},
   "outputs": [],
   "source": []
  },
  {
   "cell_type": "code",
   "execution_count": null,
   "metadata": {},
   "outputs": [],
   "source": []
  },
  {
   "cell_type": "code",
   "execution_count": null,
   "metadata": {},
   "outputs": [],
   "source": []
  },
  {
   "cell_type": "code",
   "execution_count": null,
   "metadata": {},
   "outputs": [],
   "source": []
  },
  {
   "cell_type": "code",
   "execution_count": null,
   "metadata": {},
   "outputs": [],
   "source": []
  },
  {
   "cell_type": "code",
   "execution_count": null,
   "metadata": {},
   "outputs": [],
   "source": []
  },
  {
   "cell_type": "code",
   "execution_count": null,
   "metadata": {},
   "outputs": [],
   "source": []
  },
  {
   "cell_type": "code",
   "execution_count": null,
   "metadata": {},
   "outputs": [],
   "source": []
  }
 ],
 "metadata": {
  "kernelspec": {
   "display_name": "Python 3",
   "language": "python",
   "name": "python3"
  },
  "language_info": {
   "codemirror_mode": {
    "name": "ipython",
    "version": 3
   },
   "file_extension": ".py",
   "mimetype": "text/x-python",
   "name": "python",
   "nbconvert_exporter": "python",
   "pygments_lexer": "ipython3",
   "version": "3.13.2"
  }
 },
 "nbformat": 4,
 "nbformat_minor": 2
}
