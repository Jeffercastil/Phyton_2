{
 "cells": [
  {
   "cell_type": "markdown",
   "metadata": {},
   "source": [
    "DEFINICION Y CREACIÓN DE CLASES"
   ]
  },
  {
   "cell_type": "code",
   "execution_count": null,
   "metadata": {},
   "outputs": [],
   "source": [
    "class DataSet:\n",
    "    tipo_dato=\"numerico\"\n",
    "    def __init__(self,data):\n",
    "        self.data = data\n",
    "\n",
    "    def media(self):\n",
    "        \"Devuelve la media de los datos\" \n",
    "        return sum(self.data) / len(self.data)\n",
    "    \n",
    "    def mediana(self):\n",
    "        \"Devuelve la mediana de los datos\"\n",
    "        \"Se ordena los datos con sorted, luego n = len(sorted_data) se toma la longitud de la lista ordenada\"\n",
    "        sorted_data = sorted(self.data)\n",
    "        \"La longitud se guarda en n y se calcula el midpoint posicion central, puede ser otro nombre\"\n",
    "        n = len(sorted_data)\n",
    "        \" la // es una división entera\"\n",
    "        midpoint = n // 2\n",
    "        if n % 2 == 0:\n",
    "            \"si es par el valor devuelve ejemplo\"\n",
    "            \"{2,5,3,1,4} busca el valor central , en este caso 3 , longitud de datos impar\"\n",
    "            \"si es par {1,4,3,2} seria 2 y 3 , tomar un dato sumarlos, y divirlos entre dos \"\n",
    "            return (sorted_data[midpoint - 1] + sorted_data[midpoint]) / 2\n",
    "        else:\n",
    "            return sorted_data[midpoint]\n"
   ]
  },
  {
   "cell_type": "code",
   "execution_count": 2,
   "metadata": {},
   "outputs": [
    {
     "name": "stdout",
     "output_type": "stream",
     "text": [
      " === ingresa los datos de ventas \n",
      "Total de ventas: $906479\n",
      "Promedio de ventas: $453239.50\n",
      " Mes con mayor ventas: Enero ($564234)\n",
      " Mes con menor ventas: Abril ($342245)\n",
      "Meses con ventas superiores al promedio\n",
      " Enero ($564234)\n"
     ]
    }
   ],
   "source": [
    "def ingresar_ventas():\n",
    "    ventas = {}\n",
    "    num_meses = int(input (\"¿Cuantos meses deseas analizar? \"))\n",
    "\n",
    "    for i in range (num_meses):\n",
    "        mes = input(f\"Nombre del mes {i+1}: \").capitalize()\n",
    "        monto = int (input(f\" Ventas de {mes}: $ \"))\n",
    "        ventas[mes] = monto\n",
    "    return ventas\n",
    "\n",
    "#Llamar la función para ingresar datos\n",
    "print(\" === ingresa los datos de ventas \")\n",
    "ventas = ingresar_ventas()\n",
    "\n",
    "if ventas:\n",
    "    total_ventas = sum(ventas.values())\n",
    "    print(f\"Total de ventas: ${total_ventas}\")\n",
    "\n",
    "    promedio =total_ventas / len(ventas)\n",
    "    print(f\"Promedio de ventas: ${promedio:.2f}\")\n",
    "\n",
    "    mes_mayor = max(ventas, key=ventas.get)\n",
    "    mes_menor = min(ventas, key=ventas.get)\n",
    "\n",
    "    print(f\" Mes con mayor ventas: {mes_mayor} (${ventas[mes_mayor]})\")\n",
    "    print(f\" Mes con menor ventas: {mes_menor} (${ventas[mes_menor]})\")\n",
    "\n",
    "    print(f\"Meses con ventas superiores al promedio\")\n",
    "    for mes, monto in ventas.items():\n",
    "        if monto > promedio:\n",
    "            print(f\" {mes} (${monto})\")\n",
    "else:\n",
    "    print(\"No hay ventas registradas\")"
   ]
  },
  {
   "cell_type": "code",
   "execution_count": null,
   "metadata": {},
   "outputs": [],
   "source": []
  }
 ],
 "metadata": {
  "kernelspec": {
   "display_name": "Python 3",
   "language": "python",
   "name": "python3"
  },
  "language_info": {
   "codemirror_mode": {
    "name": "ipython",
    "version": 3
   },
   "file_extension": ".py",
   "mimetype": "text/x-python",
   "name": "python",
   "nbconvert_exporter": "python",
   "pygments_lexer": "ipython3",
   "version": "3.13.2"
  }
 },
 "nbformat": 4,
 "nbformat_minor": 2
}
