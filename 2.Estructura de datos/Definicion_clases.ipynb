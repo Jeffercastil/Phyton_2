{
 "cells": [
  {
   "cell_type": "markdown",
   "metadata": {},
   "source": [
    "DEFINICION Y CREACIÓN DE CLASES"
   ]
  },
  {
   "cell_type": "code",
   "execution_count": null,
   "metadata": {},
   "outputs": [],
   "source": [
    "class DataSet:\n",
    "    tipo_dato=\"numerico\"\n",
    "    def __init__(self,data):\n",
    "        self.data = data\n",
    "\n",
    "    def media(self):\n",
    "        \"Devuelve la media de los datos\" \n",
    "        return sum(self.data) / len(self.data)\n",
    "    \n",
    "    def mediana(self):\n",
    "        \"Devuelve la mediana de los datos\"\n",
    "        \"Se ordena los datos con sorted, luego n = len(sorted_data) se toma la longitud de la lista ordenada\"\n",
    "        sorted_data = sorted(self.data)\n",
    "        \"La longitud se guarda en n y se calcula el midpoint posicion central, puede ser otro nombre\"\n",
    "        n = len(sorted_data)\n",
    "        \" la // es una división entera\"\n",
    "        midpoint = n // 2\n",
    "        if n % 2 == 0:\n",
    "            \"si es par el valor devuelve ejemplo\"\n",
    "            \"{2,5,3,1,4} busca el valor central , en este caso 3 , longitud de datos impar\"\n",
    "            \"si es par {1,4,3,2} seria 2 y 3 , tomar un dato sumarlos, y divirlos entre dos \"\n",
    "            return (sorted_data[midpoint - 1] + sorted_data[midpoint]) / 2\n",
    "        else:\n",
    "            return sorted_data[midpoint]\n"
   ]
  },
  {
   "cell_type": "code",
   "execution_count": null,
   "metadata": {},
   "outputs": [],
   "source": []
  }
 ],
 "metadata": {
  "kernelspec": {
   "display_name": "Python 3",
   "language": "python",
   "name": "python3"
  },
  "language_info": {
   "codemirror_mode": {
    "name": "ipython",
    "version": 3
   },
   "file_extension": ".py",
   "mimetype": "text/x-python",
   "name": "python",
   "nbconvert_exporter": "python",
   "pygments_lexer": "ipython3",
   "version": "3.13.2"
  }
 },
 "nbformat": 4,
 "nbformat_minor": 2
}
