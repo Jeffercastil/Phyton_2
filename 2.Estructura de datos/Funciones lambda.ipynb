{
 "cells": [
  {
   "cell_type": "markdown",
   "metadata": {},
   "source": [
    "Lambda = funciones de orden superior , toman argumentos y toman funciones como resultados, math, filter, sorted\n",
    "sea mas dificil de leer, operaciones simples y claras, no utilizarla si complica el codigo\n"
   ]
  },
  {
   "cell_type": "code",
   "execution_count": null,
   "metadata": {},
   "outputs": [],
   "source": [
    "suma = lambda a,b: a+b # suma se esta almacenando, no se esta definiendo."
   ]
  },
  {
   "cell_type": "code",
   "execution_count": 2,
   "metadata": {},
   "outputs": [
    {
     "name": "stdout",
     "output_type": "stream",
     "text": [
      "11\n"
     ]
    }
   ],
   "source": [
    "print(suma(5,6))"
   ]
  },
  {
   "cell_type": "code",
   "execution_count": null,
   "metadata": {},
   "outputs": [
    {
     "name": "stdout",
     "output_type": "stream",
     "text": [
      "[1, 4, 9, 16, 25]\n"
     ]
    }
   ],
   "source": [
    "#map\n",
    "numeros ={1,2,3,4,5}\n",
    "cuadrados = list(map(lambda x: x**2,numeros))\n",
    "print(cuadrados)\n",
    "#lambda, recibe un argumento, y devuelve al cuadrado, map recibe una funcion y recibe una lista, se encarga de aplicar la funcion a la lista. a cada elemento, y tome 1, 2 y muestra 4, y asi."
   ]
  },
  {
   "cell_type": "code",
   "execution_count": 6,
   "metadata": {},
   "outputs": [
    {
     "name": "stdout",
     "output_type": "stream",
     "text": [
      "[2, 4, 6, 8, 10, 12]\n"
     ]
    }
   ],
   "source": [
    "#filter\n",
    "numeros ={1,2,3,4,5,6,7,8,9,10,11,12,13}\n",
    "pares=(list(filter(lambda x: x % 2 == 0, numeros))) # [2, 4]\n",
    "print(pares)"
   ]
  },
  {
   "cell_type": "code",
   "execution_count": null,
   "metadata": {},
   "outputs": [
    {
     "name": "stdout",
     "output_type": "stream",
     "text": [
      "['kiwi', 'fresa', 'cereza', 'banana', 'mandarina']\n"
     ]
    }
   ],
   "source": [
    "#Sorted este ejemplo ordena las palabras por su tamaño\n",
    "frutas ={'banana','cereza','fresa','mandarina','kiwi'}\n",
    "frutas_ordenadas =sorted(frutas, key=lambda frutas:len(frutas))\n",
    "print(frutas_ordenadas)"
   ]
  },
  {
   "cell_type": "code",
   "execution_count": null,
   "metadata": {},
   "outputs": [],
   "source": []
  },
  {
   "cell_type": "code",
   "execution_count": null,
   "metadata": {},
   "outputs": [],
   "source": []
  },
  {
   "cell_type": "code",
   "execution_count": null,
   "metadata": {},
   "outputs": [],
   "source": []
  }
 ],
 "metadata": {
  "kernelspec": {
   "display_name": "Python 3",
   "language": "python",
   "name": "python3"
  },
  "language_info": {
   "codemirror_mode": {
    "name": "ipython",
    "version": 3
   },
   "file_extension": ".py",
   "mimetype": "text/x-python",
   "name": "python",
   "nbconvert_exporter": "python",
   "pygments_lexer": "ipython3",
   "version": "3.13.2"
  }
 },
 "nbformat": 4,
 "nbformat_minor": 2
}
