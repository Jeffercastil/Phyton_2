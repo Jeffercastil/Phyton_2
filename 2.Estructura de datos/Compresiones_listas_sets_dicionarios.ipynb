{
 "cells": [
  {
   "cell_type": "markdown",
   "id": "fc0041c0",
   "metadata": {},
   "source": [
    "Analogía para entender mejor\n",
    "Piensa en las compresiones como una \"fórmula\" compacta que:\n",
    "\n",
    "Toma una secuencia de entrada (lista, rango, etc.)\n",
    "\n",
    "Aplica una transformación a cada elemento (opcional)\n",
    "\n",
    "Filtra elementos según una condición (opcional)\n",
    "\n",
    "Produce una nueva estructura de datos\n",
    "\n",
    "Es similar a cómo en Excel puedes escribir una fórmula que se aplica a un rango de celdas."
   ]
  },
  {
   "cell_type": "code",
   "execution_count": null,
   "id": "46bff818",
   "metadata": {},
   "outputs": [
    {
     "name": "stdout",
     "output_type": "stream",
     "text": [
      "[0, 4, 16, 36, 64]\n"
     ]
    }
   ],
   "source": [
    "#Compresiones en Python para Analistas de Datos\n",
    "#Las compresiones son una forma concisa y eficiente de crear listas, sets y diccionarios en Python. Son muy útiles para transformar y filtrar datos. Veamos ejemplos sencillos para cada caso:\n",
    "#compresion solo sirve en listas, dicionarios y sets no tuplas\n",
    "# la compresión es para hacer las cosas mas claras permite expresar la información de manera mas concisa, eficientes y legibles\n",
    "#Lista por compresion, debido que primero realiza un proceso y luego toma los pares del mismo\n",
    "cuadrados = [x **2 for x in range(10) if x % 2 == 0]\n",
    "print(cuadrados)"
   ]
  },
  {
   "cell_type": "code",
   "execution_count": null,
   "id": "a96e236a",
   "metadata": {},
   "outputs": [
    {
     "name": "stdout",
     "output_type": "stream",
     "text": [
      "{0, 1, 64, 4, 36, 9, 16, 49, 81, 25}\n"
     ]
    }
   ],
   "source": [
    "#Compresion en sets {nueva_expresion for elemento in iterable if condicion} con este simbolo {}\n",
    "cuadrados_set = {x **2 for x in range(10)}\n",
    "print(cuadrados_set)\n",
    "#resultado no esta ordenado\n"
   ]
  },
  {
   "cell_type": "code",
   "execution_count": 4,
   "id": "5c1e8237",
   "metadata": {},
   "outputs": [
    {
     "name": "stdout",
     "output_type": "stream",
     "text": [
      "{1: 1, 2: 4, 3: 9, 4: 16}\n"
     ]
    }
   ],
   "source": [
    "#Compresion en dicionarios {clave: valor for elemento in iterable if condicion} \n",
    "cuadrados_dict = {x:x**2 for x in range(1,5)}\n",
    "print(cuadrados_dict) \n"
   ]
  },
  {
   "cell_type": "code",
   "execution_count": 5,
   "id": "a56eea91",
   "metadata": {},
   "outputs": [
    {
     "name": "stdout",
     "output_type": "stream",
     "text": [
      "[0, 1, 4, 9, 16, 25, 36, 49, 64, 81]\n"
     ]
    }
   ],
   "source": [
    "lista = []\n",
    "for x in range(10):\n",
    "    lista.append(x**2)\n",
    "print(lista)"
   ]
  },
  {
   "cell_type": "code",
   "execution_count": null,
   "id": "72925ccf",
   "metadata": {},
   "outputs": [
    {
     "name": "stdout",
     "output_type": "stream",
     "text": [
      "(0, 1, 4, 9, 16, 25, 36, 49, 64, 81)\n"
     ]
    }
   ],
   "source": [
    "#no es adecuado trabajar con tuplas\n",
    "cuadrados_tupla = tuple( x ** 2 for x in range (10))\n",
    "print (cuadrados_tupla)"
   ]
  },
  {
   "cell_type": "code",
   "execution_count": null,
   "id": "6fa33ad1",
   "metadata": {},
   "outputs": [],
   "source": [
    "\"\"\"1. Compresión de Listas (List Comprehension)\n",
    "Ejemplo básico: Crear una lista con los cuadrados de los números del 1 al 5.\n",
    "\n",
    "Forma tradicional:\"\"\"\n",
    "cuadrados = []\n",
    "for num in [1, 2, 3, 4, 5]:\n",
    "    cuadrados.append(num ** 2)"
   ]
  },
  {
   "cell_type": "code",
   "execution_count": null,
   "id": "d48862e4",
   "metadata": {},
   "outputs": [],
   "source": [
    "cuadrados = [num ** 2 for num in [1, 2, 3, 4, 5]]\n",
    "# Resultado: [1, 4, 9, 16, 25]"
   ]
  },
  {
   "cell_type": "code",
   "execution_count": null,
   "id": "820470db",
   "metadata": {},
   "outputs": [],
   "source": [
    "cuadrados_pares = [num ** 2 for num in [1, 2, 3, 4, 5, 6] if num % 2 == 0]\n",
    "# Resultado: [4, 16, 36]"
   ]
  },
  {
   "cell_type": "code",
   "execution_count": null,
   "id": "f120d024",
   "metadata": {},
   "outputs": [],
   "source": [
    "\"\"\"2. Compresión de Sets (Set Comprehension)\n",
    "Similar a las listas, pero crea un conjunto (sin elementos duplicados).\n",
    "\n",
    "Ejemplo: Crear un set con las primeras letras de varias palabras\"\"\"\n",
    "palabras = [\"analisis\", \"datos\", \"algoritmo\", \"base\", \"datos\"]\n",
    "primeras_letras = {palabra[0] for palabra in palabras}\n",
    "# Resultado: {'a', 'd', 'b'} (nota que 'd' aparece solo una vez)"
   ]
  },
  {
   "cell_type": "code",
   "execution_count": null,
   "id": "23e34bb0",
   "metadata": {},
   "outputs": [],
   "source": [
    "\"\"\"3. Compresión de Diccionarios (Dict Comprehension)\n",
    "Ejemplo: Crear un diccionario que asocie números con sus cuadrados\"\"\"\n",
    "numeros = [1, 2, 3, 4]\n",
    "cuadrados_dict = {num: num ** 2 for num in numeros}\n",
    "# Resultado: {1: 1, 2: 4, 3: 9, 4: 16}"
   ]
  },
  {
   "cell_type": "code",
   "execution_count": null,
   "id": "3d3657cc",
   "metadata": {},
   "outputs": [],
   "source": [
    "datos = [(\"edad\", 30), (\"ingresos\", 50000), (\"gastos\", 30000)]\n",
    "datos_dict = {clave: valor for (clave, valor) in datos}\n",
    "# Resultado: {'edad': 30, 'ingresos': 50000, 'gastos': 30000}"
   ]
  }
 ],
 "metadata": {
  "kernelspec": {
   "display_name": "Python 3",
   "language": "python",
   "name": "python3"
  },
  "language_info": {
   "codemirror_mode": {
    "name": "ipython",
    "version": 3
   },
   "file_extension": ".py",
   "mimetype": "text/x-python",
   "name": "python",
   "nbconvert_exporter": "python",
   "pygments_lexer": "ipython3",
   "version": "3.13.2"
  }
 },
 "nbformat": 4,
 "nbformat_minor": 5
}
