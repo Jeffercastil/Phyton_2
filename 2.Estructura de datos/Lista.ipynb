{
 "cells": [
  {
   "cell_type": "markdown",
   "metadata": {},
   "source": [
    "LISTA: ALMACENA UNA COLECIÓN DE ELEMENTOS, ESTOS SE PUEDEN REPETIR , MUTABLES Y MODIFICAR"
   ]
  },
  {
   "cell_type": "code",
   "execution_count": null,
   "metadata": {},
   "outputs": [],
   "source": [
    "L1 = [1,2,3,4]\n",
    "\n",
    "frutas = [\"Manzana\",  \"Naranja\", \"Fresa\"]"
   ]
  },
  {
   "cell_type": "code",
   "execution_count": null,
   "metadata": {},
   "outputs": [],
   "source": [
    "#imprimir siempre se debe utilizar y el elemento que se desea conocer, INICIA EN 0 \n",
    "print (frutas[2])"
   ]
  },
  {
   "cell_type": "code",
   "execution_count": null,
   "metadata": {},
   "outputs": [],
   "source": [
    "#modificar un elemento\n",
    "frutas[1]=\"mandarina\""
   ]
  },
  {
   "cell_type": "code",
   "execution_count": null,
   "metadata": {},
   "outputs": [],
   "source": [
    "print (frutas)"
   ]
  },
  {
   "cell_type": "code",
   "execution_count": null,
   "metadata": {},
   "outputs": [],
   "source": [
    "#Agrega un elemento al final de la lista\n",
    "frutas.append(\"banano\")\n"
   ]
  },
  {
   "cell_type": "code",
   "execution_count": null,
   "metadata": {},
   "outputs": [],
   "source": [
    "print(frutas)"
   ]
  },
  {
   "cell_type": "code",
   "execution_count": null,
   "metadata": {},
   "outputs": [],
   "source": [
    "#modificar el orden de los valores que ingresan a la lista\n",
    "frutas.insert(1,\"kiwi\")"
   ]
  },
  {
   "cell_type": "code",
   "execution_count": null,
   "metadata": {},
   "outputs": [],
   "source": [
    "#Eliminar un valor especifico\n",
    "frutas.remove(\"kiwi\")"
   ]
  },
  {
   "cell_type": "code",
   "execution_count": null,
   "metadata": {},
   "outputs": [],
   "source": [
    "#Se elimina la posicion de la lista\n",
    "del frutas [1]"
   ]
  },
  {
   "cell_type": "code",
   "execution_count": null,
   "metadata": {},
   "outputs": [],
   "source": [
    "#Quitar el elemento del final / pop elimina un elemento y devuelve un resultado lo guarda\n",
    "ultimo = frutas.pop()"
   ]
  },
  {
   "cell_type": "code",
   "execution_count": null,
   "metadata": {},
   "outputs": [],
   "source": [
    "print(ultimo)"
   ]
  },
  {
   "cell_type": "code",
   "execution_count": null,
   "metadata": {},
   "outputs": [],
   "source": [
    "#Longitud de frutas\n",
    "len(frutas)"
   ]
  },
  {
   "cell_type": "code",
   "execution_count": null,
   "metadata": {},
   "outputs": [],
   "source": [
    "#recorrer una lista\n",
    "for fruta in frutas:\n",
    "    print (fruta)"
   ]
  },
  {
   "cell_type": "code",
   "execution_count": null,
   "metadata": {},
   "outputs": [],
   "source": [
    "palabra =\"Hola\""
   ]
  },
  {
   "cell_type": "code",
   "execution_count": null,
   "metadata": {},
   "outputs": [],
   "source": [
    "print (palabra)"
   ]
  },
  {
   "cell_type": "code",
   "execution_count": null,
   "metadata": {},
   "outputs": [],
   "source": [
    "#convierte cada caracter de la palabra lo guarda en una posicion de una lista\n",
    "Caracteres = list(palabra)"
   ]
  },
  {
   "cell_type": "code",
   "execution_count": null,
   "metadata": {},
   "outputs": [],
   "source": [
    "print(Caracteres)"
   ]
  },
  {
   "cell_type": "code",
   "execution_count": null,
   "metadata": {},
   "outputs": [],
   "source": [
    "meses = []\n",
    "for i in range(12):\n",
    "    mes = input(f\"Ingrese los meses:{i + 1} \")\n",
    "    meses.append(mes)\n",
    "print(\" los meses ingresados son : \",meses)\n"
   ]
  },
  {
   "cell_type": "code",
   "execution_count": null,
   "metadata": {},
   "outputs": [],
   "source": [
    "meses.remove('enero')"
   ]
  },
  {
   "cell_type": "code",
   "execution_count": null,
   "metadata": {},
   "outputs": [],
   "source": [
    "print(meses)"
   ]
  },
  {
   "cell_type": "code",
   "execution_count": null,
   "metadata": {},
   "outputs": [],
   "source": [
    "meses[1]='Febrero'"
   ]
  },
  {
   "cell_type": "code",
   "execution_count": null,
   "metadata": {},
   "outputs": [],
   "source": [
    "meses.remove('febrero')"
   ]
  },
  {
   "cell_type": "code",
   "execution_count": null,
   "metadata": {},
   "outputs": [],
   "source": [
    "nombres=[]\n",
    "for i in range(5):\n",
    "    nombre=input(f\"ingresa un nombre: {i + 1}\")\n",
    "    nombres.append(nombre)\n",
    "print(\"Los nombres ingresado: \", nombres)"
   ]
  },
  {
   "cell_type": "code",
   "execution_count": null,
   "metadata": {},
   "outputs": [],
   "source": [
    "print(nombres[4])"
   ]
  },
  {
   "cell_type": "code",
   "execution_count": 1,
   "metadata": {},
   "outputs": [
    {
     "name": "stdout",
     "output_type": "stream",
     "text": [
      " Colores ingresados: ['amarillo', 'naranja', 'azul']\n"
     ]
    }
   ],
   "source": [
    "colores = []\n",
    "for i in range (3):\n",
    "    color = input(f\"Ingrese los colores: {i +1}\")\n",
    "    colores.append(color)\n",
    "print (f\" Colores ingresados: {colores}\")"
   ]
  },
  {
   "cell_type": "code",
   "execution_count": 5,
   "metadata": {},
   "outputs": [
    {
     "name": "stdout",
     "output_type": "stream",
     "text": [
      " Los numeros ingresados son: [3, 8, 5, 12, 10]\n",
      "El numero 8 es par\n",
      "El numero 12 es par\n",
      "El numero 10 es par\n",
      " El numero 10 impar \n"
     ]
    }
   ],
   "source": [
    "numeros=[]\n",
    "for i in range(5):\n",
    "    numero = int (input (f\" Ingrese cualquier numero: {i + 1} \"))\n",
    "    numeros.append(numero)\n",
    "print(f\" Los numeros ingresados son: {numeros}\")\n",
    "\n",
    "for numero in numeros:\n",
    "    if numero % 2 == 0:\n",
    "        print(f\"El numero {numero} es par\")\n",
    "else:\n",
    "        print(f\" El numero {numero} impar \")    "
   ]
  },
  {
   "cell_type": "code",
   "execution_count": 6,
   "metadata": {},
   "outputs": [
    {
     "name": "stdout",
     "output_type": "stream",
     "text": [
      "Los numero ingresados son: [2, 5, 8, 12, 1, 7] \n",
      " El numero 2 es par\n",
      " El numero 5 es impar\n",
      " El numero 8 es par\n",
      " El numero 12 es par\n",
      " El numero 1 es impar\n",
      " El numero 7 es impar\n"
     ]
    }
   ],
   "source": [
    "numeros=[]\n",
    "for i in range(6):\n",
    "        num= int(input(f\" Ingrese los numeros: {i + 1}\"))\n",
    "        numeros.append(num)\n",
    "print(f\"Los numero ingresados son: {numeros} \")\n",
    "\n",
    "for num in numeros:\n",
    "        if num % 2 == 0:\n",
    "                print(f\" El numero {num} es par\")\n",
    "        else:\n",
    "                print(f\" El numero {num} es impar\")"
   ]
  },
  {
   "cell_type": "code",
   "execution_count": 8,
   "metadata": {},
   "outputs": [
    {
     "name": "stdout",
     "output_type": "stream",
     "text": [
      " la palabras que ingresaste fue: pedro\n",
      "la palabra  pedro tiene 5  letras \n",
      " la palabras que ingresaste fue: francisco\n",
      "la palabra  pedro tiene 5  letras \n",
      "la palabra  francisco tiene 9  letras \n",
      " la palabras que ingresaste fue: raul\n",
      "la palabra  pedro tiene 5  letras \n",
      "la palabra  francisco tiene 9  letras \n",
      "la palabra  raul tiene 4  letras \n",
      " la palabras que ingresaste fue: luci\n",
      "la palabra  pedro tiene 5  letras \n",
      "la palabra  francisco tiene 9  letras \n",
      "la palabra  raul tiene 4  letras \n",
      "la palabra  luci tiene 4  letras \n",
      " la palabras que ingresaste fue: andres\n",
      "la palabra  pedro tiene 5  letras \n",
      "la palabra  francisco tiene 9  letras \n",
      "la palabra  raul tiene 4  letras \n",
      "la palabra  luci tiene 4  letras \n",
      "la palabra  andres tiene 6  letras \n",
      " la palabras que ingresaste fue: pedro\n",
      "la palabra  pedro tiene 5  letras \n",
      "la palabra  francisco tiene 9  letras \n",
      "la palabra  raul tiene 4  letras \n",
      "la palabra  luci tiene 4  letras \n",
      "la palabra  andres tiene 6  letras \n",
      "la palabra  pedro tiene 5  letras \n",
      " la palabras que ingresaste fue: jefferson\n",
      "la palabra  pedro tiene 5  letras \n",
      "la palabra  francisco tiene 9  letras \n",
      "la palabra  raul tiene 4  letras \n",
      "la palabra  luci tiene 4  letras \n",
      "la palabra  andres tiene 6  letras \n",
      "la palabra  pedro tiene 5  letras \n",
      "la palabra  jefferson tiene 9  letras \n",
      " la palabras que ingresaste fue: ornaldo\n",
      "la palabra  pedro tiene 5  letras \n",
      "la palabra  francisco tiene 9  letras \n",
      "la palabra  raul tiene 4  letras \n",
      "la palabra  luci tiene 4  letras \n",
      "la palabra  andres tiene 6  letras \n",
      "la palabra  pedro tiene 5  letras \n",
      "la palabra  jefferson tiene 9  letras \n",
      "la palabra  ornaldo tiene 7  letras \n"
     ]
    }
   ],
   "source": [
    "palabras = []\n",
    "for i in range(8):\n",
    "    palabra = input(f\"Ingresa la palabra: {i + 1}\")\n",
    "    palabras.append(palabra)\n",
    "    print(f\" la palabras que ingresaste fue: {palabra}\")\n",
    "\n",
    "    for palabra in palabras:\n",
    "        print (f\"la palabra  {palabra} tiene {len(palabra)}  letras \" )"
   ]
  },
  {
   "cell_type": "code",
   "execution_count": null,
   "metadata": {},
   "outputs": [
    {
     "name": "stdout",
     "output_type": "stream",
     "text": [
      "los valores ingresados son: [4, 4, 3, 2, 4]\n"
     ]
    }
   ],
   "source": [
    "numeros=[]\n",
    "for i in range(5):\n",
    "    num=int (input (f\" Ingrese el numero: {i + 1} \"))\n",
    "    numeros.append(num)\n",
    "\n",
    "print(f\"los valores ingresados son: {numeros}\")\n",
    "\n",
    "for num in numeros:\n",
    "    if num % 2 == 0:\n",
    "        print(f\"EL valor {num} es par\")\n",
    "    else:\n",
    "        print(f\"el valor es {num} impar\")"
   ]
  },
  {
   "cell_type": "code",
   "execution_count": null,
   "metadata": {},
   "outputs": [],
   "source": []
  },
  {
   "cell_type": "code",
   "execution_count": null,
   "metadata": {},
   "outputs": [],
   "source": []
  },
  {
   "cell_type": "code",
   "execution_count": null,
   "metadata": {},
   "outputs": [],
   "source": []
  },
  {
   "cell_type": "code",
   "execution_count": null,
   "metadata": {},
   "outputs": [],
   "source": []
  },
  {
   "cell_type": "code",
   "execution_count": null,
   "metadata": {},
   "outputs": [],
   "source": []
  },
  {
   "cell_type": "code",
   "execution_count": null,
   "metadata": {},
   "outputs": [],
   "source": []
  },
  {
   "cell_type": "code",
   "execution_count": null,
   "metadata": {},
   "outputs": [],
   "source": []
  },
  {
   "cell_type": "code",
   "execution_count": null,
   "metadata": {},
   "outputs": [],
   "source": []
  },
  {
   "cell_type": "code",
   "execution_count": null,
   "metadata": {},
   "outputs": [],
   "source": []
  },
  {
   "cell_type": "code",
   "execution_count": null,
   "metadata": {},
   "outputs": [],
   "source": []
  },
  {
   "cell_type": "code",
   "execution_count": null,
   "metadata": {},
   "outputs": [],
   "source": []
  },
  {
   "cell_type": "code",
   "execution_count": null,
   "metadata": {},
   "outputs": [],
   "source": []
  },
  {
   "cell_type": "code",
   "execution_count": null,
   "metadata": {},
   "outputs": [],
   "source": [
    "meses.insert(0,'Enero')"
   ]
  },
  {
   "cell_type": "code",
   "execution_count": null,
   "metadata": {},
   "outputs": [],
   "source": []
  },
  {
   "cell_type": "code",
   "execution_count": null,
   "metadata": {},
   "outputs": [],
   "source": []
  },
  {
   "cell_type": "code",
   "execution_count": null,
   "metadata": {},
   "outputs": [],
   "source": [
    "print"
   ]
  },
  {
   "cell_type": "code",
   "execution_count": null,
   "metadata": {},
   "outputs": [],
   "source": []
  },
  {
   "cell_type": "code",
   "execution_count": null,
   "metadata": {},
   "outputs": [],
   "source": []
  },
  {
   "cell_type": "code",
   "execution_count": null,
   "metadata": {},
   "outputs": [],
   "source": []
  },
  {
   "cell_type": "code",
   "execution_count": null,
   "metadata": {},
   "outputs": [],
   "source": []
  },
  {
   "cell_type": "code",
   "execution_count": null,
   "metadata": {},
   "outputs": [],
   "source": []
  }
 ],
 "metadata": {
  "kernelspec": {
   "display_name": "Python 3",
   "language": "python",
   "name": "python3"
  },
  "language_info": {
   "codemirror_mode": {
    "name": "ipython",
    "version": 3
   },
   "file_extension": ".py",
   "mimetype": "text/x-python",
   "name": "python",
   "nbconvert_exporter": "python",
   "pygments_lexer": "ipython3",
   "version": "3.13.2"
  }
 },
 "nbformat": 4,
 "nbformat_minor": 2
}
