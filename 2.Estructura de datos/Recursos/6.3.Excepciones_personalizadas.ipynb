{
 "cells": [
  {
   "cell_type": "code",
   "execution_count": 1,
   "id": "00211f4f-edef-4d6d-bed8-0e9e616b4702",
   "metadata": {},
   "outputs": [],
   "source": [
    "class MiError(Exception):\n",
    "    \"\"\"Excepción personalizada que se lanza cuando ocurre 'X' error.\"\"\"\n",
    "    def __init__(self, mensaje):\n",
    "        self.mensaje = mensaje\n",
    "        super().__init__(self.mensaje)\n"
   ]
  },
  {
   "cell_type": "code",
   "execution_count": 2,
   "id": "81583bd5-efc0-4b21-8235-0054d107181c",
   "metadata": {},
   "outputs": [
    {
     "name": "stdout",
     "output_type": "stream",
     "text": [
      "Error: El valor no puede ser negativo.\n"
     ]
    }
   ],
   "source": [
    "def verificar_valor(valor):\n",
    "    if valor < 0:\n",
    "        raise MiError(\"El valor no puede ser negativo.\")\n",
    "    else:\n",
    "        print(\"Valor válido:\", valor)\n",
    "\n",
    "# Intenta ejecutar la función con un valor inválido\n",
    "try:\n",
    "    verificar_valor(-10)\n",
    "except MiError as e:\n",
    "    print(\"Error:\", e)\n"
   ]
  },
  {
   "cell_type": "code",
   "execution_count": null,
   "id": "6e4976f2-081f-45ed-b583-2d9cbbfa37db",
   "metadata": {},
   "outputs": [],
   "source": []
  }
 ],
 "metadata": {
  "kernelspec": {
   "display_name": "Python 3 (ipykernel)",
   "language": "python",
   "name": "python3"
  },
  "language_info": {
   "codemirror_mode": {
    "name": "ipython",
    "version": 3
   },
   "file_extension": ".py",
   "mimetype": "text/x-python",
   "name": "python",
   "nbconvert_exporter": "python",
   "pygments_lexer": "ipython3",
   "version": "3.11.8"
  }
 },
 "nbformat": 4,
 "nbformat_minor": 5
}
