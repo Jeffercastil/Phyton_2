{
 "cells": [
  {
   "cell_type": "code",
   "execution_count": 1,
   "id": "b27c54e4-41e4-4eac-8b9b-560e82a874cc",
   "metadata": {},
   "outputs": [],
   "source": [
    "colores = ('rojo', 'verde', 'azul')"
   ]
  },
  {
   "cell_type": "code",
   "execution_count": 2,
   "id": "e58ef616-32fc-44f4-af52-daf8f856ba4b",
   "metadata": {},
   "outputs": [
    {
     "name": "stdout",
     "output_type": "stream",
     "text": [
      "('rojo', 'verde', 'azul')\n"
     ]
    }
   ],
   "source": [
    "print(colores)"
   ]
  },
  {
   "cell_type": "code",
   "execution_count": 3,
   "id": "9ce5df59-c8e0-4b24-9d17-b0ede2bc48d0",
   "metadata": {},
   "outputs": [],
   "source": [
    "tupla_vacia = ()"
   ]
  },
  {
   "cell_type": "code",
   "execution_count": 4,
   "id": "a1b35ce2-ca04-421e-be47-95c6d4defe5d",
   "metadata": {},
   "outputs": [],
   "source": [
    "lista_vacia = []"
   ]
  },
  {
   "cell_type": "code",
   "execution_count": 9,
   "id": "04a4b831-fd0b-4331-b8b7-ff09d5e1e99a",
   "metadata": {},
   "outputs": [],
   "source": [
    "solo_uno = (5,)"
   ]
  },
  {
   "cell_type": "code",
   "execution_count": 10,
   "id": "eace5728-49b7-4c96-b106-b008d2daf0d3",
   "metadata": {},
   "outputs": [
    {
     "name": "stdout",
     "output_type": "stream",
     "text": [
      "(5,)\n"
     ]
    }
   ],
   "source": [
    "print(solo_uno)"
   ]
  },
  {
   "cell_type": "code",
   "execution_count": 11,
   "id": "6eff965c-f590-473b-870a-08ec29029c72",
   "metadata": {},
   "outputs": [
    {
     "name": "stdout",
     "output_type": "stream",
     "text": [
      "rojo\n"
     ]
    }
   ],
   "source": [
    "print(colores[0])"
   ]
  },
  {
   "cell_type": "code",
   "execution_count": 12,
   "id": "00990726-af05-4d4c-96bf-5dc0d165c1d0",
   "metadata": {},
   "outputs": [
    {
     "name": "stdout",
     "output_type": "stream",
     "text": [
      "azul\n"
     ]
    }
   ],
   "source": [
    "print(colores[-1])"
   ]
  },
  {
   "cell_type": "code",
   "execution_count": 13,
   "id": "6da2e272-f3bf-4f96-ac26-062e2a501ea5",
   "metadata": {},
   "outputs": [
    {
     "ename": "TypeError",
     "evalue": "'tuple' object does not support item assignment",
     "output_type": "error",
     "traceback": [
      "\u001b[0;31m---------------------------------------------------------------------------\u001b[0m",
      "\u001b[0;31mTypeError\u001b[0m                                 Traceback (most recent call last)",
      "Cell \u001b[0;32mIn[13], line 1\u001b[0m\n\u001b[0;32m----> 1\u001b[0m \u001b[43mcolores\u001b[49m\u001b[43m[\u001b[49m\u001b[38;5;241;43m0\u001b[39;49m\u001b[43m]\u001b[49m \u001b[38;5;241m=\u001b[39m \u001b[38;5;124m'\u001b[39m\u001b[38;5;124mnegro\u001b[39m\u001b[38;5;124m'\u001b[39m\n",
      "\u001b[0;31mTypeError\u001b[0m: 'tuple' object does not support item assignment"
     ]
    }
   ],
   "source": [
    "colores[0] = 'negro'"
   ]
  },
  {
   "cell_type": "code",
   "execution_count": 15,
   "id": "d0826a8c-d6cb-4cfe-a891-e991f3bbb91d",
   "metadata": {},
   "outputs": [],
   "source": [
    "lista_colores = ['rojo', 'verde', 'azul']"
   ]
  },
  {
   "cell_type": "code",
   "execution_count": 16,
   "id": "f4edeb17-30cd-4374-a71e-d07f482bf627",
   "metadata": {},
   "outputs": [],
   "source": [
    "lista_colores[0] = 'negro'"
   ]
  },
  {
   "cell_type": "code",
   "execution_count": 17,
   "id": "c9b90756-0660-49cc-a95b-333cba2139cd",
   "metadata": {},
   "outputs": [
    {
     "name": "stdout",
     "output_type": "stream",
     "text": [
      "['negro', 'verde', 'azul']\n"
     ]
    }
   ],
   "source": [
    "print(lista_colores)"
   ]
  },
  {
   "cell_type": "code",
   "execution_count": 18,
   "id": "001dae40-1220-40b3-b570-5a180ad88c70",
   "metadata": {},
   "outputs": [],
   "source": [
    "t1 = (1, 2, 3)\n",
    "t2 = (4, 5, 6)"
   ]
  },
  {
   "cell_type": "code",
   "execution_count": 19,
   "id": "9eef7e1b-1081-4315-9877-93c1c4b8c59d",
   "metadata": {},
   "outputs": [],
   "source": [
    "t3 = t1 + t2"
   ]
  },
  {
   "cell_type": "code",
   "execution_count": 20,
   "id": "a15e1615-bfad-4349-baac-748481c5f3a3",
   "metadata": {},
   "outputs": [
    {
     "name": "stdout",
     "output_type": "stream",
     "text": [
      "(1, 2, 3, 4, 5, 6)\n"
     ]
    }
   ],
   "source": [
    "print(t3) "
   ]
  },
  {
   "cell_type": "code",
   "execution_count": 21,
   "id": "f8aa3518-cf29-4f57-bcee-e7ca19da4c46",
   "metadata": {},
   "outputs": [
    {
     "data": {
      "text/plain": [
       "(1, 2, 3, 1, 2, 3, 1, 2, 3)"
      ]
     },
     "execution_count": 21,
     "metadata": {},
     "output_type": "execute_result"
    }
   ],
   "source": [
    "3*t1"
   ]
  },
  {
   "cell_type": "code",
   "execution_count": 22,
   "id": "5d960f84-36c7-4752-bac8-19b7419f002b",
   "metadata": {},
   "outputs": [],
   "source": [
    "l1 = [3,4,2]"
   ]
  },
  {
   "cell_type": "code",
   "execution_count": 23,
   "id": "0cae6467-4c5f-4b0a-b457-fbab10d0b8cb",
   "metadata": {},
   "outputs": [
    {
     "data": {
      "text/plain": [
       "[3, 4, 2, 3, 4, 2, 3, 4, 2, 3, 4, 2]"
      ]
     },
     "execution_count": 23,
     "metadata": {},
     "output_type": "execute_result"
    }
   ],
   "source": [
    "4*l1"
   ]
  },
  {
   "cell_type": "code",
   "execution_count": 24,
   "id": "dd0674f1-9116-4fbe-b260-bdaac35b53fa",
   "metadata": {},
   "outputs": [
    {
     "name": "stdout",
     "output_type": "stream",
     "text": [
      "6\n"
     ]
    }
   ],
   "source": [
    "print(len(t3)) "
   ]
  },
  {
   "cell_type": "code",
   "execution_count": 27,
   "id": "97be14a6-15e0-4e5a-b861-f7619ac1a2fe",
   "metadata": {},
   "outputs": [
    {
     "name": "stdout",
     "output_type": "stream",
     "text": [
      "True\n"
     ]
    }
   ],
   "source": [
    "print(1 in t1)"
   ]
  },
  {
   "cell_type": "code",
   "execution_count": 26,
   "id": "0bfecf95-11e3-4c35-a260-6bf753b237eb",
   "metadata": {},
   "outputs": [
    {
     "data": {
      "text/plain": [
       "(1, 2, 3)"
      ]
     },
     "execution_count": 26,
     "metadata": {},
     "output_type": "execute_result"
    }
   ],
   "source": [
    "t1"
   ]
  },
  {
   "cell_type": "code",
   "execution_count": 28,
   "id": "4ca30819-63e8-4d43-9df6-a616007da1ee",
   "metadata": {},
   "outputs": [
    {
     "name": "stdout",
     "output_type": "stream",
     "text": [
      "rojo\n",
      "verde\n",
      "azul\n"
     ]
    }
   ],
   "source": [
    "for color in colores:\n",
    "    print(color)"
   ]
  },
  {
   "cell_type": "code",
   "execution_count": 29,
   "id": "c8b60aeb-618a-4779-bc67-e1c95208c46b",
   "metadata": {},
   "outputs": [
    {
     "data": {
      "text/plain": [
       "[3, 4, 2]"
      ]
     },
     "execution_count": 29,
     "metadata": {},
     "output_type": "execute_result"
    }
   ],
   "source": [
    "l1"
   ]
  },
  {
   "cell_type": "code",
   "execution_count": 32,
   "id": "42dbd984-0c89-46ce-80d1-16eeab59e594",
   "metadata": {},
   "outputs": [
    {
     "data": {
      "text/plain": [
       "(2, 3)"
      ]
     },
     "execution_count": 32,
     "metadata": {},
     "output_type": "execute_result"
    }
   ],
   "source": [
    "t1[1:3]"
   ]
  },
  {
   "cell_type": "code",
   "execution_count": 33,
   "id": "d79941d0-1e57-449a-aeff-d627ee2b58ee",
   "metadata": {},
   "outputs": [
    {
     "data": {
      "text/plain": [
       "(1, 2, 3)"
      ]
     },
     "execution_count": 33,
     "metadata": {},
     "output_type": "execute_result"
    }
   ],
   "source": [
    "t1"
   ]
  },
  {
   "cell_type": "code",
   "execution_count": null,
   "id": "29f7e010-fc1f-47e9-a97e-422b66b9ae01",
   "metadata": {},
   "outputs": [],
   "source": []
  }
 ],
 "metadata": {
  "kernelspec": {
   "display_name": "Python 3 (ipykernel)",
   "language": "python",
   "name": "python3"
  },
  "language_info": {
   "codemirror_mode": {
    "name": "ipython",
    "version": 3
   },
   "file_extension": ".py",
   "mimetype": "text/x-python",
   "name": "python",
   "nbconvert_exporter": "python",
   "pygments_lexer": "ipython3",
   "version": "3.11.8"
  }
 },
 "nbformat": 4,
 "nbformat_minor": 5
}
