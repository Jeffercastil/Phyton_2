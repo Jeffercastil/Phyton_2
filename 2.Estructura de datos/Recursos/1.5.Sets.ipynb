{
 "cells": [
  {
   "cell_type": "code",
   "execution_count": 1,
   "id": "ebe3b52a-3402-4bf9-809d-ce4588ec2d14",
   "metadata": {},
   "outputs": [],
   "source": [
    "conjunto_vacio = set()"
   ]
  },
  {
   "cell_type": "code",
   "execution_count": 2,
   "id": "d1fc8724-fe82-43a2-9f30-2e0795bb28e0",
   "metadata": {},
   "outputs": [],
   "source": [
    "numeros = {1, 2, 3, 4, 5}"
   ]
  },
  {
   "cell_type": "code",
   "execution_count": 3,
   "id": "ff1b8df0-b05b-4156-8f57-10f4d66bef1b",
   "metadata": {},
   "outputs": [],
   "source": [
    "frutas = {'manzana', 'banana', 'cereza'}"
   ]
  },
  {
   "cell_type": "code",
   "execution_count": 4,
   "id": "e056dca7-b320-4cd5-9e02-89790c1f9464",
   "metadata": {},
   "outputs": [
    {
     "name": "stdout",
     "output_type": "stream",
     "text": [
      "banana\n",
      "manzana\n",
      "cereza\n"
     ]
    }
   ],
   "source": [
    "for fruta in frutas:\n",
    "    print(fruta)"
   ]
  },
  {
   "cell_type": "code",
   "execution_count": 5,
   "id": "bf519261-27e7-4db7-88ef-8382fd79de19",
   "metadata": {},
   "outputs": [],
   "source": [
    "frutas = {'manzana', 'banana', 'cereza','manzana'}"
   ]
  },
  {
   "cell_type": "code",
   "execution_count": 6,
   "id": "0215fc47-87ec-4662-927d-741889f337fa",
   "metadata": {},
   "outputs": [
    {
     "name": "stdout",
     "output_type": "stream",
     "text": [
      "{'banana', 'manzana', 'cereza'}\n"
     ]
    }
   ],
   "source": [
    "print(frutas)"
   ]
  },
  {
   "cell_type": "code",
   "execution_count": 7,
   "id": "7db77cb8-6944-4130-9234-0bd71b6ef06b",
   "metadata": {},
   "outputs": [],
   "source": [
    "numeros.add('mango')"
   ]
  },
  {
   "cell_type": "code",
   "execution_count": 8,
   "id": "e2cded77-1198-44da-bb80-b00014b09844",
   "metadata": {},
   "outputs": [
    {
     "name": "stdout",
     "output_type": "stream",
     "text": [
      "{1, 2, 3, 4, 5, 'mango'}\n"
     ]
    }
   ],
   "source": [
    "print(numeros)"
   ]
  },
  {
   "cell_type": "code",
   "execution_count": 9,
   "id": "adcb0e91-9567-4381-999e-98f6b0b52a6e",
   "metadata": {},
   "outputs": [],
   "source": [
    "numeros.remove('mango')"
   ]
  },
  {
   "cell_type": "code",
   "execution_count": 10,
   "id": "f497d21f-3da5-4a22-af5e-d96b52129b71",
   "metadata": {},
   "outputs": [
    {
     "name": "stdout",
     "output_type": "stream",
     "text": [
      "{1, 2, 3, 4, 5}\n"
     ]
    }
   ],
   "source": [
    "print(numeros)"
   ]
  },
  {
   "cell_type": "code",
   "execution_count": 11,
   "id": "8c288637-8886-472c-8166-503bb275d7d0",
   "metadata": {},
   "outputs": [],
   "source": [
    "numeros.discard(5)"
   ]
  },
  {
   "cell_type": "code",
   "execution_count": 12,
   "id": "20fb047c-2405-4264-a8d8-d3e84676a9e6",
   "metadata": {},
   "outputs": [
    {
     "name": "stdout",
     "output_type": "stream",
     "text": [
      "{1, 2, 3, 4}\n"
     ]
    }
   ],
   "source": [
    "print(numeros)"
   ]
  },
  {
   "cell_type": "code",
   "execution_count": 13,
   "id": "503c0b00-194c-4a50-840b-7f0555f66c1e",
   "metadata": {},
   "outputs": [],
   "source": [
    "numeros.update([7, 8, 9])"
   ]
  },
  {
   "cell_type": "code",
   "execution_count": 14,
   "id": "3135360e-8a68-43ec-8d92-e1d55f466789",
   "metadata": {},
   "outputs": [
    {
     "name": "stdout",
     "output_type": "stream",
     "text": [
      "{1, 2, 3, 4, 7, 8, 9}\n"
     ]
    }
   ],
   "source": [
    "print(numeros)"
   ]
  },
  {
   "cell_type": "code",
   "execution_count": 16,
   "id": "d56a2b6a-8c2d-43ec-b7b8-f437cba0f47f",
   "metadata": {},
   "outputs": [
    {
     "data": {
      "text/plain": [
       "False"
      ]
     },
     "execution_count": 16,
     "metadata": {},
     "output_type": "execute_result"
    }
   ],
   "source": [
    "20 in numeros"
   ]
  },
  {
   "cell_type": "code",
   "execution_count": 17,
   "id": "d1a3a6af-215b-4b2a-84e4-b0735dd00c13",
   "metadata": {},
   "outputs": [],
   "source": [
    "a = {1, 2, 3, 4}\n",
    "b = {3, 4, 5, 6}"
   ]
  },
  {
   "cell_type": "code",
   "execution_count": 18,
   "id": "db426f5e-c8cb-4ff9-bc40-f0a0506ffb27",
   "metadata": {},
   "outputs": [
    {
     "name": "stdout",
     "output_type": "stream",
     "text": [
      "{1, 2, 3, 4, 5, 6}\n"
     ]
    }
   ],
   "source": [
    "print(a | b) "
   ]
  },
  {
   "cell_type": "code",
   "execution_count": 19,
   "id": "00c06cd5-ab31-4ed6-b197-20fa10521d7c",
   "metadata": {},
   "outputs": [
    {
     "name": "stdout",
     "output_type": "stream",
     "text": [
      "{3, 4}\n"
     ]
    }
   ],
   "source": [
    "print(a & b) "
   ]
  },
  {
   "cell_type": "code",
   "execution_count": 20,
   "id": "54ceb831-8e6b-4f69-aef0-91a64647c0e6",
   "metadata": {},
   "outputs": [
    {
     "name": "stdout",
     "output_type": "stream",
     "text": [
      "{1, 2}\n"
     ]
    }
   ],
   "source": [
    "print(a - b)"
   ]
  },
  {
   "cell_type": "code",
   "execution_count": 21,
   "id": "f4b9a3f6-06b4-4fb3-a222-dc47bffa9eb6",
   "metadata": {},
   "outputs": [
    {
     "name": "stdout",
     "output_type": "stream",
     "text": [
      "{5, 6}\n"
     ]
    }
   ],
   "source": [
    "print(b - a)"
   ]
  },
  {
   "cell_type": "code",
   "execution_count": 22,
   "id": "85488abe-f929-400d-a758-6837fbd4cb79",
   "metadata": {},
   "outputs": [
    {
     "name": "stdout",
     "output_type": "stream",
     "text": [
      "{1, 2, 5, 6}\n"
     ]
    }
   ],
   "source": [
    "print(a ^ b)"
   ]
  },
  {
   "cell_type": "code",
   "execution_count": 23,
   "id": "e1c29104-e79e-4afb-bafb-5c366e191eef",
   "metadata": {},
   "outputs": [],
   "source": [
    "ids = [2,3,1,3,4,5]"
   ]
  },
  {
   "cell_type": "code",
   "execution_count": 24,
   "id": "c00e37b9-186c-4d9d-b24c-7110ac4bbcfe",
   "metadata": {},
   "outputs": [],
   "source": [
    "ids = set(ids)"
   ]
  },
  {
   "cell_type": "code",
   "execution_count": 26,
   "id": "a4329cdd-b520-49f4-9ab0-4fc27270b0d3",
   "metadata": {},
   "outputs": [],
   "source": [
    "ids = list(ids)"
   ]
  },
  {
   "cell_type": "code",
   "execution_count": 27,
   "id": "3635b74c-32de-47a3-ba19-835b853efdae",
   "metadata": {},
   "outputs": [
    {
     "name": "stdout",
     "output_type": "stream",
     "text": [
      "[1, 2, 3, 4, 5]\n"
     ]
    }
   ],
   "source": [
    "print(ids)"
   ]
  },
  {
   "cell_type": "code",
   "execution_count": null,
   "id": "4cf0961f-26b0-4027-bf32-63c5bcd21a89",
   "metadata": {},
   "outputs": [],
   "source": []
  }
 ],
 "metadata": {
  "kernelspec": {
   "display_name": "Python 3 (ipykernel)",
   "language": "python",
   "name": "python3"
  },
  "language_info": {
   "codemirror_mode": {
    "name": "ipython",
    "version": 3
   },
   "file_extension": ".py",
   "mimetype": "text/x-python",
   "name": "python",
   "nbconvert_exporter": "python",
   "pygments_lexer": "ipython3",
   "version": "3.11.8"
  }
 },
 "nbformat": 4,
 "nbformat_minor": 5
}
