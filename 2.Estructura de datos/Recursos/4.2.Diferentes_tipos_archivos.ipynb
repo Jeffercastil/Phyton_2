{
 "cells": [
  {
   "cell_type": "code",
   "execution_count": 5,
   "id": "da17b09e-b35b-4d15-8350-40f8784f1dfa",
   "metadata": {},
   "outputs": [],
   "source": [
    "import csv"
   ]
  },
  {
   "cell_type": "code",
   "execution_count": 6,
   "id": "341ae716-0a38-408e-88a8-54f38ea0640a",
   "metadata": {},
   "outputs": [],
   "source": [
    "with open('datos.csv', mode='w') as archivo:\n",
    "    escritor = csv.writer(archivo)\n",
    "    escritor.writerow(['nombre', 'edad', 'ciudad'])\n",
    "    escritor.writerow(['Alice', '30', 'Nueva York'])\n",
    "    escritor.writerow(['Juan', '34', 'Quito'])"
   ]
  },
  {
   "cell_type": "code",
   "execution_count": 7,
   "id": "696554b5-0b67-4cf4-abc2-691e22d5d70a",
   "metadata": {},
   "outputs": [
    {
     "name": "stdout",
     "output_type": "stream",
     "text": [
      "['nombre', 'edad', 'ciudad']\n",
      "['Alice', '30', 'Nueva York']\n",
      "['Juan', '34', 'Quito']\n"
     ]
    }
   ],
   "source": [
    "with open('datos.csv', mode='r') as archivo:\n",
    "    lector = csv.reader(archivo)\n",
    "    for fila in lector:\n",
    "        print(fila)\n"
   ]
  },
  {
   "cell_type": "code",
   "execution_count": 8,
   "id": "7a2e236f-6db5-4dbe-aa29-0f725547e1bd",
   "metadata": {},
   "outputs": [],
   "source": [
    "import json"
   ]
  },
  {
   "cell_type": "code",
   "execution_count": 10,
   "id": "62fbc5fc-869d-4622-8295-7d617ca731b1",
   "metadata": {},
   "outputs": [],
   "source": [
    "with open('datos.json', 'w') as archivo:\n",
    "    json.dump({'nombre': 'Alice', 'edad': 30}, archivo)"
   ]
  },
  {
   "cell_type": "code",
   "execution_count": 11,
   "id": "88fe3659-d8ef-45c6-8025-7f901fac056f",
   "metadata": {},
   "outputs": [
    {
     "name": "stdout",
     "output_type": "stream",
     "text": [
      "{'nombre': 'Alice', 'edad': 30}\n"
     ]
    }
   ],
   "source": [
    "with open('datos.json', 'r') as archivo:\n",
    "    datos = json.load(archivo)\n",
    "    print(datos)"
   ]
  },
  {
   "cell_type": "code",
   "execution_count": 13,
   "id": "3ea5318c-f46a-4216-9877-fac39ebe2ec3",
   "metadata": {},
   "outputs": [],
   "source": [
    "from PIL import Image\n"
   ]
  },
  {
   "cell_type": "code",
   "execution_count": 14,
   "id": "1be64d0f-edb4-4a81-92e4-0dfde874241f",
   "metadata": {},
   "outputs": [
    {
     "name": "stderr",
     "output_type": "stream",
     "text": [
      "feh WARNING: /tmp/.X0-lock - Does not look like an image (magic bytes missing)\n"
     ]
    }
   ],
   "source": [
    "imagen = Image.open('flor.jpg')\n",
    "imagen.show()\n"
   ]
  },
  {
   "cell_type": "code",
   "execution_count": 15,
   "id": "7378716a-1add-4edc-a54a-0b64160d20eb",
   "metadata": {},
   "outputs": [],
   "source": [
    "imagen_gris = imagen.convert('L')\n",
    "imagen_gris.save('flor_gris.jpg')\n"
   ]
  },
  {
   "cell_type": "code",
   "execution_count": null,
   "id": "f102f7b4-bf98-4228-9a8c-17f9a570efd3",
   "metadata": {},
   "outputs": [],
   "source": []
  }
 ],
 "metadata": {
  "kernelspec": {
   "display_name": "Python 3 (ipykernel)",
   "language": "python",
   "name": "python3"
  },
  "language_info": {
   "codemirror_mode": {
    "name": "ipython",
    "version": 3
   },
   "file_extension": ".py",
   "mimetype": "text/x-python",
   "name": "python",
   "nbconvert_exporter": "python",
   "pygments_lexer": "ipython3",
   "version": "3.11.8"
  }
 },
 "nbformat": 4,
 "nbformat_minor": 5
}
