{
 "cells": [
  {
   "cell_type": "code",
   "execution_count": 2,
   "id": "f4a0165b-c59d-413f-b4c4-e29b5294cc57",
   "metadata": {},
   "outputs": [
    {
     "name": "stdout",
     "output_type": "stream",
     "text": [
      "[0, 4, 16, 36, 64]\n"
     ]
    }
   ],
   "source": [
    "# [nueva_expresion for elemento in iterable if condicion]\n",
    "cuadrados = [x**2 for x in range(10) if x % 2 == 0]\n",
    "print(cuadrados)"
   ]
  },
  {
   "cell_type": "code",
   "execution_count": 6,
   "id": "f7913609-0bd3-4a70-94a1-f13eb73987a3",
   "metadata": {},
   "outputs": [
    {
     "name": "stdout",
     "output_type": "stream",
     "text": [
      "{0, 1, 64, 4, 36, 9, 16, 49, 81, 25}\n"
     ]
    }
   ],
   "source": [
    "# {nueva_expresion for elemento in iterable if condicion}\n",
    "cuadrados_set = {x**2 for x in range(10)}\n",
    "print(cuadrados_set)"
   ]
  },
  {
   "cell_type": "code",
   "execution_count": 7,
   "id": "a9eac30d-fd80-492d-9969-193d39ecb3fe",
   "metadata": {},
   "outputs": [
    {
     "name": "stdout",
     "output_type": "stream",
     "text": [
      "{1: 1, 2: 4, 3: 9, 4: 16}\n"
     ]
    }
   ],
   "source": [
    "# {clave: valor for elemento in iterable if condicion}\n",
    "cuadrados_dict = {x: x**2 for x in range(1, 5)}\n",
    "print(cuadrados_dict)"
   ]
  },
  {
   "cell_type": "code",
   "execution_count": 8,
   "id": "4528aab8-021d-45c4-88a6-80939735f890",
   "metadata": {},
   "outputs": [
    {
     "name": "stdout",
     "output_type": "stream",
     "text": [
      "[0, 1, 4, 9, 16, 25, 36, 49, 64, 81]\n"
     ]
    }
   ],
   "source": [
    "lista = []\n",
    "for x in range(10):\n",
    "    lista.append(x**2)\n",
    "print(lista)"
   ]
  },
  {
   "cell_type": "code",
   "execution_count": 9,
   "id": "e610bb75-6c97-4d18-9079-29c839efe2c6",
   "metadata": {},
   "outputs": [
    {
     "name": "stdout",
     "output_type": "stream",
     "text": [
      "(0, 1, 4, 9, 16, 25, 36, 49, 64, 81)\n"
     ]
    }
   ],
   "source": [
    "cuadrados_tupla = tuple(x**2 for x in range(10))\n",
    "print(cuadrados_tupla)"
   ]
  },
  {
   "cell_type": "code",
   "execution_count": null,
   "id": "defcf3c6-4f6e-4efe-b2e7-7bf495ce1709",
   "metadata": {},
   "outputs": [],
   "source": []
  }
 ],
 "metadata": {
  "kernelspec": {
   "display_name": "Python 3 (ipykernel)",
   "language": "python",
   "name": "python3"
  },
  "language_info": {
   "codemirror_mode": {
    "name": "ipython",
    "version": 3
   },
   "file_extension": ".py",
   "mimetype": "text/x-python",
   "name": "python",
   "nbconvert_exporter": "python",
   "pygments_lexer": "ipython3",
   "version": "3.11.8"
  }
 },
 "nbformat": 4,
 "nbformat_minor": 5
}
