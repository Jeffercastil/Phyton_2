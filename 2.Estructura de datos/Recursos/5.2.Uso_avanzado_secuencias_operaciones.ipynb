{
 "cells": [
  {
   "cell_type": "code",
   "execution_count": 6,
   "id": "7f26b76f-1f11-45ab-a304-3d4babde3614",
   "metadata": {},
   "outputs": [
    {
     "name": "stdout",
     "output_type": "stream",
     "text": [
      "[5, 4, 3, 2, 1]\n",
      "nohtyP\n"
     ]
    }
   ],
   "source": [
    "lista = [1, 2, 3, 4, 5]\n",
    "cadena = \"Python\"\n",
    "print(lista[::-1])\n",
    "print(cadena[::-1])"
   ]
  },
  {
   "cell_type": "code",
   "execution_count": 7,
   "id": "62aac0e2-9b2b-428c-a37d-dc7a38b42393",
   "metadata": {},
   "outputs": [],
   "source": [
    "primero, *resto = [1, 2, 3, 4, 5]"
   ]
  },
  {
   "cell_type": "code",
   "execution_count": 9,
   "id": "5e2292a3-30a3-4822-99b8-e52610d4ce21",
   "metadata": {},
   "outputs": [
    {
     "name": "stdout",
     "output_type": "stream",
     "text": [
      "1\n",
      "[2, 3, 4, 5]\n"
     ]
    }
   ],
   "source": [
    "print(primero)\n",
    "print(resto)"
   ]
  },
  {
   "cell_type": "code",
   "execution_count": 14,
   "id": "c94c009d-c177-4fea-ae84-8d91ef6e4cb8",
   "metadata": {},
   "outputs": [
    {
     "name": "stdout",
     "output_type": "stream",
     "text": [
      "[[0, 1, 4, 9], [0, 1, 4, 9], [0, 1, 4, 9], [0, 1, 4, 9]]\n"
     ]
    }
   ],
   "source": [
    "matriz = [[j**2 for j in range(4)] for i in range(4)]\n",
    "print(matriz)"
   ]
  },
  {
   "cell_type": "code",
   "execution_count": 15,
   "id": "564ecee9-f706-4147-b2b5-83e219f3c07d",
   "metadata": {},
   "outputs": [],
   "source": [
    "nombres = ['Ana', 'Bob', 'Carlos']\n",
    "edades = [24, 30, 35]"
   ]
  },
  {
   "cell_type": "code",
   "execution_count": 16,
   "id": "020f9c0c-f004-43bc-ba27-6c4f9bdf9a65",
   "metadata": {},
   "outputs": [
    {
     "name": "stdout",
     "output_type": "stream",
     "text": [
      "Ana tiene 24 años\n",
      "Bob tiene 30 años\n",
      "Carlos tiene 35 años\n"
     ]
    }
   ],
   "source": [
    "for nombre, edad in zip(nombres, edades):\n",
    "    print(f\"{nombre} tiene {edad} años\")"
   ]
  },
  {
   "cell_type": "code",
   "execution_count": 17,
   "id": "af686809-d567-4497-93d6-f18e69b5e3c2",
   "metadata": {},
   "outputs": [
    {
     "data": {
      "text/plain": [
       "<zip at 0x737fec231540>"
      ]
     },
     "execution_count": 17,
     "metadata": {},
     "output_type": "execute_result"
    }
   ],
   "source": [
    "zip(nombres, edades)"
   ]
  },
  {
   "cell_type": "code",
   "execution_count": 19,
   "id": "b202128e-ace6-4cd8-86dd-a312873d1711",
   "metadata": {},
   "outputs": [
    {
     "name": "stdout",
     "output_type": "stream",
     "text": [
      "[11, 33, 24]\n"
     ]
    }
   ],
   "source": [
    "mayores_de_diez = list(filter(lambda x: x > 10, [8, 11, 33, 24]))\n",
    "print(mayores_de_diez)  # Salida: [11, 24]"
   ]
  },
  {
   "cell_type": "code",
   "execution_count": 20,
   "id": "a8951067-94bc-454c-b3bd-3ce96a78b929",
   "metadata": {},
   "outputs": [],
   "source": [
    "import itertools"
   ]
  },
  {
   "cell_type": "code",
   "execution_count": 21,
   "id": "705d28ca-eb35-47c3-92f5-edd043671995",
   "metadata": {},
   "outputs": [],
   "source": [
    "combinado = list(itertools.chain([1, 2, 3], [4, 5, 6]))"
   ]
  },
  {
   "cell_type": "code",
   "execution_count": 22,
   "id": "723e7b5f-d741-48ad-a5e5-e377ca1d5426",
   "metadata": {},
   "outputs": [
    {
     "name": "stdout",
     "output_type": "stream",
     "text": [
      "[1, 2, 3, 4, 5, 6]\n"
     ]
    }
   ],
   "source": [
    "print(combinado) "
   ]
  },
  {
   "cell_type": "code",
   "execution_count": null,
   "id": "532d253e-10bf-4670-a5ac-402a028d4db0",
   "metadata": {},
   "outputs": [],
   "source": []
  }
 ],
 "metadata": {
  "kernelspec": {
   "display_name": "Python 3 (ipykernel)",
   "language": "python",
   "name": "python3"
  },
  "language_info": {
   "codemirror_mode": {
    "name": "ipython",
    "version": 3
   },
   "file_extension": ".py",
   "mimetype": "text/x-python",
   "name": "python",
   "nbconvert_exporter": "python",
   "pygments_lexer": "ipython3",
   "version": "3.11.8"
  }
 },
 "nbformat": 4,
 "nbformat_minor": 5
}
