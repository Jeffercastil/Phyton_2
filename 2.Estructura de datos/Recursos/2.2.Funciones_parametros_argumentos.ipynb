{
 "cells": [
  {
   "cell_type": "code",
   "execution_count": 1,
   "id": "869ac8bc-d304-4b27-865e-dae1eda05ff7",
   "metadata": {},
   "outputs": [],
   "source": [
    "def saludar(nombre, edad):\n",
    "    print(f\"Hola, mi nombre es {nombre} y tengo {edad} años.\")"
   ]
  },
  {
   "cell_type": "code",
   "execution_count": 5,
   "id": "da45b00b-5851-4e9d-a8cc-7994571098e2",
   "metadata": {},
   "outputs": [
    {
     "name": "stdout",
     "output_type": "stream",
     "text": [
      "Hola, mi nombre es 40 y tengo Mateo años.\n"
     ]
    }
   ],
   "source": [
    "saludar(40, 'Mateo')"
   ]
  },
  {
   "cell_type": "code",
   "execution_count": 6,
   "id": "078c74a8-644c-471c-ab55-6990a74ce3f0",
   "metadata": {},
   "outputs": [
    {
     "name": "stdout",
     "output_type": "stream",
     "text": [
      "Hola, mi nombre es Bob y tengo 28 años.\n"
     ]
    }
   ],
   "source": [
    "saludar(edad=28, nombre=\"Bob\")"
   ]
  },
  {
   "cell_type": "code",
   "execution_count": 7,
   "id": "93dbb20c-bf11-4a8a-83c2-0face1ae4327",
   "metadata": {},
   "outputs": [],
   "source": [
    "def saludar(nombre, ciudad=\"Madrid\"):\n",
    "    print(f\"Hola, soy {nombre} y vengo de {ciudad}.\")"
   ]
  },
  {
   "cell_type": "code",
   "execution_count": 9,
   "id": "baf0a801-2134-431c-876d-dd161cdbc552",
   "metadata": {},
   "outputs": [
    {
     "name": "stdout",
     "output_type": "stream",
     "text": [
      "Hola, soy Jorge y vengo de Buenos Aires.\n"
     ]
    }
   ],
   "source": [
    "saludar('Jorge','Buenos Aires')"
   ]
  },
  {
   "cell_type": "code",
   "execution_count": 10,
   "id": "5c21566f-37c7-4b4b-a774-0768626335be",
   "metadata": {},
   "outputs": [],
   "source": [
    "def frutas_favoritas(*frutas):\n",
    "    print(\"Mis frutas favoritas son:\", frutas)"
   ]
  },
  {
   "cell_type": "code",
   "execution_count": 11,
   "id": "7ccb02e8-3657-4ff6-9116-a87e76186ce6",
   "metadata": {},
   "outputs": [
    {
     "name": "stdout",
     "output_type": "stream",
     "text": [
      "Mis frutas favoritas son: ('manzana', 'banana', 'cereza')\n"
     ]
    }
   ],
   "source": [
    "frutas_favoritas(\"manzana\", \"banana\", \"cereza\")"
   ]
  },
  {
   "cell_type": "code",
   "execution_count": 12,
   "id": "1b31a1c1-c1f7-4458-9467-463f72be9b10",
   "metadata": {},
   "outputs": [],
   "source": [
    "def perfil_usuario(**datos):\n",
    "    print(\"Perfil del usuario:\", datos)"
   ]
  },
  {
   "cell_type": "code",
   "execution_count": 13,
   "id": "4c213914-7cf3-4d88-8973-e9af87e854d0",
   "metadata": {},
   "outputs": [
    {
     "name": "stdout",
     "output_type": "stream",
     "text": [
      "Perfil del usuario: {'nombre': 'Carlos', 'edad': 27, 'ciudad': 'Barcelona'}\n"
     ]
    }
   ],
   "source": [
    "perfil_usuario(nombre=\"Carlos\", edad=27, ciudad=\"Barcelona\")"
   ]
  },
  {
   "cell_type": "code",
   "execution_count": null,
   "id": "4b169091-076f-4bbc-a777-fcd9ac501fd2",
   "metadata": {},
   "outputs": [],
   "source": []
  }
 ],
 "metadata": {
  "kernelspec": {
   "display_name": "Python 3 (ipykernel)",
   "language": "python",
   "name": "python3"
  },
  "language_info": {
   "codemirror_mode": {
    "name": "ipython",
    "version": 3
   },
   "file_extension": ".py",
   "mimetype": "text/x-python",
   "name": "python",
   "nbconvert_exporter": "python",
   "pygments_lexer": "ipython3",
   "version": "3.11.8"
  }
 },
 "nbformat": 4,
 "nbformat_minor": 5
}
