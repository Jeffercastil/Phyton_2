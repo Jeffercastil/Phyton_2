{
 "cells": [
  {
   "cell_type": "code",
   "execution_count": 1,
   "id": "7e4a71d9-8bd7-417b-ba47-cf93eb52d9a0",
   "metadata": {},
   "outputs": [],
   "source": [
    "diccionario_vacio = {}\n",
    "persona = {'nombre': 'Juan', 'edad': 30, 'ciudad': 'Madrid'}"
   ]
  },
  {
   "cell_type": "code",
   "execution_count": 3,
   "id": "ad5edaed-eebb-4a7b-a8b3-9f5f3050c9a5",
   "metadata": {},
   "outputs": [
    {
     "data": {
      "text/plain": [
       "30"
      ]
     },
     "execution_count": 3,
     "metadata": {},
     "output_type": "execute_result"
    }
   ],
   "source": [
    "persona['edad']"
   ]
  },
  {
   "cell_type": "code",
   "execution_count": 5,
   "id": "7458322b-9566-463e-bdee-72514a3643fa",
   "metadata": {},
   "outputs": [
    {
     "data": {
      "text/plain": [
       "'Juan'"
      ]
     },
     "execution_count": 5,
     "metadata": {},
     "output_type": "execute_result"
    }
   ],
   "source": [
    "persona.get('nombre')"
   ]
  },
  {
   "cell_type": "code",
   "execution_count": 6,
   "id": "08ff953c-8704-4b6b-9b85-295948da4c81",
   "metadata": {},
   "outputs": [
    {
     "ename": "KeyError",
     "evalue": "'apellido'",
     "output_type": "error",
     "traceback": [
      "\u001b[0;31m---------------------------------------------------------------------------\u001b[0m",
      "\u001b[0;31mKeyError\u001b[0m                                  Traceback (most recent call last)",
      "Cell \u001b[0;32mIn[6], line 1\u001b[0m\n\u001b[0;32m----> 1\u001b[0m \u001b[43mpersona\u001b[49m\u001b[43m[\u001b[49m\u001b[38;5;124;43m'\u001b[39;49m\u001b[38;5;124;43mapellido\u001b[39;49m\u001b[38;5;124;43m'\u001b[39;49m\u001b[43m]\u001b[49m\n",
      "\u001b[0;31mKeyError\u001b[0m: 'apellido'"
     ]
    }
   ],
   "source": [
    "persona['apellido']"
   ]
  },
  {
   "cell_type": "code",
   "execution_count": 7,
   "id": "c8149c3a-c384-47dc-af7e-7bd363a5bd9d",
   "metadata": {},
   "outputs": [
    {
     "data": {
      "text/plain": [
       "'valor no encontrado'"
      ]
     },
     "execution_count": 7,
     "metadata": {},
     "output_type": "execute_result"
    }
   ],
   "source": [
    "persona.get('apellido','valor no encontrado')"
   ]
  },
  {
   "cell_type": "code",
   "execution_count": 9,
   "id": "792c1fa5-ef8b-4f47-8a5b-e98b5df233d6",
   "metadata": {},
   "outputs": [
    {
     "name": "stdout",
     "output_type": "stream",
     "text": [
      "{'nombre': 'Juan', 'edad': 30, 'ciudad': 'Madrid'}\n"
     ]
    }
   ],
   "source": [
    "print(persona)"
   ]
  },
  {
   "cell_type": "code",
   "execution_count": 10,
   "id": "053567e3-079a-4b0a-a964-b496e4bc7071",
   "metadata": {},
   "outputs": [],
   "source": [
    "persona['edad'] = 35"
   ]
  },
  {
   "cell_type": "code",
   "execution_count": 11,
   "id": "d0194528-f171-409a-8344-f3d3888679df",
   "metadata": {},
   "outputs": [
    {
     "name": "stdout",
     "output_type": "stream",
     "text": [
      "{'nombre': 'Juan', 'edad': 35, 'ciudad': 'Madrid'}\n"
     ]
    }
   ],
   "source": [
    "print(persona)"
   ]
  },
  {
   "cell_type": "code",
   "execution_count": 12,
   "id": "2cbb05cd-7754-4e8f-8432-3c13cfe128d1",
   "metadata": {},
   "outputs": [],
   "source": [
    "persona['profesión'] = 'Ingeniero'"
   ]
  },
  {
   "cell_type": "code",
   "execution_count": 13,
   "id": "0bc5dab6-fd32-434f-89e0-57444ba993d3",
   "metadata": {},
   "outputs": [
    {
     "name": "stdout",
     "output_type": "stream",
     "text": [
      "{'nombre': 'Juan', 'edad': 35, 'ciudad': 'Madrid', 'profesión': 'Ingeniero'}\n"
     ]
    }
   ],
   "source": [
    "print(persona)"
   ]
  },
  {
   "cell_type": "code",
   "execution_count": 14,
   "id": "2e927e65-2ee3-4155-ac4e-0bc7f20617a0",
   "metadata": {},
   "outputs": [],
   "source": [
    "del persona['ciudad']"
   ]
  },
  {
   "cell_type": "code",
   "execution_count": 15,
   "id": "79b17d40-33f6-4da9-90d8-18c025df8dad",
   "metadata": {},
   "outputs": [
    {
     "name": "stdout",
     "output_type": "stream",
     "text": [
      "{'nombre': 'Juan', 'edad': 35, 'profesión': 'Ingeniero'}\n"
     ]
    }
   ],
   "source": [
    "print(persona)"
   ]
  },
  {
   "cell_type": "code",
   "execution_count": 16,
   "id": "7bacb1c9-c1d5-49c0-9651-a3b057dc2bdb",
   "metadata": {},
   "outputs": [],
   "source": [
    "profesion = persona.pop('profesión')"
   ]
  },
  {
   "cell_type": "code",
   "execution_count": 18,
   "id": "90cb3342-4e5e-4470-8437-865fa83b7cc1",
   "metadata": {},
   "outputs": [
    {
     "name": "stdout",
     "output_type": "stream",
     "text": [
      "Ingeniero\n"
     ]
    }
   ],
   "source": [
    "print(profesion)"
   ]
  },
  {
   "cell_type": "code",
   "execution_count": 19,
   "id": "28803fb8-4f9c-45f2-89ff-6c6cf4fa9c4b",
   "metadata": {},
   "outputs": [],
   "source": [
    "claves = persona.keys()"
   ]
  },
  {
   "cell_type": "code",
   "execution_count": 22,
   "id": "727f4aa0-044f-4f08-b944-e026d426d4c0",
   "metadata": {},
   "outputs": [
    {
     "name": "stdout",
     "output_type": "stream",
     "text": [
      "dict_keys(['nombre', 'edad'])\n"
     ]
    }
   ],
   "source": [
    "print(claves)"
   ]
  },
  {
   "cell_type": "code",
   "execution_count": 21,
   "id": "1422f6b2-769f-4ab5-a43d-9a520dd3e549",
   "metadata": {},
   "outputs": [
    {
     "data": {
      "text/plain": [
       "dict_values(['Juan', 35])"
      ]
     },
     "execution_count": 21,
     "metadata": {},
     "output_type": "execute_result"
    }
   ],
   "source": [
    "valores = persona.values()\n",
    "valores"
   ]
  },
  {
   "cell_type": "code",
   "execution_count": 23,
   "id": "a06a2bc1-0455-449f-a049-3247e0e9bcd9",
   "metadata": {},
   "outputs": [],
   "source": [
    "elementos = persona.items()"
   ]
  },
  {
   "cell_type": "code",
   "execution_count": 24,
   "id": "23bb3db5-417d-4de6-9691-dc2e066064e2",
   "metadata": {},
   "outputs": [
    {
     "data": {
      "text/plain": [
       "dict_items([('nombre', 'Juan'), ('edad', 35)])"
      ]
     },
     "execution_count": 24,
     "metadata": {},
     "output_type": "execute_result"
    }
   ],
   "source": [
    "elementos"
   ]
  },
  {
   "cell_type": "code",
   "execution_count": 25,
   "id": "97f9a359-da76-433c-8765-318621385082",
   "metadata": {},
   "outputs": [
    {
     "data": {
      "text/plain": [
       "2"
      ]
     },
     "execution_count": 25,
     "metadata": {},
     "output_type": "execute_result"
    }
   ],
   "source": [
    "len(persona)"
   ]
  },
  {
   "cell_type": "code",
   "execution_count": 26,
   "id": "745a4926-cce4-44c1-ac3d-771205c8941b",
   "metadata": {},
   "outputs": [
    {
     "name": "stdout",
     "output_type": "stream",
     "text": [
      "nombre\n",
      "edad\n"
     ]
    }
   ],
   "source": [
    "# Iterando sobre claves\n",
    "for clave in persona:\n",
    "    print(clave)"
   ]
  },
  {
   "cell_type": "code",
   "execution_count": 27,
   "id": "8370107a-3cfa-4b5c-81f3-28e2a7fd479a",
   "metadata": {},
   "outputs": [
    {
     "name": "stdout",
     "output_type": "stream",
     "text": [
      "Juan\n",
      "35\n"
     ]
    }
   ],
   "source": [
    "# Iterando sobre valores\n",
    "for valor in persona.values():\n",
    "    print(valor)"
   ]
  },
  {
   "cell_type": "code",
   "execution_count": 29,
   "id": "9aa6c7e9-8dae-4bf9-8b9a-3ca3bd2587ca",
   "metadata": {},
   "outputs": [
    {
     "name": "stdout",
     "output_type": "stream",
     "text": [
      "Juan\n",
      "35\n"
     ]
    }
   ],
   "source": [
    "# Iterando sobre pares clave-valor\n",
    "for clave, valor in persona.items():\n",
    "    print(valor)"
   ]
  },
  {
   "cell_type": "code",
   "execution_count": null,
   "id": "462af4ec-19db-45b3-af66-f6897a8ce9b0",
   "metadata": {},
   "outputs": [],
   "source": []
  }
 ],
 "metadata": {
  "kernelspec": {
   "display_name": "Python 3 (ipykernel)",
   "language": "python",
   "name": "python3"
  },
  "language_info": {
   "codemirror_mode": {
    "name": "ipython",
    "version": 3
   },
   "file_extension": ".py",
   "mimetype": "text/x-python",
   "name": "python",
   "nbconvert_exporter": "python",
   "pygments_lexer": "ipython3",
   "version": "3.11.8"
  }
 },
 "nbformat": 4,
 "nbformat_minor": 5
}
