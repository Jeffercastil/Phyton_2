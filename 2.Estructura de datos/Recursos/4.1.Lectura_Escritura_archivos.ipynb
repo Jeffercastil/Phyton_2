{
 "cells": [
  {
   "cell_type": "markdown",
   "id": "31dd44b5-da5b-4419-8728-5b7642997cba",
   "metadata": {},
   "source": [
    "## Lectura y escritura de archivos\n",
    "\n",
    "- 'r' - Lectura (por defecto). Abre un archivo para lectura.\n",
    "- 'w' - Escritura. Crea un archivo si no existe o sobrescribe el archivo existente.\n",
    "- 'a' - Añadir. Abre un archivo para agregar contenido; crea el archivo si no existe.\n",
    "- 'r+' - Lectura y escritura. Abre un archivo para leer y escribir.\n",
    "- 'b' - Modo binario. Se utiliza para archivos que no son de texto (como imágenes y archivos binarios)."
   ]
  },
  {
   "cell_type": "code",
   "execution_count": 1,
   "id": "03cb3313-6b45-4d26-b93d-dc66f90d9b8e",
   "metadata": {},
   "outputs": [],
   "source": [
    "archivo = open('prueba.txt', 'r')"
   ]
  },
  {
   "cell_type": "code",
   "execution_count": 4,
   "id": "0779903a-761f-4c39-ac92-25d3293417e9",
   "metadata": {},
   "outputs": [
    {
     "name": "stdout",
     "output_type": "stream",
     "text": [
      "\n"
     ]
    }
   ],
   "source": [
    "contenido = archivo.read()\n",
    "print(contenido)\n",
    "archivo.close()"
   ]
  },
  {
   "cell_type": "code",
   "execution_count": 5,
   "id": "8c073425-c4e3-4757-af8a-e04e5117270c",
   "metadata": {},
   "outputs": [],
   "source": [
    "archivo = open('prueba.txt','w')\n",
    "archivo.write('Hola, mundo!\\n')\n",
    "archivo.close()"
   ]
  },
  {
   "cell_type": "code",
   "execution_count": 6,
   "id": "f6b7ee86-a19b-4d9b-a0a8-3e8756e616a5",
   "metadata": {},
   "outputs": [
    {
     "name": "stdout",
     "output_type": "stream",
     "text": [
      "Hola, mundo!\n",
      "\n"
     ]
    }
   ],
   "source": [
    "with open('prueba.txt','r') as archivo:\n",
    "    contenido = archivo.read()\n",
    "    print(contenido)"
   ]
  },
  {
   "cell_type": "code",
   "execution_count": 8,
   "id": "b045bb13-3b9a-476c-ad78-d3d3e30124df",
   "metadata": {},
   "outputs": [],
   "source": [
    "with open('prueba.txt','a') as archivo:\n",
    "    archivo.write('Hola Hola!\\n')"
   ]
  },
  {
   "cell_type": "code",
   "execution_count": null,
   "id": "d01d19fa-192f-4231-bf07-07ac6cc3ecde",
   "metadata": {},
   "outputs": [],
   "source": []
  }
 ],
 "metadata": {
  "kernelspec": {
   "display_name": "Python 3 (ipykernel)",
   "language": "python",
   "name": "python3"
  },
  "language_info": {
   "codemirror_mode": {
    "name": "ipython",
    "version": 3
   },
   "file_extension": ".py",
   "mimetype": "text/x-python",
   "name": "python",
   "nbconvert_exporter": "python",
   "pygments_lexer": "ipython3",
   "version": "3.11.8"
  }
 },
 "nbformat": 4,
 "nbformat_minor": 5
}
