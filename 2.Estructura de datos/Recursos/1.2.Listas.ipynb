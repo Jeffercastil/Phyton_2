{
 "cells": [
  {
   "cell_type": "code",
   "execution_count": 5,
   "id": "09305bbf-9820-492a-94e8-59d7587e9bee",
   "metadata": {},
   "outputs": [],
   "source": [
    "L1 = [2,3,4]\n",
    "frutas = ['manzana', 3, 'cereza']"
   ]
  },
  {
   "cell_type": "code",
   "execution_count": 10,
   "id": "635c8c18-9252-4e30-9ce6-d519dbd79992",
   "metadata": {},
   "outputs": [
    {
     "name": "stdout",
     "output_type": "stream",
     "text": [
      "3\n",
      "manzana\n"
     ]
    }
   ],
   "source": [
    "print(frutas[1])\n",
    "print(frutas[0])"
   ]
  },
  {
   "cell_type": "code",
   "execution_count": 11,
   "id": "2374b71c-67a9-4527-af13-beee0579ee60",
   "metadata": {},
   "outputs": [],
   "source": [
    "frutas[1] = 'pera'"
   ]
  },
  {
   "cell_type": "code",
   "execution_count": 12,
   "id": "54e9e4e8-9ae6-4dc8-859f-c389108390da",
   "metadata": {},
   "outputs": [
    {
     "name": "stdout",
     "output_type": "stream",
     "text": [
      "['manzana', 'pera', 'cereza']\n"
     ]
    }
   ],
   "source": [
    "print(frutas)"
   ]
  },
  {
   "cell_type": "code",
   "execution_count": 13,
   "id": "f6d3028c-f0c5-4f5b-8a57-bbea42d5b033",
   "metadata": {},
   "outputs": [],
   "source": [
    "frutas.append('naranja')"
   ]
  },
  {
   "cell_type": "code",
   "execution_count": 14,
   "id": "17a35457-a1ad-40f1-a60b-bf5e5606da71",
   "metadata": {},
   "outputs": [
    {
     "name": "stdout",
     "output_type": "stream",
     "text": [
      "['manzana', 'pera', 'cereza', 'naranja']\n"
     ]
    }
   ],
   "source": [
    "print(frutas)"
   ]
  },
  {
   "cell_type": "code",
   "execution_count": 15,
   "id": "6aadf267-9975-448f-ac21-0b2f59f07cce",
   "metadata": {},
   "outputs": [],
   "source": [
    "frutas.insert(1, 'kiwi')"
   ]
  },
  {
   "cell_type": "code",
   "execution_count": 16,
   "id": "ce0cc24f-2434-4293-b305-36eff1ff847a",
   "metadata": {},
   "outputs": [
    {
     "name": "stdout",
     "output_type": "stream",
     "text": [
      "['manzana', 'kiwi', 'pera', 'cereza', 'naranja']\n"
     ]
    }
   ],
   "source": [
    "print(frutas)"
   ]
  },
  {
   "cell_type": "code",
   "execution_count": 17,
   "id": "3c808125-ba5a-453f-bd67-44b12c0edd9a",
   "metadata": {},
   "outputs": [],
   "source": [
    "frutas.remove('kiwi')"
   ]
  },
  {
   "cell_type": "code",
   "execution_count": 18,
   "id": "3db67e2d-cf4d-4820-9245-de21c43d4a6e",
   "metadata": {},
   "outputs": [
    {
     "name": "stdout",
     "output_type": "stream",
     "text": [
      "['manzana', 'pera', 'cereza', 'naranja']\n"
     ]
    }
   ],
   "source": [
    "print(frutas)"
   ]
  },
  {
   "cell_type": "code",
   "execution_count": 19,
   "id": "dd78ac0c-ca09-4d41-aa73-ba997f3536b9",
   "metadata": {},
   "outputs": [
    {
     "ename": "ValueError",
     "evalue": "list.remove(x): x not in list",
     "output_type": "error",
     "traceback": [
      "\u001b[0;31m---------------------------------------------------------------------------\u001b[0m",
      "\u001b[0;31mValueError\u001b[0m                                Traceback (most recent call last)",
      "Cell \u001b[0;32mIn[19], line 1\u001b[0m\n\u001b[0;32m----> 1\u001b[0m \u001b[43mfrutas\u001b[49m\u001b[38;5;241;43m.\u001b[39;49m\u001b[43mremove\u001b[49m\u001b[43m(\u001b[49m\u001b[38;5;124;43m'\u001b[39;49m\u001b[38;5;124;43mkiwi\u001b[39;49m\u001b[38;5;124;43m'\u001b[39;49m\u001b[43m)\u001b[49m\n",
      "\u001b[0;31mValueError\u001b[0m: list.remove(x): x not in list"
     ]
    }
   ],
   "source": [
    "frutas.remove('kiwi')"
   ]
  },
  {
   "cell_type": "code",
   "execution_count": 20,
   "id": "88739b7c-2301-4ca2-ba9c-286684d63162",
   "metadata": {},
   "outputs": [],
   "source": [
    "del frutas[1] "
   ]
  },
  {
   "cell_type": "code",
   "execution_count": 21,
   "id": "26a0aa77-82e5-4c60-b28f-2b450ee03287",
   "metadata": {},
   "outputs": [
    {
     "name": "stdout",
     "output_type": "stream",
     "text": [
      "['manzana', 'cereza', 'naranja']\n"
     ]
    }
   ],
   "source": [
    "print(frutas)"
   ]
  },
  {
   "cell_type": "code",
   "execution_count": 22,
   "id": "2dd472eb-44c3-441d-a209-28b5fac30be9",
   "metadata": {},
   "outputs": [],
   "source": [
    "ultimo = frutas.pop()"
   ]
  },
  {
   "cell_type": "code",
   "execution_count": 26,
   "id": "7d9b71a2-dd61-4f58-859a-cf4fa517229f",
   "metadata": {},
   "outputs": [
    {
     "name": "stdout",
     "output_type": "stream",
     "text": [
      "['manzana', 'cereza']\n"
     ]
    }
   ],
   "source": [
    "print(frutas)"
   ]
  },
  {
   "cell_type": "code",
   "execution_count": 25,
   "id": "edab90f0-f616-4144-a070-769d2e837803",
   "metadata": {},
   "outputs": [
    {
     "data": {
      "text/plain": [
       "2"
      ]
     },
     "execution_count": 25,
     "metadata": {},
     "output_type": "execute_result"
    }
   ],
   "source": [
    "len(frutas)"
   ]
  },
  {
   "cell_type": "code",
   "execution_count": 27,
   "id": "1ca0095c-397e-46f8-94d7-3b3506fd9c80",
   "metadata": {},
   "outputs": [
    {
     "name": "stdout",
     "output_type": "stream",
     "text": [
      "manzana\n",
      "cereza\n"
     ]
    }
   ],
   "source": [
    "for fruta in frutas:\n",
    "    print(fruta)"
   ]
  },
  {
   "cell_type": "code",
   "execution_count": 28,
   "id": "cedde301-8a0d-446c-8289-a1f192092374",
   "metadata": {},
   "outputs": [],
   "source": [
    "palabra = \"HOla\""
   ]
  },
  {
   "cell_type": "code",
   "execution_count": 31,
   "id": "50cf2325-16f3-4349-a1e1-20031d4cdcce",
   "metadata": {},
   "outputs": [],
   "source": [
    "caracteres = list(palabra)"
   ]
  },
  {
   "cell_type": "code",
   "execution_count": 32,
   "id": "f188b8e8-27bb-4504-bc45-20801badca0e",
   "metadata": {},
   "outputs": [
    {
     "name": "stdout",
     "output_type": "stream",
     "text": [
      "['H', 'O', 'l', 'a']\n"
     ]
    }
   ],
   "source": [
    "print(caracteres)"
   ]
  },
  {
   "cell_type": "code",
   "execution_count": null,
   "id": "c1035656-05e0-456a-a726-ed27d6adbb90",
   "metadata": {},
   "outputs": [],
   "source": []
  }
 ],
 "metadata": {
  "kernelspec": {
   "display_name": "Python 3 (ipykernel)",
   "language": "python",
   "name": "python3"
  },
  "language_info": {
   "codemirror_mode": {
    "name": "ipython",
    "version": 3
   },
   "file_extension": ".py",
   "mimetype": "text/x-python",
   "name": "python",
   "nbconvert_exporter": "python",
   "pygments_lexer": "ipython3",
   "version": "3.11.8"
  }
 },
 "nbformat": 4,
 "nbformat_minor": 5
}
