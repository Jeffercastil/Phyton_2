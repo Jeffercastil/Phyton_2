{
 "cells": [
  {
   "cell_type": "code",
   "execution_count": 9,
   "id": "b7143dd6-dafe-49d7-b071-0df7547711e6",
   "metadata": {},
   "outputs": [],
   "source": [
    "class DataSet:\n",
    "\n",
    "    def __init__(self, data):\n",
    "        self._data = data  # Atributo \"privado\"\n",
    "        self._tamaño = len(data)\n",
    "\n",
    "    def media(self):\n",
    "        return sum(self._data) / self._tamaño\n",
    "\n",
    "    def varianza(self):\n",
    "        mu = self.media()\n",
    "        return sum((x - mu) ** 2 for x in self._data) / self._tamaño\n",
    "\n",
    "    # Método para obtener el data \"privado\"\n",
    "    def obtener_data(self):\n",
    "        return self._data.copy()  # Devuelve una copia para proteger el atributo original"
   ]
  },
  {
   "cell_type": "code",
   "execution_count": 10,
   "id": "1cd2889d-19b4-41f8-9b54-078e11e102b1",
   "metadata": {},
   "outputs": [],
   "source": [
    "datos = DataSet([4,3,7])"
   ]
  },
  {
   "cell_type": "code",
   "execution_count": 12,
   "id": "95f49e88-aa46-4008-84d8-65d2cac687ff",
   "metadata": {},
   "outputs": [
    {
     "data": {
      "text/plain": [
       "[4, 3, 7]"
      ]
     },
     "execution_count": 12,
     "metadata": {},
     "output_type": "execute_result"
    }
   ],
   "source": [
    "datos.obtener_data()"
   ]
  },
  {
   "cell_type": "code",
   "execution_count": 13,
   "id": "97227680-c90d-4003-8e13-92a4a9f29b52",
   "metadata": {},
   "outputs": [
    {
     "data": {
      "text/plain": [
       "[4, 3, 7]"
      ]
     },
     "execution_count": 13,
     "metadata": {},
     "output_type": "execute_result"
    }
   ],
   "source": [
    "datos._data"
   ]
  },
  {
   "cell_type": "code",
   "execution_count": 14,
   "id": "703e0206-c6c7-4fff-9c63-9c35af989609",
   "metadata": {},
   "outputs": [],
   "source": [
    "from abc import ABC, abstractmethod\n",
    "\n",
    "class CalculadorEstadisticas(ABC):\n",
    "    def __init__(self, data):\n",
    "        self.data = data\n",
    "    \n",
    "    @abstractmethod\n",
    "    def calcular(self):\n",
    "        pass\n"
   ]
  },
  {
   "cell_type": "code",
   "execution_count": 16,
   "id": "21735795-c459-441f-90a0-d3433676c020",
   "metadata": {},
   "outputs": [],
   "source": [
    "class CalculadorMedia(CalculadorEstadisticas):\n",
    "    def calcular(self):\n",
    "        return sum(self.data) / len(self.data)\n"
   ]
  },
  {
   "cell_type": "code",
   "execution_count": 17,
   "id": "9e0b4bba-84b3-4099-949f-40c5effe7b1d",
   "metadata": {},
   "outputs": [],
   "source": [
    "class CalculadorVarianza:\n",
    "    def __init__(self, data):\n",
    "        self.data = data\n",
    "        self.calculador_media = CalculadorMedia(data)\n",
    "\n",
    "    def calcular_varianza(self):\n",
    "        media = self.calculador_media.calcular()\n",
    "        return sum((x - media) ** 2 for x in self.data) / len(self.data)\n"
   ]
  },
  {
   "cell_type": "code",
   "execution_count": 18,
   "id": "259684a3-37b6-4e32-87ed-e982cfff1ce5",
   "metadata": {},
   "outputs": [],
   "source": [
    "datos = CalculadorVarianza([3,6,8])"
   ]
  },
  {
   "cell_type": "code",
   "execution_count": 21,
   "id": "3dc073b8-407c-4e84-a598-ddd5594f9f5d",
   "metadata": {},
   "outputs": [
    {
     "data": {
      "text/plain": [
       "<__main__.CalculadorMedia at 0x7bbb61dedf50>"
      ]
     },
     "execution_count": 21,
     "metadata": {},
     "output_type": "execute_result"
    }
   ],
   "source": [
    "datos.calculador_media"
   ]
  },
  {
   "cell_type": "code",
   "execution_count": null,
   "id": "f1001e1a-2685-4a7c-9391-806188586487",
   "metadata": {},
   "outputs": [],
   "source": []
  }
 ],
 "metadata": {
  "kernelspec": {
   "display_name": "Python 3 (ipykernel)",
   "language": "python",
   "name": "python3"
  },
  "language_info": {
   "codemirror_mode": {
    "name": "ipython",
    "version": 3
   },
   "file_extension": ".py",
   "mimetype": "text/x-python",
   "name": "python",
   "nbconvert_exporter": "python",
   "pygments_lexer": "ipython3",
   "version": "3.11.8"
  }
 },
 "nbformat": 4,
 "nbformat_minor": 5
}
