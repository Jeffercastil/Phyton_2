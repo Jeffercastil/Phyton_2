{
 "cells": [
  {
   "cell_type": "code",
   "execution_count": 7,
   "id": "79a34605-0463-4776-95e3-5355c24b7b11",
   "metadata": {},
   "outputs": [],
   "source": [
    "class DataSet:\n",
    "    tipo_dato = 'numérico'\n",
    "    def __init__(self,data):\n",
    "        self.data =  data\n",
    "\n",
    "    def media(self):\n",
    "        \"\"\"Devuelve la media de los datos.\"\"\"\n",
    "        return sum(self.data) / len(self.data)\n",
    "\n",
    "    def mediana(self):\n",
    "        \"\"\"Devuelve la mediana de los datos.\"\"\"\n",
    "        sorted_data = sorted(self.data)\n",
    "        n = len(sorted_data)\n",
    "        midpoint = n // 2\n",
    "        if n % 2 == 0:\n",
    "            return (sorted_data[midpoint - 1] + sorted_data[midpoint]) / 2\n",
    "        else:\n",
    "            return sorted_data[midpoint]\n"
   ]
  },
  {
   "cell_type": "code",
   "execution_count": 15,
   "id": "d45fb736-3358-44ea-84fe-37315993ab95",
   "metadata": {},
   "outputs": [],
   "source": [
    "mis_datos = DataSet([1, 2, 3, 4, 5,10])"
   ]
  },
  {
   "cell_type": "code",
   "execution_count": 6,
   "id": "86711237-41db-43cf-bbc7-1999df4776f3",
   "metadata": {},
   "outputs": [
    {
     "name": "stdout",
     "output_type": "stream",
     "text": [
      "[1, 2, 3, 4, 5]\n",
      "numérico\n"
     ]
    }
   ],
   "source": [
    "print(mis_datos.data)\n",
    "print(mis_datos.tipo_dato)"
   ]
  },
  {
   "cell_type": "code",
   "execution_count": 16,
   "id": "7609be33-17f4-4c99-ab6a-440c1ee3b916",
   "metadata": {},
   "outputs": [
    {
     "data": {
      "text/plain": [
       "3.5"
      ]
     },
     "execution_count": 16,
     "metadata": {},
     "output_type": "execute_result"
    }
   ],
   "source": [
    "mis_datos.mediana()"
   ]
  },
  {
   "cell_type": "code",
   "execution_count": 17,
   "id": "068f588d-d494-4064-8fd0-c4aec74e4d22",
   "metadata": {},
   "outputs": [
    {
     "data": {
      "text/plain": [
       "4.166666666666667"
      ]
     },
     "execution_count": 17,
     "metadata": {},
     "output_type": "execute_result"
    }
   ],
   "source": [
    "mis_datos.media()"
   ]
  },
  {
   "cell_type": "code",
   "execution_count": null,
   "id": "2f1c5985-6f8f-410c-a221-31a1e187d320",
   "metadata": {},
   "outputs": [],
   "source": []
  }
 ],
 "metadata": {
  "kernelspec": {
   "display_name": "Python 3 (ipykernel)",
   "language": "python",
   "name": "python3"
  },
  "language_info": {
   "codemirror_mode": {
    "name": "ipython",
    "version": 3
   },
   "file_extension": ".py",
   "mimetype": "text/x-python",
   "name": "python",
   "nbconvert_exporter": "python",
   "pygments_lexer": "ipython3",
   "version": "3.11.8"
  }
 },
 "nbformat": 4,
 "nbformat_minor": 5
}
