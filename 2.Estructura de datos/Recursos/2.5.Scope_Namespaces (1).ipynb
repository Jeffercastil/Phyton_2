{
 "cells": [
  {
   "cell_type": "markdown",
   "id": "73678ad9-16df-44a7-85f9-8cd4a1e8831e",
   "metadata": {},
   "source": [
    "### Alcance (Scope) y Espacios de Nombres (Namespaces)\n",
    "\n",
    "**Definición de Espacios de Nombres (Namespaces):**\n",
    "\n",
    "Un espacio de nombres en Python es un sistema que garantiza que los nombres en un programa sean únicos y no se creen conflictos. Los espacios de nombres son implementados como diccionarios en Python, donde las claves son los nombres y los valores son los objetos a los que se refieren los nombres. Python utiliza estos espacios para organizar y separar las variables en un programa.\n",
    "\n",
    "**Tipos de Espacios de Nombres:**\n",
    "\n",
    "- **Espacio de Nombres Local:** Es el espacio de nombres que se crea dentro de una función. Este espacio incluye los nombres de parámetros y variables definidas dentro de la función. No es accesible desde fuera de la función.\n",
    "\n",
    "- **Espacio de Nombres Global:** Es el espacio de nombres del módulo actual. Este nivel cubre los nombres definidos en el nivel más alto de un archivo de script.\n",
    "\n",
    "- **Espacio de Nombres Incorporado (Builtin):** Este es el espacio de nombres que contiene los nombres incorporados en Python; estos están disponibles siempre que Python se está ejecutando.\n",
    "\n",
    "**Definición de Alcance (Scope):**\n",
    "\n",
    "El alcance en Python se refiere a la región de un programa donde un espacio de nombres es directamente accesible. El alcance decide la visibilidad de los nombres de variables a diferentes partes de tu código.\n",
    "\n",
    "**Reglas de Alcance en Python (LEGB Rule):**\n",
    "\n",
    "1. **Local (L):** Primero, Python busca el nombre en el espacio de nombres local más interno.\n",
    "\n",
    "2. **Enclosing (E):** Si el nombre no se encuentra, busca en los espacios de nombres locales de todas las funciones que lo encierran, desde el interior hacia el exterior.\n",
    "\n",
    "3. **Global (G):** Si el nombre no se encuentra en los espacios anteriores, se busca en el espacio de nombres global.\n",
    "\n",
    "4. **Built-in (B):** Si aún no se encuentra, Python lo busca en el espacio de nombres incorporado.\n",
    "\n",
    "**Ejemplo de Alcance y Espacios de Nombres:**\n",
    "\n",
    "```python\n",
    "x = 'global x'  # Variable global\n",
    "\n",
    "def outer():\n",
    "    x = 'outer x'  # Variable en alcance que encierra (enclosing)\n",
    "\n",
    "    def inner():\n",
    "        nonlocal x  # Se refiere a la x de outer\n",
    "        x = 'inner x'  # Variable local de inner\n",
    "        print(\"Inner:\", x)\n",
    "\n",
    "    inner()\n",
    "    print(\"Outer:\", x)\n",
    "\n",
    "outer()\n",
    "print(\"Global:\", x)\n",
    "```\n",
    "\n",
    "En este ejemplo, `x` tiene diferentes valores en diferentes alcances. La palabra clave `nonlocal` se utiliza para modificar la variable `x` del alcance que encierra (`outer`), mientras que la variable global `x` permanece sin cambios.\n",
    "\n",
    "**Mejores Prácticas:**\n",
    "\n",
    "- Mantén tus espacios de nombres y alcances lo más simple y claro posible para evitar confusiones y errores.\n",
    "- Limita el uso de variables globales y prefiere pasar parámetros a funciones.\n",
    "- Utiliza las palabras clave `global` y `nonlocal` con cuidado, ya que su uso puede hacer que el código sea más difícil de entender.\n",
    "\n",
    "El concepto de alcance y espacios de nombres es fundamental para organizar y estructurar el código de manera efectiva, asegurando que las variables se utilicen en los contextos apropiados.\n"
   ]
  },
  {
   "cell_type": "code",
   "execution_count": 1,
   "id": "9bf3672c-7033-4f6f-86d4-7f481dba0c90",
   "metadata": {},
   "outputs": [
    {
     "name": "stdout",
     "output_type": "stream",
     "text": [
      "Inner: inner x\n",
      "Outer: inner x\n",
      "Global: global x\n"
     ]
    }
   ],
   "source": [
    "x = 'global x'  # Variable global\n",
    "\n",
    "def outer():\n",
    "    x = 'outer x'  # Variable en alcance que encierra (enclosing)\n",
    "\n",
    "    def inner():\n",
    "        nonlocal x  # Se refiere a la x de outer\n",
    "        x = 'inner x'  # Variable local de inner\n",
    "        print(\"Inner:\", x)\n",
    "\n",
    "    inner()\n",
    "    print(\"Outer:\", x)\n",
    "\n",
    "outer()\n",
    "print(\"Global:\", x)"
   ]
  },
  {
   "cell_type": "code",
   "execution_count": null,
   "id": "07422788-12cb-4982-8970-8eebeee9bf6c",
   "metadata": {},
   "outputs": [],
   "source": []
  }
 ],
 "metadata": {
  "kernelspec": {
   "display_name": "Python 3 (ipykernel)",
   "language": "python",
   "name": "python3"
  },
  "language_info": {
   "codemirror_mode": {
    "name": "ipython",
    "version": 3
   },
   "file_extension": ".py",
   "mimetype": "text/x-python",
   "name": "python",
   "nbconvert_exporter": "python",
   "pygments_lexer": "ipython3",
   "version": "3.11.8"
  }
 },
 "nbformat": 4,
 "nbformat_minor": 5
}
