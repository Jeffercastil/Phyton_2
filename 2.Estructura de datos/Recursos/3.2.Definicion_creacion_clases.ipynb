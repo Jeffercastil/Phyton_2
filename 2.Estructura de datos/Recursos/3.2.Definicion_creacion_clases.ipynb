{
 "cells": [
  {
   "cell_type": "markdown",
   "id": "fa7b00f0-0fb8-4b8b-8a28-de527719ef1f",
   "metadata": {},
   "source": [
    "## Estructura básica de una clase\n",
    "```\n",
    "class NombreDeLaClase:\n",
    "    # Atributo de clase\n",
    "    atributo_de_clase = valor\n",
    "\n",
    "    def __init__(self, parametro1, parametro2):\n",
    "        # Atributos de instancia\n",
    "        self.parametro1 = parametro1\n",
    "        self.parametro2 = parametro2\n",
    "\n",
    "    # Método de instancia\n",
    "    def metodo_de_instancia(self):\n",
    "        # Código del método\n",
    "        return self.parametro1 + self.parametro2\n",
    "\n",
    "```\n",
    "- NombreDeLaClase: Sigue la convención de nombrar clases con cada palabra capitalizada (CamelCase).\n",
    "- `__init__`: Es un método especial que se ejecuta al crear un nuevo objeto de la clase (conocido como constructor). - Los self.parametro1 y self.parametro2 son atributos de instancia, y self es una referencia al objeto actual.\n",
    "- atributo_de_clase: Es un valor asociado con la clase misma, no con una instancia particular.\n",
    "- metodo_de_instancia: Es un método que se puede llamar sobre una instancia de la clase. El primer argumento, self, es una referencia a la instancia particular."
   ]
  },
  {
   "cell_type": "code",
   "execution_count": 1,
   "id": "49053c4d-260f-4927-967c-d331a8368fb2",
   "metadata": {},
   "outputs": [],
   "source": [
    "class DataSet:\n",
    "    tipo_dato = 'numérico'\n",
    "    def __init__(self,data):\n",
    "        self.data =  data\n",
    "\n",
    "    def media(self):\n",
    "        \"\"\"Devuelve la media de los datos.\"\"\"\n",
    "        return sum(self.data) / len(self.data)\n",
    "\n",
    "    def mediana(self):\n",
    "        \"\"\"Devuelve la mediana de los datos.\"\"\"\n",
    "        sorted_data = sorted(self.data)\n",
    "        n = len(sorted_data)\n",
    "        midpoint = n // 2\n",
    "        if n % 2 == 0:\n",
    "            return (sorted_data[midpoint - 1] + sorted_data[midpoint]) / 2\n",
    "        else:\n",
    "            return sorted_data[midpoint]\n"
   ]
  },
  {
   "cell_type": "code",
   "execution_count": null,
   "id": "cded6fc6-fc2d-47ad-8bb0-bf339b5fee82",
   "metadata": {},
   "outputs": [],
   "source": [
    "[1,2,3,4]"
   ]
  }
 ],
 "metadata": {
  "kernelspec": {
   "display_name": "Python 3 (ipykernel)",
   "language": "python",
   "name": "python3"
  },
  "language_info": {
   "codemirror_mode": {
    "name": "ipython",
    "version": 3
   },
   "file_extension": ".py",
   "mimetype": "text/x-python",
   "name": "python",
   "nbconvert_exporter": "python",
   "pygments_lexer": "ipython3",
   "version": "3.11.8"
  }
 },
 "nbformat": 4,
 "nbformat_minor": 5
}
