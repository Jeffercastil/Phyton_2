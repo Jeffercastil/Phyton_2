{
 "cells": [
  {
   "cell_type": "code",
   "execution_count": 16,
   "id": "c7cf5193-182e-49bb-818f-bae2dd2d18c0",
   "metadata": {},
   "outputs": [],
   "source": [
    "class DataSet:\n",
    "    tipo_dato = 'numérico'\n",
    "    def __init__(self,data):\n",
    "        self.data =  data\n",
    "\n",
    "    def media(self):\n",
    "        \"\"\"Devuelve la media de los datos.\"\"\"\n",
    "        return sum(self.data) / len(self.data)\n",
    "\n",
    "    def mediana(self):\n",
    "        \"\"\"Devuelve la mediana de los datos.\"\"\"\n",
    "        sorted_data = sorted(self.data)\n",
    "        n = len(sorted_data)\n",
    "        midpoint = n // 2\n",
    "        if n % 2 == 0:\n",
    "            return (sorted_data[midpoint - 1] + sorted_data[midpoint]) / 2\n",
    "        else:\n",
    "            return sorted_data[midpoint]\n",
    "\n",
    "    def anadir_dato(self, nuevo_dato):\n",
    "        self.data.append(nuevo_dato)\n"
   ]
  },
  {
   "cell_type": "code",
   "execution_count": 17,
   "id": "c530bd9f-694c-454f-8dcb-8d4fc4fed9a6",
   "metadata": {},
   "outputs": [],
   "source": [
    "mis_datos = DataSet([1, 2, 3, 4, 5,10,8])"
   ]
  },
  {
   "cell_type": "code",
   "execution_count": 18,
   "id": "9ec9b408-be9f-42c6-9fd1-c89214d5e0d2",
   "metadata": {},
   "outputs": [
    {
     "data": {
      "text/plain": [
       "4.714285714285714"
      ]
     },
     "execution_count": 18,
     "metadata": {},
     "output_type": "execute_result"
    }
   ],
   "source": [
    "mis_datos.media()"
   ]
  },
  {
   "cell_type": "code",
   "execution_count": 19,
   "id": "091ff1f2-f1ea-4fb6-b161-b4805b2f9fc5",
   "metadata": {},
   "outputs": [
    {
     "data": {
      "text/plain": [
       "[1, 2, 3, 4, 5, 10, 8]"
      ]
     },
     "execution_count": 19,
     "metadata": {},
     "output_type": "execute_result"
    }
   ],
   "source": [
    "mis_datos.data"
   ]
  },
  {
   "cell_type": "code",
   "execution_count": 20,
   "id": "620ebf1c-4196-45e7-bdd0-e1e3b5d80bbb",
   "metadata": {},
   "outputs": [],
   "source": [
    "mis_datos.anadir_dato(55)"
   ]
  },
  {
   "cell_type": "code",
   "execution_count": 21,
   "id": "b2713a1d-0bdd-4e8e-926f-269147ec8a46",
   "metadata": {},
   "outputs": [
    {
     "data": {
      "text/plain": [
       "[1, 2, 3, 4, 5, 10, 8, 55]"
      ]
     },
     "execution_count": 21,
     "metadata": {},
     "output_type": "execute_result"
    }
   ],
   "source": [
    "mis_datos.data"
   ]
  },
  {
   "cell_type": "code",
   "execution_count": 22,
   "id": "11d7b45a-a9ad-4839-972b-8c0efb3fb7b9",
   "metadata": {},
   "outputs": [
    {
     "data": {
      "text/plain": [
       "11.0"
      ]
     },
     "execution_count": 22,
     "metadata": {},
     "output_type": "execute_result"
    }
   ],
   "source": [
    "mis_datos.media()"
   ]
  },
  {
   "cell_type": "code",
   "execution_count": null,
   "id": "62b02423-6e84-4870-bf4c-3b48265f2684",
   "metadata": {},
   "outputs": [],
   "source": []
  }
 ],
 "metadata": {
  "kernelspec": {
   "display_name": "Python 3 (ipykernel)",
   "language": "python",
   "name": "python3"
  },
  "language_info": {
   "codemirror_mode": {
    "name": "ipython",
    "version": 3
   },
   "file_extension": ".py",
   "mimetype": "text/x-python",
   "name": "python",
   "nbconvert_exporter": "python",
   "pygments_lexer": "ipython3",
   "version": "3.11.8"
  }
 },
 "nbformat": 4,
 "nbformat_minor": 5
}
