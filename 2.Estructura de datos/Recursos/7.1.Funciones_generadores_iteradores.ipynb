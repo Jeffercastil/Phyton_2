{
 "cells": [
  {
   "cell_type": "markdown",
   "id": "14da2bc1-fef4-47af-a946-49ce1d215691",
   "metadata": {},
   "source": [
    "## Iteradores:\n",
    "\n",
    "Un iterador en Python es un objeto que se utiliza para iterar sobre elementos iterables (como listas, tuplas, diccionarios y conjuntos). Un iterador implementa dos métodos esenciales: ```__iter__()``` y ```__next__()```\n",
    "\n",
    "- ```__iter__()``` devuelve el objeto iterador mismo y se utiliza una vez al principio del ciclo.\n",
    "- ```__next__()``` devuelve el siguiente elemento de la secuencia. Cuando no hay más elementos, lanza una excepción StopIteration."
   ]
  },
  {
   "cell_type": "code",
   "execution_count": 1,
   "id": "bc63b71d-81fa-4e46-96b3-92fd4b0c4bef",
   "metadata": {},
   "outputs": [
    {
     "name": "stdout",
     "output_type": "stream",
     "text": [
      "3\n",
      "4\n",
      "5\n",
      "6\n",
      "7\n"
     ]
    }
   ],
   "source": [
    "class Contador:\n",
    "    def __init__(self, bajo, alto):\n",
    "        self.actual = bajo\n",
    "        self.alto = alto\n",
    "\n",
    "    def __iter__(self):\n",
    "        return self\n",
    "\n",
    "    def __next__(self):\n",
    "        if self.actual < self.alto:\n",
    "            num = self.actual\n",
    "            self.actual += 1\n",
    "            return num\n",
    "        raise StopIteration\n",
    "\n",
    "# Usando el iterador\n",
    "for num in Contador(3, 8):\n",
    "    print(num)\n"
   ]
  },
  {
   "cell_type": "markdown",
   "id": "11488120-ee91-4855-b9a7-a29ce96efd91",
   "metadata": {},
   "source": [
    "### Funciones Generadoras:\n",
    "\n",
    "Una función generadora es una forma simple de crear un iterador. Se define como una función regular, pero utiliza la declaración yield para devolver datos. Una vez que una función generadora produce un valor (con yield), la función se pausa y la ejecución se transfiere al llamador. La función puede luego continuar desde donde se detuvo después de la última llamada de ```yield```."
   ]
  },
  {
   "cell_type": "code",
   "execution_count": 2,
   "id": "a279f683-e908-4dd6-98be-29a526f05cef",
   "metadata": {},
   "outputs": [
    {
     "name": "stdout",
     "output_type": "stream",
     "text": [
      "3\n",
      "4\n",
      "5\n",
      "6\n",
      "7\n"
     ]
    }
   ],
   "source": [
    "def contador(bajo, alto):\n",
    "    while bajo < alto:\n",
    "        yield bajo\n",
    "        bajo += 1\n",
    "\n",
    "# Usando la función generadora\n",
    "for i in contador(3, 8):\n",
    "    print(i)\n"
   ]
  },
  {
   "cell_type": "code",
   "execution_count": null,
   "id": "ebbb08da-a80f-4602-864a-c705e43e4bee",
   "metadata": {},
   "outputs": [],
   "source": []
  }
 ],
 "metadata": {
  "kernelspec": {
   "display_name": "Python 3 (ipykernel)",
   "language": "python",
   "name": "python3"
  },
  "language_info": {
   "codemirror_mode": {
    "name": "ipython",
    "version": 3
   },
   "file_extension": ".py",
   "mimetype": "text/x-python",
   "name": "python",
   "nbconvert_exporter": "python",
   "pygments_lexer": "ipython3",
   "version": "3.11.8"
  }
 },
 "nbformat": 4,
 "nbformat_minor": 5
}
