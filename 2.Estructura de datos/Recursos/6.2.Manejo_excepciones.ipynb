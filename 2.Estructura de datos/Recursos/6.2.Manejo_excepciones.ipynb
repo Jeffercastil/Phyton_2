{
 "cells": [
  {
   "cell_type": "markdown",
   "id": "41544749-7f3e-4fc7-96c2-7b87cb5ffbc5",
   "metadata": {},
   "source": [
    "## Algunas de las excepciones integradas más comunes en Python:\n",
    "\n",
    "1. **BaseException**: Es la clase base para todas las excepciones integradas. No está destinada a ser capturada directamente.\n",
    "2. **SystemExit**: Se lanza por la función `sys.exit()`.\n",
    "3. **KeyboardInterrupt**: Se lanza cuando el usuario interrumpe la ejecución del programa, generalmente presionando Ctrl+C.\n",
    "4. **Exception**: Casi todas las excepciones integradas heredan de esta clase. Es la clase base para las excepciones no relacionadas con el sistema.\n",
    "5. **StopIteration**: Se lanza por los iteradores para señalar que no quedan elementos.\n",
    "6. **ArithmeticError**: Base para errores en operaciones aritméticas. No se usa directamente, pero sí clases derivadas como:\n",
    "   - **ZeroDivisionError**: Se lanza cuando el divisor de una división es cero.\n",
    "   - **OverflowError**: Se lanza cuando el resultado de una operación aritmética es demasiado grande para ser representado.\n",
    "   - **FloatingPointError**: Se lanza cuando ocurre un error en una operación de punto flotante.\n",
    "7. **LookupError**: Base para errores de búsqueda. No se usa directamente, pero sí clases derivadas como:\n",
    "   - **IndexError**: Se lanza cuando un índice no es válido para una secuencia.\n",
    "   - **KeyError**: Se lanza cuando una clave no es válida para un diccionario.\n",
    "8. **NameError**: Se lanza cuando no se encuentra una variable local o global.\n",
    "9. **TypeError**: Se lanza cuando se aplica una operación o función a un objeto de tipo inapropiado.\n",
    "10. **ValueError**: Se lanza cuando una operación o función recibe un argumento con el tipo correcto pero valor inadecuado.\n",
    "11. **FileNotFoundError**: Se lanza cuando una operación de archivo falla porque no se pudo encontrar el archivo.\n",
    "12. **PermissionError**: Se lanza cuando una operación de archivo falla debido a problemas de permisos."
   ]
  },
  {
   "cell_type": "code",
   "execution_count": 14,
   "id": "e8ad3ff2-5bfb-41f1-b60d-26ce9d69b5e0",
   "metadata": {},
   "outputs": [
    {
     "ename": "ZeroDivisionError",
     "evalue": "division by zero",
     "output_type": "error",
     "traceback": [
      "\u001b[0;31m---------------------------------------------------------------------------\u001b[0m",
      "\u001b[0;31mZeroDivisionError\u001b[0m                         Traceback (most recent call last)",
      "Cell \u001b[0;32mIn[14], line 1\u001b[0m\n\u001b[0;32m----> 1\u001b[0m resultado \u001b[38;5;241m=\u001b[39m \u001b[38;5;241;43m10\u001b[39;49m\u001b[43m \u001b[49m\u001b[38;5;241;43m/\u001b[39;49m\u001b[43m \u001b[49m\u001b[38;5;241;43m0\u001b[39;49m\n",
      "\u001b[0;31mZeroDivisionError\u001b[0m: division by zero"
     ]
    }
   ],
   "source": [
    "resultado = 10 / 0"
   ]
  },
  {
   "cell_type": "code",
   "execution_count": 15,
   "id": "fd3ad7e1-7775-410d-ae2e-4075aa85c27c",
   "metadata": {},
   "outputs": [
    {
     "name": "stdout",
     "output_type": "stream",
     "text": [
      "¡Error! División por cero.\n"
     ]
    }
   ],
   "source": [
    "try:\n",
    "    # Código que puede causar una excepción\n",
    "    resultado = 10 / 0\n",
    "except ZeroDivisionError:\n",
    "    # Qué hacer si se produce la excepción ZeroDivisionError\n",
    "    print(\"¡Error! División por cero.\")"
   ]
  },
  {
   "cell_type": "code",
   "execution_count": 16,
   "id": "1d336a43-d51a-4b45-87bd-ec32ce1481be",
   "metadata": {},
   "outputs": [],
   "source": [
    "try:\n",
    "    # Código riesgoso\n",
    "    ...\n",
    "except:\n",
    "    print(\"Algo salió mal.\")"
   ]
  },
  {
   "cell_type": "code",
   "execution_count": 18,
   "id": "542c0759-b6ba-46df-a951-34b7751b943c",
   "metadata": {},
   "outputs": [
    {
     "name": "stdin",
     "output_type": "stream",
     "text": [
      "Ingresa un número:  df\n"
     ]
    },
    {
     "name": "stdout",
     "output_type": "stream",
     "text": [
      "No es un número válido.\n"
     ]
    }
   ],
   "source": [
    "try:\n",
    "    # Código que puede causar diferentes excepciones\n",
    "    # Por ejemplo, intentar convertir a entero un valor que no lo es\n",
    "    numero = int(input(\"Ingresa un número: \"))\n",
    "except ValueError:\n",
    "    print(\"No es un número válido.\")\n",
    "except KeyboardInterrupt:\n",
    "    print(\"No se permiten interrupciones.\")\n"
   ]
  },
  {
   "cell_type": "code",
   "execution_count": null,
   "id": "cdf064f4-8cee-4f1d-bc87-e9340e449d93",
   "metadata": {},
   "outputs": [],
   "source": [
    "try:\n",
    "    archivo = open('archivo.txt', 'r')\n",
    "    contenido = archivo.read()\n",
    "except FileNotFoundError:\n",
    "    print(\"El archivo no existe.\")\n",
    "finally:\n",
    "    archivo.close()"
   ]
  },
  {
   "cell_type": "code",
   "execution_count": null,
   "id": "d2c9a806-838e-4f92-b93e-2dda54fa757e",
   "metadata": {},
   "outputs": [],
   "source": [
    "try:\n",
    "    print(\"Intentando realizar una operación.\")\n",
    "except ValueError:\n",
    "    print(\"Algo salió mal con la operación.\")\n",
    "else:\n",
    "    print(\"La operación fue exitosa.\")"
   ]
  }
 ],
 "metadata": {
  "kernelspec": {
   "display_name": "Python 3 (ipykernel)",
   "language": "python",
   "name": "python3"
  },
  "language_info": {
   "codemirror_mode": {
    "name": "ipython",
    "version": 3
   },
   "file_extension": ".py",
   "mimetype": "text/x-python",
   "name": "python",
   "nbconvert_exporter": "python",
   "pygments_lexer": "ipython3",
   "version": "3.11.8"
  }
 },
 "nbformat": 4,
 "nbformat_minor": 5
}
