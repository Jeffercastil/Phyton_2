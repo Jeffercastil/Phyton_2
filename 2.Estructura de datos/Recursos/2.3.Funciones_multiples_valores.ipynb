{
 "cells": [
  {
   "cell_type": "code",
   "execution_count": 1,
   "id": "4484b450-1438-4df0-b950-25aa6b56c23f",
   "metadata": {},
   "outputs": [],
   "source": [
    "def suma(a,b):\n",
    "    return a+b"
   ]
  },
  {
   "cell_type": "code",
   "execution_count": 3,
   "id": "1eb21c86-6e93-41f4-91a4-255bab81bd1b",
   "metadata": {},
   "outputs": [],
   "source": [
    "S = suma(3,4)"
   ]
  },
  {
   "cell_type": "code",
   "execution_count": 4,
   "id": "f0e8cda0-ea69-4cd2-b9ac-43806a3ed9cc",
   "metadata": {},
   "outputs": [
    {
     "data": {
      "text/plain": [
       "7"
      ]
     },
     "execution_count": 4,
     "metadata": {},
     "output_type": "execute_result"
    }
   ],
   "source": [
    "S"
   ]
  },
  {
   "cell_type": "code",
   "execution_count": 5,
   "id": "ce2cd15a-1ce4-4cab-aa73-d4b05fa51e7c",
   "metadata": {},
   "outputs": [],
   "source": [
    "def operaciones_basicas(a, b):\n",
    "    suma = a + b\n",
    "    resta = a - b\n",
    "    producto = a * b\n",
    "    division = a / b\n",
    "    return suma, resta, producto, division"
   ]
  },
  {
   "cell_type": "code",
   "execution_count": 6,
   "id": "5e0d5fc0-772a-4128-ac96-75d4faeff23f",
   "metadata": {},
   "outputs": [
    {
     "data": {
      "text/plain": [
       "(20, 12, 64, 4.0)"
      ]
     },
     "execution_count": 6,
     "metadata": {},
     "output_type": "execute_result"
    }
   ],
   "source": [
    "operaciones_basicas(16,4)"
   ]
  },
  {
   "cell_type": "code",
   "execution_count": 8,
   "id": "0533de8f-276d-4d0d-af59-0bb532fc25d3",
   "metadata": {},
   "outputs": [],
   "source": [
    "suma, resta, producto, division = operaciones_basicas(30,4)"
   ]
  },
  {
   "cell_type": "code",
   "execution_count": 10,
   "id": "146fb19b-bf06-4f8a-a7d7-425b930175f2",
   "metadata": {},
   "outputs": [
    {
     "data": {
      "text/plain": [
       "26"
      ]
     },
     "execution_count": 10,
     "metadata": {},
     "output_type": "execute_result"
    }
   ],
   "source": [
    "resta"
   ]
  },
  {
   "cell_type": "code",
   "execution_count": 11,
   "id": "fcecba63-78e9-433e-8395-657beeb06b57",
   "metadata": {},
   "outputs": [],
   "source": [
    "def operaciones_basicas(a, b):\n",
    "    suma = a + b\n",
    "    resta = a - b\n",
    "    producto = a * b\n",
    "    division = a / b\n",
    "    return {'suma': suma, 'resta': resta, 'producto':producto, 'division':division}"
   ]
  },
  {
   "cell_type": "code",
   "execution_count": 13,
   "id": "54780cf2-cbc9-427a-b945-68c64e29d333",
   "metadata": {},
   "outputs": [],
   "source": [
    "R = operaciones_basicas(9,2)"
   ]
  },
  {
   "cell_type": "code",
   "execution_count": 14,
   "id": "fceedac3-9c9e-4b56-85c2-166c4173c580",
   "metadata": {},
   "outputs": [
    {
     "data": {
      "text/plain": [
       "11"
      ]
     },
     "execution_count": 14,
     "metadata": {},
     "output_type": "execute_result"
    }
   ],
   "source": [
    "R['suma']"
   ]
  },
  {
   "cell_type": "code",
   "execution_count": 15,
   "id": "fc652657-ffc5-408f-ac00-f3e494804b5f",
   "metadata": {},
   "outputs": [],
   "source": [
    "def operaciones_basicas(a, b):\n",
    "    suma = a + b\n",
    "    resta = a - b\n",
    "    producto = a * b\n",
    "    division = a / b\n",
    "    return suma, resta, producto, division"
   ]
  },
  {
   "cell_type": "code",
   "execution_count": 16,
   "id": "2bdbb14f-a324-43ff-ac8f-512ab0ae1dce",
   "metadata": {},
   "outputs": [],
   "source": [
    "n,m = 10,7"
   ]
  },
  {
   "cell_type": "code",
   "execution_count": 18,
   "id": "48ce1b6d-1e12-4728-956c-b3a8f0c72fb6",
   "metadata": {},
   "outputs": [],
   "source": [
    "s,r,m,d = operaciones_basicas(n,m)"
   ]
  },
  {
   "cell_type": "code",
   "execution_count": 21,
   "id": "567f276e-8a9f-48e1-b167-4cc4c739fd3b",
   "metadata": {},
   "outputs": [
    {
     "data": {
      "text/plain": [
       "1.4285714285714286"
      ]
     },
     "execution_count": 21,
     "metadata": {},
     "output_type": "execute_result"
    }
   ],
   "source": [
    "d"
   ]
  },
  {
   "cell_type": "code",
   "execution_count": null,
   "id": "6baed9bb-7507-4c36-b678-6136c5122cb6",
   "metadata": {},
   "outputs": [],
   "source": []
  }
 ],
 "metadata": {
  "kernelspec": {
   "display_name": "Python 3 (ipykernel)",
   "language": "python",
   "name": "python3"
  },
  "language_info": {
   "codemirror_mode": {
    "name": "ipython",
    "version": 3
   },
   "file_extension": ".py",
   "mimetype": "text/x-python",
   "name": "python",
   "nbconvert_exporter": "python",
   "pygments_lexer": "ipython3",
   "version": "3.11.8"
  }
 },
 "nbformat": 4,
 "nbformat_minor": 5
}
