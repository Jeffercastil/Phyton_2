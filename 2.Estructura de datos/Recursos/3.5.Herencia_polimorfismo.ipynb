{
 "cells": [
  {
   "cell_type": "code",
   "execution_count": 3,
   "id": "d0d34a41-1a28-4c04-9ffb-b85f7c06ee41",
   "metadata": {},
   "outputs": [],
   "source": [
    "class DataSet:\n",
    "\n",
    "    def __init__(self,data):\n",
    "        self.data =  data\n",
    "        self.tamaño = len(data)\n",
    "\n",
    "    def media(self):\n",
    "        \"\"\"Devuelve la media de los datos.\"\"\"\n",
    "        return sum(self.data) / len(self.data)"
   ]
  },
  {
   "cell_type": "code",
   "execution_count": 4,
   "id": "339a4f40-ccc2-47fd-a03f-103104a45859",
   "metadata": {},
   "outputs": [],
   "source": [
    "class DataSetPlus(DataSet):\n",
    "    def desviacion_estandar(self):\n",
    "        mu = self.media()\n",
    "        return (sum((x - mu) ** 2 for x in self.data) / self.tamaño) ** 0.5"
   ]
  },
  {
   "cell_type": "code",
   "execution_count": 7,
   "id": "6f062f6d-b74c-4c98-94d4-e3d89364367b",
   "metadata": {},
   "outputs": [],
   "source": [
    "datos = DataSet([3,5,8])\n",
    "datosplus = DataSetPlus([3,5,8])"
   ]
  },
  {
   "cell_type": "code",
   "execution_count": 9,
   "id": "0eea38af-ebde-4061-b564-dc094620c719",
   "metadata": {},
   "outputs": [
    {
     "ename": "AttributeError",
     "evalue": "'DataSet' object has no attribute 'desviacion_estandar'",
     "output_type": "error",
     "traceback": [
      "\u001b[0;31m---------------------------------------------------------------------------\u001b[0m",
      "\u001b[0;31mAttributeError\u001b[0m                            Traceback (most recent call last)",
      "Cell \u001b[0;32mIn[9], line 1\u001b[0m\n\u001b[0;32m----> 1\u001b[0m \u001b[43mdatos\u001b[49m\u001b[38;5;241;43m.\u001b[39;49m\u001b[43mdesviacion_estandar\u001b[49m()\n",
      "\u001b[0;31mAttributeError\u001b[0m: 'DataSet' object has no attribute 'desviacion_estandar'"
     ]
    }
   ],
   "source": [
    "datos.desviacion_estandar()"
   ]
  },
  {
   "cell_type": "code",
   "execution_count": 10,
   "id": "1d3373e7-ec74-4446-bef7-352ef912e707",
   "metadata": {},
   "outputs": [
    {
     "data": {
      "text/plain": [
       "2.0548046676563256"
      ]
     },
     "execution_count": 10,
     "metadata": {},
     "output_type": "execute_result"
    }
   ],
   "source": [
    "datosplus.desviacion_estandar()"
   ]
  },
  {
   "cell_type": "code",
   "execution_count": 20,
   "id": "9327d94f-77af-49ae-b0f8-d7b97669f9e2",
   "metadata": {},
   "outputs": [],
   "source": [
    "class DataSet8(DataSet):\n",
    "    def media(self):\n",
    "        \"\"\"Devuelve la media de los datos.\"\"\"\n",
    "        print(\"Estoy calculando la media\")\n",
    "        return sum(self.data) / len(self.data) "
   ]
  },
  {
   "cell_type": "code",
   "execution_count": 21,
   "id": "a9b7e237-b9cf-44d5-9857-dd82fb8b7507",
   "metadata": {},
   "outputs": [],
   "source": [
    "datos1 = DataSet8([3,5,8])"
   ]
  },
  {
   "cell_type": "code",
   "execution_count": 22,
   "id": "24e6276f-63ed-448a-9f48-31403041bb4b",
   "metadata": {},
   "outputs": [
    {
     "name": "stdout",
     "output_type": "stream",
     "text": [
      "Estoy calculando la media\n"
     ]
    },
    {
     "data": {
      "text/plain": [
       "5.333333333333333"
      ]
     },
     "execution_count": 22,
     "metadata": {},
     "output_type": "execute_result"
    }
   ],
   "source": [
    "datos1.media()"
   ]
  },
  {
   "cell_type": "code",
   "execution_count": 23,
   "id": "c72bca07-1c37-4eaf-af89-12a398977d3c",
   "metadata": {},
   "outputs": [
    {
     "data": {
      "text/plain": [
       "5.333333333333333"
      ]
     },
     "execution_count": 23,
     "metadata": {},
     "output_type": "execute_result"
    }
   ],
   "source": [
    "datos.media()"
   ]
  },
  {
   "cell_type": "code",
   "execution_count": null,
   "id": "73543a01-9c41-48c3-9392-8760a97426a2",
   "metadata": {},
   "outputs": [],
   "source": []
  }
 ],
 "metadata": {
  "kernelspec": {
   "display_name": "Python 3 (ipykernel)",
   "language": "python",
   "name": "python3"
  },
  "language_info": {
   "codemirror_mode": {
    "name": "ipython",
    "version": 3
   },
   "file_extension": ".py",
   "mimetype": "text/x-python",
   "name": "python",
   "nbconvert_exporter": "python",
   "pygments_lexer": "ipython3",
   "version": "3.11.8"
  }
 },
 "nbformat": 4,
 "nbformat_minor": 5
}
