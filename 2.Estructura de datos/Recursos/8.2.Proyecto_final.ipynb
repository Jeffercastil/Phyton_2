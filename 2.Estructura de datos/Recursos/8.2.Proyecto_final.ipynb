{
 "cells": [
  {
   "cell_type": "markdown",
   "id": "f1817572-2482-4209-b7ce-d2eb6f21954a",
   "metadata": {},
   "source": [
    "# Análisis Estadístico del Conjunto de Datos Iris\n",
    "\n",
    "## Objetivo:\n",
    "Desarrollar una aplicación en Python que permita a los usuarios realizar un análisis estadístico básico del conocido conjunto de datos Iris. Este análisis incluirá el cálculo del promedio y la desviación estándar para las características de las flores (longitud y ancho del sépalo, longitud y ancho del pétalo) para cada especie de Iris presente en el conjunto de datos.\n",
    "\n",
    "## Descripción:\n",
    "El conjunto de datos Iris contiene 150 muestras de tres especies de flores Iris (Iris setosa, Iris virginica e Iris versicolor), con 50 muestras para cada especie. Cada muestra tiene cuatro características: la longitud y el ancho del sépalo, y la longitud y el ancho del pétalo, todas medidas en centímetros.\n",
    "\n",
    "Tu tarea es crear una aplicación en Python que cargue este conjunto de datos desde un archivo CSV, organice los datos por especie y realice un análisis estadístico para cada tipo de característica mencionada. La aplicación debe ser capaz de informar los resultados de manera clara y concisa al usuario.\n",
    "\n",
    "\n",
    "![](https://media.licdn.com/dms/image/D5612AQFvpSLdhkfa0g/article-cover_image-shrink_600_2000/0/1694107215197?e=2147483647&v=beta&t=aSiPQP37OssvFRNT_Gjf95WZfTlr5CB3n_apgLGLrqo)\n"
   ]
  },
  {
   "cell_type": "code",
   "execution_count": 25,
   "id": "ea35e315-febf-4537-a418-8adc010e41de",
   "metadata": {},
   "outputs": [],
   "source": [
    "import csv\n",
    "import math"
   ]
  },
  {
   "cell_type": "code",
   "execution_count": 26,
   "id": "c3fd580e-9689-4fe7-b96a-7b3e16d422ee",
   "metadata": {},
   "outputs": [],
   "source": [
    "def cargar_datos(filepath):\n",
    "    with open(filepath, 'r') as file:\n",
    "        csv_reader = csv.reader(file)\n",
    "        dataset = [row for row in csv_reader if row]  # Asegura excluir filas vacías\n",
    "    return dataset"
   ]
  },
  {
   "cell_type": "code",
   "execution_count": 31,
   "id": "026b73f0-bb35-4611-bcc8-ae8f1e7b02af",
   "metadata": {},
   "outputs": [],
   "source": [
    "def agrupar_por_especie(datos):\n",
    "    agrupados = {}\n",
    "    for fila in datos:\n",
    "        especie = fila[-1]\n",
    "        caracteristicas = list(map(float, fila[:-1]))  # Convierte a float todas menos la especie\n",
    "        if especie not in agrupados:\n",
    "            agrupados[especie] = {'longitud_sepalo': [],\n",
    "                                  'ancho_sepalo': [],\n",
    "                                  'longitud_petalo': [],\n",
    "                                  'ancho_petalo': []}\n",
    "        agrupados[especie]['longitud_sepalo'].append(caracteristicas[0])\n",
    "        agrupados[especie]['ancho_sepalo'].append(caracteristicas[1])\n",
    "        agrupados[especie]['longitud_petalo'].append(caracteristicas[2])\n",
    "        agrupados[especie]['ancho_petalo'].append(caracteristicas[3])\n",
    "    return agrupados"
   ]
  },
  {
   "cell_type": "code",
   "execution_count": 33,
   "id": "fb159575-e839-4268-b4d5-edc74eb7eee6",
   "metadata": {},
   "outputs": [],
   "source": [
    "class Flor:\n",
    "    def __init__(self, longitud_sepalo, ancho_sepalo, longitud_petalo, ancho_petalo):\n",
    "        \"\"\"Inicializa la Flor con listas de sus características.\"\"\"\n",
    "        self.longitud_sepalo = longitud_sepalo\n",
    "        self.ancho_sepalo = ancho_sepalo\n",
    "        self.longitud_petalo = longitud_petalo\n",
    "        self.ancho_petalo = ancho_petalo\n",
    "\n",
    "    def promedio(self, datos):\n",
    "        \"\"\"Calcula el promedio de una lista de números.\"\"\"\n",
    "        return sum(datos) / len(datos)\n",
    "\n",
    "    def desviacion_estandar(self, datos):\n",
    "        \"\"\"Calcula la desviación estándar de una lista de números.\"\"\"\n",
    "        prom = self.promedio(datos)\n",
    "        varianza = sum((x - prom) ** 2 for x in datos) / len(datos)\n",
    "        return math.sqrt(varianza)\n",
    "\n",
    "    def analisis(self):\n",
    "        \"\"\"Devuelve el análisis de la flor: promedio y desviación estándar para cada característica.\"\"\"\n",
    "        analisis = {\n",
    "            'longitud_sepalo': {'promedio': self.promedio(self.longitud_sepalo),\n",
    "                                'desviacion_estandar': self.desviacion_estandar(self.longitud_sepalo)},\n",
    "            'ancho_sepalo': {'promedio': self.promedio(self.ancho_sepalo),\n",
    "                             'desviacion_estandar': self.desviacion_estandar(self.ancho_sepalo)},\n",
    "            'longitud_petalo': {'promedio': self.promedio(self.longitud_petalo),\n",
    "                                'desviacion_estandar': self.desviacion_estandar(self.longitud_petalo)},\n",
    "            'ancho_petalo': {'promedio': self.promedio(self.ancho_petalo),\n",
    "                             'desviacion_estandar': self.desviacion_estandar(self.ancho_petalo)}\n",
    "        }\n",
    "        return analisis"
   ]
  },
  {
   "cell_type": "code",
   "execution_count": 34,
   "id": "a1261fe7-e43f-4778-a16f-8e565c9321bf",
   "metadata": {},
   "outputs": [],
   "source": [
    "datos = cargar_datos('iris.data.txt')\n",
    "Flores = agrupar_por_especie(datos)\n",
    "Iris_setosa = Flor(Flores['Iris-setosa']['longitud_sepalo'],\n",
    "                   Flores['Iris-setosa']['ancho_sepalo'],\n",
    "                   Flores['Iris-setosa']['longitud_petalo'],\n",
    "                   Flores['Iris-setosa']['ancho_petalo'])"
   ]
  },
  {
   "cell_type": "code",
   "execution_count": 36,
   "id": "5a88540c-0494-4084-98a1-1705fbb82847",
   "metadata": {},
   "outputs": [
    {
     "name": "stdout",
     "output_type": "stream",
     "text": [
      "{'longitud_sepalo': {'promedio': 5.005999999999999, 'desviacion_estandar': 0.348946987377739}, 'ancho_sepalo': {'promedio': 3.4180000000000006, 'desviacion_estandar': 0.37719490982779713}, 'longitud_petalo': {'promedio': 1.464, 'desviacion_estandar': 0.17176728442867115}, 'ancho_petalo': {'promedio': 0.2439999999999999, 'desviacion_estandar': 0.10613199329137278}}\n"
     ]
    }
   ],
   "source": [
    "print(Iris_setosa.analisis())"
   ]
  },
  {
   "cell_type": "code",
   "execution_count": 37,
   "id": "fdb4ab7a-9193-4247-94a0-9b192cc93064",
   "metadata": {},
   "outputs": [],
   "source": [
    "Iris_versicolor = Flor(Flores['Iris-versicolor']['longitud_sepalo'],\n",
    "                   Flores['Iris-versicolor']['ancho_sepalo'],\n",
    "                   Flores['Iris-versicolor']['longitud_petalo'],\n",
    "                   Flores['Iris-versicolor']['ancho_petalo'])"
   ]
  },
  {
   "cell_type": "code",
   "execution_count": 38,
   "id": "6f79b223-511b-4d89-b0f5-5a707e8dd117",
   "metadata": {},
   "outputs": [
    {
     "name": "stdout",
     "output_type": "stream",
     "text": [
      "{'longitud_sepalo': {'promedio': 5.936, 'desviacion_estandar': 0.5109833656783752}, 'ancho_sepalo': {'promedio': 2.7700000000000005, 'desviacion_estandar': 0.31064449134018135}, 'longitud_petalo': {'promedio': 4.26, 'desviacion_estandar': 0.4651881339845204}, 'ancho_petalo': {'promedio': 1.3259999999999998, 'desviacion_estandar': 0.19576516544063702}}\n"
     ]
    }
   ],
   "source": [
    "print(Iris_versicolor.analisis())"
   ]
  },
  {
   "cell_type": "code",
   "execution_count": null,
   "id": "d225d20e-a21f-49ff-b3da-631c14040d5f",
   "metadata": {},
   "outputs": [],
   "source": []
  }
 ],
 "metadata": {
  "kernelspec": {
   "display_name": "Python 3 (ipykernel)",
   "language": "python",
   "name": "python3"
  },
  "language_info": {
   "codemirror_mode": {
    "name": "ipython",
    "version": 3
   },
   "file_extension": ".py",
   "mimetype": "text/x-python",
   "name": "python",
   "nbconvert_exporter": "python",
   "pygments_lexer": "ipython3",
   "version": "3.11.8"
  }
 },
 "nbformat": 4,
 "nbformat_minor": 5
}
