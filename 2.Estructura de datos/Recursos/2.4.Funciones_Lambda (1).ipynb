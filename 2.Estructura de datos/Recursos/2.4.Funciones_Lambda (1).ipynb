{
 "cells": [
  {
   "cell_type": "code",
   "execution_count": 1,
   "id": "502de0e0-b54a-453d-9dd1-fc6d1b0abedb",
   "metadata": {},
   "outputs": [],
   "source": [
    "# lambda arguments: expression"
   ]
  },
  {
   "cell_type": "code",
   "execution_count": 2,
   "id": "81d0aca6-f1f3-4b52-b145-15357a80f0d4",
   "metadata": {},
   "outputs": [],
   "source": [
    "suma = lambda a, b: a + b"
   ]
  },
  {
   "cell_type": "code",
   "execution_count": 3,
   "id": "ddd080f8-8095-4279-9247-f9eacf5cfbd8",
   "metadata": {},
   "outputs": [
    {
     "name": "stdout",
     "output_type": "stream",
     "text": [
      "11\n"
     ]
    }
   ],
   "source": [
    "print(suma(5,6))"
   ]
  },
  {
   "cell_type": "code",
   "execution_count": 4,
   "id": "8a820715-82de-42f5-82e0-de5c79febda0",
   "metadata": {},
   "outputs": [
    {
     "name": "stdout",
     "output_type": "stream",
     "text": [
      "[1, 4, 9, 16, 25]\n"
     ]
    }
   ],
   "source": [
    "## map(), filter(), sorted()\n",
    "\n",
    "numeros = [1, 2, 3, 4, 5]\n",
    "cuadrados = list(map(lambda x: x**2, numeros))\n",
    "print(cuadrados)"
   ]
  },
  {
   "cell_type": "code",
   "execution_count": 5,
   "id": "f6315fee-8a50-4daf-80e4-9ed3997441d9",
   "metadata": {},
   "outputs": [
    {
     "name": "stdout",
     "output_type": "stream",
     "text": [
      "[2, 4, 6]\n"
     ]
    }
   ],
   "source": [
    "numeros = [1, 2, 3, 4, 5, 6]\n",
    "pares = list(filter(lambda x: x % 2 == 0, numeros))\n",
    "print(pares)"
   ]
  },
  {
   "cell_type": "code",
   "execution_count": 6,
   "id": "1439bf23-e10e-4428-a8d0-cc4717e646b0",
   "metadata": {},
   "outputs": [
    {
     "name": "stdout",
     "output_type": "stream",
     "text": [
      "['fresa', 'banana', 'cereza', 'manzana']\n"
     ]
    }
   ],
   "source": [
    "frutas = ['fresa', 'manzana', 'banana', 'cereza']\n",
    "frutas_ordenadas = sorted(frutas, key=lambda fruta: len(fruta))\n",
    "print(frutas_ordenadas) "
   ]
  },
  {
   "cell_type": "code",
   "execution_count": null,
   "id": "75f5fc22-f33d-46d9-a952-29bbc94684c9",
   "metadata": {},
   "outputs": [],
   "source": []
  }
 ],
 "metadata": {
  "kernelspec": {
   "display_name": "Python 3 (ipykernel)",
   "language": "python",
   "name": "python3"
  },
  "language_info": {
   "codemirror_mode": {
    "name": "ipython",
    "version": 3
   },
   "file_extension": ".py",
   "mimetype": "text/x-python",
   "name": "python",
   "nbconvert_exporter": "python",
   "pygments_lexer": "ipython3",
   "version": "3.11.8"
  }
 },
 "nbformat": 4,
 "nbformat_minor": 5
}
