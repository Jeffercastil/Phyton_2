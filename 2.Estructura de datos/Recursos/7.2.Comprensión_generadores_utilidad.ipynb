{
 "cells": [
  {
   "cell_type": "code",
   "execution_count": 1,
   "id": "aedc353c-3f44-42c6-88a8-4cd84c35c032",
   "metadata": {},
   "outputs": [],
   "source": [
    "# (valor for valor in iterable if condicion)"
   ]
  },
  {
   "cell_type": "code",
   "execution_count": 2,
   "id": "563ee8a9-3ad3-4719-aaf8-ef64d85ce595",
   "metadata": {},
   "outputs": [],
   "source": [
    "cuadrados_pares_gen = (x**2 for x in range(10) if x % 2 == 0)"
   ]
  },
  {
   "cell_type": "code",
   "execution_count": 3,
   "id": "085dbee7-2651-47e2-a5bf-bddeef7b601a",
   "metadata": {},
   "outputs": [
    {
     "name": "stdout",
     "output_type": "stream",
     "text": [
      "0\n",
      "4\n",
      "16\n",
      "36\n",
      "64\n"
     ]
    }
   ],
   "source": [
    "for num in cuadrados_pares_gen:\n",
    "    print(num)"
   ]
  },
  {
   "cell_type": "code",
   "execution_count": 4,
   "id": "cbd08900-3010-412a-a241-63be0f359ed5",
   "metadata": {},
   "outputs": [
    {
     "data": {
      "text/plain": [
       "<generator object <genexpr> at 0x7ff343e475e0>"
      ]
     },
     "execution_count": 4,
     "metadata": {},
     "output_type": "execute_result"
    }
   ],
   "source": [
    "cuadrados_pares_gen"
   ]
  },
  {
   "cell_type": "code",
   "execution_count": 5,
   "id": "6855665b-892a-4e7f-95c6-84c187588c10",
   "metadata": {},
   "outputs": [],
   "source": [
    "lista_cuadrados_pares = [x**2 for x in range(10) if x % 2 == 0]"
   ]
  },
  {
   "cell_type": "code",
   "execution_count": 6,
   "id": "f7a0228e-1a1f-427d-87aa-ef82f195e667",
   "metadata": {},
   "outputs": [
    {
     "name": "stdout",
     "output_type": "stream",
     "text": [
      "[0, 4, 16, 36, 64]\n"
     ]
    }
   ],
   "source": [
    "print(lista_cuadrados_pares)"
   ]
  },
  {
   "cell_type": "code",
   "execution_count": null,
   "id": "5c9111e1-9832-4958-b937-e85bf32ac6ad",
   "metadata": {},
   "outputs": [],
   "source": []
  }
 ],
 "metadata": {
  "kernelspec": {
   "display_name": "Python 3 (ipykernel)",
   "language": "python",
   "name": "python3"
  },
  "language_info": {
   "codemirror_mode": {
    "name": "ipython",
    "version": 3
   },
   "file_extension": ".py",
   "mimetype": "text/x-python",
   "name": "python",
   "nbconvert_exporter": "python",
   "pygments_lexer": "ipython3",
   "version": "3.11.8"
  }
 },
 "nbformat": 4,
 "nbformat_minor": 5
}
