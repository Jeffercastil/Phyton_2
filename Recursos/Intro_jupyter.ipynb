{
 "cells": [
  {
   "cell_type": "markdown",
   "id": "bb984313-c473-407e-956e-9fbfab1b13ae",
   "metadata": {},
   "source": [
    "## Intro a Jupyter\n",
    "\n",
    "Esta es una introducción a Jupyter"
   ]
  },
  {
   "cell_type": "code",
   "execution_count": 1,
   "id": "61843cd0-9b37-4cb1-afd2-9d2c91c5c14f",
   "metadata": {},
   "outputs": [
    {
     "data": {
      "text/plain": [
       "5"
      ]
     },
     "execution_count": 1,
     "metadata": {},
     "output_type": "execute_result"
    }
   ],
   "source": [
    "1+4"
   ]
  },
  {
   "cell_type": "markdown",
   "id": "67ada93a-53c9-420f-a473-338ce3f955fc",
   "metadata": {},
   "source": [
    "## Titulo"
   ]
  },
  {
   "cell_type": "code",
   "execution_count": 1,
   "id": "54455052-683f-4749-9f58-c6b2caa77652",
   "metadata": {},
   "outputs": [
    {
     "data": {
      "text/plain": [
       "10"
      ]
     },
     "execution_count": 1,
     "metadata": {},
     "output_type": "execute_result"
    }
   ],
   "source": [
    "12-2\n"
   ]
  },
  {
   "cell_type": "code",
   "execution_count": null,
   "id": "bf8e1af5",
   "metadata": {},
   "outputs": [],
   "source": []
  },
  {
   "cell_type": "code",
   "execution_count": null,
   "id": "e382d5b9-3659-4553-8410-5be2544cb1ec",
   "metadata": {},
   "outputs": [],
   "source": []
  },
  {
   "cell_type": "code",
   "execution_count": 3,
   "id": "469f8e56-6537-4102-8c62-c959f9161eeb",
   "metadata": {},
   "outputs": [],
   "source": [
    "x = 9"
   ]
  },
  {
   "cell_type": "code",
   "execution_count": 4,
   "id": "07a5cfa8-09cf-4551-845e-5bff30095215",
   "metadata": {},
   "outputs": [
    {
     "data": {
      "text/plain": [
       "12"
      ]
     },
     "execution_count": 4,
     "metadata": {},
     "output_type": "execute_result"
    }
   ],
   "source": [
    "3+x"
   ]
  },
  {
   "cell_type": "code",
   "execution_count": null,
   "id": "8864be1a-109c-44c6-aab0-f92156d6d45f",
   "metadata": {},
   "outputs": [],
   "source": []
  }
 ],
 "metadata": {
  "kernelspec": {
   "display_name": "Python 3",
   "language": "python",
   "name": "python3"
  },
  "language_info": {
   "codemirror_mode": {
    "name": "ipython",
    "version": 3
   },
   "file_extension": ".py",
   "mimetype": "text/x-python",
   "name": "python",
   "nbconvert_exporter": "python",
   "pygments_lexer": "ipython3",
   "version": "3.13.2"
  }
 },
 "nbformat": 4,
 "nbformat_minor": 5
}
