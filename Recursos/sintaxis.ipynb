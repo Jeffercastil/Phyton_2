{
 "cells": [
  {
   "cell_type": "code",
   "execution_count": 1,
   "id": "1b352585-4ae9-41b6-a4d9-06044ee43d50",
   "metadata": {},
   "outputs": [
    {
     "name": "stdout",
     "output_type": "stream",
     "text": [
      "Números pares hasta 10:\n",
      "0\n",
      "1 (Impar)\n",
      "2\n",
      "3 (Impar)\n",
      "4\n",
      "5 (Impar)\n",
      "6\n",
      "7 (Impar)\n",
      "8\n",
      "9 (Impar)\n",
      "10\n"
     ]
    },
    {
     "data": {
      "text/plain": [
       "'\\nEn esta función, el bucle for itera sobre los números desde 0 hasta n.\\nEl condicional if-else verifica si un número es par o impar.\\nLa indentación define los bloques de código dentro de la función.\\n'"
      ]
     },
     "execution_count": 1,
     "metadata": {},
     "output_type": "execute_result"
    }
   ],
   "source": [
    "# Consideraciones Importantes y Sintaxis en Python\n",
    "\n",
    "# Función con Bucle For y Condicional If-Else\n",
    "def imprimir_numeros_pares_hasta_n(n):\n",
    "    \"\"\"\n",
    "    Imprime todos los números pares desde 0 hasta el número n (incluido).\n",
    "    \"\"\"\n",
    "    for i in range(n + 1):\n",
    "        if i % 2 == 0:  # Verifica si el número es par\n",
    "            print(i)\n",
    "        else:\n",
    "            print(f\"{i} (Impar)\")\n",
    "\n",
    "# Uso de la Función\n",
    "limite = 10\n",
    "print(f\"Números pares hasta {limite}:\")\n",
    "imprimir_numeros_pares_hasta_n(limite)\n",
    "\n",
    "# Consideraciones Finales\n",
    "\"\"\"\n",
    "En esta función, el bucle for itera sobre los números desde 0 hasta n.\n",
    "El condicional if-else verifica si un número es par o impar.\n",
    "La indentación define los bloques de código dentro de la función.\n",
    "\"\"\""
   ]
  },
  {
   "cell_type": "code",
   "execution_count": null,
   "id": "41104edf-a1b8-4220-ba76-b14342634f94",
   "metadata": {},
   "outputs": [],
   "source": []
  }
 ],
 "metadata": {
  "kernelspec": {
   "display_name": "Python 3 (ipykernel)",
   "language": "python",
   "name": "python3"
  },
  "language_info": {
   "codemirror_mode": {
    "name": "ipython",
    "version": 3
   },
   "file_extension": ".py",
   "mimetype": "text/x-python",
   "name": "python",
   "nbconvert_exporter": "python",
   "pygments_lexer": "ipython3",
   "version": "3.11.7"
  }
 },
 "nbformat": 4,
 "nbformat_minor": 5
}
