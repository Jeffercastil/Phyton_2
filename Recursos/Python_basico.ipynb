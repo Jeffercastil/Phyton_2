{
 "cells": [
  {
   "cell_type": "markdown",
   "id": "376f5720-6fd3-4633-adf1-ddef10f8cce8",
   "metadata": {},
   "source": [
    "## Datos escalares"
   ]
  },
  {
   "cell_type": "code",
   "execution_count": 1,
   "id": "16ee5d4d-5b8d-4cbd-84b1-5b2fd84a80de",
   "metadata": {},
   "outputs": [],
   "source": [
    "x = 5"
   ]
  },
  {
   "cell_type": "code",
   "execution_count": 3,
   "id": "40a226de-0178-45c8-b4b1-1b39d3aef5f6",
   "metadata": {},
   "outputs": [
    {
     "data": {
      "text/plain": [
       "int"
      ]
     },
     "execution_count": 3,
     "metadata": {},
     "output_type": "execute_result"
    }
   ],
   "source": [
    "type(x)"
   ]
  },
  {
   "cell_type": "code",
   "execution_count": 4,
   "id": "aadff477-88f7-46ef-a8c2-2dc186e8438a",
   "metadata": {},
   "outputs": [],
   "source": [
    "y = 5.0"
   ]
  },
  {
   "cell_type": "code",
   "execution_count": 5,
   "id": "21969a94-adef-423b-affb-f5ce5d29d63e",
   "metadata": {},
   "outputs": [
    {
     "data": {
      "text/plain": [
       "float"
      ]
     },
     "execution_count": 5,
     "metadata": {},
     "output_type": "execute_result"
    }
   ],
   "source": [
    "type(y)"
   ]
  },
  {
   "cell_type": "code",
   "execution_count": 6,
   "id": "d56ec554-6b7c-4574-852f-f754e1002c67",
   "metadata": {},
   "outputs": [
    {
     "data": {
      "text/plain": [
       "10.0"
      ]
     },
     "execution_count": 6,
     "metadata": {},
     "output_type": "execute_result"
    }
   ],
   "source": [
    "x+y"
   ]
  },
  {
   "cell_type": "code",
   "execution_count": 9,
   "id": "29a8f6c8-6486-47fb-bc80-8c0646824b9d",
   "metadata": {},
   "outputs": [],
   "source": [
    "es_verdadero = False"
   ]
  },
  {
   "cell_type": "code",
   "execution_count": 10,
   "id": "b20085cc-6a85-46b5-99e6-fe1738c788c9",
   "metadata": {},
   "outputs": [
    {
     "data": {
      "text/plain": [
       "False"
      ]
     },
     "execution_count": 10,
     "metadata": {},
     "output_type": "execute_result"
    }
   ],
   "source": [
    "es_verdadero"
   ]
  },
  {
   "cell_type": "code",
   "execution_count": 11,
   "id": "040d1d07-6b26-4605-9d16-d1eab4627435",
   "metadata": {},
   "outputs": [],
   "source": [
    "saludo = \"Hola a todos !!\""
   ]
  },
  {
   "cell_type": "code",
   "execution_count": 13,
   "id": "a21feee9-ce05-4868-a2cb-11eea39d35d3",
   "metadata": {},
   "outputs": [
    {
     "data": {
      "text/plain": [
       "str"
      ]
     },
     "execution_count": 13,
     "metadata": {},
     "output_type": "execute_result"
    }
   ],
   "source": [
    "type(saludo)"
   ]
  },
  {
   "cell_type": "code",
   "execution_count": 14,
   "id": "f924d089-3c31-4acf-85d1-98aa0ce906ff",
   "metadata": {},
   "outputs": [],
   "source": [
    "z =2+3j"
   ]
  },
  {
   "cell_type": "code",
   "execution_count": 15,
   "id": "77b6fe22-d58f-45dd-9d56-d3fcd30a7340",
   "metadata": {},
   "outputs": [
    {
     "data": {
      "text/plain": [
       "complex"
      ]
     },
     "execution_count": 15,
     "metadata": {},
     "output_type": "execute_result"
    }
   ],
   "source": [
    "type(z)"
   ]
  },
  {
   "cell_type": "code",
   "execution_count": 16,
   "id": "d670f3f1-4fa9-4245-923a-a0e3a88f63ba",
   "metadata": {},
   "outputs": [],
   "source": [
    "a = '6'"
   ]
  },
  {
   "cell_type": "code",
   "execution_count": 17,
   "id": "5ff146ef-2da8-4859-b421-49e5855dac94",
   "metadata": {},
   "outputs": [
    {
     "data": {
      "text/plain": [
       "str"
      ]
     },
     "execution_count": 17,
     "metadata": {},
     "output_type": "execute_result"
    }
   ],
   "source": [
    "type(a)"
   ]
  },
  {
   "cell_type": "code",
   "execution_count": 19,
   "id": "6aed4ff7-c8a0-497b-8670-1f6f323cb478",
   "metadata": {},
   "outputs": [],
   "source": [
    "b = int(a)"
   ]
  },
  {
   "cell_type": "code",
   "execution_count": 20,
   "id": "04328500-7435-4ca4-b88d-f01bf300224c",
   "metadata": {},
   "outputs": [
    {
     "data": {
      "text/plain": [
       "int"
      ]
     },
     "execution_count": 20,
     "metadata": {},
     "output_type": "execute_result"
    }
   ],
   "source": [
    "type(b)"
   ]
  },
  {
   "cell_type": "markdown",
   "id": "8adbd990-0401-4d72-bf7d-f1be4c2e8e98",
   "metadata": {},
   "source": [
    "## Operadores aritméticos y de comparación\n",
    "### Operadores aritméticos"
   ]
  },
  {
   "cell_type": "code",
   "execution_count": 21,
   "id": "2316c869-a3ef-4ced-b54f-331faf5c7b05",
   "metadata": {},
   "outputs": [
    {
     "data": {
      "text/plain": [
       "7"
      ]
     },
     "execution_count": 21,
     "metadata": {},
     "output_type": "execute_result"
    }
   ],
   "source": [
    "3+4"
   ]
  },
  {
   "cell_type": "code",
   "execution_count": 22,
   "id": "ff4f3955-1e7a-4a9f-84f0-e49e2a218c2e",
   "metadata": {},
   "outputs": [
    {
     "data": {
      "text/plain": [
       "-4"
      ]
     },
     "execution_count": 22,
     "metadata": {},
     "output_type": "execute_result"
    }
   ],
   "source": [
    "5-9"
   ]
  },
  {
   "cell_type": "code",
   "execution_count": 23,
   "id": "db8f9495-2f74-41e9-a068-a0a2b074a1c1",
   "metadata": {},
   "outputs": [
    {
     "data": {
      "text/plain": [
       "28"
      ]
     },
     "execution_count": 23,
     "metadata": {},
     "output_type": "execute_result"
    }
   ],
   "source": [
    "4*7"
   ]
  },
  {
   "cell_type": "code",
   "execution_count": 25,
   "id": "c54a776a-e200-4c3c-a057-3cf968b9a604",
   "metadata": {},
   "outputs": [
    {
     "data": {
      "text/plain": [
       "11.2"
      ]
     },
     "execution_count": 25,
     "metadata": {},
     "output_type": "execute_result"
    }
   ],
   "source": [
    "56/5"
   ]
  },
  {
   "cell_type": "code",
   "execution_count": 26,
   "id": "4149fea1-df2c-4d59-90bd-c50b2c3b952e",
   "metadata": {},
   "outputs": [
    {
     "data": {
      "text/plain": [
       "11"
      ]
     },
     "execution_count": 26,
     "metadata": {},
     "output_type": "execute_result"
    }
   ],
   "source": [
    "56//5"
   ]
  },
  {
   "cell_type": "code",
   "execution_count": 29,
   "id": "dcb89353-5d7e-4306-a390-78208ffad8b3",
   "metadata": {},
   "outputs": [
    {
     "data": {
      "text/plain": [
       "3"
      ]
     },
     "execution_count": 29,
     "metadata": {},
     "output_type": "execute_result"
    }
   ],
   "source": [
    "24 % 7"
   ]
  },
  {
   "cell_type": "code",
   "execution_count": 30,
   "id": "e39e518a-c50a-4ebd-9cbc-839b77c1293a",
   "metadata": {},
   "outputs": [
    {
     "data": {
      "text/plain": [
       "9"
      ]
     },
     "execution_count": 30,
     "metadata": {},
     "output_type": "execute_result"
    }
   ],
   "source": [
    "3**2"
   ]
  },
  {
   "cell_type": "code",
   "execution_count": 31,
   "id": "baa8a99e-fd15-4580-9bfd-0aa81ab3ae12",
   "metadata": {},
   "outputs": [
    {
     "data": {
      "text/plain": [
       "64"
      ]
     },
     "execution_count": 31,
     "metadata": {},
     "output_type": "execute_result"
    }
   ],
   "source": [
    "4**3"
   ]
  },
  {
   "cell_type": "markdown",
   "id": "b2755dd1-cf2a-4afa-8ab2-26bdbd42b086",
   "metadata": {},
   "source": [
    "### Operadores de comparación"
   ]
  },
  {
   "cell_type": "code",
   "execution_count": 34,
   "id": "506074a4-e003-4f79-bcd5-feca2f38db38",
   "metadata": {},
   "outputs": [
    {
     "data": {
      "text/plain": [
       "False"
      ]
     },
     "execution_count": 34,
     "metadata": {},
     "output_type": "execute_result"
    }
   ],
   "source": [
    "5 == 8"
   ]
  },
  {
   "cell_type": "code",
   "execution_count": 35,
   "id": "c3868deb-1324-405d-bb12-c800c9dedc2e",
   "metadata": {},
   "outputs": [
    {
     "data": {
      "text/plain": [
       "True"
      ]
     },
     "execution_count": 35,
     "metadata": {},
     "output_type": "execute_result"
    }
   ],
   "source": [
    "5  != 0"
   ]
  },
  {
   "cell_type": "code",
   "execution_count": 41,
   "id": "3cf2ac65-ad1e-4491-83c3-37b9da7425ba",
   "metadata": {},
   "outputs": [
    {
     "data": {
      "text/plain": [
       "False"
      ]
     },
     "execution_count": 41,
     "metadata": {},
     "output_type": "execute_result"
    }
   ],
   "source": [
    "6 <= 3"
   ]
  },
  {
   "cell_type": "code",
   "execution_count": 51,
   "id": "20679633-3b6a-46da-9bdb-2b7bc302cd70",
   "metadata": {},
   "outputs": [],
   "source": [
    "x = 6 < 7"
   ]
  },
  {
   "cell_type": "code",
   "execution_count": 52,
   "id": "60a4f1f2-9be8-4001-afc5-8516944ed25d",
   "metadata": {},
   "outputs": [
    {
     "data": {
      "text/plain": [
       "True"
      ]
     },
     "execution_count": 52,
     "metadata": {},
     "output_type": "execute_result"
    }
   ],
   "source": [
    "x"
   ]
  },
  {
   "cell_type": "markdown",
   "id": "46708629-e027-4e73-a4c3-dcc7504675b5",
   "metadata": {},
   "source": [
    "## Condicionales (if,elif,else)"
   ]
  },
  {
   "cell_type": "code",
   "execution_count": 2,
   "id": "1415749a-5e5f-4983-86a6-fd289717f38b",
   "metadata": {},
   "outputs": [
    {
     "name": "stdout",
     "output_type": "stream",
     "text": [
      "El número es par\n"
     ]
    }
   ],
   "source": [
    "## DERTERMINAR SI UN NÚMERO ES PAR\n",
    "\n",
    "N = 46\n",
    "\n",
    "if N % 2 == 0:\n",
    "    print(\"El número es par\")\n",
    "else:\n",
    "    print(\"El número es impar\")"
   ]
  },
  {
   "cell_type": "code",
   "execution_count": 7,
   "id": "d4276887-4454-45d2-8c2f-13c4921bc737",
   "metadata": {},
   "outputs": [
    {
     "name": "stdout",
     "output_type": "stream",
     "text": [
      "El número es cero\n"
     ]
    }
   ],
   "source": [
    "## VALIDAR SIGNO DE UN NÚMERO\n",
    "\n",
    "x = 0\n",
    "\n",
    "if x > 0:\n",
    "    print(\"El número es positivo\")\n",
    "elif x == 0:\n",
    "    print(\"El número es cero\")\n",
    "else:\n",
    "    print(\"El número es negativo\")"
   ]
  },
  {
   "cell_type": "markdown",
   "id": "957b09a9-12ab-44fe-8ffd-6a82e8081876",
   "metadata": {},
   "source": [
    "## Match, case"
   ]
  },
  {
   "cell_type": "code",
   "execution_count": 30,
   "id": "02c6a2cd-af33-4b8e-8cfc-ab136a182e93",
   "metadata": {},
   "outputs": [
    {
     "name": "stdout",
     "output_type": "stream",
     "text": [
      "Opcion vegetariana\n"
     ]
    }
   ],
   "source": [
    "numero = 1\n",
    "match numero:\n",
    "    case 1:\n",
    "        print(\"Opcion vegetariana\")\n",
    "    case 2:\n",
    "        print(\"Opción normal\")\n",
    "    case _:\n",
    "        print(\"Ninguna opción\")"
   ]
  },
  {
   "cell_type": "code",
   "execution_count": 34,
   "id": "de363bad-6923-4db0-8e93-3c67f11d1da5",
   "metadata": {},
   "outputs": [
    {
     "name": "stdout",
     "output_type": "stream",
     "text": [
      "Positivo\n"
     ]
    }
   ],
   "source": [
    "numero = 6\n",
    "match numero:\n",
    "    case 0:\n",
    "        print(\"Cero\")\n",
    "    case n if n > 0:\n",
    "        print(\"Positivo\")\n",
    "    case n if n < 0:\n",
    "        print(\"Negativo\")\n",
    "    case _:\n",
    "        print(\"No se puede clasificar\")"
   ]
  },
  {
   "cell_type": "code",
   "execution_count": 35,
   "id": "2e4f135d-ced7-4f95-b74e-57575515b165",
   "metadata": {},
   "outputs": [
    {
     "name": "stdout",
     "output_type": "stream",
     "text": [
      "Obesidad Clase 1 (Moderada)\n"
     ]
    }
   ],
   "source": [
    "imc = 30\n",
    "match imc:\n",
    "    case valor if 0 < valor <= 18.5:\n",
    "        print(\"Bajo peso\")\n",
    "    case valor if 18.5 < valor <= 24.9:\n",
    "        print(\"Peso normal (Saludable)\")\n",
    "    case valor if 24.9 < valor <= 29.9:\n",
    "        print(\"Sobrepeso\")\n",
    "    case valor if 29.9 < valor <= 34.9:\n",
    "        print(\"Obesidad Clase 1 (Moderada)\")\n",
    "    case valor if 34.9 < valor <= 39.9:\n",
    "        print(\"Obesidad Clase 2 (Severa)\")\n",
    "    case valor if 39.9 < valor:\n",
    "        print(\"Obesidad Clase 3 (Muy severa)\")\n",
    "    case _:\n",
    "        print(\"Valores de IMC no válidos\")"
   ]
  },
  {
   "cell_type": "markdown",
   "id": "af27901b-720a-42a9-b095-cc608e1c8864",
   "metadata": {},
   "source": [
    "## Operadores Lógicos"
   ]
  },
  {
   "cell_type": "code",
   "execution_count": 38,
   "id": "6021844c-d610-4243-b5fb-1ac6fade6ec5",
   "metadata": {},
   "outputs": [
    {
     "name": "stdout",
     "output_type": "stream",
     "text": [
      "No cumple con los requisitos\n"
     ]
    }
   ],
   "source": [
    "edad = 27\n",
    "tiene_experiencia = False\n",
    "\n",
    "if edad > 18 and tiene_experiencia:\n",
    "    print(\"Puede aplicar para el trabajo\")\n",
    "else:\n",
    "    print(\"No cumple con los requisitos\")\n"
   ]
  },
  {
   "cell_type": "code",
   "execution_count": 41,
   "id": "3bafcb26-5292-4055-aae7-c1a0d3391395",
   "metadata": {},
   "outputs": [
    {
     "name": "stdout",
     "output_type": "stream",
     "text": [
      "La persona es estudiante o empleado\n"
     ]
    }
   ],
   "source": [
    "es_estudiante = False\n",
    "es_empleado = True\n",
    "\n",
    "if es_estudiante or es_empleado:\n",
    "    print(\"La persona es estudiante o empleado\")\n",
    "else:\n",
    "    print(\"La persona no es ni estudiante ni empleado\")\n"
   ]
  },
  {
   "cell_type": "code",
   "execution_count": 45,
   "id": "b4bad8e8-63d4-45e8-9f9f-f607e6fc42c0",
   "metadata": {},
   "outputs": [
    {
     "name": "stdout",
     "output_type": "stream",
     "text": [
      "Está lloviendo\n"
     ]
    }
   ],
   "source": [
    "llueve = True\n",
    "\n",
    "if not llueve:\n",
    "    print(\"No está lloviendo\")\n",
    "else:\n",
    "    print(\"Está lloviendo\")\n"
   ]
  },
  {
   "cell_type": "markdown",
   "id": "748656cb-3095-4fd7-bdb8-0c99715f75e8",
   "metadata": {},
   "source": [
    "## Cadenas de texo y operaciones con strings"
   ]
  },
  {
   "cell_type": "code",
   "execution_count": 50,
   "id": "38bdc284-2f35-41cb-b40d-1aade982be5f",
   "metadata": {},
   "outputs": [],
   "source": [
    "p = \"Pepito\"\n",
    "q = \"Perez\""
   ]
  },
  {
   "cell_type": "code",
   "execution_count": 53,
   "id": "38aaa379-54ec-4409-af4f-5cdd1b7eefe0",
   "metadata": {},
   "outputs": [],
   "source": [
    "r = p+\" \"+q"
   ]
  },
  {
   "cell_type": "code",
   "execution_count": 54,
   "id": "22dd5229-c70c-425e-8136-9c522b203708",
   "metadata": {},
   "outputs": [
    {
     "data": {
      "text/plain": [
       "'Pepito Perez'"
      ]
     },
     "execution_count": 54,
     "metadata": {},
     "output_type": "execute_result"
    }
   ],
   "source": [
    "r"
   ]
  },
  {
   "cell_type": "code",
   "execution_count": 55,
   "id": "a9976f04-1473-4686-8ceb-86292d7ec9b8",
   "metadata": {},
   "outputs": [
    {
     "data": {
      "text/plain": [
       "'P'"
      ]
     },
     "execution_count": 55,
     "metadata": {},
     "output_type": "execute_result"
    }
   ],
   "source": [
    "r[0]"
   ]
  },
  {
   "cell_type": "code",
   "execution_count": 59,
   "id": "a04841ac-4bd3-4467-87fc-36f90bd20cac",
   "metadata": {},
   "outputs": [
    {
     "data": {
      "text/plain": [
       "'pit'"
      ]
     },
     "execution_count": 59,
     "metadata": {},
     "output_type": "execute_result"
    }
   ],
   "source": [
    "r[2:5]"
   ]
  },
  {
   "cell_type": "code",
   "execution_count": 66,
   "id": "ab64c8bb-f536-4a74-a07a-7427e57651c8",
   "metadata": {},
   "outputs": [
    {
     "data": {
      "text/plain": [
       "'z'"
      ]
     },
     "execution_count": 66,
     "metadata": {},
     "output_type": "execute_result"
    }
   ],
   "source": [
    "k = len(r)\n",
    "r[k-1]"
   ]
  },
  {
   "cell_type": "code",
   "execution_count": 74,
   "id": "780fa5b1-2c17-441f-9671-d05b6124eb37",
   "metadata": {},
   "outputs": [
    {
     "data": {
      "text/plain": [
       "'erez'"
      ]
     },
     "execution_count": 74,
     "metadata": {},
     "output_type": "execute_result"
    }
   ],
   "source": [
    "r[-4:]"
   ]
  },
  {
   "cell_type": "code",
   "execution_count": 75,
   "id": "d20e9dec-fc37-49d4-9b7b-16d88555c7e8",
   "metadata": {},
   "outputs": [
    {
     "data": {
      "text/plain": [
       "'Pepito'"
      ]
     },
     "execution_count": 75,
     "metadata": {},
     "output_type": "execute_result"
    }
   ],
   "source": [
    "p"
   ]
  },
  {
   "cell_type": "code",
   "execution_count": 80,
   "id": "62d8a51a-efd3-4542-92d9-454cbe8ee171",
   "metadata": {},
   "outputs": [
    {
     "data": {
      "text/plain": [
       "'GALLAAA'"
      ]
     },
     "execution_count": 80,
     "metadata": {},
     "output_type": "execute_result"
    }
   ],
   "source": [
    "\"GALLaaa\".upper()"
   ]
  },
  {
   "cell_type": "code",
   "execution_count": 81,
   "id": "a7b7321c-2e03-417a-bab2-1f0479decca9",
   "metadata": {},
   "outputs": [
    {
     "data": {
      "text/plain": [
       "'Jorge'"
      ]
     },
     "execution_count": 81,
     "metadata": {},
     "output_type": "execute_result"
    }
   ],
   "source": [
    "\"jorge\".capitalize()"
   ]
  },
  {
   "cell_type": "code",
   "execution_count": 82,
   "id": "4fc0660a-0629-4a3c-8c7a-5e00f27b141d",
   "metadata": {},
   "outputs": [
    {
     "data": {
      "text/plain": [
       "'Pepito Perez'"
      ]
     },
     "execution_count": 82,
     "metadata": {},
     "output_type": "execute_result"
    }
   ],
   "source": [
    "r"
   ]
  },
  {
   "cell_type": "code",
   "execution_count": 83,
   "id": "ad7cae11-5498-4643-afe5-b7c3a367427f",
   "metadata": {},
   "outputs": [
    {
     "data": {
      "text/plain": [
       "['Pepito', 'Perez']"
      ]
     },
     "execution_count": 83,
     "metadata": {},
     "output_type": "execute_result"
    }
   ],
   "source": [
    "r.split()"
   ]
  },
  {
   "cell_type": "markdown",
   "id": "45fd16e6-bc6a-4b62-9234-671dc4579f20",
   "metadata": {},
   "source": [
    "## Listas y tuplas"
   ]
  },
  {
   "cell_type": "code",
   "execution_count": 1,
   "id": "5a962895-1924-4b6d-a507-ee5f96fb4c36",
   "metadata": {},
   "outputs": [],
   "source": [
    "mi_lista = [1, 2, 3, \"Hola\", True]"
   ]
  },
  {
   "cell_type": "code",
   "execution_count": 2,
   "id": "dc43d39e-9e5b-4410-857b-9f1c22e8f1c2",
   "metadata": {},
   "outputs": [],
   "source": [
    "mi_tupla = (1, 2, 3, \"Hola\", True)\n"
   ]
  },
  {
   "cell_type": "code",
   "execution_count": 5,
   "id": "8ceefb42-5aa6-49b4-833b-91a9a5fa57af",
   "metadata": {},
   "outputs": [],
   "source": [
    "mi_lista[1] = \"Pepito\""
   ]
  },
  {
   "cell_type": "code",
   "execution_count": 8,
   "id": "cd6897c9-73b4-4fab-902a-8ed545670922",
   "metadata": {},
   "outputs": [
    {
     "data": {
      "text/plain": [
       "True"
      ]
     },
     "execution_count": 8,
     "metadata": {},
     "output_type": "execute_result"
    }
   ],
   "source": [
    "mi_tupla[4]"
   ]
  },
  {
   "cell_type": "code",
   "execution_count": 10,
   "id": "d41b6dd8-c24f-40b4-ac33-84d4322b04ad",
   "metadata": {},
   "outputs": [
    {
     "name": "stdout",
     "output_type": "stream",
     "text": [
      "[1, 'Pepito', 3, 'Hola', True, 8, 8]\n"
     ]
    }
   ],
   "source": [
    "mi_lista.append(8)\n",
    "print(mi_lista)"
   ]
  },
  {
   "cell_type": "code",
   "execution_count": 12,
   "id": "29003d76-40b8-415b-aa37-b5ae687fff25",
   "metadata": {},
   "outputs": [
    {
     "data": {
      "text/plain": [
       "5"
      ]
     },
     "execution_count": 12,
     "metadata": {},
     "output_type": "execute_result"
    }
   ],
   "source": [
    "len(mi_tupla)"
   ]
  },
  {
   "cell_type": "code",
   "execution_count": 16,
   "id": "aefafb1a-b3a8-4e64-b457-b406be9f44c7",
   "metadata": {},
   "outputs": [
    {
     "data": {
      "text/plain": [
       "8"
      ]
     },
     "execution_count": 16,
     "metadata": {},
     "output_type": "execute_result"
    }
   ],
   "source": [
    "mi_lista[-1]"
   ]
  },
  {
   "cell_type": "code",
   "execution_count": 17,
   "id": "9fee1b72-a81c-40b8-b67c-25ed4bd277e4",
   "metadata": {},
   "outputs": [],
   "source": [
    "mi_lista.remove(3)"
   ]
  },
  {
   "cell_type": "code",
   "execution_count": 18,
   "id": "6b7fa74c-e974-4328-b3fd-9e6aba746932",
   "metadata": {},
   "outputs": [
    {
     "data": {
      "text/plain": [
       "[1, 'Pepito', 'Hola', True, 8, 8]"
      ]
     },
     "execution_count": 18,
     "metadata": {},
     "output_type": "execute_result"
    }
   ],
   "source": [
    "mi_lista"
   ]
  },
  {
   "cell_type": "code",
   "execution_count": 19,
   "id": "2bf5fa1f-c75d-4bcf-ae21-85ab50396e5e",
   "metadata": {},
   "outputs": [],
   "source": [
    "L1 = ['a','b','c'] "
   ]
  },
  {
   "cell_type": "code",
   "execution_count": 20,
   "id": "101404d6-d09a-4232-990c-c9afc6be97d6",
   "metadata": {},
   "outputs": [],
   "source": [
    "L2 = L1"
   ]
  },
  {
   "cell_type": "code",
   "execution_count": 23,
   "id": "9957d630-009d-4784-aa36-68bb44ef6e5a",
   "metadata": {},
   "outputs": [],
   "source": [
    "L2[1] = 'z'"
   ]
  },
  {
   "cell_type": "code",
   "execution_count": 25,
   "id": "6f956917-206b-4c63-b596-1225bc81d6ee",
   "metadata": {},
   "outputs": [
    {
     "data": {
      "text/plain": [
       "['a', 'z', 'c']"
      ]
     },
     "execution_count": 25,
     "metadata": {},
     "output_type": "execute_result"
    }
   ],
   "source": [
    "L1"
   ]
  },
  {
   "cell_type": "code",
   "execution_count": 26,
   "id": "ca8c6e1f-d2e5-4bd4-b19b-6984d64ac8ce",
   "metadata": {},
   "outputs": [],
   "source": [
    "L3 = L1.copy()"
   ]
  },
  {
   "cell_type": "code",
   "execution_count": 28,
   "id": "cb1357a4-dceb-4ac7-b697-e3a8665b1cbc",
   "metadata": {},
   "outputs": [],
   "source": [
    "L3[1] = 'd'"
   ]
  },
  {
   "cell_type": "code",
   "execution_count": 30,
   "id": "61132e04-a3d4-42dd-abec-b27ae7320ea3",
   "metadata": {},
   "outputs": [
    {
     "data": {
      "text/plain": [
       "['a', 'z', 'c']"
      ]
     },
     "execution_count": 30,
     "metadata": {},
     "output_type": "execute_result"
    }
   ],
   "source": [
    "L1"
   ]
  },
  {
   "cell_type": "code",
   "execution_count": 33,
   "id": "acc8ebe1-2388-4fe8-a923-2d26cd65a009",
   "metadata": {},
   "outputs": [
    {
     "data": {
      "text/plain": [
       "'a,z,c'"
      ]
     },
     "execution_count": 33,
     "metadata": {},
     "output_type": "execute_result"
    }
   ],
   "source": [
    "','.join(L1)"
   ]
  },
  {
   "cell_type": "markdown",
   "id": "f3a34105-a1bc-4aa8-8f01-e6c5d813c9fe",
   "metadata": {},
   "source": [
    "## For, Break, Continue"
   ]
  },
  {
   "cell_type": "code",
   "execution_count": 36,
   "id": "708e8d1f-35c5-4a96-9ffd-23e076b5deb3",
   "metadata": {},
   "outputs": [
    {
     "name": "stdout",
     "output_type": "stream",
     "text": [
      "1\n",
      "4\n",
      "5\n",
      "2\n",
      "3\n"
     ]
    }
   ],
   "source": [
    "secuencia = [1,4,5,2,3]\n",
    "for elemento in secuencia:\n",
    "    print(elemento)"
   ]
  },
  {
   "cell_type": "code",
   "execution_count": 37,
   "id": "627f089d-1996-4caa-8b84-a36c1b4ef4c2",
   "metadata": {},
   "outputs": [
    {
     "name": "stdout",
     "output_type": "stream",
     "text": [
      "P\n",
      "y\n",
      "t\n",
      "h\n",
      "o\n",
      "n\n"
     ]
    }
   ],
   "source": [
    "for letra in \"Python\":\n",
    "    print(letra)"
   ]
  },
  {
   "cell_type": "code",
   "execution_count": 39,
   "id": "5ffb288a-b864-414b-b3bc-84c6c7fd84c8",
   "metadata": {},
   "outputs": [
    {
     "name": "stdout",
     "output_type": "stream",
     "text": [
      "0\n",
      "1\n",
      "2\n",
      "3\n"
     ]
    }
   ],
   "source": [
    "for x in range(4):\n",
    "    print(x)"
   ]
  },
  {
   "cell_type": "code",
   "execution_count": 40,
   "id": "6331862e-ad5e-48f6-8bf1-db15b02c4167",
   "metadata": {},
   "outputs": [
    {
     "name": "stdout",
     "output_type": "stream",
     "text": [
      "1\n",
      "4\n",
      "5\n",
      "2\n",
      "3\n"
     ]
    }
   ],
   "source": [
    "lista = [1,4,5,2,3]\n",
    "for i in range(len(lista)):\n",
    "    print(lista[i])\n"
   ]
  },
  {
   "cell_type": "code",
   "execution_count": 41,
   "id": "7d450d19-55f9-45c6-b913-a5328149b676",
   "metadata": {},
   "outputs": [
    {
     "name": "stdout",
     "output_type": "stream",
     "text": [
      "Elemento 0: 1\n",
      "Elemento 1: 4\n",
      "Elemento 2: 5\n",
      "Elemento 3: 2\n",
      "Elemento 4: 3\n"
     ]
    }
   ],
   "source": [
    "for indice, valor in enumerate(lista):\n",
    "    print(f\"Elemento {indice}: {valor}\")"
   ]
  },
  {
   "cell_type": "code",
   "execution_count": 42,
   "id": "82d38dfe-349b-4203-8a5b-fdbeb9a02ca0",
   "metadata": {},
   "outputs": [
    {
     "name": "stdout",
     "output_type": "stream",
     "text": [
      "Hola2\n"
     ]
    }
   ],
   "source": [
    "x = 2\n",
    "print(f\"Hola{x}\")"
   ]
  },
  {
   "cell_type": "code",
   "execution_count": 47,
   "id": "f2aefee4-7ccc-4ea6-9536-37b448a3d2f8",
   "metadata": {},
   "outputs": [
    {
     "name": "stdout",
     "output_type": "stream",
     "text": [
      "1\n",
      "4\n"
     ]
    }
   ],
   "source": [
    "secuencia = [1,4,5,2,3]\n",
    "for elemento in secuencia:\n",
    "    if elemento == 5:\n",
    "        break\n",
    "    print(elemento)\n"
   ]
  },
  {
   "cell_type": "code",
   "execution_count": 46,
   "id": "24a96b7d-afbb-4e83-be1c-5340c46c9e9f",
   "metadata": {},
   "outputs": [
    {
     "name": "stdout",
     "output_type": "stream",
     "text": [
      "1\n",
      "4\n",
      "2\n",
      "3\n"
     ]
    }
   ],
   "source": [
    "secuencia = [1,4,5,2,3]\n",
    "for elemento in secuencia:\n",
    "    if elemento == 5:\n",
    "        continue\n",
    "    print(elemento)\n"
   ]
  },
  {
   "cell_type": "markdown",
   "id": "9f49aad3-5749-4ff8-b33f-39fd46de936f",
   "metadata": {},
   "source": [
    "## While"
   ]
  },
  {
   "cell_type": "code",
   "execution_count": 48,
   "id": "5d06d64f-0d4d-43d1-9091-1ce7a8d9dc0b",
   "metadata": {},
   "outputs": [
    {
     "name": "stdout",
     "output_type": "stream",
     "text": [
      "Contador: 0\n",
      "Contador: 1\n",
      "Contador: 2\n",
      "Contador: 3\n",
      "Contador: 4\n"
     ]
    }
   ],
   "source": [
    "contador = 0\n",
    "\n",
    "while contador < 5:\n",
    "    print(f\"Contador: {contador}\")\n",
    "    contador += 1\n"
   ]
  },
  {
   "cell_type": "code",
   "execution_count": 51,
   "id": "b3476e2c-8628-489d-8033-7eb7f4988a20",
   "metadata": {},
   "outputs": [
    {
     "name": "stdout",
     "output_type": "stream",
     "text": [
      "Contador: 0\n",
      "Contador: 1\n",
      "Contador: 2\n",
      "Contador: 3\n",
      "Contador: 4\n"
     ]
    }
   ],
   "source": [
    "contador = 0\n",
    "\n",
    "while True:\n",
    "    print(f\"Contador: {contador}\")\n",
    "    contador += 1\n",
    "\n",
    "    if contador == 5:\n",
    "        break\n"
   ]
  },
  {
   "cell_type": "code",
   "execution_count": 52,
   "id": "71613ac0-e594-45e9-92e2-3d984ec24ace",
   "metadata": {},
   "outputs": [
    {
     "name": "stdout",
     "output_type": "stream",
     "text": [
      "Contador: 1\n",
      "Contador: 2\n",
      "Contador: 4\n",
      "Contador: 5\n"
     ]
    }
   ],
   "source": [
    "contador = 0\n",
    "\n",
    "while contador < 5:\n",
    "    contador += 1\n",
    "\n",
    "    if contador == 3:\n",
    "        continue\n",
    "\n",
    "    print(f\"Contador: {contador}\")\n"
   ]
  },
  {
   "cell_type": "markdown",
   "id": "95215716-070e-4d1a-803e-7e2dc974eed1",
   "metadata": {},
   "source": [
    "## Diccionarios y conjuntos"
   ]
  },
  {
   "cell_type": "code",
   "execution_count": 54,
   "id": "46ee28ba-d08e-4fa9-ba42-e9f854af049e",
   "metadata": {},
   "outputs": [],
   "source": [
    "mi_diccionario = {\"clave1\": 3, \"clave2\": 5, \"clave3\": 7}"
   ]
  },
  {
   "cell_type": "code",
   "execution_count": 56,
   "id": "18be1e95-8ca9-4484-b722-d926f8dd63f5",
   "metadata": {},
   "outputs": [
    {
     "name": "stdout",
     "output_type": "stream",
     "text": [
      "7\n"
     ]
    }
   ],
   "source": [
    "valor = mi_diccionario[\"clave3\"]\n",
    "print(valor)"
   ]
  },
  {
   "cell_type": "code",
   "execution_count": 57,
   "id": "7f14640b-9fe0-4371-bdb5-222b49005c8a",
   "metadata": {},
   "outputs": [],
   "source": [
    "mi_diccionario[\"clave1\"] = 10"
   ]
  },
  {
   "cell_type": "code",
   "execution_count": 60,
   "id": "d99529eb-63c2-4f98-8092-9bf13230e0aa",
   "metadata": {},
   "outputs": [
    {
     "data": {
      "text/plain": [
       "{'clave1': 10, 'clave2': 5, 'clave3': 7, 'clave4': 10}"
      ]
     },
     "execution_count": 60,
     "metadata": {},
     "output_type": "execute_result"
    }
   ],
   "source": [
    "mi_diccionario"
   ]
  },
  {
   "cell_type": "code",
   "execution_count": 59,
   "id": "42fad9c7-fddc-4c0f-93ee-d447e51f321c",
   "metadata": {},
   "outputs": [],
   "source": [
    "mi_diccionario[\"clave4\"] = 10"
   ]
  },
  {
   "cell_type": "code",
   "execution_count": 61,
   "id": "dd108ccf-d59a-4afe-9f1d-d8d6a299b00c",
   "metadata": {},
   "outputs": [
    {
     "data": {
      "text/plain": [
       "7"
      ]
     },
     "execution_count": 61,
     "metadata": {},
     "output_type": "execute_result"
    }
   ],
   "source": [
    "mi_diccionario.pop(\"clave3\")"
   ]
  },
  {
   "cell_type": "code",
   "execution_count": 62,
   "id": "2c39cb39-0309-4379-9d56-9915b7e625a6",
   "metadata": {},
   "outputs": [
    {
     "data": {
      "text/plain": [
       "{'clave1': 10, 'clave2': 5, 'clave4': 10}"
      ]
     },
     "execution_count": 62,
     "metadata": {},
     "output_type": "execute_result"
    }
   ],
   "source": [
    "mi_diccionario"
   ]
  },
  {
   "cell_type": "code",
   "execution_count": 63,
   "id": "6bc6a406-8083-4fb5-bc19-dcda2ff7edef",
   "metadata": {},
   "outputs": [
    {
     "name": "stdout",
     "output_type": "stream",
     "text": [
      "Clave: clave1, Valor: 10\n",
      "Clave: clave2, Valor: 5\n",
      "Clave: clave4, Valor: 10\n"
     ]
    }
   ],
   "source": [
    "for clave, valor in mi_diccionario.items():\n",
    "    print(f\"Clave: {clave}, Valor: {valor}\")\n"
   ]
  },
  {
   "cell_type": "code",
   "execution_count": 64,
   "id": "825810a2-6cc9-41de-92b8-2928598b7e2e",
   "metadata": {},
   "outputs": [
    {
     "name": "stdout",
     "output_type": "stream",
     "text": [
      "clave1\n",
      "clave2\n",
      "clave4\n"
     ]
    }
   ],
   "source": [
    "for elemento in mi_diccionario:\n",
    "    print(elemento)"
   ]
  },
  {
   "cell_type": "code",
   "execution_count": 65,
   "id": "6398f60f-1ffd-4afb-9ced-cd75707b2400",
   "metadata": {},
   "outputs": [
    {
     "data": {
      "text/plain": [
       "dict_keys(['clave1', 'clave2', 'clave4'])"
      ]
     },
     "execution_count": 65,
     "metadata": {},
     "output_type": "execute_result"
    }
   ],
   "source": [
    "mi_diccionario.keys()"
   ]
  },
  {
   "cell_type": "code",
   "execution_count": 66,
   "id": "e40fc887-cb28-4f2f-96da-a7926b979d24",
   "metadata": {},
   "outputs": [
    {
     "data": {
      "text/plain": [
       "dict_values([10, 5, 10])"
      ]
     },
     "execution_count": 66,
     "metadata": {},
     "output_type": "execute_result"
    }
   ],
   "source": [
    "mi_diccionario.values()"
   ]
  },
  {
   "cell_type": "code",
   "execution_count": 67,
   "id": "34ddf3be-c97f-469e-85cd-50fa5d222a27",
   "metadata": {},
   "outputs": [
    {
     "data": {
      "text/plain": [
       "dict_items([('clave1', 10), ('clave2', 5), ('clave4', 10)])"
      ]
     },
     "execution_count": 67,
     "metadata": {},
     "output_type": "execute_result"
    }
   ],
   "source": [
    "mi_diccionario.items()"
   ]
  },
  {
   "cell_type": "code",
   "execution_count": 70,
   "id": "98002730-807e-45de-8a02-9e9175ca7bdd",
   "metadata": {},
   "outputs": [],
   "source": [
    "## Conjuntos\n",
    "mi_set = {1, 3, 9,3}\n"
   ]
  },
  {
   "cell_type": "code",
   "execution_count": 71,
   "id": "15305a44-410e-4a4c-9ac2-69062ff9f12a",
   "metadata": {},
   "outputs": [
    {
     "data": {
      "text/plain": [
       "{1, 3, 9}"
      ]
     },
     "execution_count": 71,
     "metadata": {},
     "output_type": "execute_result"
    }
   ],
   "source": [
    "mi_set"
   ]
  },
  {
   "cell_type": "code",
   "execution_count": 72,
   "id": "77d49818-091b-477d-924c-0b80aa4c7b8a",
   "metadata": {},
   "outputs": [],
   "source": [
    "set1 = {1, 2, 3}\n",
    "set2 = {3, 4, 5}"
   ]
  },
  {
   "cell_type": "code",
   "execution_count": 73,
   "id": "67f7093f-f415-45cc-9faa-b039d14a4fc8",
   "metadata": {},
   "outputs": [
    {
     "data": {
      "text/plain": [
       "{1, 2, 3, 4, 5}"
      ]
     },
     "execution_count": 73,
     "metadata": {},
     "output_type": "execute_result"
    }
   ],
   "source": [
    "set1 | set2 "
   ]
  },
  {
   "cell_type": "code",
   "execution_count": 74,
   "id": "af0d7aa6-ed25-4136-a976-37c2bb7e878e",
   "metadata": {},
   "outputs": [
    {
     "data": {
      "text/plain": [
       "{3}"
      ]
     },
     "execution_count": 74,
     "metadata": {},
     "output_type": "execute_result"
    }
   ],
   "source": [
    "set1 & set2"
   ]
  },
  {
   "cell_type": "code",
   "execution_count": 76,
   "id": "5e8da150-23e4-4719-a0ff-cfbae9ebf936",
   "metadata": {},
   "outputs": [
    {
     "data": {
      "text/plain": [
       "{4, 5}"
      ]
     },
     "execution_count": 76,
     "metadata": {},
     "output_type": "execute_result"
    }
   ],
   "source": [
    "set2 - set1"
   ]
  },
  {
   "cell_type": "code",
   "execution_count": 81,
   "id": "26719251-86cb-4b78-becb-c6064f0bc3c4",
   "metadata": {},
   "outputs": [
    {
     "data": {
      "text/plain": [
       "False"
      ]
     },
     "execution_count": 81,
     "metadata": {},
     "output_type": "execute_result"
    }
   ],
   "source": [
    "1 in set2"
   ]
  },
  {
   "cell_type": "code",
   "execution_count": 82,
   "id": "294f7ffd-e9df-4bca-a62c-92351e7c04d4",
   "metadata": {},
   "outputs": [],
   "source": [
    "mi_set = {1, 3, 9,3}"
   ]
  },
  {
   "cell_type": "code",
   "execution_count": 83,
   "id": "a79a6606-aa0f-44d0-a132-f2cfe8d196b1",
   "metadata": {},
   "outputs": [],
   "source": [
    "mi_set.add(20)"
   ]
  },
  {
   "cell_type": "code",
   "execution_count": 84,
   "id": "84c42f67-12fa-44df-a4d2-a69f4428a6ea",
   "metadata": {},
   "outputs": [
    {
     "data": {
      "text/plain": [
       "{1, 3, 9, 20}"
      ]
     },
     "execution_count": 84,
     "metadata": {},
     "output_type": "execute_result"
    }
   ],
   "source": [
    "mi_set"
   ]
  },
  {
   "cell_type": "code",
   "execution_count": 85,
   "id": "f95bda80-1723-4655-ab86-9ca06d2f5757",
   "metadata": {},
   "outputs": [],
   "source": [
    "mi_set.remove(3)"
   ]
  },
  {
   "cell_type": "code",
   "execution_count": 86,
   "id": "1bb06d65-df7f-4714-a895-c973515c94e3",
   "metadata": {},
   "outputs": [
    {
     "data": {
      "text/plain": [
       "{1, 9, 20}"
      ]
     },
     "execution_count": 86,
     "metadata": {},
     "output_type": "execute_result"
    }
   ],
   "source": [
    "mi_set"
   ]
  },
  {
   "cell_type": "code",
   "execution_count": 87,
   "id": "76c377da-b803-4208-9b9e-b2d0996bb8fd",
   "metadata": {},
   "outputs": [],
   "source": [
    "Lista = [1,3,3,5,7,7]"
   ]
  },
  {
   "cell_type": "code",
   "execution_count": 89,
   "id": "d2071d4b-4861-41dc-be7e-7681d01dd6c1",
   "metadata": {},
   "outputs": [
    {
     "data": {
      "text/plain": [
       "[1, 3, 5, 7]"
      ]
     },
     "execution_count": 89,
     "metadata": {},
     "output_type": "execute_result"
    }
   ],
   "source": [
    "list(set(Lista))"
   ]
  },
  {
   "cell_type": "markdown",
   "id": "fae1240e-7df0-4d06-9484-99fd57e85e4f",
   "metadata": {},
   "source": [
    "## Funciones en Python"
   ]
  },
  {
   "cell_type": "code",
   "execution_count": 91,
   "id": "219ec4de-9c82-4f58-8578-524ad295faf3",
   "metadata": {},
   "outputs": [],
   "source": [
    "def mi_funcion(parametro1, parametro2):\n",
    "    # Cuerpo de la función\n",
    "    resultado = parametro1 + parametro2\n",
    "    return resultado\n"
   ]
  },
  {
   "cell_type": "code",
   "execution_count": 94,
   "id": "3c0329a7-a8d0-4c9d-8e16-4d5886bb6eba",
   "metadata": {},
   "outputs": [
    {
     "name": "stdout",
     "output_type": "stream",
     "text": [
      "Hola, Juan!\n"
     ]
    }
   ],
   "source": [
    "def saludar(nombre, saludo):\n",
    "    print(f\"{saludo}, {nombre}!\")\n",
    "\n",
    "saludar(\"Juan\", \"Hola\")\n"
   ]
  },
  {
   "cell_type": "code",
   "execution_count": 97,
   "id": "89e9acc0-47c7-488b-ae8a-8196f3be13e4",
   "metadata": {},
   "outputs": [
    {
     "name": "stdout",
     "output_type": "stream",
     "text": [
      "Hola, Ana!\n"
     ]
    }
   ],
   "source": [
    "def saludar(nombre, saludo=\"Hola\"):\n",
    "    print(f\"{saludo}, {nombre}!\")\n",
    "\n",
    "saludar(\"Ana\")  # Salida: Hola, Ana!\n"
   ]
  },
  {
   "cell_type": "code",
   "execution_count": 98,
   "id": "d00556d9-09f7-4c05-ab95-32eb8b6726d0",
   "metadata": {},
   "outputs": [],
   "source": [
    "def cuadrado(x):\n",
    "    return x ** 2\n"
   ]
  },
  {
   "cell_type": "code",
   "execution_count": 99,
   "id": "5a314549-0572-4740-872c-c46e1fe94441",
   "metadata": {},
   "outputs": [],
   "source": [
    "resultado = cuadrado(5)"
   ]
  },
  {
   "cell_type": "code",
   "execution_count": 100,
   "id": "707c128c-1853-49a5-9d5a-8d5afd0f876d",
   "metadata": {},
   "outputs": [
    {
     "data": {
      "text/plain": [
       "25"
      ]
     },
     "execution_count": 100,
     "metadata": {},
     "output_type": "execute_result"
    }
   ],
   "source": [
    "resultado"
   ]
  },
  {
   "cell_type": "code",
   "execution_count": 101,
   "id": "67b0f7b1-b76e-4d05-a376-0560e65a51eb",
   "metadata": {},
   "outputs": [
    {
     "name": "stdout",
     "output_type": "stream",
     "text": [
      "Hola, Ana!\n"
     ]
    }
   ],
   "source": [
    "ss = saludar(\"Ana\")"
   ]
  },
  {
   "cell_type": "code",
   "execution_count": 103,
   "id": "050e39e1-8cdf-461f-a38b-6ef508cf7eaf",
   "metadata": {},
   "outputs": [
    {
     "name": "stdout",
     "output_type": "stream",
     "text": [
      "Hola, mundo!\n"
     ]
    }
   ],
   "source": [
    "def imprimir_mensaje():\n",
    "    print(\"Hola, mundo!\")\n",
    "\n",
    "resultado = imprimir_mensaje()  # resultado será None\n"
   ]
  },
  {
   "cell_type": "code",
   "execution_count": 104,
   "id": "27e0cbc2-89d9-4592-a5f6-fd99a499d256",
   "metadata": {},
   "outputs": [],
   "source": [
    "resultado"
   ]
  },
  {
   "cell_type": "code",
   "execution_count": 105,
   "id": "0a0e8b61-48a3-4018-8241-252ec7423001",
   "metadata": {},
   "outputs": [
    {
     "name": "stdout",
     "output_type": "stream",
     "text": [
      "15\n"
     ]
    }
   ],
   "source": [
    "x = 10  # Variable global\n",
    "\n",
    "def mi_funcion():\n",
    "    y = 5  # Variable local\n",
    "    print(x + y)\n",
    "\n",
    "mi_funcion()\n"
   ]
  },
  {
   "cell_type": "code",
   "execution_count": 108,
   "id": "c2f7513c-4769-4781-865b-c3933e50cec6",
   "metadata": {},
   "outputs": [
    {
     "ename": "NameError",
     "evalue": "name 'y' is not defined",
     "output_type": "error",
     "traceback": [
      "\u001b[0;31m---------------------------------------------------------------------------\u001b[0m",
      "\u001b[0;31mNameError\u001b[0m                                 Traceback (most recent call last)",
      "Cell \u001b[0;32mIn[108], line 1\u001b[0m\n\u001b[0;32m----> 1\u001b[0m \u001b[43my\u001b[49m\n",
      "\u001b[0;31mNameError\u001b[0m: name 'y' is not defined"
     ]
    }
   ],
   "source": []
  },
  {
   "cell_type": "markdown",
   "id": "87e1e6cc-f70d-4936-8c75-74a9256e42e5",
   "metadata": {},
   "source": [
    "## Input y Print"
   ]
  },
  {
   "cell_type": "code",
   "execution_count": 114,
   "id": "af5c1199-6900-470a-9540-ecea8f204899",
   "metadata": {},
   "outputs": [
    {
     "name": "stdin",
     "output_type": "stream",
     "text": [
      "Ingrese su nombre: Juan\n",
      "Ingrese su año de nacimiento: 2000\n"
     ]
    },
    {
     "name": "stdout",
     "output_type": "stream",
     "text": [
      "Nombre:--Juan--Edad:--24##$$"
     ]
    }
   ],
   "source": [
    "nombre = input(\"Ingrese su nombre:\")\n",
    "\n",
    "year = int(input(\"Ingrese su año de nacimiento:\"))\n",
    "\n",
    "#print(\"Nombre:\", nombre, \"Edad:\", 2024-year)\n",
    "\n",
    "print(f\"Nombre: {nombre} Edad: {2024-year}\")\n"
   ]
  },
  {
   "cell_type": "code",
   "execution_count": null,
   "id": "8906755b-ccb9-4d13-a75e-4f0cf00aaed1",
   "metadata": {},
   "outputs": [],
   "source": []
  }
 ],
 "metadata": {
  "kernelspec": {
   "display_name": "Python 3 (ipykernel)",
   "language": "python",
   "name": "python3"
  },
  "language_info": {
   "codemirror_mode": {
    "name": "ipython",
    "version": 3
   },
   "file_extension": ".py",
   "mimetype": "text/x-python",
   "name": "python",
   "nbconvert_exporter": "python",
   "pygments_lexer": "ipython3",
   "version": "3.11.6"
  }
 },
 "nbformat": 4,
 "nbformat_minor": 5
}
