{
 "cells": [
  {
   "cell_type": "code",
   "execution_count": 1,
   "id": "7f00425e",
   "metadata": {},
   "outputs": [],
   "source": [
    "import numpy as np"
   ]
  },
  {
   "cell_type": "code",
   "execution_count": 8,
   "id": "94cf73d1",
   "metadata": {},
   "outputs": [
    {
     "name": "stdout",
     "output_type": "stream",
     "text": [
      "[[3 1]\n",
      " [1 2]]\n",
      "[9 8]\n",
      "Solucion del sistema :  [2. 3.]\n"
     ]
    }
   ],
   "source": [
    "#Metodo np.linalg.solve\n",
    "a = np.array([[3,1],[1,2]])\n",
    "print (a)\n",
    "b= np.array([9,8])\n",
    "print (b)\n",
    "\n",
    "X=np.linalg.solve(a,b)\n",
    "print (\"Solucion del sistema : \",X)\n"
   ]
  },
  {
   "cell_type": "code",
   "execution_count": 13,
   "id": "ebbcc359",
   "metadata": {},
   "outputs": [
    {
     "name": "stdout",
     "output_type": "stream",
     "text": [
      "Verificación de Ax : b [9. 8.]\n"
     ]
    }
   ],
   "source": [
    "#comprobrar la solución de un sistema de ecuaciones lineales, se utiliza el np.dot para multiplicar matrices\n",
    "\n",
    "print (\"Verificación de Ax : b\",np.dot(a,X))"
   ]
  },
  {
   "cell_type": "code",
   "execution_count": null,
   "id": "a2dcbbf1",
   "metadata": {},
   "outputs": [
    {
     "name": "stdout",
     "output_type": "stream",
     "text": [
      "[[1 2]\n",
      " [3 4]\n",
      " [5 6]]\n",
      "[1 2 3]\n",
      "[[-1.33333333 -0.33333333  0.66666667]\n",
      " [ 1.08333333  0.33333333 -0.41666667]]\n"
     ]
    }
   ],
   "source": [
    "#sistema resuleto con la pseudoinversa ( np.linalg.pinv) casos sobre determinados, gran cantidad de ecuaciones y las variables sean menos, tener mas ecuaciones que variables. matriz rectangular\n",
    "#metodo que minimice el error de la ecuacion lineal\n",
    "a = np.array([[1,2],[3,4],[5,6]])\n",
    "print (a)\n",
    "b = np.array([1,2,3])\n",
    "print (b)\n",
    "\n",
    "#calcular el pseudoinverse de la matriz, \n",
    "pinv = np.linalg.pinv(a)\n",
    "print (pinv)"
   ]
  },
  {
   "cell_type": "code",
   "execution_count": 18,
   "id": "7f07a049",
   "metadata": {},
   "outputs": [
    {
     "name": "stdout",
     "output_type": "stream",
     "text": [
      "[0.  0.5]\n"
     ]
    }
   ],
   "source": [
    "x= np.dot(pinv,b)\n",
    "print(x)"
   ]
  },
  {
   "cell_type": "code",
   "execution_count": null,
   "id": "1206da89",
   "metadata": {},
   "outputs": [],
   "source": []
  },
  {
   "cell_type": "code",
   "execution_count": null,
   "id": "8ebfdacd",
   "metadata": {},
   "outputs": [],
   "source": []
  },
  {
   "cell_type": "code",
   "execution_count": null,
   "id": "37cf5e4d",
   "metadata": {},
   "outputs": [],
   "source": []
  },
  {
   "cell_type": "code",
   "execution_count": null,
   "id": "5c913043",
   "metadata": {},
   "outputs": [],
   "source": []
  },
  {
   "cell_type": "code",
   "execution_count": null,
   "id": "75ca3dc3",
   "metadata": {},
   "outputs": [],
   "source": []
  },
  {
   "cell_type": "code",
   "execution_count": null,
   "id": "c6e493ad",
   "metadata": {},
   "outputs": [],
   "source": []
  },
  {
   "cell_type": "code",
   "execution_count": null,
   "id": "6a00ec3a",
   "metadata": {},
   "outputs": [],
   "source": []
  },
  {
   "cell_type": "code",
   "execution_count": null,
   "id": "5714df27",
   "metadata": {},
   "outputs": [],
   "source": []
  },
  {
   "cell_type": "code",
   "execution_count": null,
   "id": "7c8e5734",
   "metadata": {},
   "outputs": [],
   "source": []
  },
  {
   "cell_type": "code",
   "execution_count": null,
   "id": "54d23640",
   "metadata": {},
   "outputs": [],
   "source": []
  },
  {
   "cell_type": "code",
   "execution_count": null,
   "id": "f49f47a0",
   "metadata": {},
   "outputs": [],
   "source": []
  },
  {
   "cell_type": "code",
   "execution_count": null,
   "id": "3893a763",
   "metadata": {},
   "outputs": [],
   "source": []
  },
  {
   "cell_type": "code",
   "execution_count": null,
   "id": "7eea8699",
   "metadata": {},
   "outputs": [],
   "source": []
  },
  {
   "cell_type": "code",
   "execution_count": null,
   "id": "af718775",
   "metadata": {},
   "outputs": [],
   "source": []
  },
  {
   "cell_type": "code",
   "execution_count": null,
   "id": "18c2a7b3",
   "metadata": {},
   "outputs": [],
   "source": []
  }
 ],
 "metadata": {
  "kernelspec": {
   "display_name": "Python 3",
   "language": "python",
   "name": "python3"
  },
  "language_info": {
   "codemirror_mode": {
    "name": "ipython",
    "version": 3
   },
   "file_extension": ".py",
   "mimetype": "text/x-python",
   "name": "python",
   "nbconvert_exporter": "python",
   "pygments_lexer": "ipython3",
   "version": "3.13.5"
  }
 },
 "nbformat": 4,
 "nbformat_minor": 5
}
