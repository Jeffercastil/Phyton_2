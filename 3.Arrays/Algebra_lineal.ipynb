{
 "cells": [
  {
   "cell_type": "code",
   "execution_count": 1,
   "id": "2fac61dc",
   "metadata": {},
   "outputs": [],
   "source": [
    "import numpy as np"
   ]
  },
  {
   "cell_type": "code",
   "execution_count": 8,
   "id": "2f2386c8",
   "metadata": {},
   "outputs": [],
   "source": [
    "A = np.array([[1,2],[4,5]])\n",
    "\n",
    "B = np.array([[1,2],[3,4]])\n",
    "\n",
    "C = np.array([[11,12],[14,15]])"
   ]
  },
  {
   "cell_type": "code",
   "execution_count": null,
   "id": "1bfccbcd",
   "metadata": {},
   "outputs": [
    {
     "name": "stdout",
     "output_type": "stream",
     "text": [
      "[[ 7 10]\n",
      " [19 28]]\n"
     ]
    }
   ],
   "source": [
    "# se multiplica matriz por matriz pero solo de dos dimensiones vectore unidimensionales\n",
    "D = np.dot(A,B)\n",
    "print(D)    "
   ]
  },
  {
   "cell_type": "code",
   "execution_count": 10,
   "id": "057f93ae",
   "metadata": {},
   "outputs": [
    {
     "name": "stdout",
     "output_type": "stream",
     "text": [
      "[[ 7 10]\n",
      " [19 28]]\n"
     ]
    }
   ],
   "source": [
    "E = A @ B\n",
    "print(E)"
   ]
  },
  {
   "cell_type": "code",
   "execution_count": 12,
   "id": "e1023774",
   "metadata": {},
   "outputs": [
    {
     "data": {
      "text/plain": [
       "np.float64(6.000000000000001)"
      ]
     },
     "execution_count": 12,
     "metadata": {},
     "output_type": "execute_result"
    }
   ],
   "source": [
    "#calcular el determinante de una matriz\n",
    "np. linalg.det(D)"
   ]
  },
  {
   "cell_type": "code",
   "execution_count": 13,
   "id": "9de1a8e6",
   "metadata": {},
   "outputs": [
    {
     "name": "stdout",
     "output_type": "stream",
     "text": [
      "[[ 7 10]\n",
      " [19 28]]\n"
     ]
    }
   ],
   "source": [
    "print (D)"
   ]
  },
  {
   "cell_type": "code",
   "execution_count": 15,
   "id": "3c9f795a",
   "metadata": {},
   "outputs": [
    {
     "name": "stdout",
     "output_type": "stream",
     "text": [
      "Inversa de la matriz: \n",
      " [[-2.   1. ]\n",
      " [ 1.5 -0.5]]\n"
     ]
    }
   ],
   "source": [
    "#Calcular la inversa de una matriz si su determinante es distinto de 0 entonces se puede calcular la inversa\n",
    "det_A = np.linalg.det(B)\n",
    "if det_A != 0:\n",
    "    inv_A = np.linalg.inv(B)\n",
    "    print(\"Inversa de la matriz: \\n\", inv_A)\n",
    "else:\n",
    "    print(\"La matriz no es invertible\")"
   ]
  },
  {
   "cell_type": "code",
   "execution_count": 18,
   "id": "85c71a94",
   "metadata": {},
   "outputs": [],
   "source": [
    "M= np.array([[3,3],[3,3]])"
   ]
  },
  {
   "cell_type": "code",
   "execution_count": 20,
   "id": "38516a1d",
   "metadata": {},
   "outputs": [
    {
     "name": "stdout",
     "output_type": "stream",
     "text": [
      "[[3 3]\n",
      " [3 3]]\n",
      "La matriz no es invertible\n"
     ]
    }
   ],
   "source": [
    "det_M = np.linalg.det(M)\n",
    "print(M)\n",
    "if det_M != 0:\n",
    "    inv_M = np.linalg.inv(M)\n",
    "    print(\"Inversa de la matriz: \\n\",inv_M)\n",
    "else:\n",
    "    print(\"La matriz no es invertible\")"
   ]
  },
  {
   "cell_type": "code",
   "execution_count": null,
   "id": "c570e4a2",
   "metadata": {},
   "outputs": [],
   "source": [
    "# DESCOMPOSICIÓN DE MATRICES, factorizado en una octagonal y una triangular inferior\n",
    "Q , R = np.linalg.qr(A)\n"
   ]
  },
  {
   "cell_type": "code",
   "execution_count": 23,
   "id": "6c121cff",
   "metadata": {},
   "outputs": [
    {
     "name": "stdout",
     "output_type": "stream",
     "text": [
      "Factor Q:\n",
      " [[-0.24253563 -0.9701425 ]\n",
      " [-0.9701425   0.24253563]]\n",
      "Factor R:\n",
      " [[-4.12310563 -5.33578375]\n",
      " [ 0.         -0.72760688]]\n"
     ]
    }
   ],
   "source": [
    "print(\"Factor Q:\\n\",Q)\n",
    "print(\"Factor R:\\n\",R)"
   ]
  },
  {
   "cell_type": "code",
   "execution_count": 25,
   "id": "3c6d37fa",
   "metadata": {},
   "outputs": [
    {
     "data": {
      "text/plain": [
       "array([[1., 2.],\n",
       "       [4., 5.]])"
      ]
     },
     "execution_count": 25,
     "metadata": {},
     "output_type": "execute_result"
    }
   ],
   "source": [
    "Q @ R"
   ]
  },
  {
   "cell_type": "code",
   "execution_count": null,
   "id": "86690424",
   "metadata": {},
   "outputs": [],
   "source": []
  },
  {
   "cell_type": "code",
   "execution_count": null,
   "id": "69f8342c",
   "metadata": {},
   "outputs": [],
   "source": []
  },
  {
   "cell_type": "code",
   "execution_count": null,
   "id": "447f3daf",
   "metadata": {},
   "outputs": [],
   "source": []
  },
  {
   "cell_type": "code",
   "execution_count": null,
   "id": "f9f84f46",
   "metadata": {},
   "outputs": [],
   "source": []
  },
  {
   "cell_type": "code",
   "execution_count": null,
   "id": "7f746f45",
   "metadata": {},
   "outputs": [],
   "source": []
  },
  {
   "cell_type": "code",
   "execution_count": null,
   "id": "4be8c433",
   "metadata": {},
   "outputs": [],
   "source": []
  },
  {
   "cell_type": "code",
   "execution_count": null,
   "id": "80e1b29d",
   "metadata": {},
   "outputs": [],
   "source": []
  },
  {
   "cell_type": "code",
   "execution_count": null,
   "id": "085118a9",
   "metadata": {},
   "outputs": [],
   "source": []
  },
  {
   "cell_type": "code",
   "execution_count": null,
   "id": "4cf9db4e",
   "metadata": {},
   "outputs": [],
   "source": []
  }
 ],
 "metadata": {
  "kernelspec": {
   "display_name": "Python 3",
   "language": "python",
   "name": "python3"
  },
  "language_info": {
   "codemirror_mode": {
    "name": "ipython",
    "version": 3
   },
   "file_extension": ".py",
   "mimetype": "text/x-python",
   "name": "python",
   "nbconvert_exporter": "python",
   "pygments_lexer": "ipython3",
   "version": "3.13.5"
  }
 },
 "nbformat": 4,
 "nbformat_minor": 5
}
