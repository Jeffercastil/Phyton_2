{
 "cells": [
  {
   "cell_type": "markdown",
   "id": "0b113838-f0d1-4923-8c60-7a4a03e83826",
   "metadata": {},
   "source": [
    "Markdown es solo para texto notas, todo lo relacionado a los textos que queremos agregar.\n",
    "\n",
    "Los datos se almacenan en el sistema, para tipos de variables como decir que x=9, y si lo utilizo en otra linea y esta se ejecuta, como en una suma digamos x+3, sumaria 12, pero si quiero que no se guarde nada y se reinicie el kernel, se debe selecionar KERNEL , RESTART KERNEL\n",
    "\n",
    "DATOS ESCALARES\n",
    "\n",
    "Type identifica el tipo de dato, type(5.0) float, type(4) int\n",
    "z=2+3j numero complejo\n",
    "si el dato es string a='6', y deseo convertirlo en entero se realiza lo siguiente int (a)\n"
   ]
  },
  {
   "cell_type": "code",
   "execution_count": 65,
   "id": "5088cea8-cb5e-4310-afc8-a019a3c446ae",
   "metadata": {},
   "outputs": [],
   "source": [
    "X=5"
   ]
  },
  {
   "cell_type": "code",
   "execution_count": 66,
   "id": "bbb3b92a-c471-4c01-84cc-51fe1510df81",
   "metadata": {},
   "outputs": [
    {
     "data": {
      "text/plain": [
       "int"
      ]
     },
     "execution_count": 66,
     "metadata": {},
     "output_type": "execute_result"
    }
   ],
   "source": [
    "type(X)"
   ]
  },
  {
   "cell_type": "code",
   "execution_count": 67,
   "id": "1e17e720-2537-4f00-a326-88689887402d",
   "metadata": {},
   "outputs": [],
   "source": [
    "y=5.0"
   ]
  },
  {
   "cell_type": "code",
   "execution_count": 68,
   "id": "8ed224e3-0ce1-4aff-8388-424e3bb7d76a",
   "metadata": {},
   "outputs": [
    {
     "data": {
      "text/plain": [
       "float"
      ]
     },
     "execution_count": 68,
     "metadata": {},
     "output_type": "execute_result"
    }
   ],
   "source": [
    "type(y)"
   ]
  },
  {
   "cell_type": "code",
   "execution_count": 69,
   "id": "dab586ec-6c7f-43c3-b24b-635b0f1283aa",
   "metadata": {},
   "outputs": [
    {
     "data": {
      "text/plain": [
       "10.0"
      ]
     },
     "execution_count": 69,
     "metadata": {},
     "output_type": "execute_result"
    }
   ],
   "source": [
    "X+y"
   ]
  },
  {
   "cell_type": "code",
   "execution_count": 70,
   "id": "46b66daf-3def-4436-9500-46d4bdaef986",
   "metadata": {},
   "outputs": [],
   "source": [
    "es_verdadero=False"
   ]
  },
  {
   "cell_type": "code",
   "execution_count": null,
   "id": "2972ba44-0f57-4333-982c-b98dde7b310c",
   "metadata": {},
   "outputs": [],
   "source": []
  },
  {
   "cell_type": "code",
   "execution_count": 71,
   "id": "24f67a78-4d04-4726-9fa9-58c6d9726aa6",
   "metadata": {},
   "outputs": [
    {
     "data": {
      "text/plain": [
       "False"
      ]
     },
     "execution_count": 71,
     "metadata": {},
     "output_type": "execute_result"
    }
   ],
   "source": [
    "es_verdadero"
   ]
  },
  {
   "cell_type": "code",
   "execution_count": 72,
   "id": "7cbcf372-0897-431e-8371-b3207b115d9b",
   "metadata": {},
   "outputs": [],
   "source": [
    "z=2+3j"
   ]
  },
  {
   "cell_type": "code",
   "execution_count": 73,
   "id": "3ea2e6e9-b27a-41bd-bedb-9fc6b544f0c1",
   "metadata": {},
   "outputs": [
    {
     "data": {
      "text/plain": [
       "complex"
      ]
     },
     "execution_count": 73,
     "metadata": {},
     "output_type": "execute_result"
    }
   ],
   "source": [
    "type(z)"
   ]
  },
  {
   "cell_type": "code",
   "execution_count": 74,
   "id": "21ae309e-e414-4226-a167-85789463057c",
   "metadata": {},
   "outputs": [],
   "source": [
    "a='6'"
   ]
  },
  {
   "cell_type": "code",
   "execution_count": 75,
   "id": "f18e3e43-51d0-4798-921d-0bd63bc34924",
   "metadata": {},
   "outputs": [
    {
     "data": {
      "text/plain": [
       "str"
      ]
     },
     "execution_count": 75,
     "metadata": {},
     "output_type": "execute_result"
    }
   ],
   "source": [
    "type(a)"
   ]
  },
  {
   "cell_type": "code",
   "execution_count": 76,
   "id": "6ea4e759-72ce-4ae9-8bb9-78ad11406005",
   "metadata": {},
   "outputs": [
    {
     "data": {
      "text/plain": [
       "6"
      ]
     },
     "execution_count": 76,
     "metadata": {},
     "output_type": "execute_result"
    }
   ],
   "source": [
    "int (a)"
   ]
  },
  {
   "cell_type": "code",
   "execution_count": 77,
   "id": "6089cffc-1199-45bc-a885-b3462cba34d3",
   "metadata": {},
   "outputs": [],
   "source": [
    "b=int(a)"
   ]
  },
  {
   "cell_type": "code",
   "execution_count": 78,
   "id": "b62f9eab-7966-41ea-a48b-559bab8d02ff",
   "metadata": {},
   "outputs": [
    {
     "data": {
      "text/plain": [
       "int"
      ]
     },
     "execution_count": 78,
     "metadata": {},
     "output_type": "execute_result"
    }
   ],
   "source": [
    "type(b)"
   ]
  },
  {
   "cell_type": "markdown",
   "id": "930a67de-2a09-46ca-a5ac-e7aab9f7e587",
   "metadata": {},
   "source": [
    "operadores logicos"
   ]
  },
  {
   "cell_type": "code",
   "execution_count": 2,
   "id": "8a6b1900-d3ff-429e-8b42-384990268329",
   "metadata": {},
   "outputs": [
    {
     "name": "stdout",
     "output_type": "stream",
     "text": [
      "no cumple con los requisitos\n"
     ]
    }
   ],
   "source": [
    "edad =int (input(\"Ingresa su edad\"))\n",
    "tiene_experiencia =True\n",
    "\n",
    "if edad>18 and tiene_experiencia:\n",
    "    print(\"Puede aplicar para el trabajo\")\n",
    "else:\n",
    "    print(\"no cumple con los requisitos\")"
   ]
  },
  {
   "cell_type": "code",
   "execution_count": 3,
   "id": "f07aac74-8143-45f6-a92a-0e1639066a12",
   "metadata": {},
   "outputs": [
    {
     "name": "stdout",
     "output_type": "stream",
     "text": [
      "La persona es estudiante o empleado\n"
     ]
    }
   ],
   "source": [
    "es_estudiante =False\n",
    "es_empleado =True\n",
    "\n",
    "if es_estudiante or es_empleado:\n",
    "    print(\"La persona es estudiante o empleado\")\n",
    "else:\n",
    "    print(\"La persona no es estudiante ni empleado\")"
   ]
  },
  {
   "cell_type": "code",
   "execution_count": null,
   "id": "63d2e488",
   "metadata": {},
   "outputs": [],
   "source": []
  },
  {
   "cell_type": "code",
   "execution_count": null,
   "id": "e86e1ba9",
   "metadata": {},
   "outputs": [],
   "source": []
  },
  {
   "cell_type": "code",
   "execution_count": null,
   "id": "c743d27b",
   "metadata": {},
   "outputs": [],
   "source": []
  },
  {
   "cell_type": "code",
   "execution_count": 81,
   "id": "1ed78623-7f27-46fc-89ed-90e9d3d3190f",
   "metadata": {},
   "outputs": [
    {
     "data": {
      "text/plain": [
       "False"
      ]
     },
     "execution_count": 81,
     "metadata": {},
     "output_type": "execute_result"
    }
   ],
   "source": [
    "not True"
   ]
  },
  {
   "cell_type": "code",
   "execution_count": 82,
   "id": "fa250f8e-9773-4d96-868a-ba32448d1a31",
   "metadata": {},
   "outputs": [
    {
     "name": "stdout",
     "output_type": "stream",
     "text": [
      "Esta lloviendo\n"
     ]
    }
   ],
   "source": [
    "llueve = True\n",
    "\n",
    "if not llueve:\n",
    "    print(\"No esta lloviendo\")\n",
    "else:\n",
    "    print(\"Esta lloviendo\")"
   ]
  },
  {
   "cell_type": "markdown",
   "id": "0a29db65-c3d4-4973-b2e9-07a17a091a9d",
   "metadata": {},
   "source": [
    "Condicionales (if,elif,else)"
   ]
  },
  {
   "cell_type": "code",
   "execution_count": 6,
   "id": "ae36e9cf-4e72-4032-8b64-bf0f03d78311",
   "metadata": {},
   "outputs": [
    {
     "name": "stdout",
     "output_type": "stream",
     "text": [
      "El numero es impar\n"
     ]
    }
   ],
   "source": [
    "#Determinar si un numero es par\n",
    "N =int(input(\"Ingrese un valor: \"))\n",
    "if N % 2 ==0:\n",
    "    print(\"Es par\")\n",
    "else:\n",
    "    print (\"El numero es impar\")    "
   ]
  },
  {
   "cell_type": "code",
   "execution_count": null,
   "id": "93f58c4f",
   "metadata": {},
   "outputs": [
    {
     "name": "stdout",
     "output_type": "stream",
     "text": [
      "El numero es cero\n"
     ]
    }
   ],
   "source": [
    "#Validar signo de un numero\n",
    "\n",
    "x=int(input(\"Ingrese un valor: \"))\n",
    "\n",
    "if x > 0:\n",
    "    print (\"El numero es positivo\")\n",
    "elif x == 0:\n",
    "    print(\"El numero es cero\")\n",
    "else:\n",
    "    print(\"El numero es negativo\")"
   ]
  },
  {
   "cell_type": "markdown",
   "id": "82c75a1c",
   "metadata": {},
   "source": [
    "Match Case"
   ]
  },
  {
   "cell_type": "code",
   "execution_count": 15,
   "id": "f10b65ce",
   "metadata": {},
   "outputs": [
    {
     "name": "stdout",
     "output_type": "stream",
     "text": [
      "Opcion normal\n"
     ]
    }
   ],
   "source": [
    "numero =int( input(\"Ingrese un valor: \"))\n",
    "match numero:\n",
    "    case 1:\n",
    "        print(\"Opcion vegetariana\")\n",
    "    case 2:\n",
    "        print(\"Opcion normal\")\n",
    "    case 3:\n",
    "        print(\"Ninguna Opcion\")  \n",
    "    case _:\n",
    "        print(\"Valor invalido\")  "
   ]
  },
  {
   "cell_type": "code",
   "execution_count": null,
   "id": "1a4a04a7",
   "metadata": {},
   "outputs": [
    {
     "name": "stdout",
     "output_type": "stream",
     "text": [
      "Positivo\n"
     ]
    }
   ],
   "source": [
    "numero = int(input(\"Ingrese un valor: \"))\n",
    "match numero:\n",
    "    case  n if n  == 0:\n",
    "        print(\"Cero\")\n",
    "    case  n if n > 0:\n",
    "        print (\"Positivo\")\n",
    "    case n if n < 0:\n",
    "        print(\"Negativo\")\n",
    "    case _:\n",
    "        print(\"No se puede clasificar\")\n"
   ]
  },
  {
   "cell_type": "code",
   "execution_count": 34,
   "id": "40cd1b0a",
   "metadata": {},
   "outputs": [
    {
     "name": "stdout",
     "output_type": "stream",
     "text": [
      " Obesidad clase 1 Moderada\n"
     ]
    }
   ],
   "source": [
    "imc = float(input(\"Ingrese su peso: \"))\n",
    "match imc:\n",
    "    case valor if 0 < valor <= 18.5:\n",
    "        print(\"Bajo peso\")\n",
    "    case valor if 18.5 < valor <=24.9:\n",
    "        print(\"Peso normal saludable\")\n",
    "    case valor if 24.9 < valor <=29.9:\n",
    "        print(\"Sobrepeso\")\n",
    "    case valor if 29.9 <  valor <=34.9:\n",
    "        print(\" Obesidad clase 1 Moderada\")\n",
    "    case valor if 34.9 < valor <=39.9:\n",
    "        print(\"Obesidad clase 2 severa\")\n",
    "    case valor if 39.9 < valor <=valor:\n",
    "        print(\"Obesidad clase 3 muy severa\")\n",
    "    case _:\n",
    "        print(\" Valores de IMC no validos\")"
   ]
  },
  {
   "cell_type": "markdown",
   "id": "4329c581",
   "metadata": {},
   "source": [
    "Cadenas de texto y operaciones con Strings"
   ]
  },
  {
   "cell_type": "code",
   "execution_count": 88,
   "id": "95a01131",
   "metadata": {},
   "outputs": [],
   "source": [
    "p=\"Pepito\"\n",
    "q=\"Perez\"\n"
   ]
  },
  {
   "cell_type": "code",
   "execution_count": 89,
   "id": "4d4acc3e",
   "metadata": {},
   "outputs": [],
   "source": [
    "r=p +\" \"+ q"
   ]
  },
  {
   "cell_type": "code",
   "execution_count": 90,
   "id": "8926c704",
   "metadata": {},
   "outputs": [
    {
     "data": {
      "text/plain": [
       "'Pepito Perez'"
      ]
     },
     "execution_count": 90,
     "metadata": {},
     "output_type": "execute_result"
    }
   ],
   "source": [
    "r"
   ]
  },
  {
   "cell_type": "code",
   "execution_count": 91,
   "id": "192482f0",
   "metadata": {},
   "outputs": [
    {
     "data": {
      "text/plain": [
       "'Pepi'"
      ]
     },
     "execution_count": 91,
     "metadata": {},
     "output_type": "execute_result"
    }
   ],
   "source": [
    "# si quiere obtener la letra en especifico debo especificar asi\n",
    "r[0:4]"
   ]
  },
  {
   "cell_type": "code",
   "execution_count": 92,
   "id": "158a2636",
   "metadata": {},
   "outputs": [
    {
     "data": {
      "text/plain": [
       "12"
      ]
     },
     "execution_count": 92,
     "metadata": {},
     "output_type": "execute_result"
    }
   ],
   "source": [
    "# len sirve para contar la cantidad de caracteres \n",
    "len(r)"
   ]
  },
  {
   "cell_type": "code",
   "execution_count": 93,
   "id": "ffac4788",
   "metadata": {},
   "outputs": [
    {
     "data": {
      "text/plain": [
       "'z'"
      ]
     },
     "execution_count": 93,
     "metadata": {},
     "output_type": "execute_result"
    }
   ],
   "source": [
    "#esto es una forma\n",
    "k= len(r)\n",
    "r[k-1]"
   ]
  },
  {
   "cell_type": "code",
   "execution_count": 94,
   "id": "845bacd0",
   "metadata": {},
   "outputs": [
    {
     "data": {
      "text/plain": [
       "'ere'"
      ]
     },
     "execution_count": 94,
     "metadata": {},
     "output_type": "execute_result"
    }
   ],
   "source": [
    "#mejor forma\n",
    "r[-4:-1]"
   ]
  },
  {
   "cell_type": "code",
   "execution_count": 95,
   "id": "4b4499ea",
   "metadata": {},
   "outputs": [
    {
     "data": {
      "text/plain": [
       "'PEPITO'"
      ]
     },
     "execution_count": 95,
     "metadata": {},
     "output_type": "execute_result"
    }
   ],
   "source": [
    "#cambiar de mayuscula a minuscula o viceversa upper mayuscula\n",
    "#lower minuscula\n",
    "p.upper()"
   ]
  },
  {
   "cell_type": "code",
   "execution_count": 96,
   "id": "1fe30f24",
   "metadata": {},
   "outputs": [
    {
     "data": {
      "text/plain": [
       "'PEREZ'"
      ]
     },
     "execution_count": 96,
     "metadata": {},
     "output_type": "execute_result"
    }
   ],
   "source": [
    "q.upper()"
   ]
  },
  {
   "cell_type": "code",
   "execution_count": 97,
   "id": "d689660d",
   "metadata": {},
   "outputs": [
    {
     "data": {
      "text/plain": [
       "'Jorge'"
      ]
     },
     "execution_count": 97,
     "metadata": {},
     "output_type": "execute_result"
    }
   ],
   "source": [
    "#Para que inicie una palabra en mayuscula se utiliza capitalize() solo la primera en mayus\n",
    "\"jorge\".capitalize()"
   ]
  },
  {
   "cell_type": "code",
   "execution_count": 98,
   "id": "a95fba81",
   "metadata": {},
   "outputs": [
    {
     "data": {
      "text/plain": [
       "['Pepito', 'Perez']"
      ]
     },
     "execution_count": 98,
     "metadata": {},
     "output_type": "execute_result"
    }
   ],
   "source": [
    "#convierte a una lista split()\n",
    "r.split()"
   ]
  },
  {
   "cell_type": "markdown",
   "id": "06f0a064",
   "metadata": {},
   "source": [
    "LISTAS Y TUPLAS"
   ]
  },
  {
   "cell_type": "code",
   "execution_count": 99,
   "id": "88e6fa73",
   "metadata": {},
   "outputs": [],
   "source": [
    "# colecciones de objetos, en el cual se puede acceder, almacenan datos en un orden especifico\n",
    "#Lista con estos simbolos [] cambian\n",
    "#tupla con estos simbolos () No cambian\n",
    "\n",
    "mi_lista =[1, 2, 3, \"hola\", True]"
   ]
  },
  {
   "cell_type": "code",
   "execution_count": 100,
   "id": "b6c37054",
   "metadata": {},
   "outputs": [],
   "source": [
    "#listas pueden cambiar los valores que tiene , tuplas no son inmutables\n",
    "mi_tupla =(1, 2, 3, \"hola\", True)"
   ]
  },
  {
   "cell_type": "code",
   "execution_count": 101,
   "id": "403ad17c",
   "metadata": {},
   "outputs": [],
   "source": [
    "mi_lista[1] =\"mano\""
   ]
  },
  {
   "cell_type": "code",
   "execution_count": 102,
   "id": "9bdfe559",
   "metadata": {},
   "outputs": [
    {
     "data": {
      "text/plain": [
       "[1, 'mano', 3, 'hola', True]"
      ]
     },
     "execution_count": 102,
     "metadata": {},
     "output_type": "execute_result"
    }
   ],
   "source": [
    "mi_lista"
   ]
  },
  {
   "cell_type": "code",
   "execution_count": 103,
   "id": "8a639574",
   "metadata": {},
   "outputs": [
    {
     "data": {
      "text/plain": [
       "(1, 2, 3, 'hola', True)"
      ]
     },
     "execution_count": 103,
     "metadata": {},
     "output_type": "execute_result"
    }
   ],
   "source": [
    "mi_tupla"
   ]
  },
  {
   "cell_type": "code",
   "execution_count": 104,
   "id": "6f23b375",
   "metadata": {},
   "outputs": [
    {
     "name": "stdout",
     "output_type": "stream",
     "text": [
      "[1, 'mano', 3, 'hola', True, 8]\n"
     ]
    }
   ],
   "source": [
    "#agregar un elemento\n",
    "mi_lista.append(8)\n",
    "print(mi_lista)"
   ]
  },
  {
   "cell_type": "code",
   "execution_count": 105,
   "id": "7c1365f8",
   "metadata": {},
   "outputs": [
    {
     "data": {
      "text/plain": [
       "6"
      ]
     },
     "execution_count": 105,
     "metadata": {},
     "output_type": "execute_result"
    }
   ],
   "source": [
    "len(mi_lista)"
   ]
  },
  {
   "cell_type": "code",
   "execution_count": 106,
   "id": "3f662aac",
   "metadata": {},
   "outputs": [
    {
     "data": {
      "text/plain": [
       "5"
      ]
     },
     "execution_count": 106,
     "metadata": {},
     "output_type": "execute_result"
    }
   ],
   "source": [
    "len(mi_tupla)"
   ]
  },
  {
   "cell_type": "code",
   "execution_count": 107,
   "id": "36a6b49f",
   "metadata": {},
   "outputs": [
    {
     "data": {
      "text/plain": [
       "[3, 'hola']"
      ]
     },
     "execution_count": 107,
     "metadata": {},
     "output_type": "execute_result"
    }
   ],
   "source": [
    "mi_lista[2:4]"
   ]
  },
  {
   "cell_type": "code",
   "execution_count": 108,
   "id": "a571fb63",
   "metadata": {},
   "outputs": [],
   "source": [
    "#remover un elemento\n",
    "mi_lista.remove(3)"
   ]
  },
  {
   "cell_type": "code",
   "execution_count": 109,
   "id": "048bddea",
   "metadata": {},
   "outputs": [
    {
     "data": {
      "text/plain": [
       "[1, 'mano', 'hola', True, 8]"
      ]
     },
     "execution_count": 109,
     "metadata": {},
     "output_type": "execute_result"
    }
   ],
   "source": [
    "mi_lista"
   ]
  },
  {
   "cell_type": "code",
   "execution_count": 110,
   "id": "d6130d89",
   "metadata": {},
   "outputs": [],
   "source": [
    "L1 = ['a', 'b', 'c']"
   ]
  },
  {
   "cell_type": "code",
   "execution_count": 111,
   "id": "a35ad8b7",
   "metadata": {},
   "outputs": [],
   "source": [
    "L2=L1"
   ]
  },
  {
   "cell_type": "code",
   "execution_count": 112,
   "id": "afd2c149",
   "metadata": {},
   "outputs": [
    {
     "data": {
      "text/plain": [
       "['a', 'b', 'c']"
      ]
     },
     "execution_count": 112,
     "metadata": {},
     "output_type": "execute_result"
    }
   ],
   "source": [
    "L2"
   ]
  },
  {
   "cell_type": "code",
   "execution_count": 113,
   "id": "61011e68",
   "metadata": {},
   "outputs": [],
   "source": [
    "L2[1] ='z'"
   ]
  },
  {
   "cell_type": "code",
   "execution_count": 114,
   "id": "e6ed0763",
   "metadata": {},
   "outputs": [
    {
     "data": {
      "text/plain": [
       "['a', 'z', 'c']"
      ]
     },
     "execution_count": 114,
     "metadata": {},
     "output_type": "execute_result"
    }
   ],
   "source": [
    "L1"
   ]
  },
  {
   "cell_type": "code",
   "execution_count": 115,
   "id": "f5aa3d4d",
   "metadata": {},
   "outputs": [],
   "source": [
    "#copia de la primera sin modificarla\n",
    "L3 =L1.copy()"
   ]
  },
  {
   "cell_type": "code",
   "execution_count": 116,
   "id": "72639baa",
   "metadata": {},
   "outputs": [],
   "source": [
    "L3[1] = 'd'"
   ]
  },
  {
   "cell_type": "code",
   "execution_count": 117,
   "id": "ff42c53e",
   "metadata": {},
   "outputs": [
    {
     "data": {
      "text/plain": [
       "['a', 'd', 'c']"
      ]
     },
     "execution_count": 117,
     "metadata": {},
     "output_type": "execute_result"
    }
   ],
   "source": [
    "L3"
   ]
  },
  {
   "cell_type": "code",
   "execution_count": 118,
   "id": "18a0a849",
   "metadata": {},
   "outputs": [
    {
     "data": {
      "text/plain": [
       "['a', 'z', 'c']"
      ]
     },
     "execution_count": 118,
     "metadata": {},
     "output_type": "execute_result"
    }
   ],
   "source": [
    "L1"
   ]
  },
  {
   "cell_type": "code",
   "execution_count": 119,
   "id": "f6462e0a",
   "metadata": {},
   "outputs": [
    {
     "data": {
      "text/plain": [
       "'a-z-c'"
      ]
     },
     "execution_count": 119,
     "metadata": {},
     "output_type": "execute_result"
    }
   ],
   "source": [
    "# CON join se puede obtener algo diferente al split , y como se separen \n",
    "'-'.join(L1)"
   ]
  },
  {
   "cell_type": "markdown",
   "id": "91d46b96",
   "metadata": {},
   "source": [
    "For , Break, Continue"
   ]
  },
  {
   "cell_type": "code",
   "execution_count": 120,
   "id": "3355373c",
   "metadata": {},
   "outputs": [
    {
     "name": "stdout",
     "output_type": "stream",
     "text": [
      "1\n",
      "4\n",
      "5\n",
      "2\n",
      "3\n"
     ]
    }
   ],
   "source": [
    "#permite iterar cualquier elemento\n",
    "secuencia =(1,4,5,2,3)\n",
    "for elemento in secuencia:\n",
    "    print(elemento)"
   ]
  },
  {
   "cell_type": "code",
   "execution_count": 121,
   "id": "c2d87306",
   "metadata": {},
   "outputs": [
    {
     "name": "stdout",
     "output_type": "stream",
     "text": [
      "P\n",
      "h\n",
      "y\n",
      "t\n",
      "h\n",
      "o\n",
      "n\n"
     ]
    }
   ],
   "source": [
    "for letra in \"Phython\":\n",
    "    print(letra)"
   ]
  },
  {
   "cell_type": "code",
   "execution_count": 122,
   "id": "e622adc9",
   "metadata": {},
   "outputs": [
    {
     "name": "stdout",
     "output_type": "stream",
     "text": [
      "0\n",
      "1\n",
      "2\n",
      "3\n"
     ]
    }
   ],
   "source": [
    "for x in range(4):\n",
    "    print(x)"
   ]
  },
  {
   "cell_type": "code",
   "execution_count": 123,
   "id": "9bb815b7",
   "metadata": {},
   "outputs": [
    {
     "name": "stdout",
     "output_type": "stream",
     "text": [
      "1\n",
      "4\n",
      "5\n",
      "2\n",
      "3\n"
     ]
    }
   ],
   "source": [
    "lista =(1,4,5,2,3)\n",
    "for i in range(len(lista)):\n",
    "    print(lista[i])"
   ]
  },
  {
   "cell_type": "code",
   "execution_count": 124,
   "id": "c78d7f0f",
   "metadata": {},
   "outputs": [
    {
     "name": "stdout",
     "output_type": "stream",
     "text": [
      "Elemento 0: 1\n",
      "Elemento 1: 4\n",
      "Elemento 2: 5\n",
      "Elemento 3: 2\n",
      "Elemento 4: 3\n"
     ]
    }
   ],
   "source": [
    "# funcion de iteracion enumerate\n",
    "for indice, valor in enumerate(lista):\n",
    "    #Formateo de cadena de texto,\n",
    "    print(f\"Elemento {indice}: {valor}\")"
   ]
  },
  {
   "cell_type": "code",
   "execution_count": 125,
   "id": "51e6c5fd",
   "metadata": {},
   "outputs": [
    {
     "name": "stdout",
     "output_type": "stream",
     "text": [
      "1\n",
      "4\n",
      "5\n",
      "2\n"
     ]
    }
   ],
   "source": [
    "secuencia =(1,4,5,2,3)\n",
    "for elemento in secuencia:\n",
    "    print(elemento)\n",
    "    if elemento ==2:\n",
    "        break"
   ]
  },
  {
   "cell_type": "code",
   "execution_count": 126,
   "id": "dec1dfb4",
   "metadata": {},
   "outputs": [
    {
     "name": "stdout",
     "output_type": "stream",
     "text": [
      "1\n",
      "4\n",
      "2\n",
      "3\n"
     ]
    }
   ],
   "source": [
    "secuencia =(1,4,5,2,3)\n",
    "for elemento in secuencia:\n",
    "    if elemento ==5:\n",
    "        continue\n",
    "    print(elemento)\n",
    "    "
   ]
  },
  {
   "cell_type": "markdown",
   "id": "e25347e0",
   "metadata": {},
   "source": [
    "While"
   ]
  },
  {
   "cell_type": "code",
   "execution_count": 127,
   "id": "d7e735f5",
   "metadata": {},
   "outputs": [
    {
     "name": "stdout",
     "output_type": "stream",
     "text": [
      "Contador : 0\n",
      "Contador : 1\n",
      "Contador : 2\n",
      "Contador : 3\n",
      "Contador : 4\n"
     ]
    }
   ],
   "source": [
    "contador =0\n",
    "while contador <5:\n",
    " print(f\"Contador : {contador}\")\n",
    " contador += 1"
   ]
  },
  {
   "cell_type": "code",
   "execution_count": 37,
   "id": "d19050bb",
   "metadata": {},
   "outputs": [
    {
     "name": "stdout",
     "output_type": "stream",
     "text": [
      "Contador : 0\n",
      "Contador : 1\n",
      "Contador : 2\n",
      "Contador : 3\n"
     ]
    }
   ],
   "source": [
    "contador = 0\n",
    "while True:\n",
    "    print (f\"Contador : {contador}\")\n",
    "    contador +=1\n",
    "# Sin esta linea de codigo, el break, seria un codigo infinito ya que se esta definiendo el valor en verdader\n",
    "    if( contador ) ==4:\n",
    "        break"
   ]
  },
  {
   "cell_type": "code",
   "execution_count": 39,
   "id": "3b59703a",
   "metadata": {},
   "outputs": [],
   "source": [
    "contador =5  #int(input(\"Ingresa valor: \"))\n",
    "while contador < 5:\n",
    "    contador += 1\n",
    "\n",
    "    if contador == 3:\n",
    "        continue\n",
    "\n",
    "    print(f\"Contador : {contador}\")"
   ]
  },
  {
   "cell_type": "markdown",
   "id": "874a3187",
   "metadata": {},
   "source": [
    "Dicionarios y conjuntos"
   ]
  },
  {
   "cell_type": "code",
   "execution_count": 132,
   "id": "0b7d9543",
   "metadata": {},
   "outputs": [],
   "source": [
    "mi_dicionario = {\"clave1\":3, \"clave2\":5, \"clave3\":7}"
   ]
  },
  {
   "cell_type": "code",
   "execution_count": 134,
   "id": "aa1e0117",
   "metadata": {},
   "outputs": [
    {
     "name": "stdout",
     "output_type": "stream",
     "text": [
      "7\n"
     ]
    }
   ],
   "source": [
    "valor = mi_dicionario[\"clave3\"]\n",
    "print(valor)"
   ]
  },
  {
   "cell_type": "code",
   "execution_count": null,
   "id": "e7e93caa",
   "metadata": {},
   "outputs": [],
   "source": [
    "#Modificar los valores de dicionario \n",
    "mi_dicionario[\"clave1\"] = 10"
   ]
  },
  {
   "cell_type": "code",
   "execution_count": 136,
   "id": "ebc050e4",
   "metadata": {},
   "outputs": [
    {
     "data": {
      "text/plain": [
       "{'clave1': 10, 'clave2': 5, 'clave3': 7}"
      ]
     },
     "execution_count": 136,
     "metadata": {},
     "output_type": "execute_result"
    }
   ],
   "source": [
    "mi_dicionario"
   ]
  },
  {
   "cell_type": "code",
   "execution_count": null,
   "id": "0a5b1eda",
   "metadata": {},
   "outputs": [],
   "source": [
    "#Agregar un elemento\n",
    "mi_dicionario[\"clave6\"]=10"
   ]
  },
  {
   "cell_type": "code",
   "execution_count": 140,
   "id": "dda38d43",
   "metadata": {},
   "outputs": [
    {
     "data": {
      "text/plain": [
       "{'clave1': 10, 'clave2': 5, 'clave3': 7, 'clave4': 10, 'clave6': 10}"
      ]
     },
     "execution_count": 140,
     "metadata": {},
     "output_type": "execute_result"
    }
   ],
   "source": [
    "mi_dicionario"
   ]
  },
  {
   "cell_type": "code",
   "execution_count": null,
   "id": "508e5367",
   "metadata": {},
   "outputs": [
    {
     "data": {
      "text/plain": [
       "7"
      ]
     },
     "execution_count": 141,
     "metadata": {},
     "output_type": "execute_result"
    }
   ],
   "source": [
    "#eliminar algo en los elementos del dicionario\n",
    "mi_dicionario.pop(\"clave3\")"
   ]
  },
  {
   "cell_type": "code",
   "execution_count": 142,
   "id": "107ed96d",
   "metadata": {},
   "outputs": [
    {
     "data": {
      "text/plain": [
       "{'clave1': 10, 'clave2': 5, 'clave4': 10, 'clave6': 10}"
      ]
     },
     "execution_count": 142,
     "metadata": {},
     "output_type": "execute_result"
    }
   ],
   "source": [
    "mi_dicionario"
   ]
  },
  {
   "cell_type": "code",
   "execution_count": 143,
   "id": "f7a875d4",
   "metadata": {},
   "outputs": [
    {
     "name": "stdout",
     "output_type": "stream",
     "text": [
      " Clave: clave1, Valor: 10\n",
      " Clave: clave2, Valor: 5\n",
      " Clave: clave4, Valor: 10\n",
      " Clave: clave6, Valor: 10\n"
     ]
    }
   ],
   "source": [
    "#iterar sobre un dicionario sobre el for, mas facil\n",
    "for clave, valor in mi_dicionario.items():\n",
    "    print(f\" Clave: {clave}, Valor: {valor}\")"
   ]
  },
  {
   "cell_type": "code",
   "execution_count": 144,
   "id": "73473668",
   "metadata": {},
   "outputs": [
    {
     "name": "stdout",
     "output_type": "stream",
     "text": [
      "clave1\n",
      "clave2\n",
      "clave4\n",
      "clave6\n"
     ]
    }
   ],
   "source": [
    "#solo impresion de clave\n",
    "for elemento in mi_dicionario:\n",
    "    print(elemento)"
   ]
  },
  {
   "cell_type": "code",
   "execution_count": 145,
   "id": "0187225a",
   "metadata": {},
   "outputs": [
    {
     "data": {
      "text/plain": [
       "dict_keys(['clave1', 'clave2', 'clave4', 'clave6'])"
      ]
     },
     "execution_count": 145,
     "metadata": {},
     "output_type": "execute_result"
    }
   ],
   "source": [
    "mi_dicionario.keys()"
   ]
  },
  {
   "cell_type": "code",
   "execution_count": 146,
   "id": "0514371c",
   "metadata": {},
   "outputs": [
    {
     "data": {
      "text/plain": [
       "dict_values([10, 5, 10, 10])"
      ]
     },
     "execution_count": 146,
     "metadata": {},
     "output_type": "execute_result"
    }
   ],
   "source": [
    "mi_dicionario.values()"
   ]
  },
  {
   "cell_type": "code",
   "execution_count": 147,
   "id": "9c054663",
   "metadata": {},
   "outputs": [
    {
     "data": {
      "text/plain": [
       "dict_items([('clave1', 10), ('clave2', 5), ('clave4', 10), ('clave6', 10)])"
      ]
     },
     "execution_count": 147,
     "metadata": {},
     "output_type": "execute_result"
    }
   ],
   "source": [
    "mi_dicionario.items()"
   ]
  },
  {
   "cell_type": "markdown",
   "id": "45910df2",
   "metadata": {},
   "source": [
    "Conjuntos"
   ]
  },
  {
   "cell_type": "code",
   "execution_count": 148,
   "id": "3c940ecb",
   "metadata": {},
   "outputs": [],
   "source": [
    "mi_set ={1 ,3, 9}"
   ]
  },
  {
   "cell_type": "code",
   "execution_count": 149,
   "id": "68ddb007",
   "metadata": {},
   "outputs": [
    {
     "data": {
      "text/plain": [
       "{1, 3, 9}"
      ]
     },
     "execution_count": 149,
     "metadata": {},
     "output_type": "execute_result"
    }
   ],
   "source": [
    "mi_set"
   ]
  },
  {
   "cell_type": "code",
   "execution_count": 151,
   "id": "6dfd1f53",
   "metadata": {},
   "outputs": [],
   "source": [
    "#operaciones con conjuntos\n",
    "set1={1, 2, 3}\n",
    "set2={3, 4, 5}"
   ]
  },
  {
   "cell_type": "code",
   "execution_count": 152,
   "id": "8655f362",
   "metadata": {},
   "outputs": [
    {
     "data": {
      "text/plain": [
       "{1, 2, 3, 4, 5}"
      ]
     },
     "execution_count": 152,
     "metadata": {},
     "output_type": "execute_result"
    }
   ],
   "source": [
    "set1 | set2"
   ]
  },
  {
   "cell_type": "code",
   "execution_count": 153,
   "id": "3e79df5f",
   "metadata": {},
   "outputs": [
    {
     "data": {
      "text/plain": [
       "{3}"
      ]
     },
     "execution_count": 153,
     "metadata": {},
     "output_type": "execute_result"
    }
   ],
   "source": [
    "#Interseccion\n",
    "set1 & set2"
   ]
  },
  {
   "cell_type": "code",
   "execution_count": 154,
   "id": "f8612050",
   "metadata": {},
   "outputs": [
    {
     "data": {
      "text/plain": [
       "{1, 2}"
      ]
     },
     "execution_count": 154,
     "metadata": {},
     "output_type": "execute_result"
    }
   ],
   "source": [
    "set1 - set2"
   ]
  },
  {
   "cell_type": "code",
   "execution_count": 155,
   "id": "9fdc1e6d",
   "metadata": {},
   "outputs": [
    {
     "data": {
      "text/plain": [
       "{4, 5}"
      ]
     },
     "execution_count": 155,
     "metadata": {},
     "output_type": "execute_result"
    }
   ],
   "source": [
    "set2 - set1"
   ]
  },
  {
   "cell_type": "code",
   "execution_count": 157,
   "id": "56574d3b",
   "metadata": {},
   "outputs": [
    {
     "data": {
      "text/plain": [
       "3"
      ]
     },
     "execution_count": 157,
     "metadata": {},
     "output_type": "execute_result"
    }
   ],
   "source": [
    "len(set1)"
   ]
  },
  {
   "cell_type": "code",
   "execution_count": null,
   "id": "f79303ea",
   "metadata": {},
   "outputs": [
    {
     "data": {
      "text/plain": [
       "4"
      ]
     },
     "execution_count": 158,
     "metadata": {},
     "output_type": "execute_result"
    }
   ],
   "source": [
    "#aplicar a casi todos para el conteo\n",
    "len(mi_dicionario)"
   ]
  },
  {
   "cell_type": "code",
   "execution_count": 159,
   "id": "8f408628",
   "metadata": {},
   "outputs": [
    {
     "data": {
      "text/plain": [
       "True"
      ]
     },
     "execution_count": 159,
     "metadata": {},
     "output_type": "execute_result"
    }
   ],
   "source": [
    "#COMPROBRAR SI UN ELEMENTO ESTA DENTRO DE UN CONJUNTO\n",
    "4 in set2"
   ]
  },
  {
   "cell_type": "code",
   "execution_count": 160,
   "id": "3f80a128",
   "metadata": {},
   "outputs": [
    {
     "data": {
      "text/plain": [
       "False"
      ]
     },
     "execution_count": 160,
     "metadata": {},
     "output_type": "execute_result"
    }
   ],
   "source": [
    "1 in set2"
   ]
  },
  {
   "cell_type": "code",
   "execution_count": null,
   "id": "fcc3d02d",
   "metadata": {},
   "outputs": [],
   "source": [
    "#añadir o eliminar elementos de un conjunto add y remove\n"
   ]
  },
  {
   "cell_type": "code",
   "execution_count": 161,
   "id": "66354be5",
   "metadata": {},
   "outputs": [],
   "source": [
    "mi_set ={1 ,3, 9}"
   ]
  },
  {
   "cell_type": "code",
   "execution_count": 162,
   "id": "b34deb43",
   "metadata": {},
   "outputs": [],
   "source": [
    "mi_set.add(20)"
   ]
  },
  {
   "cell_type": "code",
   "execution_count": 163,
   "id": "3b4f8d83",
   "metadata": {},
   "outputs": [
    {
     "data": {
      "text/plain": [
       "{1, 3, 9, 20}"
      ]
     },
     "execution_count": 163,
     "metadata": {},
     "output_type": "execute_result"
    }
   ],
   "source": [
    "mi_set"
   ]
  },
  {
   "cell_type": "code",
   "execution_count": 164,
   "id": "d6382943",
   "metadata": {},
   "outputs": [],
   "source": [
    "mi_set.remove(3)"
   ]
  },
  {
   "cell_type": "code",
   "execution_count": 165,
   "id": "a9b1ac51",
   "metadata": {},
   "outputs": [
    {
     "data": {
      "text/plain": [
       "{1, 9, 20}"
      ]
     },
     "execution_count": 165,
     "metadata": {},
     "output_type": "execute_result"
    }
   ],
   "source": [
    "mi_set"
   ]
  },
  {
   "cell_type": "code",
   "execution_count": null,
   "id": "66df6658",
   "metadata": {},
   "outputs": [
    {
     "data": {
      "text/plain": [
       "{1, 3, 5, 7}"
      ]
     },
     "execution_count": 166,
     "metadata": {},
     "output_type": "execute_result"
    }
   ],
   "source": [
    "#Eliminar elementos de la lista duplicados\n",
    "Lista ={1, 3 ,3,5, 7, 7}\n",
    "#convierte los elementos repetido en una lista\n",
    "set (Lista)\n"
   ]
  },
  {
   "cell_type": "code",
   "execution_count": 167,
   "id": "18c05a63",
   "metadata": {},
   "outputs": [
    {
     "data": {
      "text/plain": [
       "[1, 2, 3, 4, 5]"
      ]
     },
     "execution_count": 167,
     "metadata": {},
     "output_type": "execute_result"
    }
   ],
   "source": [
    "list(set(lista))"
   ]
  },
  {
   "cell_type": "markdown",
   "id": "fefe71a7",
   "metadata": {},
   "source": [
    "Funciones en Python"
   ]
  },
  {
   "cell_type": "code",
   "execution_count": null,
   "id": "70fd43b7",
   "metadata": {},
   "outputs": [],
   "source": [
    "def mi_funcion(parametro1,parametro2):\n",
    "    resultado = parametro1 + parametro2\n",
    "    return resultado\n",
    "# funciones sin parametros, se denominan anonimas\n",
    "# siempre tener claro el tipo de dato"
   ]
  },
  {
   "cell_type": "code",
   "execution_count": 3,
   "id": "b87f0d51",
   "metadata": {},
   "outputs": [
    {
     "data": {
      "text/plain": [
       "10"
      ]
     },
     "execution_count": 3,
     "metadata": {},
     "output_type": "execute_result"
    }
   ],
   "source": [
    "mi_funcion(3,7)"
   ]
  },
  {
   "cell_type": "code",
   "execution_count": 8,
   "id": "cd4d5fc1",
   "metadata": {},
   "outputs": [
    {
     "name": "stdout",
     "output_type": "stream",
     "text": [
      "Hola, Juan!\n"
     ]
    }
   ],
   "source": [
    "def saludar (nombre, saludo):\n",
    "    print(f\"{saludo}, {nombre}!\")\n",
    "\n",
    "saludar (\"Juan\", \"Hola\")"
   ]
  },
  {
   "cell_type": "code",
   "execution_count": null,
   "id": "a267bf3c",
   "metadata": {},
   "outputs": [
    {
     "name": "stdout",
     "output_type": "stream",
     "text": [
      "hola, Ana!\n"
     ]
    }
   ],
   "source": [
    "\n",
    "#PARAMETROS determinados en el caso del hola, pero si se define despues otro parametro para saludo se tiene en cuenta el otro valor\n",
    "def saludar (nombre, saludo =\"hola\"):\n",
    "        print(f\"{saludo}, {nombre}!\")\n",
    "\n",
    "saludar(\"Ana\")\n",
    "\n",
    "#def no retorna valores"
   ]
  },
  {
   "cell_type": "code",
   "execution_count": 10,
   "id": "26907797",
   "metadata": {},
   "outputs": [],
   "source": [
    "def cuadrado(x):\n",
    "    return x **2"
   ]
  },
  {
   "cell_type": "code",
   "execution_count": 11,
   "id": "647cd7af",
   "metadata": {},
   "outputs": [],
   "source": [
    "resultado = cuadrado(5)"
   ]
  },
  {
   "cell_type": "code",
   "execution_count": 12,
   "id": "a10d841c",
   "metadata": {},
   "outputs": [
    {
     "data": {
      "text/plain": [
       "25"
      ]
     },
     "execution_count": 12,
     "metadata": {},
     "output_type": "execute_result"
    }
   ],
   "source": [
    "resultado"
   ]
  },
  {
   "cell_type": "code",
   "execution_count": 13,
   "id": "d578244b",
   "metadata": {},
   "outputs": [
    {
     "name": "stdout",
     "output_type": "stream",
     "text": [
      "hola, Ana!\n"
     ]
    }
   ],
   "source": [
    "ss = saludar(\"Ana\")"
   ]
  },
  {
   "cell_type": "code",
   "execution_count": null,
   "id": "e663cd18",
   "metadata": {},
   "outputs": [
    {
     "name": "stdout",
     "output_type": "stream",
     "text": [
      "Hola, mundo!\n"
     ]
    }
   ],
   "source": [
    "# variables anonimas\n",
    "def imprimir_mensaje():\n",
    "    print(\"Hola, mundo!\")\n",
    "resultado = imprimir_mensaje() # Resultado sera none, pq no retorna algun valor"
   ]
  },
  {
   "cell_type": "code",
   "execution_count": null,
   "id": "b09ea727",
   "metadata": {},
   "outputs": [
    {
     "name": "stdout",
     "output_type": "stream",
     "text": [
      "15\n"
     ]
    }
   ],
   "source": [
    "x = 10 #variable global dentro de esta casilla pero fuera de la funcion\n",
    "\n",
    "\n",
    "def mi_funcion():\n",
    "    y = 5 #variable local dentro de la funcion \n",
    "    print(x+y)\n",
    "\n",
    "mi_funcion()"
   ]
  },
  {
   "cell_type": "markdown",
   "id": "316925ce",
   "metadata": {},
   "source": [
    "Input y print"
   ]
  },
  {
   "cell_type": "code",
   "execution_count": null,
   "id": "1dc31d8d",
   "metadata": {},
   "outputs": [],
   "source": [
    "#input lo guarda en caracteres de texto hay que convertirlo en dado caso en int con en la linea year\n",
    "nombre = input (\"Ingrese su nombre\") # guarda el valor en string\n",
    "year = int(input (\"Ingrese su año de nacimiento\")) # guarda el valor en string por lo cual genera el siguiente error TypeError: unsupported operand type(s) for -: 'int' and 'str'\n",
    "print (\"nombre \",nombre, \"Edad\", 2024-year)\n",
    "# otra forma de imprimir\n",
    "print (f\"Nombre : {nombre} Edad: {2024-year}\")\n",
    "\n",
    "print (\"nombre \",nombre, \"Edad\", 2024-year, sep =\"--\", end =\"##SS\")"
   ]
  },
  {
   "cell_type": "markdown",
   "id": "98f0b439",
   "metadata": {},
   "source": [
    "Ejercicios"
   ]
  },
  {
   "cell_type": "code",
   "execution_count": null,
   "id": "ea66b5de",
   "metadata": {},
   "outputs": [],
   "source": [
    "#Encontrar un número en una lista utilizando un bucle for con break.\n",
    "#Objetivo: Escribe un programa que utilice un bucle for para buscar un número en una lista. Si encuentra el número, debe imprimir un mensaje y terminar el bucle usando break.\n",
    "numeros =[1,2,3,4,5,6,7,8,9]\n",
    "numero_a_encontrar = int(input (\"Ingrese un número del 1 al 9: \"))\n",
    "\n",
    "for numero in numeros:\n",
    "    if numero == numero_a_encontrar:\n",
    "        print(f\"El número {numero_a_encontrar} se encuentra en la lista\") \n",
    "        break"
   ]
  },
  {
   "cell_type": "code",
   "execution_count": 4,
   "id": "7f2e6072",
   "metadata": {},
   "outputs": [
    {
     "name": "stdout",
     "output_type": "stream",
     "text": [
      "El primer valor es 56, El Valor2 es 23 y el resultado es 79\n"
     ]
    }
   ],
   "source": [
    "Valor1 =int(input(\"Ingrese el valor 1\"))\n",
    "Valor2 =int(input(\"Ingrese el valor 2\"))\n",
    "resultado =Valor1+Valor2\n",
    "print(f\"El primer valor es {Valor1}, El Valor2 es {Valor2} y el resultado es {resultado}\")"
   ]
  },
  {
   "cell_type": "code",
   "execution_count": 8,
   "id": "cafba7ce",
   "metadata": {},
   "outputs": [
    {
     "name": "stdout",
     "output_type": "stream",
     "text": [
      "El valor es positivo\n"
     ]
    }
   ],
   "source": [
    "valor =int(input(\"Ingresa un valor\"))\n",
    "\n",
    "if numero>0:\n",
    "    print(\"El valor es positivo\")\n",
    "elif numero<0:\n",
    "    print(\"El valor es negativo\")\n",
    "else:\n",
    "    print(\"El valor es cero\")"
   ]
  },
  {
   "cell_type": "code",
   "execution_count": null,
   "id": "d38c5058",
   "metadata": {},
   "outputs": [
    {
     "name": "stdout",
     "output_type": "stream",
     "text": [
      "Miercoles\n"
     ]
    }
   ],
   "source": [
    "#Ejercicio para selecionar un valor de la semana\n",
    "\n",
    "numero_dia=int(input(\"Ingrese un dia de la semana\"))\n",
    "match numero_dia:\n",
    "    case 1:\n",
    "        print(\"Lunes\")\n",
    "    case 2:\n",
    "        print(\"Martes\")\n",
    "    case 3:\n",
    "        print(\"Miercoles\")\n",
    "    case 4:\n",
    "        print(\"Jueves\")\n",
    "    case 5:\n",
    "        print(\"Viernes\")\n",
    "    case 6:\n",
    "        print(\"Sabado\")\n",
    "    case 7:\n",
    "        print(\"Domingo\")\n",
    "    case _:\n",
    "        print(\"Numero invalido\")\n"
   ]
  },
  {
   "cell_type": "code",
   "execution_count": null,
   "id": "c33405af",
   "metadata": {},
   "outputs": [
    {
     "name": "stdout",
     "output_type": "stream",
     "text": [
      "False\n"
     ]
    }
   ],
   "source": [
    "#Objetivo: Escribe un programa que compare dos números y use un operador lógico para determinar si ambos son mayores que cero. Imprime True si ambos números son mayores que cero, de lo contrario, imprime False.\n",
    "numeroa=int(input(\"Ingrese el primer valor\"))\n",
    "numerob=int(input(\"Ingrese el segundo valor\"))\n",
    "resultado = numeroa > 0 and numerob >0\n",
    "print(resultado)"
   ]
  },
  {
   "cell_type": "code",
   "execution_count": 19,
   "id": "5ae69850",
   "metadata": {},
   "outputs": [
    {
     "name": "stdout",
     "output_type": "stream",
     "text": [
      "24\n",
      "25\n",
      "26\n",
      "27\n",
      "28\n",
      "29\n",
      "30\n"
     ]
    }
   ],
   "source": [
    "#Objetivo: Escribe un programa que utilice un bucle while para imprimir los números del 1 al 10.\n",
    "\n",
    "numero= int(input(\"Ingresa  el valor maximo que quiere alcanzar pero no debe ser mayor a 30\"))\n",
    "numerodos =int(input(\"Ingresa el valor inicial: \"))\n",
    " \n",
    "while numerodos <= numero:\n",
    "    print(numerodos)\n",
    "    numerodos += 1\n"
   ]
  },
  {
   "cell_type": "code",
   "execution_count": 40,
   "id": "898a6a71",
   "metadata": {},
   "outputs": [
    {
     "name": "stdout",
     "output_type": "stream",
     "text": [
      "2\n",
      "3\n",
      "4\n",
      "5\n",
      "6\n",
      "7\n",
      "8\n",
      "9\n",
      "10\n",
      "11\n",
      "12\n",
      "13\n",
      "14\n",
      "15\n",
      "16\n",
      "17\n",
      "18\n",
      "19\n",
      "20\n",
      "21\n",
      "22\n",
      "23\n",
      "24\n",
      "25\n",
      "26\n",
      "27\n",
      "28\n",
      "29\n",
      "30\n",
      "31\n",
      "32\n",
      "33\n",
      "34\n"
     ]
    }
   ],
   "source": [
    "valorinicial= int(input(\"Valor inicial: \"))\n",
    "valorfinal= int(input(\"Valor final: \"))\n",
    "\n",
    "while valorinicial <= valorfinal:\n",
    "    print(valorinicial)\n",
    "    valorinicial += 1"
   ]
  },
  {
   "cell_type": "code",
   "execution_count": null,
   "id": "95d76711",
   "metadata": {},
   "outputs": [
    {
     "name": "stdout",
     "output_type": "stream",
     "text": [
      "Pais no encontrado\n"
     ]
    }
   ],
   "source": [
    "#Objetivo: Escribe un programa que utilice un diccionario para almacenar la capital de diferentes países y permita al usuario ingresar un país para buscar e imprimir su capital.\n",
    "paises_capitales ={\"Mexico\": \"Cuidad de Mexico\",\"España\":\"Madrid\", \"Francia\":\"Paris\", \"Colombia\":\"Bogota\", \"Brasil\":\"Brasilia\"}\n",
    "pais =input(\"Ingrese el nombre de un pais iniciando la primera letra en mayuscula: \")\n",
    "capital =paises_capitales.get(pais,(\"Pais no encontrado\"))\n",
    "print(capital)"
   ]
  },
  {
   "cell_type": "code",
   "execution_count": 23,
   "id": "883d6109",
   "metadata": {},
   "outputs": [
    {
     "name": "stdout",
     "output_type": "stream",
     "text": [
      "Nombre pedro, Edad 23,altura 1.45 y es estudiante True\n"
     ]
    }
   ],
   "source": [
    "#Objetivo: Escribe un programa que defina variables, se asignen valores a esas variables y se impriman los valores en la consola.\n",
    "edad= int(input(\"Ingresa su edad: \"))\n",
    "altura = float(input(\"Ingrese su altura: \"))\n",
    "nombre = input(\"ingrese su nombre: \")\n",
    "estudiante = True\n",
    "\n",
    "print(f\"Nombre {nombre}, Edad {edad},altura {altura} y es estudiante {estudiante}\")\n"
   ]
  },
  {
   "cell_type": "code",
   "execution_count": 24,
   "id": "50b7d21f",
   "metadata": {},
   "outputs": [
    {
     "name": "stdout",
     "output_type": "stream",
     "text": [
      "Su masa corporal (IMC) es:24.90 \n"
     ]
    }
   ],
   "source": [
    "#Objetivo: Escribe un programa que defina variables para la estatura en metros y el peso en kilogramos. Luego, calcula el Índice de Masa Corporal (IMC) y muestra el resultado en la consola.\n",
    "altura = float(input(\"Ingrese su altura: \"))\n",
    "peso= int(input(\"Ingresa su peso: \"))\n",
    "\n",
    "#calcular el IMC\n",
    "imc = peso / (altura ** 2)\n",
    "print(f\"Su masa corporal (IMC) es:{imc:.2f} \")   "
   ]
  },
  {
   "cell_type": "code",
   "execution_count": null,
   "id": "afd6a9e1",
   "metadata": {},
   "outputs": [],
   "source": [
    "altura = float(input(\"Ingresa la altura\"))\n",
    "peso = int(input(\" Ingrese su peso: \"))\n",
    "\n",
    "imc = peso /(altura ** 2)\n",
    "print (f\" su IMC es: {imc:2f}\")"
   ]
  },
  {
   "cell_type": "code",
   "execution_count": 31,
   "id": "40906272",
   "metadata": {},
   "outputs": [
    {
     "name": "stdout",
     "output_type": "stream",
     "text": [
      "El resultado de la 5 * 12 es: 60\n"
     ]
    }
   ],
   "source": [
    "#Objetivo: Escribe un programa que utilice la estructura match para evaluar una expresión matemática simple. El programa debe tomar una cadena de texto que represente una operación matemática (como \"2 + 2\" o \"5 * 3\") y devolver el resultado de la operación.\n",
    "#v1= int(input(\"Primer valor: \"))\n",
    "#v2= int(input(\"segundo valor: \"))\n",
    "v3= \"5 * 12\"\n",
    "def evaluar_expresion(expr):\n",
    "    componentes = expr.split()\n",
    "\n",
    "    match componentes:\n",
    "        case [str(a), \"+\", str(b)]:\n",
    "            return int(a) + int(b)\n",
    "        case [str(a), \"-\", str(b)]:\n",
    "            return int(a) - int(b)\n",
    "        case [str(a), \"*\", str(b)]:\n",
    "            return int(a) * int(b)\n",
    "        case [str(a), \"/\", str(b)]:\n",
    "            if int(b) == 0:\n",
    "                return \"Error: No se puede dividir por cero\"\n",
    "            return int(a) / int(b)\n",
    "        case _:\n",
    "            return \"Error: Operación no soportada\"\n",
    "resultado = evaluar_expresion(v3)\n",
    "\n",
    "print(f\"El resultado de la {v3} es: {resultado}\")\n",
    "        "
   ]
  },
  {
   "cell_type": "code",
   "execution_count": 1,
   "id": "7a3f70ab",
   "metadata": {},
   "outputs": [
    {
     "name": "stdout",
     "output_type": "stream",
     "text": [
      "El número mayor es: 89\n",
      "El número menor es: 1\n"
     ]
    }
   ],
   "source": [
    "\"\"\"Objetivo: Escribe un programa que tome una lista de números y encuentre el número mayor y el número menor en esa lista sin utilizar las funciones integradas max() y min(). El programa debe imprimir ambos números.\n",
    "Definir la lista de números: Primero, define una lista de números llamada numeros que contiene varios valores enteros, utiliza la siguiente lista:\n",
    "numeros = [4, 7, 1, 45, 23, 89, 2, 10, 3]\n",
    "Definir las variables max_num y min_num: Definir max_num y min_num con el primer elemento de la lista numeros para poder apoyarnos de ellas para hacer las iteraciones en el bucle for.\"\"\"\n",
    "\n",
    "numeros = [4, 7, 1, 45, 23, 89, 2, 10, 3]\n",
    "\n",
    "# Inicializar las variables max_num y min_num con el primer elemento de la lista\n",
    "max_num = numeros[0]\n",
    "min_num = numeros[0]\n",
    "\n",
    "# Iterar sobre la lista de números para encontrar el número mayor y menor\n",
    "for num in numeros:\n",
    "    if num > max_num:\n",
    "        max_num = num\n",
    "    if num < min_num:\n",
    "        min_num = num\n",
    "\n",
    "# Imprimir los resultados\n",
    "print(f\"El número mayor es: {max_num}\")\n",
    "print(f\"El número menor es: {min_num}\")\n"
   ]
  },
  {
   "cell_type": "code",
   "execution_count": 44,
   "id": "aa97aaf2",
   "metadata": {},
   "outputs": [
    {
     "name": "stdout",
     "output_type": "stream",
     "text": [
      "La lista es:  [4, 67]\n",
      "Los primeros pares son: [4]\n"
     ]
    }
   ],
   "source": [
    "#Objetivo: Escribe un programa que tome una lista de números y cree una nueva lista que solo contenga los números pares de la lista original. El programa debe imprimir la lista de números pares.\n",
    "\n",
    "numeros =int( input(\"Cuantos valores deseas ingresar: \"))\n",
    "lista =[]\n",
    "\n",
    "for i in range(numeros):\n",
    "    valor = input (f\"Ingrese el valor {i+1} :\")\n",
    "    lista.append(int(valor))\n",
    "print(\"La lista es: \", lista)\n",
    "\n",
    "numeros_pares=[]\n",
    "for num in lista:\n",
    "    if num % 2 == 0:\n",
    "        numeros_pares.append(num)\n",
    "print(f\"Los primeros pares son: {numeros_pares}\")"
   ]
  },
  {
   "cell_type": "code",
   "execution_count": null,
   "id": "225ccd22",
   "metadata": {},
   "outputs": [],
   "source": []
  },
  {
   "cell_type": "code",
   "execution_count": 9,
   "id": "0b360387",
   "metadata": {},
   "outputs": [
    {
     "name": "stdout",
     "output_type": "stream",
     "text": [
      "La lista es :  [4, 6]\n",
      "Los pares son: [4, 6]\n"
     ]
    }
   ],
   "source": [
    "valores =int(input(\"Ingrese cuantos valores desea ingresar: \"))\n",
    "lista=[]\n",
    "\n",
    "for i in range(valores):\n",
    "    valor= int(input(f\"Ingresa el valor {i+1} :\"))\n",
    "    lista.append(valor)\n",
    "print(\"La lista es : \", lista)\n",
    "\n",
    "numeros_pares=[]\n",
    "for Nn in lista:\n",
    "    if Nn % 2 == 0:\n",
    "        numeros_pares.append(Nn)\n",
    "print(f\"Los pares son: {numeros_pares}\")"
   ]
  },
  {
   "cell_type": "code",
   "execution_count": null,
   "id": "3d0eb25a",
   "metadata": {},
   "outputs": [
    {
     "name": "stdout",
     "output_type": "stream",
     "text": [
      "El numero 7 es primo:\n"
     ]
    }
   ],
   "source": [
    "\"\"\"Objetivo: Escribe un programa que defina una función llamada es_primo que tome un número entero y devuelva True si el número\n",
    " es primo y False en caso contrario. Luego, utiliza esta función para verificar si un número dado es primo e imprime el resultado.\n",
    " \n",
    " Descripción de la solución: Un número primo es aquel que solo es divisible por 1 y por sí mismo. Este ejercicio te ayudará a practicar la definición de funciones y el uso de bucles y estructuras condicionales para resolver problemas.\n",
    "\n",
    "Definición de la función es_primo:\n",
    "\n",
    "La función toma un argumento num que representa el número a verificar.\n",
    "\n",
    "Si num es menor que 2, la función devuelve False porque los números menores que 2 no son primos.\n",
    "\n",
    "Utiliza un bucle for para iterar desde 2 hasta la raíz cuadrada de num (inclusive). Si num es divisible por cualquier número en este rango, devuelve False porque no es primo.\n",
    "\n",
    "Si el bucle no encuentra ningún divisor, la función devuelve True porque num es primo.\n",
    "\n",
    "Definir el número a verificar:\n",
    "\n",
    "Define una variable numero con el valor 29.\n",
    "\n",
    "Utilizar la función es_primo:\n",
    "\n",
    "Llama a la función es_primo con el número definido y almacena el resultado en la variable resultado.\n",
    "\n",
    "Imprimir el resultado:\n",
    "\n",
    "Utiliza la función print para mostrar si el número es primo o no.\"\"\"\n",
    "\n",
    "def es_primo(n):\n",
    "    if n <= 2:\n",
    "        return False\n",
    "    for i in range(2, int(n**0.5) + 1):\n",
    "        if n % i == 0:\n",
    "            return False\n",
    "    return True\n",
    "\n",
    "numero=int(input(\"Ingrese un numero: \"))\n",
    "resultado =es_primo(numero)\n",
    "if resultado:\n",
    "    print(f\"El numero {numero} es primo\")\n",
    "else:\n",
    "    print(f\"El numero :{numero} no es primo\")\n"
   ]
  },
  {
   "cell_type": "code",
   "execution_count": 25,
   "id": "47715bde",
   "metadata": {},
   "outputs": [
    {
     "name": "stdout",
     "output_type": "stream",
     "text": [
      " Numeros del 1 al 10  [1, 2, 3, 4, 5, 6, 7, 8, 9, 10, 11, 12, 13, 14, 15]\n",
      " Numeros pares del 2 al 20  [2, 4, 6, 8, 10, 12, 14, 16, 18, 20, 22, 24, 26, 28, 30, 32, 34, 36, 38, 40, 42, 44]\n",
      "Numeros del 10 al 1 [10, 8, 6, 4, 2]\n"
     ]
    }
   ],
   "source": [
    "\"\"\"Objetivo: Escribe un programa que utilice la función range para generar y mostrar una secuencia de números. \n",
    "El programa debe imprimir los números del 1 al 10, los números pares del 2 al 20, y los números \n",
    "del 10 al 1 en orden descendente.\n",
    "Descripción de la solución: En Python, la función range se utiliza para generar una secuencia de números. Este ejercicio te ayudará a practicar el uso de range para crear secuencias numéricas en diferentes rangos y con diferentes pasos.\n",
    "\n",
    "Números del 1 al 10:\n",
    "\n",
    "range(1, 11) genera una secuencia de números que empieza en 1 y termina en 10 (el valor de fin es exclusivo).\n",
    "\n",
    "list(range(1, 11)) convierte la secuencia generada en una lista.\n",
    "\n",
    "Números pares del 2 al 20:\n",
    "\n",
    "range(2, 21, 2) genera una secuencia de números que empieza en 2 y termina en 20 (el valor de fin es exclusivo), incrementando en pasos de 2.\n",
    "\n",
    "list(range(2, 21, 2)) convierte la secuencia generada en una lista.\n",
    "\n",
    "Números del 10 al 1 en orden descendente:\n",
    "\n",
    "range(10, 0, -1) genera una secuencia de números que empieza en 10 y termina en 1 (el valor de fin es exclusivo), decrementando en pasos de -1.\n",
    "\n",
    "list(range(10, 0, -1)) convierte la secuencia generada en una lista.\n",
    "\"\"\"\n",
    "\n",
    "numeros_1_10=list(range(1,16))\n",
    "numeros_pares_2_20=list(range(2,45,2))\n",
    "numeros_10_1=list(range(10,0,-2))\n",
    "\n",
    "print(\" Numeros del 1 al 10 \",numeros_1_10)\n",
    "print(\" Numeros pares del 2 al 20 \",numeros_pares_2_20)\n",
    "print(\"Numeros del 10 al 1\",numeros_10_1)\n"
   ]
  },
  {
   "cell_type": "code",
   "execution_count": 27,
   "id": "8bf0a3eb",
   "metadata": {},
   "outputs": [
    {
     "name": "stdout",
     "output_type": "stream",
     "text": [
      "56 x 1 = 56\n",
      "56 x 2 = 112\n",
      "56 x 3 = 168\n",
      "56 x 4 = 224\n",
      "56 x 5 = 280\n",
      "56 x 6 = 336\n",
      "56 x 7 = 392\n",
      "56 x 8 = 448\n",
      "56 x 9 = 504\n",
      "56 x 10 = 560\n"
     ]
    }
   ],
   "source": [
    "\"\"\"Generar una tabla de multiplicar usando un bucle \"for\".\n",
    "Objetivo: Escribe un programa que genere la tabla de multiplicar de un número dado utilizando un bucle for. El programa debe imprimir la tabla de \n",
    "multiplicar del número desde 1 hasta 10.\n",
    "\n",
    "Descripción de la Solución: En Python, puedes utilizar un bucle for para iterar sobre una secuencia de números y calcular los productos de \n",
    "la tabla de multiplicar. Este ejercicio te ayudará a practicar el uso de bucles para generar secuencias de resultados.\n",
    "Definir el número para la tabla de multiplicar:\n",
    "Define una variable numero con el valor del número para el cual quieres generar la tabla de multiplicar. En este ejemplo, el valor es 5.\n",
    "Generar la tabla de multiplicar usando un bucle for:\n",
    "Utiliza un bucle for para iterar sobre una secuencia de números del 1 al 10 utilizando range(1, 11).\n",
    "Dentro del bucle, calcula el producto del número definido y el índice de iteración i.\n",
    "Almacena cada resultado en una lista llamada tabla_multiplicar y también imprime el resultado en el formato \"número x i = resultado\".\n",
    "\"\"\"\n",
    "valorInicial= int(input(\"Defina el número para la tabla de multiplicar: \"))\n",
    "tabla_multiplicar = []\n",
    "for i in range(1,11): #i es la repeticion que el valor va a tomar frente a ese valor. las veces que necesita, digamos como empieza con 1 debe terminar en 10 esa i\n",
    "    resultado = valorInicial * i\n",
    "    tabla_multiplicar.append(f\" {valorInicial} x {i} = {resultado}\")\n",
    "    print(f\"{valorInicial} x {i} = {resultado}\") #imprime el resultado\n"
   ]
  },
  {
   "cell_type": "code",
   "execution_count": 29,
   "id": "66ac6925",
   "metadata": {},
   "outputs": [
    {
     "name": "stdout",
     "output_type": "stream",
     "text": [
      "El factorial de 6 es 720\n"
     ]
    }
   ],
   "source": [
    "\"\"\"Calcular el factorial de un número utilizando una función y un bucle while.\n",
    "Objetivo: Escribe un programa que defina una función llamada factorial que tome un número entero y devuelva su factorial. \n",
    "Luego, utiliza esta función para calcular el factorial de un número dado e imprime el resultado.\n",
    "\n",
    "Descripción de la Solución:  En Python, el factorial de un número nnn (denotado como n!n!n!) es el producto de todos los números \n",
    "enteros positivos desde 1 hasta nnn. Puedes utilizar una función con un bucle while para iterar y calcular el producto. Este ejercicio te ayudará a \n",
    "practicar la definición de funciones y el uso de bucles while para realizar cálculos repetitivos.\n",
    "\n",
    "Definición de la función factorial:\n",
    "\n",
    "La función factorial toma un argumento n que representa el número para el cual se calculará el factorial.\n",
    "Inicializa una variable resultado en 1, que se utilizará para almacenar el resultado del cálculo.\n",
    "Utiliza un bucle while que continúa ejecutándose mientras n sea mayor que 1.\n",
    "Dentro del bucle, multiplica el valor de resultado por n y decrementa el valor de n en 1 en cada iteración.\n",
    "Al finalizar el bucle, la función devuelve el valor de resultado.\n",
    "Definir el número para calcular el factorial:\n",
    "Define una variable n con el valor del número para el cual quieres calcular el factorial. En este ejemplo, el valor es 5.\n",
    "Calcular el factorial utilizando la función factorial:\n",
    "Llama a la función factorial con el número definido y almacena el resultado en la variable resultado.\n",
    "Imprimir el resultado:\n",
    "Utiliza la función print para mostrar el resultado del cálculo del factorial.\"\"\"\n",
    "\n",
    "\n",
    "n=int(input(\"Ingrese un valor\"))\n",
    "def factorial(n):\n",
    "    resultado = 1\n",
    "    while n > 1:\n",
    "        resultado *= n\n",
    "        n -=1\n",
    "    return resultado\n",
    "\n",
    "resultado=factorial(n)\n",
    "print(f\"El factorial de {n} es {resultado}\")  # Imprime el resultado del cálculo del factorial."
   ]
  },
  {
   "cell_type": "code",
   "execution_count": null,
   "id": "1205b200",
   "metadata": {},
   "outputs": [
    {
     "name": "stdout",
     "output_type": "stream",
     "text": [
      "La secuencia fibonacci de 7 términos es: [0, 1]\n"
     ]
    }
   ],
   "source": [
    "\"\"\"Secuencia de Fibonacci.\n",
    "Objetivo: Escribe un programa que defina una función llamada secuencia_fibonacci que tome un número entero n y devuelva \n",
    "una lista con la secuencia de Fibonacci hasta n términos. Luego, utiliza esta función para generar la secuencia de Fibonacci y muestra el resultado.\n",
    "\n",
    "Descripción de la Solución:  La secuencia de Fibonacci es una serie de números donde cada número es la suma de los dos anteriores.\n",
    " La secuencia comienza con 0 y 1. Este ejercicio te ayudará a practicar la definición de funciones y el uso de bucles while para generar secuencias numéricas.\n",
    "\n",
    "Definición de la función secuencia_fibonacci:\n",
    "La función secuencia_fibonacci toma un argumento n que representa el número de términos de la secuencia de Fibonacci a generar.\n",
    "Primero, se manejan casos especiales: si n es menor o igual a 0, se devuelve una lista vacía; si n es 1, se devuelve una lista con solo [0]; si n es 2, se devuelve [0, 1].\n",
    "Para n mayor que 2, se inicializa una lista secuencia con los primeros dos términos de la secuencia de Fibonacci: [0, 1].\n",
    "Se inicializa una variable i en 2, que se utilizará como contador en el bucle while.\n",
    "Generar la secuencia de Fibonacci usando un bucle while:\n",
    "Utiliza un bucle while que continúa ejecutándose mientras el valor de i sea menor que n.\n",
    "Dentro del bucle, calcula el siguiente número en la secuencia sumando los dos últimos números de la lista secuencia.\n",
    "Añade el número calculado a la lista secuencia utilizando el método append().\n",
    "Incrementa el valor de i en 1 en cada iteración.\n",
    "Retornar la secuencia de Fibonacci:\n",
    "Al finalizar el bucle, la función devuelve la lista secuencia con los primeros n términos.\n",
    "Probar la función:\n",
    "Define una variable n con el valor del número de términos que quieres generar en la secuencia de Fibonacci. En este ejemplo, el valor es 10.\n",
    "Llama a la función secuencia_fibonacci con el número definido y almacena el resultado en la variable fibonacci.\n",
    "Utiliza la función print para mostrar la secuencia de Fibonacci generada.\"\"\"\n",
    "\n",
    "def secuencia_fibonacci(n):\n",
    "    if n <= 0:\n",
    "        return []\n",
    "    elif n == 1:\n",
    "        return[0]\n",
    "    elif n == 2:\n",
    "        return[0,1]\n",
    "    secuencia=[0,1]\n",
    "    i=2\n",
    "    while i<n:\n",
    "        siguiente = secuencia[-1]+ secuencia[-2]\n",
    "        secuencia.append(siguiente)\n",
    "        i+=1\n",
    "    return secuencia[:n]\n",
    "n=int(input(\"Ingresa el valor total de términos:\"))\n",
    "fibonacci=secuencia_fibonacci(n)\n",
    "print(f\"La secuencia fibonacci de {n} términos es: {fibonacci}\")"
   ]
  },
  {
   "cell_type": "code",
   "execution_count": 40,
   "id": "a0ae90ab",
   "metadata": {},
   "outputs": [
    {
     "name": "stdout",
     "output_type": "stream",
     "text": [
      "La media de la lista [1, 2, 3, 4, 5] es 3.0\n"
     ]
    }
   ],
   "source": [
    "\"\"\"Calcular la media de una lista de números.\n",
    "Objetivo: Escribe un programa que defina una función llamada calcular_media que tome una lista de números y \n",
    "devuelva la media de esos números. Luego, utiliza esta función para calcular la media de una lista dada e imprime el resultado.\n",
    "\n",
    "Descripción de la Solución: La media (o promedio) de una lista de números se calcula sumando todos los\n",
    "números y dividiendo el resultado entre la cantidad de números en la lista. Este ejercicio te ayudará a practicar la definición de funciones y el uso de bucles for para realizar cálculos.\n",
    "\n",
    "Definición de la función calcular_media:\n",
    "La función calcular_media toma un argumento lista que representa una lista de números.\n",
    "Inicializa una variable suma en 0, que se utilizará para almacenar la suma de los números en la lista.\n",
    "Utiliza un bucle for para iterar sobre cada número en la lista y añade cada número a suma.\n",
    "Al finalizar el bucle, la función devuelve el valor de suma dividido por la longitud de la lista (utilizando len(lista)).\n",
    "Probar la función:\n",
    "Define una variable numeros con una lista de números. En este ejemplo, la lista es [1, 2, 3, 4, 5].\n",
    "Llama a la función calcular_media con la lista definida y almacena el resultado en la variable media.\n",
    "Utiliza la función print para mostrar la media calculada de la lista de números.\"\"\"\n",
    "\n",
    "def calcular_media(lista):\n",
    "    suma = 0\n",
    "    for num in lista:\n",
    "        suma += num\n",
    "    return suma / len(lista)\n",
    "\n",
    "Numeros = [1 ,2 ,3 ,4 ,5]\n",
    "media=calcular_media(numeros)\n",
    "print(f\"La media de la lista {numeros} es {media}\")  # Salida: 3.0\n"
   ]
  },
  {
   "cell_type": "code",
   "execution_count": 41,
   "id": "d4c4ffff",
   "metadata": {},
   "outputs": [
    {
     "name": "stdout",
     "output_type": "stream",
     "text": [
      "[1, 3, 5, 7, 9, 11, 13]\n"
     ]
    }
   ],
   "source": [
    "\"\"\"Uso de for, break y continue.\n",
    "Objetivo: Escribe un programa que recorra una lista de números del 1 al 20. El programa debe imprimir los números hasta encontrar \n",
    "el número 15, luego debe detener el bucle (break). También debe saltar la impresión de números pares utilizando continue.\n",
    "Descripción de la Solución: En Python, puedes utilizar for para recorrer una lista, break para salir del bucle antes de que termine, \n",
    "y continue para saltar a la siguiente iteración del bucle. Este ejercicio te ayudará a practicar el uso de estas estructuras de control de flujo.\n",
    "\n",
    "\n",
    "\n",
    "Definir la lista de números del 1 al 20:\n",
    "Utiliza list(range(1, 21)) para crear una lista de números del 1 al 20.\n",
    "Recorrer la lista de números:\n",
    "Utiliza un bucle for para iterar sobre cada número en la lista numeros.\n",
    "Usar break para detener el bucle:\n",
    "Dentro del bucle, utiliza una estructura if para comprobar si el número actual es 15. Si es 15, utiliza break para salir del bucle.\n",
    "Usar continue para saltar iteraciones:\n",
    "Utiliza otra estructura if para comprobar si el número actual es par (num % 2 == 0). Si es par, utiliza continue para saltar a la siguiente iteración del bucle.\n",
    "Agregar los números a la lista de resultados:\n",
    "Si el número no es 15 y no es par, agrega el número a la lista resultados.\n",
    "Imprimir los resultados:\n",
    "Utiliza print para mostrar la lista de resultados.\"\"\"\n",
    "\n",
    "numeros = list(range(1,21))\n",
    "\n",
    "resultados=[]\n",
    "for num in numeros:\n",
    "    if num == 15:\n",
    "        break\n",
    "    if num % 2 == 0:\n",
    "        continue\n",
    "    resultados.append(num)\n",
    "print(resultados)\n"
   ]
  },
  {
   "cell_type": "code",
   "execution_count": 43,
   "id": "70c90c82",
   "metadata": {},
   "outputs": [
    {
     "name": "stdout",
     "output_type": "stream",
     "text": [
      "El numero es par\n"
     ]
    }
   ],
   "source": [
    "numero = int(input(\"Ingresa un valor\"))\n",
    "\n",
    "if numero % 2 == 0:\n",
    "    print(\"El numero es par\")\n",
    "else:\n",
    "    print(\"El numero es impar\")"
   ]
  },
  {
   "cell_type": "code",
   "execution_count": null,
   "id": "7f9161f5",
   "metadata": {},
   "outputs": [],
   "source": []
  },
  {
   "cell_type": "code",
   "execution_count": null,
   "id": "56f84f7b",
   "metadata": {},
   "outputs": [],
   "source": []
  },
  {
   "cell_type": "code",
   "execution_count": null,
   "id": "5e9021f6",
   "metadata": {},
   "outputs": [],
   "source": [
    "9"
   ]
  },
  {
   "cell_type": "code",
   "execution_count": null,
   "id": "d9b71697",
   "metadata": {},
   "outputs": [],
   "source": []
  },
  {
   "cell_type": "code",
   "execution_count": null,
   "id": "c5bc7140",
   "metadata": {},
   "outputs": [],
   "source": []
  },
  {
   "cell_type": "code",
   "execution_count": null,
   "id": "cac81c8a",
   "metadata": {},
   "outputs": [],
   "source": []
  },
  {
   "cell_type": "code",
   "execution_count": null,
   "id": "877cd74e",
   "metadata": {},
   "outputs": [],
   "source": []
  },
  {
   "cell_type": "code",
   "execution_count": null,
   "id": "192012b1",
   "metadata": {},
   "outputs": [],
   "source": []
  },
  {
   "cell_type": "code",
   "execution_count": null,
   "id": "0809831e",
   "metadata": {},
   "outputs": [],
   "source": []
  },
  {
   "cell_type": "code",
   "execution_count": null,
   "id": "a8e727fd",
   "metadata": {},
   "outputs": [],
   "source": []
  },
  {
   "cell_type": "code",
   "execution_count": null,
   "id": "ba16d91f",
   "metadata": {},
   "outputs": [],
   "source": []
  },
  {
   "cell_type": "code",
   "execution_count": null,
   "id": "8cd608cc",
   "metadata": {},
   "outputs": [],
   "source": []
  },
  {
   "cell_type": "code",
   "execution_count": null,
   "id": "52ac1f0a",
   "metadata": {},
   "outputs": [],
   "source": []
  },
  {
   "cell_type": "code",
   "execution_count": null,
   "id": "851942a9",
   "metadata": {},
   "outputs": [],
   "source": []
  },
  {
   "cell_type": "code",
   "execution_count": null,
   "id": "53d16145",
   "metadata": {},
   "outputs": [],
   "source": []
  },
  {
   "cell_type": "code",
   "execution_count": null,
   "id": "a4a887b3",
   "metadata": {},
   "outputs": [],
   "source": []
  },
  {
   "cell_type": "code",
   "execution_count": null,
   "id": "54ab6e84",
   "metadata": {},
   "outputs": [],
   "source": []
  },
  {
   "cell_type": "code",
   "execution_count": null,
   "id": "eb933aab",
   "metadata": {},
   "outputs": [],
   "source": []
  },
  {
   "cell_type": "code",
   "execution_count": null,
   "id": "42535e79",
   "metadata": {},
   "outputs": [],
   "source": []
  },
  {
   "cell_type": "code",
   "execution_count": null,
   "id": "5521b447",
   "metadata": {},
   "outputs": [],
   "source": []
  },
  {
   "cell_type": "code",
   "execution_count": null,
   "id": "9098dda7",
   "metadata": {},
   "outputs": [],
   "source": []
  },
  {
   "cell_type": "code",
   "execution_count": null,
   "id": "e6f10655",
   "metadata": {},
   "outputs": [],
   "source": []
  },
  {
   "cell_type": "code",
   "execution_count": null,
   "id": "6fdb7b19",
   "metadata": {},
   "outputs": [],
   "source": []
  },
  {
   "cell_type": "code",
   "execution_count": null,
   "id": "ef1fa75e",
   "metadata": {},
   "outputs": [],
   "source": []
  },
  {
   "cell_type": "code",
   "execution_count": null,
   "id": "8d3b55bf",
   "metadata": {},
   "outputs": [],
   "source": []
  },
  {
   "cell_type": "code",
   "execution_count": null,
   "id": "14f10481",
   "metadata": {},
   "outputs": [],
   "source": []
  },
  {
   "cell_type": "code",
   "execution_count": null,
   "id": "864189de",
   "metadata": {},
   "outputs": [],
   "source": []
  },
  {
   "cell_type": "code",
   "execution_count": null,
   "id": "ea3c732c",
   "metadata": {},
   "outputs": [],
   "source": []
  },
  {
   "cell_type": "code",
   "execution_count": null,
   "id": "e7ecdcc0",
   "metadata": {},
   "outputs": [],
   "source": []
  },
  {
   "cell_type": "code",
   "execution_count": null,
   "id": "76f17a5f",
   "metadata": {},
   "outputs": [],
   "source": []
  },
  {
   "cell_type": "code",
   "execution_count": null,
   "id": "db7b127b",
   "metadata": {},
   "outputs": [],
   "source": []
  },
  {
   "cell_type": "code",
   "execution_count": null,
   "id": "6b387a64",
   "metadata": {},
   "outputs": [],
   "source": []
  },
  {
   "cell_type": "code",
   "execution_count": null,
   "id": "2097c7f8",
   "metadata": {},
   "outputs": [],
   "source": []
  },
  {
   "cell_type": "code",
   "execution_count": null,
   "id": "5ac93312",
   "metadata": {},
   "outputs": [],
   "source": []
  },
  {
   "cell_type": "code",
   "execution_count": null,
   "id": "97d74096",
   "metadata": {},
   "outputs": [],
   "source": []
  },
  {
   "cell_type": "code",
   "execution_count": null,
   "id": "49886c86",
   "metadata": {},
   "outputs": [],
   "source": []
  },
  {
   "cell_type": "code",
   "execution_count": null,
   "id": "431a2708",
   "metadata": {},
   "outputs": [],
   "source": []
  },
  {
   "cell_type": "code",
   "execution_count": null,
   "id": "821166a0",
   "metadata": {},
   "outputs": [],
   "source": []
  },
  {
   "cell_type": "code",
   "execution_count": null,
   "id": "2080ba6c",
   "metadata": {},
   "outputs": [],
   "source": []
  },
  {
   "cell_type": "code",
   "execution_count": null,
   "id": "ee5397a9",
   "metadata": {},
   "outputs": [],
   "source": []
  },
  {
   "cell_type": "code",
   "execution_count": null,
   "id": "bfb04807",
   "metadata": {},
   "outputs": [],
   "source": []
  },
  {
   "cell_type": "code",
   "execution_count": null,
   "id": "a89c6875",
   "metadata": {},
   "outputs": [],
   "source": []
  },
  {
   "cell_type": "code",
   "execution_count": null,
   "id": "7c31f5a3",
   "metadata": {},
   "outputs": [],
   "source": []
  },
  {
   "cell_type": "code",
   "execution_count": null,
   "id": "0ac1784d",
   "metadata": {},
   "outputs": [],
   "source": []
  },
  {
   "cell_type": "code",
   "execution_count": null,
   "id": "0288b873",
   "metadata": {},
   "outputs": [],
   "source": []
  },
  {
   "cell_type": "code",
   "execution_count": null,
   "id": "7003fb0e",
   "metadata": {},
   "outputs": [],
   "source": []
  },
  {
   "cell_type": "code",
   "execution_count": null,
   "id": "6454dddd",
   "metadata": {},
   "outputs": [],
   "source": []
  },
  {
   "cell_type": "code",
   "execution_count": null,
   "id": "637314d8",
   "metadata": {},
   "outputs": [],
   "source": []
  },
  {
   "cell_type": "code",
   "execution_count": null,
   "id": "20c91cca",
   "metadata": {},
   "outputs": [],
   "source": []
  },
  {
   "cell_type": "code",
   "execution_count": null,
   "id": "f89a0bd5",
   "metadata": {},
   "outputs": [],
   "source": []
  },
  {
   "cell_type": "code",
   "execution_count": null,
   "id": "c80e6098",
   "metadata": {},
   "outputs": [],
   "source": []
  },
  {
   "cell_type": "code",
   "execution_count": null,
   "id": "33beb397",
   "metadata": {},
   "outputs": [],
   "source": []
  },
  {
   "cell_type": "code",
   "execution_count": null,
   "id": "f299d7ac",
   "metadata": {},
   "outputs": [],
   "source": []
  },
  {
   "cell_type": "code",
   "execution_count": null,
   "id": "2a563904",
   "metadata": {},
   "outputs": [],
   "source": []
  },
  {
   "cell_type": "code",
   "execution_count": null,
   "id": "99e9f62a",
   "metadata": {},
   "outputs": [],
   "source": []
  },
  {
   "cell_type": "code",
   "execution_count": null,
   "id": "3e5f7ee5",
   "metadata": {},
   "outputs": [],
   "source": []
  },
  {
   "cell_type": "code",
   "execution_count": null,
   "id": "10ad0542",
   "metadata": {},
   "outputs": [],
   "source": []
  },
  {
   "cell_type": "code",
   "execution_count": null,
   "id": "8f61fa90",
   "metadata": {},
   "outputs": [],
   "source": []
  },
  {
   "cell_type": "code",
   "execution_count": null,
   "id": "a1254de3",
   "metadata": {},
   "outputs": [],
   "source": []
  },
  {
   "cell_type": "code",
   "execution_count": null,
   "id": "4bbc4306",
   "metadata": {},
   "outputs": [],
   "source": []
  },
  {
   "cell_type": "code",
   "execution_count": null,
   "id": "bbac5aaa",
   "metadata": {},
   "outputs": [],
   "source": []
  },
  {
   "cell_type": "code",
   "execution_count": null,
   "id": "fc1370c2",
   "metadata": {},
   "outputs": [],
   "source": []
  },
  {
   "cell_type": "code",
   "execution_count": null,
   "id": "8aef5c95",
   "metadata": {},
   "outputs": [],
   "source": []
  },
  {
   "cell_type": "code",
   "execution_count": null,
   "id": "8cfb388c",
   "metadata": {},
   "outputs": [],
   "source": []
  },
  {
   "cell_type": "code",
   "execution_count": null,
   "id": "8c84a183",
   "metadata": {},
   "outputs": [],
   "source": []
  },
  {
   "cell_type": "code",
   "execution_count": null,
   "id": "602a1806",
   "metadata": {},
   "outputs": [],
   "source": []
  },
  {
   "cell_type": "code",
   "execution_count": null,
   "id": "cf4e7905",
   "metadata": {},
   "outputs": [],
   "source": []
  },
  {
   "cell_type": "code",
   "execution_count": null,
   "id": "938a06a4",
   "metadata": {},
   "outputs": [],
   "source": []
  },
  {
   "cell_type": "code",
   "execution_count": null,
   "id": "c259a1ed",
   "metadata": {},
   "outputs": [],
   "source": []
  },
  {
   "cell_type": "code",
   "execution_count": null,
   "id": "7674b68c",
   "metadata": {},
   "outputs": [],
   "source": []
  },
  {
   "cell_type": "code",
   "execution_count": null,
   "id": "23444969",
   "metadata": {},
   "outputs": [],
   "source": []
  },
  {
   "cell_type": "code",
   "execution_count": null,
   "id": "7f1c69f4",
   "metadata": {},
   "outputs": [],
   "source": []
  },
  {
   "cell_type": "code",
   "execution_count": null,
   "id": "d7cedb1b",
   "metadata": {},
   "outputs": [],
   "source": []
  },
  {
   "cell_type": "code",
   "execution_count": null,
   "id": "33ccd5eb",
   "metadata": {},
   "outputs": [],
   "source": []
  },
  {
   "cell_type": "code",
   "execution_count": null,
   "id": "cdb62c4a",
   "metadata": {},
   "outputs": [],
   "source": []
  },
  {
   "cell_type": "code",
   "execution_count": null,
   "id": "7e2cce23",
   "metadata": {},
   "outputs": [],
   "source": []
  },
  {
   "cell_type": "code",
   "execution_count": null,
   "id": "8ce6e388",
   "metadata": {},
   "outputs": [],
   "source": []
  },
  {
   "cell_type": "markdown",
   "id": "f77f6de0",
   "metadata": {},
   "source": []
  },
  {
   "cell_type": "code",
   "execution_count": null,
   "id": "a3168196",
   "metadata": {},
   "outputs": [],
   "source": []
  },
  {
   "cell_type": "code",
   "execution_count": null,
   "id": "2a167580",
   "metadata": {},
   "outputs": [],
   "source": []
  },
  {
   "cell_type": "code",
   "execution_count": null,
   "id": "bf9522f8",
   "metadata": {},
   "outputs": [],
   "source": []
  },
  {
   "cell_type": "code",
   "execution_count": null,
   "id": "0a282a3d",
   "metadata": {},
   "outputs": [],
   "source": []
  },
  {
   "cell_type": "code",
   "execution_count": null,
   "id": "bd35989d",
   "metadata": {},
   "outputs": [],
   "source": []
  },
  {
   "cell_type": "code",
   "execution_count": null,
   "id": "0569a870",
   "metadata": {},
   "outputs": [],
   "source": []
  },
  {
   "cell_type": "code",
   "execution_count": null,
   "id": "37f85ffb",
   "metadata": {},
   "outputs": [],
   "source": []
  },
  {
   "cell_type": "code",
   "execution_count": null,
   "id": "c9ebb8c6",
   "metadata": {},
   "outputs": [],
   "source": []
  },
  {
   "cell_type": "code",
   "execution_count": null,
   "id": "34ec87ca",
   "metadata": {},
   "outputs": [],
   "source": []
  },
  {
   "cell_type": "code",
   "execution_count": null,
   "id": "91544fea",
   "metadata": {},
   "outputs": [],
   "source": []
  },
  {
   "cell_type": "code",
   "execution_count": null,
   "id": "40bb83d1",
   "metadata": {},
   "outputs": [],
   "source": []
  },
  {
   "cell_type": "code",
   "execution_count": null,
   "id": "43b1affd",
   "metadata": {},
   "outputs": [],
   "source": []
  },
  {
   "cell_type": "code",
   "execution_count": null,
   "id": "b1935ae5",
   "metadata": {},
   "outputs": [],
   "source": []
  },
  {
   "cell_type": "code",
   "execution_count": null,
   "id": "10f0e20b",
   "metadata": {},
   "outputs": [],
   "source": []
  },
  {
   "cell_type": "code",
   "execution_count": null,
   "id": "a7dce4bb",
   "metadata": {},
   "outputs": [],
   "source": []
  },
  {
   "cell_type": "code",
   "execution_count": null,
   "id": "8ad8f347",
   "metadata": {},
   "outputs": [],
   "source": []
  },
  {
   "cell_type": "code",
   "execution_count": null,
   "id": "98c9a331",
   "metadata": {},
   "outputs": [],
   "source": []
  },
  {
   "cell_type": "code",
   "execution_count": null,
   "id": "8b70b4ca",
   "metadata": {},
   "outputs": [],
   "source": []
  },
  {
   "cell_type": "code",
   "execution_count": null,
   "id": "376fcea8",
   "metadata": {},
   "outputs": [],
   "source": []
  },
  {
   "cell_type": "code",
   "execution_count": null,
   "id": "8e7b33c3",
   "metadata": {},
   "outputs": [],
   "source": []
  },
  {
   "cell_type": "code",
   "execution_count": null,
   "id": "5fb89fe8",
   "metadata": {},
   "outputs": [],
   "source": []
  },
  {
   "cell_type": "code",
   "execution_count": null,
   "id": "10f8e83b",
   "metadata": {},
   "outputs": [],
   "source": []
  },
  {
   "cell_type": "code",
   "execution_count": null,
   "id": "9fc0360a",
   "metadata": {},
   "outputs": [],
   "source": []
  },
  {
   "cell_type": "code",
   "execution_count": null,
   "id": "ea4f75e8",
   "metadata": {},
   "outputs": [],
   "source": []
  },
  {
   "cell_type": "code",
   "execution_count": null,
   "id": "ce57fea4",
   "metadata": {},
   "outputs": [],
   "source": []
  },
  {
   "cell_type": "code",
   "execution_count": null,
   "id": "72df9c56",
   "metadata": {},
   "outputs": [],
   "source": []
  },
  {
   "cell_type": "code",
   "execution_count": null,
   "id": "1b390831",
   "metadata": {},
   "outputs": [],
   "source": []
  },
  {
   "cell_type": "code",
   "execution_count": null,
   "id": "15c33725",
   "metadata": {},
   "outputs": [],
   "source": []
  },
  {
   "cell_type": "code",
   "execution_count": null,
   "id": "1a063bf6",
   "metadata": {},
   "outputs": [],
   "source": []
  },
  {
   "cell_type": "code",
   "execution_count": null,
   "id": "36c8b63b",
   "metadata": {},
   "outputs": [],
   "source": []
  },
  {
   "cell_type": "code",
   "execution_count": null,
   "id": "3f250e39",
   "metadata": {},
   "outputs": [],
   "source": []
  },
  {
   "cell_type": "code",
   "execution_count": null,
   "id": "5562ebfc",
   "metadata": {},
   "outputs": [],
   "source": []
  },
  {
   "cell_type": "code",
   "execution_count": null,
   "id": "0a449466",
   "metadata": {},
   "outputs": [],
   "source": []
  },
  {
   "cell_type": "code",
   "execution_count": null,
   "id": "4c88d04e",
   "metadata": {},
   "outputs": [],
   "source": []
  },
  {
   "cell_type": "code",
   "execution_count": null,
   "id": "b74f26d6",
   "metadata": {},
   "outputs": [],
   "source": []
  },
  {
   "cell_type": "code",
   "execution_count": null,
   "id": "0e89cd68",
   "metadata": {},
   "outputs": [],
   "source": []
  },
  {
   "cell_type": "code",
   "execution_count": null,
   "id": "9ba48c74",
   "metadata": {},
   "outputs": [],
   "source": []
  },
  {
   "cell_type": "markdown",
   "id": "53fa6bc7",
   "metadata": {},
   "source": []
  },
  {
   "cell_type": "code",
   "execution_count": null,
   "id": "cc81a378",
   "metadata": {},
   "outputs": [],
   "source": []
  },
  {
   "cell_type": "code",
   "execution_count": null,
   "id": "2153e34e",
   "metadata": {},
   "outputs": [],
   "source": []
  },
  {
   "cell_type": "code",
   "execution_count": null,
   "id": "6f44f269",
   "metadata": {},
   "outputs": [],
   "source": []
  },
  {
   "cell_type": "code",
   "execution_count": null,
   "id": "95cbe596",
   "metadata": {},
   "outputs": [],
   "source": []
  },
  {
   "cell_type": "code",
   "execution_count": null,
   "id": "f5f86470",
   "metadata": {},
   "outputs": [],
   "source": []
  },
  {
   "cell_type": "code",
   "execution_count": null,
   "id": "7e1694fc",
   "metadata": {},
   "outputs": [],
   "source": []
  },
  {
   "cell_type": "code",
   "execution_count": null,
   "id": "ba8d54be",
   "metadata": {},
   "outputs": [],
   "source": []
  },
  {
   "cell_type": "code",
   "execution_count": null,
   "id": "a36eed16",
   "metadata": {},
   "outputs": [],
   "source": []
  },
  {
   "cell_type": "code",
   "execution_count": null,
   "id": "afe90c94-a70d-4f7e-b0d4-3cc18c947e7c",
   "metadata": {},
   "outputs": [],
   "source": []
  },
  {
   "cell_type": "code",
   "execution_count": null,
   "id": "3f3a04a7-6f46-4a2b-9f57-a2804eb329e1",
   "metadata": {},
   "outputs": [],
   "source": []
  },
  {
   "cell_type": "code",
   "execution_count": null,
   "id": "bd0f21e9-a101-496c-9818-233b7098c4c9",
   "metadata": {},
   "outputs": [],
   "source": []
  },
  {
   "cell_type": "code",
   "execution_count": null,
   "id": "1f6aab6a-efcc-47f8-ba44-72282b90170f",
   "metadata": {},
   "outputs": [],
   "source": []
  },
  {
   "cell_type": "code",
   "execution_count": null,
   "id": "4baec1be-8f34-4a11-8d0d-e727b8312f75",
   "metadata": {},
   "outputs": [],
   "source": []
  },
  {
   "cell_type": "code",
   "execution_count": null,
   "id": "76a5d025-bf89-4f41-9664-05ed4bf06d8f",
   "metadata": {},
   "outputs": [],
   "source": []
  },
  {
   "cell_type": "code",
   "execution_count": null,
   "id": "92faaaff-151f-4fb9-a008-0b19deb911a7",
   "metadata": {},
   "outputs": [],
   "source": []
  },
  {
   "cell_type": "code",
   "execution_count": null,
   "id": "4e5a018d-0604-44d1-af8c-06267d1a1c39",
   "metadata": {},
   "outputs": [],
   "source": []
  },
  {
   "cell_type": "code",
   "execution_count": null,
   "id": "e10f291a-8f92-46d1-bc42-b1ed9ca4b9e9",
   "metadata": {},
   "outputs": [],
   "source": []
  },
  {
   "cell_type": "code",
   "execution_count": null,
   "id": "64ca7764-9bec-4e5f-b41a-62003c5cc11e",
   "metadata": {},
   "outputs": [],
   "source": []
  }
 ],
 "metadata": {
  "kernelspec": {
   "display_name": "Python 3",
   "language": "python",
   "name": "python3"
  },
  "language_info": {
   "codemirror_mode": {
    "name": "ipython",
    "version": 3
   },
   "file_extension": ".py",
   "mimetype": "text/x-python",
   "name": "python",
   "nbconvert_exporter": "python",
   "pygments_lexer": "ipython3",
   "version": "3.13.2"
  }
 },
 "nbformat": 4,
 "nbformat_minor": 5
}
