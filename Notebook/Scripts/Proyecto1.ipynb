{
 "cells": [
  {
   "cell_type": "markdown",
   "metadata": {},
   "source": [
    "PROYECTO NOTA FINAL"
   ]
  },
  {
   "cell_type": "code",
   "execution_count": 5,
   "metadata": {},
   "outputs": [
    {
     "data": {
      "text/plain": [
       "'aprobado'"
      ]
     },
     "execution_count": 5,
     "metadata": {},
     "output_type": "execute_result"
    }
   ],
   "source": [
    "def obtener_notas (): # pedir notas y devolver las notas por eso se define de esta manera para que no se repitan\n",
    "    #funcion  para obtener las notas del usuario\n",
    "    notas = [] # se define lista vacia\n",
    "    for i in range (3): # se solicita tres notas\n",
    "        nota = float(input(f\"ingrese la nota {i+1}: \")) # se solicita la nota y siempre es i +1 por que empieza en 0 \n",
    "        notas.append(nota) # se agrega la nota a la lista, por cada interacion, se agrega a la lista\n",
    "    return notas # se devuelve la lista de notas\n",
    "\n",
    "obtener_notas() # nos permite devolver las notas\n",
    "\n",
    "def calcular_promedio (notas): # se define la funcion para calcular el promedio de notas\n",
    "    #funcion para calcular el promedio de notas\n",
    "    return sum(notas)/len(notas) # longitud de la lista len, y sum suma el valor de las notas digamos si el valor de las notas son 1,2,3 el promedio seria 2\n",
    "calcular_promedio([3,4,6]) #calcular_promedio([3,4,6]) resultado es 4.333333333333333\n",
    "\n",
    "def determinar_situacion_academica(promedio):\n",
    "    #funcion para determinar la situacion academica del estudiante\n",
    "    if promedio >= 6: # si el promedio es mayor o igual a 6\n",
    "        return \"aprobado\" # devuelve aprobado\n",
    "    else:\n",
    "        return \"Reprobado\"\n",
    "determinar_situacion_academica(6.7)"
   ]
  },
  {
   "cell_type": "code",
   "execution_count": 7,
   "metadata": {},
   "outputs": [
    {
     "name": "stdout",
     "output_type": "stream",
     "text": [
      "Bienvenido a la evaluación estudiantil\n",
      " Tu promedio es 7.00. Estas aprobado .\n"
     ]
    }
   ],
   "source": [
    "print(\"Bienvenido a la evaluación estudiantil\")\n",
    "notas_estudiante= obtener_notas()\n",
    "promedio_estudiante = calcular_promedio(notas_estudiante)\n",
    "situacion_academica = determinar_situacion_academica(promedio_estudiante)\n",
    "# el 2f, es que se agregan dos decimales .2f y se limitan\n",
    "print(f\" Tu promedio es {promedio_estudiante:.2f}. Estas {situacion_academica} .\")"
   ]
  },
  {
   "cell_type": "code",
   "execution_count": null,
   "metadata": {},
   "outputs": [],
   "source": []
  },
  {
   "cell_type": "code",
   "execution_count": null,
   "metadata": {},
   "outputs": [],
   "source": []
  },
  {
   "cell_type": "code",
   "execution_count": null,
   "metadata": {},
   "outputs": [],
   "source": []
  },
  {
   "cell_type": "code",
   "execution_count": null,
   "metadata": {},
   "outputs": [],
   "source": []
  },
  {
   "cell_type": "code",
   "execution_count": null,
   "metadata": {},
   "outputs": [],
   "source": []
  },
  {
   "cell_type": "code",
   "execution_count": null,
   "metadata": {},
   "outputs": [],
   "source": []
  }
 ],
 "metadata": {
  "kernelspec": {
   "display_name": "Python 3",
   "language": "python",
   "name": "python3"
  },
  "language_info": {
   "codemirror_mode": {
    "name": "ipython",
    "version": 3
   },
   "file_extension": ".py",
   "mimetype": "text/x-python",
   "name": "python",
   "nbconvert_exporter": "python",
   "pygments_lexer": "ipython3",
   "version": "3.13.2"
  }
 },
 "nbformat": 4,
 "nbformat_minor": 2
}
